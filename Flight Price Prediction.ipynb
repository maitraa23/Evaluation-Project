{
 "cells": [
  {
   "cell_type": "code",
   "execution_count": 1,
   "id": "71b60c09",
   "metadata": {},
   "outputs": [],
   "source": [
    "import numpy as np\n",
    "import pandas as pd\n",
    "import seaborn as sns\n",
    "import matplotlib.pyplot as plt\n",
    "from sklearn.preprocessing import StandardScaler\n",
    "from statsmodels.stats.outliers_influence import variance_inflation_factor\n",
    "from sklearn.model_selection import cross_val_score\n",
    "from sklearn.model_selection import train_test_split\n",
    "from sklearn.linear_model import Ridge\n",
    "from sklearn.linear_model import Lasso\n",
    "from sklearn.metrics import r2_score\n",
    "from sklearn.tree import DecisionTreeRegressor\n",
    "from sklearn.ensemble import RandomForestRegressor\n",
    "from sklearn.preprocessing import LabelEncoder\n",
    "from sklearn.model_selection import GridSearchCV\n",
    "from prettytable import PrettyTable \n",
    "import warnings\n",
    "warnings.filterwarnings('ignore') #Importing the necessary libraries"
   ]
  },
  {
   "cell_type": "code",
   "execution_count": 2,
   "id": "69209da5",
   "metadata": {},
   "outputs": [],
   "source": [
    "Train=pd.read_excel(\"TrainSet.xlsx\") #Checking the training dataset"
   ]
  },
  {
   "cell_type": "code",
   "execution_count": 3,
   "id": "757c6db2",
   "metadata": {},
   "outputs": [
    {
     "data": {
      "text/html": [
       "<div>\n",
       "<style scoped>\n",
       "    .dataframe tbody tr th:only-of-type {\n",
       "        vertical-align: middle;\n",
       "    }\n",
       "\n",
       "    .dataframe tbody tr th {\n",
       "        vertical-align: top;\n",
       "    }\n",
       "\n",
       "    .dataframe thead th {\n",
       "        text-align: right;\n",
       "    }\n",
       "</style>\n",
       "<table border=\"1\" class=\"dataframe\">\n",
       "  <thead>\n",
       "    <tr style=\"text-align: right;\">\n",
       "      <th></th>\n",
       "      <th>Airline</th>\n",
       "      <th>Date_of_Journey</th>\n",
       "      <th>Source</th>\n",
       "      <th>Destination</th>\n",
       "      <th>Route</th>\n",
       "      <th>Dep_Time</th>\n",
       "      <th>Arrival_Time</th>\n",
       "      <th>Duration</th>\n",
       "      <th>Total_Stops</th>\n",
       "      <th>Additional_Info</th>\n",
       "      <th>Price</th>\n",
       "    </tr>\n",
       "  </thead>\n",
       "  <tbody>\n",
       "    <tr>\n",
       "      <th>0</th>\n",
       "      <td>IndiGo</td>\n",
       "      <td>24/03/2019</td>\n",
       "      <td>Banglore</td>\n",
       "      <td>New Delhi</td>\n",
       "      <td>BLR → DEL</td>\n",
       "      <td>22:20</td>\n",
       "      <td>01:10 22 Mar</td>\n",
       "      <td>2h 50m</td>\n",
       "      <td>non-stop</td>\n",
       "      <td>No info</td>\n",
       "      <td>3897</td>\n",
       "    </tr>\n",
       "    <tr>\n",
       "      <th>1</th>\n",
       "      <td>Air India</td>\n",
       "      <td>1/05/2019</td>\n",
       "      <td>Kolkata</td>\n",
       "      <td>Banglore</td>\n",
       "      <td>CCU → IXR → BBI → BLR</td>\n",
       "      <td>05:50</td>\n",
       "      <td>13:15</td>\n",
       "      <td>7h 25m</td>\n",
       "      <td>2 stops</td>\n",
       "      <td>No info</td>\n",
       "      <td>7662</td>\n",
       "    </tr>\n",
       "    <tr>\n",
       "      <th>2</th>\n",
       "      <td>Jet Airways</td>\n",
       "      <td>9/06/2019</td>\n",
       "      <td>Delhi</td>\n",
       "      <td>Cochin</td>\n",
       "      <td>DEL → LKO → BOM → COK</td>\n",
       "      <td>09:25</td>\n",
       "      <td>04:25 10 Jun</td>\n",
       "      <td>19h</td>\n",
       "      <td>2 stops</td>\n",
       "      <td>No info</td>\n",
       "      <td>13882</td>\n",
       "    </tr>\n",
       "    <tr>\n",
       "      <th>3</th>\n",
       "      <td>IndiGo</td>\n",
       "      <td>12/05/2019</td>\n",
       "      <td>Kolkata</td>\n",
       "      <td>Banglore</td>\n",
       "      <td>CCU → NAG → BLR</td>\n",
       "      <td>18:05</td>\n",
       "      <td>23:30</td>\n",
       "      <td>5h 25m</td>\n",
       "      <td>1 stop</td>\n",
       "      <td>No info</td>\n",
       "      <td>6218</td>\n",
       "    </tr>\n",
       "    <tr>\n",
       "      <th>4</th>\n",
       "      <td>IndiGo</td>\n",
       "      <td>01/03/2019</td>\n",
       "      <td>Banglore</td>\n",
       "      <td>New Delhi</td>\n",
       "      <td>BLR → NAG → DEL</td>\n",
       "      <td>16:50</td>\n",
       "      <td>21:35</td>\n",
       "      <td>4h 45m</td>\n",
       "      <td>1 stop</td>\n",
       "      <td>No info</td>\n",
       "      <td>13302</td>\n",
       "    </tr>\n",
       "  </tbody>\n",
       "</table>\n",
       "</div>"
      ],
      "text/plain": [
       "       Airline Date_of_Journey    Source Destination                  Route  \\\n",
       "0       IndiGo      24/03/2019  Banglore   New Delhi              BLR → DEL   \n",
       "1    Air India       1/05/2019   Kolkata    Banglore  CCU → IXR → BBI → BLR   \n",
       "2  Jet Airways       9/06/2019     Delhi      Cochin  DEL → LKO → BOM → COK   \n",
       "3       IndiGo      12/05/2019   Kolkata    Banglore        CCU → NAG → BLR   \n",
       "4       IndiGo      01/03/2019  Banglore   New Delhi        BLR → NAG → DEL   \n",
       "\n",
       "  Dep_Time  Arrival_Time Duration Total_Stops Additional_Info  Price  \n",
       "0    22:20  01:10 22 Mar   2h 50m    non-stop         No info   3897  \n",
       "1    05:50         13:15   7h 25m     2 stops         No info   7662  \n",
       "2    09:25  04:25 10 Jun      19h     2 stops         No info  13882  \n",
       "3    18:05         23:30   5h 25m      1 stop         No info   6218  \n",
       "4    16:50         21:35   4h 45m      1 stop         No info  13302  "
      ]
     },
     "execution_count": 3,
     "metadata": {},
     "output_type": "execute_result"
    }
   ],
   "source": [
    "Train.head()"
   ]
  },
  {
   "cell_type": "code",
   "execution_count": 4,
   "id": "73fc2af7",
   "metadata": {},
   "outputs": [
    {
     "data": {
      "text/plain": [
       "Index(['Airline', 'Date_of_Journey', 'Source', 'Destination', 'Route',\n",
       "       'Dep_Time', 'Arrival_Time', 'Duration', 'Total_Stops',\n",
       "       'Additional_Info', 'Price'],\n",
       "      dtype='object')"
      ]
     },
     "execution_count": 4,
     "metadata": {},
     "output_type": "execute_result"
    }
   ],
   "source": [
    "Train.columns #Checking the total columns"
   ]
  },
  {
   "cell_type": "code",
   "execution_count": 5,
   "id": "c8f1cfa1",
   "metadata": {},
   "outputs": [
    {
     "name": "stdout",
     "output_type": "stream",
     "text": [
      "<class 'pandas.core.frame.DataFrame'>\n",
      "RangeIndex: 10683 entries, 0 to 10682\n",
      "Data columns (total 11 columns):\n",
      " #   Column           Non-Null Count  Dtype \n",
      "---  ------           --------------  ----- \n",
      " 0   Airline          10683 non-null  object\n",
      " 1   Date_of_Journey  10683 non-null  object\n",
      " 2   Source           10683 non-null  object\n",
      " 3   Destination      10683 non-null  object\n",
      " 4   Route            10682 non-null  object\n",
      " 5   Dep_Time         10683 non-null  object\n",
      " 6   Arrival_Time     10683 non-null  object\n",
      " 7   Duration         10683 non-null  object\n",
      " 8   Total_Stops      10682 non-null  object\n",
      " 9   Additional_Info  10683 non-null  object\n",
      " 10  Price            10683 non-null  int64 \n",
      "dtypes: int64(1), object(10)\n",
      "memory usage: 918.2+ KB\n"
     ]
    }
   ],
   "source": [
    "Train.info() #Checking the data types"
   ]
  },
  {
   "cell_type": "code",
   "execution_count": 6,
   "id": "0a269b03",
   "metadata": {},
   "outputs": [],
   "source": [
    "# All are object data type except the target variable"
   ]
  },
  {
   "cell_type": "code",
   "execution_count": 7,
   "id": "9408bc02",
   "metadata": {},
   "outputs": [
    {
     "data": {
      "text/html": [
       "<div>\n",
       "<style scoped>\n",
       "    .dataframe tbody tr th:only-of-type {\n",
       "        vertical-align: middle;\n",
       "    }\n",
       "\n",
       "    .dataframe tbody tr th {\n",
       "        vertical-align: top;\n",
       "    }\n",
       "\n",
       "    .dataframe thead th {\n",
       "        text-align: right;\n",
       "    }\n",
       "</style>\n",
       "<table border=\"1\" class=\"dataframe\">\n",
       "  <thead>\n",
       "    <tr style=\"text-align: right;\">\n",
       "      <th></th>\n",
       "      <th>Price</th>\n",
       "    </tr>\n",
       "  </thead>\n",
       "  <tbody>\n",
       "    <tr>\n",
       "      <th>count</th>\n",
       "      <td>10683.000000</td>\n",
       "    </tr>\n",
       "    <tr>\n",
       "      <th>mean</th>\n",
       "      <td>9087.064121</td>\n",
       "    </tr>\n",
       "    <tr>\n",
       "      <th>std</th>\n",
       "      <td>4611.359167</td>\n",
       "    </tr>\n",
       "    <tr>\n",
       "      <th>min</th>\n",
       "      <td>1759.000000</td>\n",
       "    </tr>\n",
       "    <tr>\n",
       "      <th>25%</th>\n",
       "      <td>5277.000000</td>\n",
       "    </tr>\n",
       "    <tr>\n",
       "      <th>50%</th>\n",
       "      <td>8372.000000</td>\n",
       "    </tr>\n",
       "    <tr>\n",
       "      <th>75%</th>\n",
       "      <td>12373.000000</td>\n",
       "    </tr>\n",
       "    <tr>\n",
       "      <th>max</th>\n",
       "      <td>79512.000000</td>\n",
       "    </tr>\n",
       "  </tbody>\n",
       "</table>\n",
       "</div>"
      ],
      "text/plain": [
       "              Price\n",
       "count  10683.000000\n",
       "mean    9087.064121\n",
       "std     4611.359167\n",
       "min     1759.000000\n",
       "25%     5277.000000\n",
       "50%     8372.000000\n",
       "75%    12373.000000\n",
       "max    79512.000000"
      ]
     },
     "execution_count": 7,
     "metadata": {},
     "output_type": "execute_result"
    }
   ],
   "source": [
    "Train.describe() # To check the dataset"
   ]
  },
  {
   "cell_type": "code",
   "execution_count": 8,
   "id": "4f92d666",
   "metadata": {},
   "outputs": [],
   "source": [
    "# There is a wide difference in mean and standard deviation in price\n",
    "# The difference between minimum and maximum value for price is also wide"
   ]
  },
  {
   "cell_type": "code",
   "execution_count": 9,
   "id": "b969d1ae",
   "metadata": {},
   "outputs": [
    {
     "data": {
      "text/plain": [
       "(10683, 11)"
      ]
     },
     "execution_count": 9,
     "metadata": {},
     "output_type": "execute_result"
    }
   ],
   "source": [
    "Train.shape # Checking the row and column"
   ]
  },
  {
   "cell_type": "code",
   "execution_count": 10,
   "id": "a90703a5",
   "metadata": {},
   "outputs": [
    {
     "data": {
      "text/plain": [
       "Airline            0\n",
       "Date_of_Journey    0\n",
       "Source             0\n",
       "Destination        0\n",
       "Route              1\n",
       "Dep_Time           0\n",
       "Arrival_Time       0\n",
       "Duration           0\n",
       "Total_Stops        1\n",
       "Additional_Info    0\n",
       "Price              0\n",
       "dtype: int64"
      ]
     },
     "execution_count": 10,
     "metadata": {},
     "output_type": "execute_result"
    }
   ],
   "source": [
    "Train.isnull().sum() # To check if there is any null values"
   ]
  },
  {
   "cell_type": "code",
   "execution_count": 11,
   "id": "b9e3532b",
   "metadata": {},
   "outputs": [],
   "source": [
    "# there is one null value in Route and Total Stops, hence it can be dropped"
   ]
  },
  {
   "cell_type": "code",
   "execution_count": 12,
   "id": "468d3879",
   "metadata": {},
   "outputs": [],
   "source": [
    "Train.dropna(inplace=True) #dropping NaN"
   ]
  },
  {
   "cell_type": "code",
   "execution_count": 13,
   "id": "52f96635",
   "metadata": {},
   "outputs": [
    {
     "data": {
      "text/plain": [
       "Airline            0\n",
       "Date_of_Journey    0\n",
       "Source             0\n",
       "Destination        0\n",
       "Route              0\n",
       "Dep_Time           0\n",
       "Arrival_Time       0\n",
       "Duration           0\n",
       "Total_Stops        0\n",
       "Additional_Info    0\n",
       "Price              0\n",
       "dtype: int64"
      ]
     },
     "execution_count": 13,
     "metadata": {},
     "output_type": "execute_result"
    }
   ],
   "source": [
    "Train.isnull().sum() # To check if the null still exists"
   ]
  },
  {
   "cell_type": "code",
   "execution_count": 14,
   "id": "50695e70",
   "metadata": {},
   "outputs": [
    {
     "data": {
      "text/html": [
       "<div>\n",
       "<style scoped>\n",
       "    .dataframe tbody tr th:only-of-type {\n",
       "        vertical-align: middle;\n",
       "    }\n",
       "\n",
       "    .dataframe tbody tr th {\n",
       "        vertical-align: top;\n",
       "    }\n",
       "\n",
       "    .dataframe thead th {\n",
       "        text-align: right;\n",
       "    }\n",
       "</style>\n",
       "<table border=\"1\" class=\"dataframe\">\n",
       "  <thead>\n",
       "    <tr style=\"text-align: right;\">\n",
       "      <th></th>\n",
       "      <th>Airline</th>\n",
       "      <th>Date_of_Journey</th>\n",
       "      <th>Source</th>\n",
       "      <th>Destination</th>\n",
       "      <th>Route</th>\n",
       "      <th>Dep_Time</th>\n",
       "      <th>Arrival_Time</th>\n",
       "      <th>Duration</th>\n",
       "      <th>Total_Stops</th>\n",
       "      <th>Additional_Info</th>\n",
       "      <th>Price</th>\n",
       "    </tr>\n",
       "  </thead>\n",
       "  <tbody>\n",
       "    <tr>\n",
       "      <th>683</th>\n",
       "      <td>Jet Airways</td>\n",
       "      <td>1/06/2019</td>\n",
       "      <td>Delhi</td>\n",
       "      <td>Cochin</td>\n",
       "      <td>DEL → NAG → BOM → COK</td>\n",
       "      <td>14:35</td>\n",
       "      <td>04:25 02 Jun</td>\n",
       "      <td>13h 50m</td>\n",
       "      <td>2 stops</td>\n",
       "      <td>No info</td>\n",
       "      <td>13376</td>\n",
       "    </tr>\n",
       "    <tr>\n",
       "      <th>1061</th>\n",
       "      <td>Air India</td>\n",
       "      <td>21/05/2019</td>\n",
       "      <td>Delhi</td>\n",
       "      <td>Cochin</td>\n",
       "      <td>DEL → GOI → BOM → COK</td>\n",
       "      <td>22:00</td>\n",
       "      <td>19:15 22 May</td>\n",
       "      <td>21h 15m</td>\n",
       "      <td>2 stops</td>\n",
       "      <td>No info</td>\n",
       "      <td>10231</td>\n",
       "    </tr>\n",
       "    <tr>\n",
       "      <th>1348</th>\n",
       "      <td>Air India</td>\n",
       "      <td>18/05/2019</td>\n",
       "      <td>Delhi</td>\n",
       "      <td>Cochin</td>\n",
       "      <td>DEL → HYD → BOM → COK</td>\n",
       "      <td>17:15</td>\n",
       "      <td>19:15 19 May</td>\n",
       "      <td>26h</td>\n",
       "      <td>2 stops</td>\n",
       "      <td>No info</td>\n",
       "      <td>12392</td>\n",
       "    </tr>\n",
       "    <tr>\n",
       "      <th>1418</th>\n",
       "      <td>Jet Airways</td>\n",
       "      <td>6/06/2019</td>\n",
       "      <td>Delhi</td>\n",
       "      <td>Cochin</td>\n",
       "      <td>DEL → JAI → BOM → COK</td>\n",
       "      <td>05:30</td>\n",
       "      <td>04:25 07 Jun</td>\n",
       "      <td>22h 55m</td>\n",
       "      <td>2 stops</td>\n",
       "      <td>In-flight meal not included</td>\n",
       "      <td>10368</td>\n",
       "    </tr>\n",
       "    <tr>\n",
       "      <th>1674</th>\n",
       "      <td>IndiGo</td>\n",
       "      <td>24/03/2019</td>\n",
       "      <td>Banglore</td>\n",
       "      <td>New Delhi</td>\n",
       "      <td>BLR → DEL</td>\n",
       "      <td>18:25</td>\n",
       "      <td>21:20</td>\n",
       "      <td>2h 55m</td>\n",
       "      <td>non-stop</td>\n",
       "      <td>No info</td>\n",
       "      <td>7303</td>\n",
       "    </tr>\n",
       "  </tbody>\n",
       "</table>\n",
       "</div>"
      ],
      "text/plain": [
       "          Airline Date_of_Journey    Source Destination  \\\n",
       "683   Jet Airways       1/06/2019     Delhi      Cochin   \n",
       "1061    Air India      21/05/2019     Delhi      Cochin   \n",
       "1348    Air India      18/05/2019     Delhi      Cochin   \n",
       "1418  Jet Airways       6/06/2019     Delhi      Cochin   \n",
       "1674       IndiGo      24/03/2019  Banglore   New Delhi   \n",
       "\n",
       "                      Route Dep_Time  Arrival_Time Duration Total_Stops  \\\n",
       "683   DEL → NAG → BOM → COK    14:35  04:25 02 Jun  13h 50m     2 stops   \n",
       "1061  DEL → GOI → BOM → COK    22:00  19:15 22 May  21h 15m     2 stops   \n",
       "1348  DEL → HYD → BOM → COK    17:15  19:15 19 May      26h     2 stops   \n",
       "1418  DEL → JAI → BOM → COK    05:30  04:25 07 Jun  22h 55m     2 stops   \n",
       "1674              BLR → DEL    18:25         21:20   2h 55m    non-stop   \n",
       "\n",
       "                  Additional_Info  Price  \n",
       "683                       No info  13376  \n",
       "1061                      No info  10231  \n",
       "1348                      No info  12392  \n",
       "1418  In-flight meal not included  10368  \n",
       "1674                      No info   7303  "
      ]
     },
     "execution_count": 14,
     "metadata": {},
     "output_type": "execute_result"
    }
   ],
   "source": [
    "Train[Train.duplicated()].head()"
   ]
  },
  {
   "cell_type": "code",
   "execution_count": 15,
   "id": "29310a8d",
   "metadata": {},
   "outputs": [],
   "source": [
    "# As there are different airlines as well as different routes hence not removing any duplicate values"
   ]
  },
  {
   "cell_type": "code",
   "execution_count": 16,
   "id": "cfcd068f",
   "metadata": {},
   "outputs": [
    {
     "data": {
      "text/plain": [
       "array(['IndiGo', 'Air India', 'Jet Airways', 'SpiceJet',\n",
       "       'Multiple carriers', 'GoAir', 'Vistara', 'Air Asia',\n",
       "       'Vistara Premium economy', 'Jet Airways Business',\n",
       "       'Multiple carriers Premium economy', 'Trujet'], dtype=object)"
      ]
     },
     "execution_count": 16,
     "metadata": {},
     "output_type": "execute_result"
    }
   ],
   "source": [
    "Train['Airline'].unique() # Checking the different kind of airlines"
   ]
  },
  {
   "cell_type": "code",
   "execution_count": 17,
   "id": "7886b51c",
   "metadata": {},
   "outputs": [
    {
     "data": {
      "text/plain": [
       "Jet Airways                          3849\n",
       "IndiGo                               2053\n",
       "Air India                            1751\n",
       "Multiple carriers                    1196\n",
       "SpiceJet                              818\n",
       "Vistara                               479\n",
       "Air Asia                              319\n",
       "GoAir                                 194\n",
       "Multiple carriers Premium economy      13\n",
       "Jet Airways Business                    6\n",
       "Vistara Premium economy                 3\n",
       "Trujet                                  1\n",
       "Name: Airline, dtype: int64"
      ]
     },
     "execution_count": 17,
     "metadata": {},
     "output_type": "execute_result"
    }
   ],
   "source": [
    "Train['Airline'].value_counts()"
   ]
  },
  {
   "cell_type": "code",
   "execution_count": 18,
   "id": "1ede566f",
   "metadata": {},
   "outputs": [
    {
     "data": {
      "text/plain": [
       "array(['Banglore', 'Kolkata', 'Delhi', 'Chennai', 'Mumbai'], dtype=object)"
      ]
     },
     "execution_count": 18,
     "metadata": {},
     "output_type": "execute_result"
    }
   ],
   "source": [
    "Train['Source'].unique() "
   ]
  },
  {
   "cell_type": "code",
   "execution_count": 19,
   "id": "2cb49055",
   "metadata": {},
   "outputs": [
    {
     "data": {
      "text/plain": [
       "Delhi       4536\n",
       "Kolkata     2871\n",
       "Banglore    2197\n",
       "Mumbai       697\n",
       "Chennai      381\n",
       "Name: Source, dtype: int64"
      ]
     },
     "execution_count": 19,
     "metadata": {},
     "output_type": "execute_result"
    }
   ],
   "source": [
    "Train['Source'].value_counts() "
   ]
  },
  {
   "cell_type": "code",
   "execution_count": 20,
   "id": "ef5a5ee4",
   "metadata": {},
   "outputs": [
    {
     "data": {
      "text/plain": [
       "array(['New Delhi', 'Banglore', 'Cochin', 'Kolkata', 'Delhi', 'Hyderabad'],\n",
       "      dtype=object)"
      ]
     },
     "execution_count": 20,
     "metadata": {},
     "output_type": "execute_result"
    }
   ],
   "source": [
    "Train['Destination'].unique() "
   ]
  },
  {
   "cell_type": "code",
   "execution_count": 21,
   "id": "dfb773a4",
   "metadata": {},
   "outputs": [
    {
     "data": {
      "text/plain": [
       "Cochin       4536\n",
       "Banglore     2871\n",
       "Delhi        1265\n",
       "New Delhi     932\n",
       "Hyderabad     697\n",
       "Kolkata       381\n",
       "Name: Destination, dtype: int64"
      ]
     },
     "execution_count": 21,
     "metadata": {},
     "output_type": "execute_result"
    }
   ],
   "source": [
    "Train['Destination'].value_counts() "
   ]
  },
  {
   "cell_type": "code",
   "execution_count": 22,
   "id": "bc00e947",
   "metadata": {},
   "outputs": [
    {
     "data": {
      "text/plain": [
       "array(['BLR → DEL', 'CCU → IXR → BBI → BLR', 'DEL → LKO → BOM → COK',\n",
       "       'CCU → NAG → BLR', 'BLR → NAG → DEL', 'CCU → BLR',\n",
       "       'BLR → BOM → DEL', 'DEL → BOM → COK', 'DEL → BLR → COK',\n",
       "       'MAA → CCU', 'CCU → BOM → BLR', 'DEL → AMD → BOM → COK',\n",
       "       'DEL → PNQ → COK', 'DEL → CCU → BOM → COK', 'BLR → COK → DEL',\n",
       "       'DEL → IDR → BOM → COK', 'DEL → LKO → COK',\n",
       "       'CCU → GAU → DEL → BLR', 'DEL → NAG → BOM → COK',\n",
       "       'CCU → MAA → BLR', 'DEL → HYD → COK', 'CCU → HYD → BLR',\n",
       "       'DEL → COK', 'CCU → DEL → BLR', 'BLR → BOM → AMD → DEL',\n",
       "       'BOM → DEL → HYD', 'DEL → MAA → COK', 'BOM → HYD',\n",
       "       'DEL → BHO → BOM → COK', 'DEL → JAI → BOM → COK',\n",
       "       'DEL → ATQ → BOM → COK', 'DEL → JDH → BOM → COK',\n",
       "       'CCU → BBI → BOM → BLR', 'BLR → MAA → DEL',\n",
       "       'DEL → GOI → BOM → COK', 'DEL → BDQ → BOM → COK',\n",
       "       'CCU → JAI → BOM → BLR', 'CCU → BBI → BLR', 'BLR → HYD → DEL',\n",
       "       'DEL → TRV → COK', 'CCU → IXR → DEL → BLR',\n",
       "       'DEL → IXU → BOM → COK', 'CCU → IXB → BLR',\n",
       "       'BLR → BOM → JDH → DEL', 'DEL → UDR → BOM → COK',\n",
       "       'DEL → HYD → MAA → COK', 'CCU → BOM → COK → BLR',\n",
       "       'BLR → CCU → DEL', 'CCU → BOM → GOI → BLR',\n",
       "       'DEL → RPR → NAG → BOM → COK', 'DEL → HYD → BOM → COK',\n",
       "       'CCU → DEL → AMD → BLR', 'CCU → PNQ → BLR',\n",
       "       'BLR → CCU → GAU → DEL', 'CCU → DEL → COK → BLR',\n",
       "       'BLR → PNQ → DEL', 'BOM → JDH → DEL → HYD',\n",
       "       'BLR → BOM → BHO → DEL', 'DEL → AMD → COK', 'BLR → LKO → DEL',\n",
       "       'CCU → GAU → BLR', 'BOM → GOI → HYD', 'CCU → BOM → AMD → BLR',\n",
       "       'CCU → BBI → IXR → DEL → BLR', 'DEL → DED → BOM → COK',\n",
       "       'DEL → MAA → BOM → COK', 'BLR → AMD → DEL', 'BLR → VGA → DEL',\n",
       "       'CCU → JAI → DEL → BLR', 'CCU → AMD → BLR',\n",
       "       'CCU → VNS → DEL → BLR', 'BLR → BOM → IDR → DEL',\n",
       "       'BLR → BBI → DEL', 'BLR → GOI → DEL', 'BOM → AMD → ISK → HYD',\n",
       "       'BOM → DED → DEL → HYD', 'DEL → IXC → BOM → COK',\n",
       "       'CCU → PAT → BLR', 'BLR → CCU → BBI → DEL',\n",
       "       'CCU → BBI → HYD → BLR', 'BLR → BOM → NAG → DEL',\n",
       "       'BLR → CCU → BBI → HYD → DEL', 'BLR → GAU → DEL',\n",
       "       'BOM → BHO → DEL → HYD', 'BOM → JLR → HYD',\n",
       "       'BLR → HYD → VGA → DEL', 'CCU → KNU → BLR',\n",
       "       'CCU → BOM → PNQ → BLR', 'DEL → BBI → COK',\n",
       "       'BLR → VGA → HYD → DEL', 'BOM → JDH → JAI → DEL → HYD',\n",
       "       'DEL → GWL → IDR → BOM → COK', 'CCU → RPR → HYD → BLR',\n",
       "       'CCU → VTZ → BLR', 'CCU → DEL → VGA → BLR',\n",
       "       'BLR → BOM → IDR → GWL → DEL', 'CCU → DEL → COK → TRV → BLR',\n",
       "       'BOM → COK → MAA → HYD', 'BOM → NDC → HYD', 'BLR → BDQ → DEL',\n",
       "       'CCU → BOM → TRV → BLR', 'CCU → BOM → HBX → BLR',\n",
       "       'BOM → BDQ → DEL → HYD', 'BOM → CCU → HYD',\n",
       "       'BLR → TRV → COK → DEL', 'BLR → IDR → DEL',\n",
       "       'CCU → IXZ → MAA → BLR', 'CCU → GAU → IMF → DEL → BLR',\n",
       "       'BOM → GOI → PNQ → HYD', 'BOM → BLR → CCU → BBI → HYD',\n",
       "       'BOM → MAA → HYD', 'BLR → BOM → UDR → DEL',\n",
       "       'BOM → UDR → DEL → HYD', 'BLR → VGA → VTZ → DEL',\n",
       "       'BLR → HBX → BOM → BHO → DEL', 'CCU → IXA → BLR',\n",
       "       'BOM → RPR → VTZ → HYD', 'BLR → HBX → BOM → AMD → DEL',\n",
       "       'BOM → IDR → DEL → HYD', 'BOM → BLR → HYD', 'BLR → STV → DEL',\n",
       "       'CCU → IXB → DEL → BLR', 'BOM → JAI → DEL → HYD',\n",
       "       'BOM → VNS → DEL → HYD', 'BLR → HBX → BOM → NAG → DEL',\n",
       "       'BLR → BOM → IXC → DEL', 'BLR → CCU → BBI → HYD → VGA → DEL',\n",
       "       'BOM → BBI → HYD'], dtype=object)"
      ]
     },
     "execution_count": 22,
     "metadata": {},
     "output_type": "execute_result"
    }
   ],
   "source": [
    "Train['Route'].unique()"
   ]
  },
  {
   "cell_type": "code",
   "execution_count": 23,
   "id": "27c0ebd5",
   "metadata": {},
   "outputs": [
    {
     "data": {
      "text/plain": [
       "array(['No info', 'In-flight meal not included',\n",
       "       'No check-in baggage included', '1 Short layover', 'No Info',\n",
       "       '1 Long layover', 'Change airports', 'Business class',\n",
       "       'Red-eye flight', '2 Long layover'], dtype=object)"
      ]
     },
     "execution_count": 23,
     "metadata": {},
     "output_type": "execute_result"
    }
   ],
   "source": [
    "Train['Additional_Info'].unique()"
   ]
  },
  {
   "cell_type": "code",
   "execution_count": 24,
   "id": "52d65569",
   "metadata": {},
   "outputs": [
    {
     "data": {
      "text/plain": [
       "No info                         8344\n",
       "In-flight meal not included     1982\n",
       "No check-in baggage included     320\n",
       "1 Long layover                    19\n",
       "Change airports                    7\n",
       "Business class                     4\n",
       "No Info                            3\n",
       "1 Short layover                    1\n",
       "Red-eye flight                     1\n",
       "2 Long layover                     1\n",
       "Name: Additional_Info, dtype: int64"
      ]
     },
     "execution_count": 24,
     "metadata": {},
     "output_type": "execute_result"
    }
   ],
   "source": [
    "Train['Additional_Info'].value_counts()"
   ]
  },
  {
   "cell_type": "code",
   "execution_count": 25,
   "id": "c4c56150",
   "metadata": {},
   "outputs": [
    {
     "data": {
      "text/plain": [
       "array(['non-stop', '2 stops', '1 stop', '3 stops', '4 stops'],\n",
       "      dtype=object)"
      ]
     },
     "execution_count": 25,
     "metadata": {},
     "output_type": "execute_result"
    }
   ],
   "source": [
    "Train['Total_Stops'].unique() "
   ]
  },
  {
   "cell_type": "code",
   "execution_count": 26,
   "id": "3bf4fba5",
   "metadata": {},
   "outputs": [
    {
     "data": {
      "text/plain": [
       "1 stop      5625\n",
       "non-stop    3491\n",
       "2 stops     1520\n",
       "3 stops       45\n",
       "4 stops        1\n",
       "Name: Total_Stops, dtype: int64"
      ]
     },
     "execution_count": 26,
     "metadata": {},
     "output_type": "execute_result"
    }
   ],
   "source": [
    "Train['Total_Stops'].value_counts()"
   ]
  },
  {
   "cell_type": "code",
   "execution_count": 27,
   "id": "86819335",
   "metadata": {},
   "outputs": [],
   "source": [
    "# From the above observations the following things can be concluded:\n",
    "#1. Jet Airways have the maximum availability.\n",
    "#2. Majority of the planes leave from Delhi followed by Kolkata.\n",
    "#3. The majority destination has been Cochin followed by Banglore\n",
    "#4. Majority has no info as its additional information.\n",
    "#5. Maximum plane is a one stop destination."
   ]
  },
  {
   "cell_type": "code",
   "execution_count": 28,
   "id": "4c7e6810",
   "metadata": {},
   "outputs": [],
   "source": [
    "Test=pd.read_excel(\"Test_set.xlsx\") #Checking the testing dataset"
   ]
  },
  {
   "cell_type": "code",
   "execution_count": 29,
   "id": "76700dc1",
   "metadata": {},
   "outputs": [
    {
     "data": {
      "text/html": [
       "<div>\n",
       "<style scoped>\n",
       "    .dataframe tbody tr th:only-of-type {\n",
       "        vertical-align: middle;\n",
       "    }\n",
       "\n",
       "    .dataframe tbody tr th {\n",
       "        vertical-align: top;\n",
       "    }\n",
       "\n",
       "    .dataframe thead th {\n",
       "        text-align: right;\n",
       "    }\n",
       "</style>\n",
       "<table border=\"1\" class=\"dataframe\">\n",
       "  <thead>\n",
       "    <tr style=\"text-align: right;\">\n",
       "      <th></th>\n",
       "      <th>Airline</th>\n",
       "      <th>Date_of_Journey</th>\n",
       "      <th>Source</th>\n",
       "      <th>Destination</th>\n",
       "      <th>Route</th>\n",
       "      <th>Dep_Time</th>\n",
       "      <th>Arrival_Time</th>\n",
       "      <th>Duration</th>\n",
       "      <th>Total_Stops</th>\n",
       "      <th>Additional_Info</th>\n",
       "    </tr>\n",
       "  </thead>\n",
       "  <tbody>\n",
       "    <tr>\n",
       "      <th>0</th>\n",
       "      <td>Jet Airways</td>\n",
       "      <td>6/06/2019</td>\n",
       "      <td>Delhi</td>\n",
       "      <td>Cochin</td>\n",
       "      <td>DEL → BOM → COK</td>\n",
       "      <td>17:30</td>\n",
       "      <td>04:25 07 Jun</td>\n",
       "      <td>10h 55m</td>\n",
       "      <td>1 stop</td>\n",
       "      <td>No info</td>\n",
       "    </tr>\n",
       "    <tr>\n",
       "      <th>1</th>\n",
       "      <td>IndiGo</td>\n",
       "      <td>12/05/2019</td>\n",
       "      <td>Kolkata</td>\n",
       "      <td>Banglore</td>\n",
       "      <td>CCU → MAA → BLR</td>\n",
       "      <td>06:20</td>\n",
       "      <td>10:20</td>\n",
       "      <td>4h</td>\n",
       "      <td>1 stop</td>\n",
       "      <td>No info</td>\n",
       "    </tr>\n",
       "    <tr>\n",
       "      <th>2</th>\n",
       "      <td>Jet Airways</td>\n",
       "      <td>21/05/2019</td>\n",
       "      <td>Delhi</td>\n",
       "      <td>Cochin</td>\n",
       "      <td>DEL → BOM → COK</td>\n",
       "      <td>19:15</td>\n",
       "      <td>19:00 22 May</td>\n",
       "      <td>23h 45m</td>\n",
       "      <td>1 stop</td>\n",
       "      <td>In-flight meal not included</td>\n",
       "    </tr>\n",
       "    <tr>\n",
       "      <th>3</th>\n",
       "      <td>Multiple carriers</td>\n",
       "      <td>21/05/2019</td>\n",
       "      <td>Delhi</td>\n",
       "      <td>Cochin</td>\n",
       "      <td>DEL → BOM → COK</td>\n",
       "      <td>08:00</td>\n",
       "      <td>21:00</td>\n",
       "      <td>13h</td>\n",
       "      <td>1 stop</td>\n",
       "      <td>No info</td>\n",
       "    </tr>\n",
       "    <tr>\n",
       "      <th>4</th>\n",
       "      <td>Air Asia</td>\n",
       "      <td>24/06/2019</td>\n",
       "      <td>Banglore</td>\n",
       "      <td>Delhi</td>\n",
       "      <td>BLR → DEL</td>\n",
       "      <td>23:55</td>\n",
       "      <td>02:45 25 Jun</td>\n",
       "      <td>2h 50m</td>\n",
       "      <td>non-stop</td>\n",
       "      <td>No info</td>\n",
       "    </tr>\n",
       "  </tbody>\n",
       "</table>\n",
       "</div>"
      ],
      "text/plain": [
       "             Airline Date_of_Journey    Source Destination            Route  \\\n",
       "0        Jet Airways       6/06/2019     Delhi      Cochin  DEL → BOM → COK   \n",
       "1             IndiGo      12/05/2019   Kolkata    Banglore  CCU → MAA → BLR   \n",
       "2        Jet Airways      21/05/2019     Delhi      Cochin  DEL → BOM → COK   \n",
       "3  Multiple carriers      21/05/2019     Delhi      Cochin  DEL → BOM → COK   \n",
       "4           Air Asia      24/06/2019  Banglore       Delhi        BLR → DEL   \n",
       "\n",
       "  Dep_Time  Arrival_Time Duration Total_Stops              Additional_Info  \n",
       "0    17:30  04:25 07 Jun  10h 55m      1 stop                      No info  \n",
       "1    06:20         10:20       4h      1 stop                      No info  \n",
       "2    19:15  19:00 22 May  23h 45m      1 stop  In-flight meal not included  \n",
       "3    08:00         21:00      13h      1 stop                      No info  \n",
       "4    23:55  02:45 25 Jun   2h 50m    non-stop                      No info  "
      ]
     },
     "execution_count": 29,
     "metadata": {},
     "output_type": "execute_result"
    }
   ],
   "source": [
    "Test.head()"
   ]
  },
  {
   "cell_type": "code",
   "execution_count": 30,
   "id": "178ae688",
   "metadata": {},
   "outputs": [
    {
     "data": {
      "text/plain": [
       "Index(['Airline', 'Date_of_Journey', 'Source', 'Destination', 'Route',\n",
       "       'Dep_Time', 'Arrival_Time', 'Duration', 'Total_Stops',\n",
       "       'Additional_Info'],\n",
       "      dtype='object')"
      ]
     },
     "execution_count": 30,
     "metadata": {},
     "output_type": "execute_result"
    }
   ],
   "source": [
    "Test.columns #Checking the total columns"
   ]
  },
  {
   "cell_type": "code",
   "execution_count": 31,
   "id": "9b461bd3",
   "metadata": {},
   "outputs": [
    {
     "name": "stdout",
     "output_type": "stream",
     "text": [
      "<class 'pandas.core.frame.DataFrame'>\n",
      "RangeIndex: 2671 entries, 0 to 2670\n",
      "Data columns (total 10 columns):\n",
      " #   Column           Non-Null Count  Dtype \n",
      "---  ------           --------------  ----- \n",
      " 0   Airline          2671 non-null   object\n",
      " 1   Date_of_Journey  2671 non-null   object\n",
      " 2   Source           2671 non-null   object\n",
      " 3   Destination      2671 non-null   object\n",
      " 4   Route            2671 non-null   object\n",
      " 5   Dep_Time         2671 non-null   object\n",
      " 6   Arrival_Time     2671 non-null   object\n",
      " 7   Duration         2671 non-null   object\n",
      " 8   Total_Stops      2671 non-null   object\n",
      " 9   Additional_Info  2671 non-null   object\n",
      "dtypes: object(10)\n",
      "memory usage: 208.8+ KB\n"
     ]
    }
   ],
   "source": [
    "Test.info() #Checking the data type"
   ]
  },
  {
   "cell_type": "code",
   "execution_count": 32,
   "id": "9f54c625",
   "metadata": {},
   "outputs": [
    {
     "data": {
      "text/html": [
       "<div>\n",
       "<style scoped>\n",
       "    .dataframe tbody tr th:only-of-type {\n",
       "        vertical-align: middle;\n",
       "    }\n",
       "\n",
       "    .dataframe tbody tr th {\n",
       "        vertical-align: top;\n",
       "    }\n",
       "\n",
       "    .dataframe thead th {\n",
       "        text-align: right;\n",
       "    }\n",
       "</style>\n",
       "<table border=\"1\" class=\"dataframe\">\n",
       "  <thead>\n",
       "    <tr style=\"text-align: right;\">\n",
       "      <th></th>\n",
       "      <th>Airline</th>\n",
       "      <th>Date_of_Journey</th>\n",
       "      <th>Source</th>\n",
       "      <th>Destination</th>\n",
       "      <th>Route</th>\n",
       "      <th>Dep_Time</th>\n",
       "      <th>Arrival_Time</th>\n",
       "      <th>Duration</th>\n",
       "      <th>Total_Stops</th>\n",
       "      <th>Additional_Info</th>\n",
       "    </tr>\n",
       "  </thead>\n",
       "  <tbody>\n",
       "    <tr>\n",
       "      <th>count</th>\n",
       "      <td>2671</td>\n",
       "      <td>2671</td>\n",
       "      <td>2671</td>\n",
       "      <td>2671</td>\n",
       "      <td>2671</td>\n",
       "      <td>2671</td>\n",
       "      <td>2671</td>\n",
       "      <td>2671</td>\n",
       "      <td>2671</td>\n",
       "      <td>2671</td>\n",
       "    </tr>\n",
       "    <tr>\n",
       "      <th>unique</th>\n",
       "      <td>11</td>\n",
       "      <td>44</td>\n",
       "      <td>5</td>\n",
       "      <td>6</td>\n",
       "      <td>100</td>\n",
       "      <td>199</td>\n",
       "      <td>704</td>\n",
       "      <td>320</td>\n",
       "      <td>5</td>\n",
       "      <td>6</td>\n",
       "    </tr>\n",
       "    <tr>\n",
       "      <th>top</th>\n",
       "      <td>Jet Airways</td>\n",
       "      <td>9/05/2019</td>\n",
       "      <td>Delhi</td>\n",
       "      <td>Cochin</td>\n",
       "      <td>DEL → BOM → COK</td>\n",
       "      <td>10:00</td>\n",
       "      <td>19:00</td>\n",
       "      <td>2h 50m</td>\n",
       "      <td>1 stop</td>\n",
       "      <td>No info</td>\n",
       "    </tr>\n",
       "    <tr>\n",
       "      <th>freq</th>\n",
       "      <td>897</td>\n",
       "      <td>144</td>\n",
       "      <td>1145</td>\n",
       "      <td>1145</td>\n",
       "      <td>624</td>\n",
       "      <td>62</td>\n",
       "      <td>113</td>\n",
       "      <td>122</td>\n",
       "      <td>1431</td>\n",
       "      <td>2148</td>\n",
       "    </tr>\n",
       "  </tbody>\n",
       "</table>\n",
       "</div>"
      ],
      "text/plain": [
       "            Airline Date_of_Journey Source Destination            Route  \\\n",
       "count          2671            2671   2671        2671             2671   \n",
       "unique           11              44      5           6              100   \n",
       "top     Jet Airways       9/05/2019  Delhi      Cochin  DEL → BOM → COK   \n",
       "freq            897             144   1145        1145              624   \n",
       "\n",
       "       Dep_Time Arrival_Time Duration Total_Stops Additional_Info  \n",
       "count      2671         2671     2671        2671            2671  \n",
       "unique      199          704      320           5               6  \n",
       "top       10:00        19:00   2h 50m      1 stop         No info  \n",
       "freq         62          113      122        1431            2148  "
      ]
     },
     "execution_count": 32,
     "metadata": {},
     "output_type": "execute_result"
    }
   ],
   "source": [
    "Test.describe() # To check the test dataset"
   ]
  },
  {
   "cell_type": "code",
   "execution_count": 33,
   "id": "1bd1185f",
   "metadata": {},
   "outputs": [
    {
     "data": {
      "text/plain": [
       "Airline            0\n",
       "Date_of_Journey    0\n",
       "Source             0\n",
       "Destination        0\n",
       "Route              0\n",
       "Dep_Time           0\n",
       "Arrival_Time       0\n",
       "Duration           0\n",
       "Total_Stops        0\n",
       "Additional_Info    0\n",
       "dtype: int64"
      ]
     },
     "execution_count": 33,
     "metadata": {},
     "output_type": "execute_result"
    }
   ],
   "source": [
    "Test.isnull().sum() #checking null values"
   ]
  },
  {
   "cell_type": "code",
   "execution_count": 34,
   "id": "c673f4ab",
   "metadata": {},
   "outputs": [
    {
     "data": {
      "text/plain": [
       "<seaborn.axisgrid.FacetGrid at 0x242086b6760>"
      ]
     },
     "execution_count": 34,
     "metadata": {},
     "output_type": "execute_result"
    },
    {
     "data": {
      "image/png": "[encoded data removed]",
      "text/plain": [
       "<Figure size 2160x720 with 1 Axes>"
      ]
     },
     "metadata": {
      "needs_background": "light"
     },
     "output_type": "display_data"
    }
   ],
   "source": [
    "sns.catplot(y='Price',x='Airline',data=Train,kind='point',height=10,aspect=3) # Checking the relationship between price and airlines"
   ]
  },
  {
   "cell_type": "code",
   "execution_count": 35,
   "id": "23e0a137",
   "metadata": {},
   "outputs": [],
   "source": [
    "# Jet Airways has the highest price along with the highest outlier"
   ]
  },
  {
   "cell_type": "code",
   "execution_count": 36,
   "id": "32bd9dab",
   "metadata": {},
   "outputs": [
    {
     "data": {
      "text/plain": [
       "<seaborn.axisgrid.FacetGrid at 0x242086b68e0>"
      ]
     },
     "execution_count": 36,
     "metadata": {},
     "output_type": "execute_result"
    },
    {
     "data": {
      "image/png": "[encoded data removed]",
      "text/plain": [
       "<Figure size 2160x720 with 1 Axes>"
      ]
     },
     "metadata": {
      "needs_background": "light"
     },
     "output_type": "display_data"
    }
   ],
   "source": [
    "sns.catplot(y='Price',x='Source',data=Train,kind='point',height=10,aspect=3) # Checking the relationship between price and airlines"
   ]
  },
  {
   "cell_type": "code",
   "execution_count": 37,
   "id": "6c010069",
   "metadata": {},
   "outputs": [],
   "source": [
    "# Price is higher for Delhi and also has outliers in Bangalore, Chennai, Mumbai with least outlier in Delhi and Kolkata"
   ]
  },
  {
   "cell_type": "code",
   "execution_count": 38,
   "id": "62416663",
   "metadata": {},
   "outputs": [
    {
     "data": {
      "text/plain": [
       "<seaborn.axisgrid.FacetGrid at 0x242088a4520>"
      ]
     },
     "execution_count": 38,
     "metadata": {},
     "output_type": "execute_result"
    },
    {
     "data": {
      "image/png": "[encoded data removed]",
      "text/plain": [
       "<Figure size 2160x720 with 1 Axes>"
      ]
     },
     "metadata": {
      "needs_background": "light"
     },
     "output_type": "display_data"
    }
   ],
   "source": [
    "sns.catplot(y='Price',x='Destination',data=Train,kind='point',height=10,aspect=3) # Checking the relationship between price and airlines"
   ]
  },
  {
   "cell_type": "code",
   "execution_count": 39,
   "id": "584a0481",
   "metadata": {},
   "outputs": [],
   "source": [
    "#Price for New Delhi has the most outliers while for Cochin has the least"
   ]
  },
  {
   "cell_type": "code",
   "execution_count": 40,
   "id": "22c7a103",
   "metadata": {},
   "outputs": [
    {
     "data": {
      "text/plain": [
       "<seaborn.axisgrid.FacetGrid at 0x242087ff6a0>"
      ]
     },
     "execution_count": 40,
     "metadata": {},
     "output_type": "execute_result"
    },
    {
     "data": {
      "image/png": "[encoded data removed]",
      "text/plain": [
       "<Figure size 2160x720 with 1 Axes>"
      ]
     },
     "metadata": {
      "needs_background": "light"
     },
     "output_type": "display_data"
    }
   ],
   "source": [
    "sns.catplot(y='Price',x='Total_Stops',data=Train,kind='bar',height=10,aspect=3) # Checking the relationship between price and airlines"
   ]
  },
  {
   "cell_type": "code",
   "execution_count": 41,
   "id": "eb5f25e0",
   "metadata": {},
   "outputs": [],
   "source": [
    "# Prices ranges high when there is 4 stops involved and there is an Outlier present along with 3 stops"
   ]
  },
  {
   "cell_type": "code",
   "execution_count": 42,
   "id": "9aea4a8e",
   "metadata": {},
   "outputs": [
    {
     "data": {
      "text/plain": [
       "<seaborn.axisgrid.FacetGrid at 0x24208783eb0>"
      ]
     },
     "execution_count": 42,
     "metadata": {},
     "output_type": "execute_result"
    },
    {
     "data": {
      "image/png": "[encoded data removed]",
      "text/plain": [
       "<Figure size 2160x720 with 1 Axes>"
      ]
     },
     "metadata": {
      "needs_background": "light"
     },
     "output_type": "display_data"
    }
   ],
   "source": [
    "sns.catplot(y='Price',x='Additional_Info',data=Train,kind='bar',height=10,aspect=3) # Checking the relationship between price and airlines"
   ]
  },
  {
   "cell_type": "code",
   "execution_count": 43,
   "id": "9caea751",
   "metadata": {},
   "outputs": [],
   "source": [
    "# Price is again high along with Outliers being present in Business Class as well as 1 long layover"
   ]
  },
  {
   "cell_type": "code",
   "execution_count": 44,
   "id": "1664675d",
   "metadata": {},
   "outputs": [
    {
     "data": {
      "text/html": [
       "<div>\n",
       "<style scoped>\n",
       "    .dataframe tbody tr th:only-of-type {\n",
       "        vertical-align: middle;\n",
       "    }\n",
       "\n",
       "    .dataframe tbody tr th {\n",
       "        vertical-align: top;\n",
       "    }\n",
       "\n",
       "    .dataframe thead th {\n",
       "        text-align: right;\n",
       "    }\n",
       "</style>\n",
       "<table border=\"1\" class=\"dataframe\">\n",
       "  <thead>\n",
       "    <tr style=\"text-align: right;\">\n",
       "      <th></th>\n",
       "      <th>Airline</th>\n",
       "      <th>Date_of_Journey</th>\n",
       "      <th>Source</th>\n",
       "      <th>Destination</th>\n",
       "      <th>Route</th>\n",
       "      <th>Dep_Time</th>\n",
       "      <th>Arrival_Time</th>\n",
       "      <th>Duration</th>\n",
       "      <th>Total_Stops</th>\n",
       "      <th>Additional_Info</th>\n",
       "      <th>Price</th>\n",
       "    </tr>\n",
       "  </thead>\n",
       "  <tbody>\n",
       "    <tr>\n",
       "      <th>0</th>\n",
       "      <td>IndiGo</td>\n",
       "      <td>24/03/2019</td>\n",
       "      <td>Banglore</td>\n",
       "      <td>New Delhi</td>\n",
       "      <td>BLR → DEL</td>\n",
       "      <td>22:20</td>\n",
       "      <td>01:10 22 Mar</td>\n",
       "      <td>2h 50m</td>\n",
       "      <td>non-stop</td>\n",
       "      <td>No info</td>\n",
       "      <td>3897</td>\n",
       "    </tr>\n",
       "    <tr>\n",
       "      <th>1</th>\n",
       "      <td>Air India</td>\n",
       "      <td>1/05/2019</td>\n",
       "      <td>Kolkata</td>\n",
       "      <td>Banglore</td>\n",
       "      <td>CCU → IXR → BBI → BLR</td>\n",
       "      <td>05:50</td>\n",
       "      <td>13:15</td>\n",
       "      <td>7h 25m</td>\n",
       "      <td>2 stops</td>\n",
       "      <td>No info</td>\n",
       "      <td>7662</td>\n",
       "    </tr>\n",
       "    <tr>\n",
       "      <th>2</th>\n",
       "      <td>Jet Airways</td>\n",
       "      <td>9/06/2019</td>\n",
       "      <td>Delhi</td>\n",
       "      <td>Cochin</td>\n",
       "      <td>DEL → LKO → BOM → COK</td>\n",
       "      <td>09:25</td>\n",
       "      <td>04:25 10 Jun</td>\n",
       "      <td>19h</td>\n",
       "      <td>2 stops</td>\n",
       "      <td>No info</td>\n",
       "      <td>13882</td>\n",
       "    </tr>\n",
       "    <tr>\n",
       "      <th>3</th>\n",
       "      <td>IndiGo</td>\n",
       "      <td>12/05/2019</td>\n",
       "      <td>Kolkata</td>\n",
       "      <td>Banglore</td>\n",
       "      <td>CCU → NAG → BLR</td>\n",
       "      <td>18:05</td>\n",
       "      <td>23:30</td>\n",
       "      <td>5h 25m</td>\n",
       "      <td>1 stop</td>\n",
       "      <td>No info</td>\n",
       "      <td>6218</td>\n",
       "    </tr>\n",
       "    <tr>\n",
       "      <th>4</th>\n",
       "      <td>IndiGo</td>\n",
       "      <td>01/03/2019</td>\n",
       "      <td>Banglore</td>\n",
       "      <td>New Delhi</td>\n",
       "      <td>BLR → NAG → DEL</td>\n",
       "      <td>16:50</td>\n",
       "      <td>21:35</td>\n",
       "      <td>4h 45m</td>\n",
       "      <td>1 stop</td>\n",
       "      <td>No info</td>\n",
       "      <td>13302</td>\n",
       "    </tr>\n",
       "  </tbody>\n",
       "</table>\n",
       "</div>"
      ],
      "text/plain": [
       "       Airline Date_of_Journey    Source Destination                  Route  \\\n",
       "0       IndiGo      24/03/2019  Banglore   New Delhi              BLR → DEL   \n",
       "1    Air India       1/05/2019   Kolkata    Banglore  CCU → IXR → BBI → BLR   \n",
       "2  Jet Airways       9/06/2019     Delhi      Cochin  DEL → LKO → BOM → COK   \n",
       "3       IndiGo      12/05/2019   Kolkata    Banglore        CCU → NAG → BLR   \n",
       "4       IndiGo      01/03/2019  Banglore   New Delhi        BLR → NAG → DEL   \n",
       "\n",
       "  Dep_Time  Arrival_Time Duration Total_Stops Additional_Info  Price  \n",
       "0    22:20  01:10 22 Mar   2h 50m    non-stop         No info   3897  \n",
       "1    05:50         13:15   7h 25m     2 stops         No info   7662  \n",
       "2    09:25  04:25 10 Jun      19h     2 stops         No info  13882  \n",
       "3    18:05         23:30   5h 25m      1 stop         No info   6218  \n",
       "4    16:50         21:35   4h 45m      1 stop         No info  13302  "
      ]
     },
     "execution_count": 44,
     "metadata": {},
     "output_type": "execute_result"
    }
   ],
   "source": [
    "Train.head () #Checking the training set"
   ]
  },
  {
   "cell_type": "code",
   "execution_count": 45,
   "id": "44557342",
   "metadata": {},
   "outputs": [],
   "source": [
    "enc= LabelEncoder() #Encoding the object data type"
   ]
  },
  {
   "cell_type": "code",
   "execution_count": 46,
   "id": "001ee69b",
   "metadata": {},
   "outputs": [],
   "source": [
    "columns=['Airline','Source','Destination','Route','Dep_Time','Arrival_Time','Duration','Total_Stops','Additional_Info','Date_of_Journey']\n",
    "Train[columns] = Train[columns].apply(enc.fit_transform) #Encoding the object data type into int data type"
   ]
  },
  {
   "cell_type": "code",
   "execution_count": 47,
   "id": "c16ac1fa",
   "metadata": {},
   "outputs": [
    {
     "data": {
      "text/html": [
       "<div>\n",
       "<style scoped>\n",
       "    .dataframe tbody tr th:only-of-type {\n",
       "        vertical-align: middle;\n",
       "    }\n",
       "\n",
       "    .dataframe tbody tr th {\n",
       "        vertical-align: top;\n",
       "    }\n",
       "\n",
       "    .dataframe thead th {\n",
       "        text-align: right;\n",
       "    }\n",
       "</style>\n",
       "<table border=\"1\" class=\"dataframe\">\n",
       "  <thead>\n",
       "    <tr style=\"text-align: right;\">\n",
       "      <th></th>\n",
       "      <th>Airline</th>\n",
       "      <th>Date_of_Journey</th>\n",
       "      <th>Source</th>\n",
       "      <th>Destination</th>\n",
       "      <th>Route</th>\n",
       "      <th>Dep_Time</th>\n",
       "      <th>Arrival_Time</th>\n",
       "      <th>Duration</th>\n",
       "      <th>Total_Stops</th>\n",
       "      <th>Additional_Info</th>\n",
       "      <th>Price</th>\n",
       "    </tr>\n",
       "  </thead>\n",
       "  <tbody>\n",
       "    <tr>\n",
       "      <th>0</th>\n",
       "      <td>3</td>\n",
       "      <td>24</td>\n",
       "      <td>0</td>\n",
       "      <td>5</td>\n",
       "      <td>18</td>\n",
       "      <td>211</td>\n",
       "      <td>233</td>\n",
       "      <td>240</td>\n",
       "      <td>4</td>\n",
       "      <td>8</td>\n",
       "      <td>3897</td>\n",
       "    </tr>\n",
       "    <tr>\n",
       "      <th>1</th>\n",
       "      <td>1</td>\n",
       "      <td>6</td>\n",
       "      <td>3</td>\n",
       "      <td>0</td>\n",
       "      <td>84</td>\n",
       "      <td>31</td>\n",
       "      <td>906</td>\n",
       "      <td>336</td>\n",
       "      <td>1</td>\n",
       "      <td>8</td>\n",
       "      <td>7662</td>\n",
       "    </tr>\n",
       "    <tr>\n",
       "      <th>2</th>\n",
       "      <td>4</td>\n",
       "      <td>43</td>\n",
       "      <td>2</td>\n",
       "      <td>1</td>\n",
       "      <td>118</td>\n",
       "      <td>70</td>\n",
       "      <td>413</td>\n",
       "      <td>106</td>\n",
       "      <td>1</td>\n",
       "      <td>8</td>\n",
       "      <td>13882</td>\n",
       "    </tr>\n",
       "    <tr>\n",
       "      <th>3</th>\n",
       "      <td>3</td>\n",
       "      <td>10</td>\n",
       "      <td>3</td>\n",
       "      <td>0</td>\n",
       "      <td>91</td>\n",
       "      <td>164</td>\n",
       "      <td>1324</td>\n",
       "      <td>311</td>\n",
       "      <td>0</td>\n",
       "      <td>8</td>\n",
       "      <td>6218</td>\n",
       "    </tr>\n",
       "    <tr>\n",
       "      <th>4</th>\n",
       "      <td>3</td>\n",
       "      <td>0</td>\n",
       "      <td>0</td>\n",
       "      <td>5</td>\n",
       "      <td>29</td>\n",
       "      <td>149</td>\n",
       "      <td>1237</td>\n",
       "      <td>303</td>\n",
       "      <td>0</td>\n",
       "      <td>8</td>\n",
       "      <td>13302</td>\n",
       "    </tr>\n",
       "  </tbody>\n",
       "</table>\n",
       "</div>"
      ],
      "text/plain": [
       "   Airline  Date_of_Journey  Source  Destination  Route  Dep_Time  \\\n",
       "0        3               24       0            5     18       211   \n",
       "1        1                6       3            0     84        31   \n",
       "2        4               43       2            1    118        70   \n",
       "3        3               10       3            0     91       164   \n",
       "4        3                0       0            5     29       149   \n",
       "\n",
       "   Arrival_Time  Duration  Total_Stops  Additional_Info  Price  \n",
       "0           233       240            4                8   3897  \n",
       "1           906       336            1                8   7662  \n",
       "2           413       106            1                8  13882  \n",
       "3          1324       311            0                8   6218  \n",
       "4          1237       303            0                8  13302  "
      ]
     },
     "execution_count": 47,
     "metadata": {},
     "output_type": "execute_result"
    }
   ],
   "source": [
    "Train.head () #Checking the training set after encoding"
   ]
  },
  {
   "cell_type": "code",
   "execution_count": 48,
   "id": "bb1e6381",
   "metadata": {},
   "outputs": [],
   "source": [
    "columns=['Airline','Source','Destination','Route','Dep_Time','Arrival_Time','Duration','Total_Stops','Additional_Info','Date_of_Journey']\n",
    "Test[columns] = Train[columns].apply(enc.fit_transform) #Encoding the object data type into int data type in test data set"
   ]
  },
  {
   "cell_type": "code",
   "execution_count": 49,
   "id": "b22fcd4a",
   "metadata": {},
   "outputs": [
    {
     "data": {
      "text/html": [
       "<div>\n",
       "<style scoped>\n",
       "    .dataframe tbody tr th:only-of-type {\n",
       "        vertical-align: middle;\n",
       "    }\n",
       "\n",
       "    .dataframe tbody tr th {\n",
       "        vertical-align: top;\n",
       "    }\n",
       "\n",
       "    .dataframe thead th {\n",
       "        text-align: right;\n",
       "    }\n",
       "</style>\n",
       "<table border=\"1\" class=\"dataframe\">\n",
       "  <thead>\n",
       "    <tr style=\"text-align: right;\">\n",
       "      <th></th>\n",
       "      <th>Airline</th>\n",
       "      <th>Date_of_Journey</th>\n",
       "      <th>Source</th>\n",
       "      <th>Destination</th>\n",
       "      <th>Route</th>\n",
       "      <th>Dep_Time</th>\n",
       "      <th>Arrival_Time</th>\n",
       "      <th>Duration</th>\n",
       "      <th>Total_Stops</th>\n",
       "      <th>Additional_Info</th>\n",
       "    </tr>\n",
       "  </thead>\n",
       "  <tbody>\n",
       "    <tr>\n",
       "      <th>0</th>\n",
       "      <td>3</td>\n",
       "      <td>24</td>\n",
       "      <td>0</td>\n",
       "      <td>5</td>\n",
       "      <td>18</td>\n",
       "      <td>211</td>\n",
       "      <td>233</td>\n",
       "      <td>240</td>\n",
       "      <td>4</td>\n",
       "      <td>8</td>\n",
       "    </tr>\n",
       "    <tr>\n",
       "      <th>1</th>\n",
       "      <td>1</td>\n",
       "      <td>6</td>\n",
       "      <td>3</td>\n",
       "      <td>0</td>\n",
       "      <td>84</td>\n",
       "      <td>31</td>\n",
       "      <td>906</td>\n",
       "      <td>336</td>\n",
       "      <td>1</td>\n",
       "      <td>8</td>\n",
       "    </tr>\n",
       "    <tr>\n",
       "      <th>2</th>\n",
       "      <td>4</td>\n",
       "      <td>43</td>\n",
       "      <td>2</td>\n",
       "      <td>1</td>\n",
       "      <td>118</td>\n",
       "      <td>70</td>\n",
       "      <td>413</td>\n",
       "      <td>106</td>\n",
       "      <td>1</td>\n",
       "      <td>8</td>\n",
       "    </tr>\n",
       "    <tr>\n",
       "      <th>3</th>\n",
       "      <td>3</td>\n",
       "      <td>10</td>\n",
       "      <td>3</td>\n",
       "      <td>0</td>\n",
       "      <td>91</td>\n",
       "      <td>164</td>\n",
       "      <td>1324</td>\n",
       "      <td>311</td>\n",
       "      <td>0</td>\n",
       "      <td>8</td>\n",
       "    </tr>\n",
       "    <tr>\n",
       "      <th>4</th>\n",
       "      <td>3</td>\n",
       "      <td>0</td>\n",
       "      <td>0</td>\n",
       "      <td>5</td>\n",
       "      <td>29</td>\n",
       "      <td>149</td>\n",
       "      <td>1237</td>\n",
       "      <td>303</td>\n",
       "      <td>0</td>\n",
       "      <td>8</td>\n",
       "    </tr>\n",
       "  </tbody>\n",
       "</table>\n",
       "</div>"
      ],
      "text/plain": [
       "   Airline  Date_of_Journey  Source  Destination  Route  Dep_Time  \\\n",
       "0        3               24       0            5     18       211   \n",
       "1        1                6       3            0     84        31   \n",
       "2        4               43       2            1    118        70   \n",
       "3        3               10       3            0     91       164   \n",
       "4        3                0       0            5     29       149   \n",
       "\n",
       "   Arrival_Time  Duration  Total_Stops  Additional_Info  \n",
       "0           233       240            4                8  \n",
       "1           906       336            1                8  \n",
       "2           413       106            1                8  \n",
       "3          1324       311            0                8  \n",
       "4          1237       303            0                8  "
      ]
     },
     "execution_count": 49,
     "metadata": {},
     "output_type": "execute_result"
    }
   ],
   "source": [
    "Test.head () #Checking the test set after encoding"
   ]
  },
  {
   "cell_type": "code",
   "execution_count": 50,
   "id": "5396935f",
   "metadata": {},
   "outputs": [
    {
     "data": {
      "image/png": "[encoded data removed]",
      "text/plain": [
       "<Figure size 720x576 with 12 Axes>"
      ]
     },
     "metadata": {
      "needs_background": "light"
     },
     "output_type": "display_data"
    }
   ],
   "source": [
    "Train.plot(kind='kde',subplots=True,layout=(4,3),sharex=False,legend=True,fontsize=3,figsize=(10,8))\n",
    "plt.show() # ploting the data and observing high skewness"
   ]
  },
  {
   "cell_type": "code",
   "execution_count": 51,
   "id": "6c651176",
   "metadata": {},
   "outputs": [
    {
     "data": {
      "text/plain": [
       "Price              1.812405\n",
       "Destination        1.244046\n",
       "Airline            0.731057\n",
       "Total_Stops        0.631532\n",
       "Dep_Time           0.194914\n",
       "Date_of_Journey   -0.070718\n",
       "Duration          -0.213498\n",
       "Source            -0.424023\n",
       "Route             -0.501911\n",
       "Arrival_Time      -0.606676\n",
       "Additional_Info   -1.779689\n",
       "dtype: float64"
      ]
     },
     "execution_count": 51,
     "metadata": {},
     "output_type": "execute_result"
    }
   ],
   "source": [
    "Train.skew().sort_values(ascending=False) #checking the skewness"
   ]
  },
  {
   "cell_type": "code",
   "execution_count": 52,
   "id": "062ce42e",
   "metadata": {},
   "outputs": [],
   "source": [
    "# Slight skewness is observed in almost all the columns apart from Dep_Time., Date of Journey, Duration, Source and Route"
   ]
  },
  {
   "cell_type": "code",
   "execution_count": 53,
   "id": "33a62d11",
   "metadata": {},
   "outputs": [],
   "source": [
    "from sklearn.preprocessing import power_transform"
   ]
  },
  {
   "cell_type": "code",
   "execution_count": 54,
   "id": "67e3816c",
   "metadata": {},
   "outputs": [],
   "source": [
    "New_Train=power_transform(Train)"
   ]
  },
  {
   "cell_type": "code",
   "execution_count": 55,
   "id": "a3a88960",
   "metadata": {},
   "outputs": [
    {
     "data": {
      "text/plain": [
       "Total_Stops        0.325086\n",
       "Destination        0.041570\n",
       "Price             -0.012108\n",
       "Airline           -0.015281\n",
       "Dep_Time          -0.150814\n",
       "Date_of_Journey   -0.228702\n",
       "Source            -0.238295\n",
       "Arrival_Time      -0.381687\n",
       "Duration          -0.390739\n",
       "Route             -0.442919\n",
       "Additional_Info   -1.371943\n",
       "dtype: float64"
      ]
     },
     "execution_count": 55,
     "metadata": {},
     "output_type": "execute_result"
    }
   ],
   "source": [
    "pd.DataFrame(New_Train,columns=Train.columns).skew().sort_values(ascending=False) # transforming the data to reduce skewness"
   ]
  },
  {
   "cell_type": "code",
   "execution_count": 56,
   "id": "c5e1003e",
   "metadata": {},
   "outputs": [],
   "source": [
    "Train=pd.DataFrame(New_Train,columns=Train.columns)"
   ]
  },
  {
   "cell_type": "code",
   "execution_count": 57,
   "id": "f5316cb4",
   "metadata": {},
   "outputs": [
    {
     "data": {
      "image/png": "[encoded data removed]",
      "text/plain": [
       "<Figure size 720x576 with 12 Axes>"
      ]
     },
     "metadata": {
      "needs_background": "light"
     },
     "output_type": "display_data"
    }
   ],
   "source": [
    "Train.plot(kind='kde',subplots=True,layout=(4,3),sharex=False,legend=True,fontsize=3,figsize=(10,8))\n",
    "plt.show() # ploting the data and observing high skewness"
   ]
  },
  {
   "cell_type": "code",
   "execution_count": 58,
   "id": "3871c37c",
   "metadata": {},
   "outputs": [],
   "source": [
    "X= Train.drop('Price',axis=1)\n",
    "Y= Train['Price'] #dividing the feature and target variable"
   ]
  },
  {
   "cell_type": "code",
   "execution_count": 59,
   "id": "daec80fd",
   "metadata": {},
   "outputs": [
    {
     "data": {
      "image/png": "[encoded data removed]",
      "text/plain": [
       "<Figure size 720x864 with 2 Axes>"
      ]
     },
     "metadata": {
      "needs_background": "light"
     },
     "output_type": "display_data"
    }
   ],
   "source": [
    "corr_mat=X.corr()\n",
    "plt.figure(figsize=[10,12])\n",
    "sns.heatmap(corr_mat,annot=True)\n",
    "plt.title(\"Correlation Matrix\")\n",
    "plt.show() #Checking correlation"
   ]
  },
  {
   "cell_type": "code",
   "execution_count": 60,
   "id": "2ba2def6",
   "metadata": {},
   "outputs": [],
   "source": [
    "# There is not much corellation found from the heat map hence trying with VIF"
   ]
  },
  {
   "cell_type": "code",
   "execution_count": 61,
   "id": "ac4712d4",
   "metadata": {},
   "outputs": [
    {
     "data": {
      "text/html": [
       "<div>\n",
       "<style scoped>\n",
       "    .dataframe tbody tr th:only-of-type {\n",
       "        vertical-align: middle;\n",
       "    }\n",
       "\n",
       "    .dataframe tbody tr th {\n",
       "        vertical-align: top;\n",
       "    }\n",
       "\n",
       "    .dataframe thead th {\n",
       "        text-align: right;\n",
       "    }\n",
       "</style>\n",
       "<table border=\"1\" class=\"dataframe\">\n",
       "  <thead>\n",
       "    <tr style=\"text-align: right;\">\n",
       "      <th></th>\n",
       "      <th>feature</th>\n",
       "      <th>VIF</th>\n",
       "    </tr>\n",
       "  </thead>\n",
       "  <tbody>\n",
       "    <tr>\n",
       "      <th>0</th>\n",
       "      <td>Airline</td>\n",
       "      <td>1.040120</td>\n",
       "    </tr>\n",
       "    <tr>\n",
       "      <th>1</th>\n",
       "      <td>Date_of_Journey</td>\n",
       "      <td>1.115158</td>\n",
       "    </tr>\n",
       "    <tr>\n",
       "      <th>2</th>\n",
       "      <td>Source</td>\n",
       "      <td>1.783563</td>\n",
       "    </tr>\n",
       "    <tr>\n",
       "      <th>3</th>\n",
       "      <td>Destination</td>\n",
       "      <td>1.819108</td>\n",
       "    </tr>\n",
       "    <tr>\n",
       "      <th>4</th>\n",
       "      <td>Route</td>\n",
       "      <td>1.393620</td>\n",
       "    </tr>\n",
       "    <tr>\n",
       "      <th>5</th>\n",
       "      <td>Dep_Time</td>\n",
       "      <td>1.034406</td>\n",
       "    </tr>\n",
       "    <tr>\n",
       "      <th>6</th>\n",
       "      <td>Arrival_Time</td>\n",
       "      <td>1.019930</td>\n",
       "    </tr>\n",
       "    <tr>\n",
       "      <th>7</th>\n",
       "      <td>Duration</td>\n",
       "      <td>1.099959</td>\n",
       "    </tr>\n",
       "    <tr>\n",
       "      <th>8</th>\n",
       "      <td>Total_Stops</td>\n",
       "      <td>1.352893</td>\n",
       "    </tr>\n",
       "    <tr>\n",
       "      <th>9</th>\n",
       "      <td>Additional_Info</td>\n",
       "      <td>1.064411</td>\n",
       "    </tr>\n",
       "  </tbody>\n",
       "</table>\n",
       "</div>"
      ],
      "text/plain": [
       "           feature       VIF\n",
       "0          Airline  1.040120\n",
       "1  Date_of_Journey  1.115158\n",
       "2           Source  1.783563\n",
       "3      Destination  1.819108\n",
       "4            Route  1.393620\n",
       "5         Dep_Time  1.034406\n",
       "6     Arrival_Time  1.019930\n",
       "7         Duration  1.099959\n",
       "8      Total_Stops  1.352893\n",
       "9  Additional_Info  1.064411"
      ]
     },
     "execution_count": 61,
     "metadata": {},
     "output_type": "execute_result"
    }
   ],
   "source": [
    "vif_data = pd.DataFrame()\n",
    "vif_data[\"feature\"] = X.columns\n",
    "vif_data[\"VIF\"] = [variance_inflation_factor(X.values, i)\n",
    "                          for i in range(len(X.columns))]\n",
    "\n",
    "vif_data"
   ]
  },
  {
   "cell_type": "code",
   "execution_count": 62,
   "id": "f51dd3ef",
   "metadata": {},
   "outputs": [],
   "source": [
    "# There is no multicolinearity issue"
   ]
  },
  {
   "cell_type": "code",
   "execution_count": 63,
   "id": "e2ced444",
   "metadata": {},
   "outputs": [
    {
     "data": {
      "image/png": "[encoded data removed]",
      "text/plain": [
       "<Figure size 576x720 with 1 Axes>"
      ]
     },
     "metadata": {
      "needs_background": "light"
     },
     "output_type": "display_data"
    }
   ],
   "source": [
    "X.plot(kind='box',figsize=(8,10),layout=(4,3))\n",
    "plt.show() #checking for oultiers"
   ]
  },
  {
   "cell_type": "code",
   "execution_count": 64,
   "id": "51f56640",
   "metadata": {},
   "outputs": [],
   "source": [
    "# Additional Info has Outliers which goes above zcore 3"
   ]
  },
  {
   "cell_type": "code",
   "execution_count": 65,
   "id": "23c74783",
   "metadata": {},
   "outputs": [],
   "source": [
    "from scipy.stats import zscore"
   ]
  },
  {
   "cell_type": "code",
   "execution_count": 66,
   "id": "f53dd86e",
   "metadata": {},
   "outputs": [
    {
     "data": {
      "text/plain": [
       "Airline             True\n",
       "Date_of_Journey     True\n",
       "Source              True\n",
       "Destination         True\n",
       "Route               True\n",
       "Dep_Time            True\n",
       "Arrival_Time        True\n",
       "Duration            True\n",
       "Total_Stops         True\n",
       "Additional_Info    False\n",
       "dtype: bool"
      ]
     },
     "execution_count": 66,
     "metadata": {},
     "output_type": "execute_result"
    }
   ],
   "source": [
    "(np.abs(zscore(X)<3)).all()"
   ]
  },
  {
   "cell_type": "code",
   "execution_count": 67,
   "id": "ac4825fb",
   "metadata": {},
   "outputs": [
    {
     "data": {
      "text/plain": [
       "(array([8122], dtype=int64), array([9], dtype=int64))"
      ]
     },
     "execution_count": 67,
     "metadata": {},
     "output_type": "execute_result"
    }
   ],
   "source": [
    "# these are the index positions where outlier is present\n",
    "index = np.where(np.abs(zscore(X))>3)\n",
    "index"
   ]
  },
  {
   "cell_type": "code",
   "execution_count": 68,
   "id": "8dcf9017",
   "metadata": {},
   "outputs": [
    {
     "data": {
      "text/html": [
       "<div>\n",
       "<style scoped>\n",
       "    .dataframe tbody tr th:only-of-type {\n",
       "        vertical-align: middle;\n",
       "    }\n",
       "\n",
       "    .dataframe tbody tr th {\n",
       "        vertical-align: top;\n",
       "    }\n",
       "\n",
       "    .dataframe thead th {\n",
       "        text-align: right;\n",
       "    }\n",
       "</style>\n",
       "<table border=\"1\" class=\"dataframe\">\n",
       "  <thead>\n",
       "    <tr style=\"text-align: right;\">\n",
       "      <th></th>\n",
       "      <th>Airline</th>\n",
       "      <th>Date_of_Journey</th>\n",
       "      <th>Source</th>\n",
       "      <th>Destination</th>\n",
       "      <th>Route</th>\n",
       "      <th>Dep_Time</th>\n",
       "      <th>Arrival_Time</th>\n",
       "      <th>Duration</th>\n",
       "      <th>Total_Stops</th>\n",
       "      <th>Additional_Info</th>\n",
       "    </tr>\n",
       "  </thead>\n",
       "  <tbody>\n",
       "    <tr>\n",
       "      <th>0</th>\n",
       "      <td>-0.295676</td>\n",
       "      <td>0.072966</td>\n",
       "      <td>-1.599652</td>\n",
       "      <td>1.752627</td>\n",
       "      <td>-1.533484</td>\n",
       "      <td>1.502311</td>\n",
       "      <td>-1.795790</td>\n",
       "      <td>0.459827</td>\n",
       "      <td>1.293519</td>\n",
       "      <td>0.524734</td>\n",
       "    </tr>\n",
       "    <tr>\n",
       "      <th>1</th>\n",
       "      <td>-1.420475</td>\n",
       "      <td>-1.481458</td>\n",
       "      <td>0.902015</td>\n",
       "      <td>-1.370478</td>\n",
       "      <td>0.230611</td>\n",
       "      <td>-1.354199</td>\n",
       "      <td>0.041865</td>\n",
       "      <td>1.239696</td>\n",
       "      <td>0.355429</td>\n",
       "      <td>0.524734</td>\n",
       "    </tr>\n",
       "    <tr>\n",
       "      <th>2</th>\n",
       "      <td>0.147591</td>\n",
       "      <td>1.484970</td>\n",
       "      <td>-0.012096</td>\n",
       "      <td>0.005859</td>\n",
       "      <td>1.199748</td>\n",
       "      <td>-0.511704</td>\n",
       "      <td>-1.384215</td>\n",
       "      <td>-0.746538</td>\n",
       "      <td>0.355429</td>\n",
       "      <td>0.524734</td>\n",
       "    </tr>\n",
       "    <tr>\n",
       "      <th>3</th>\n",
       "      <td>-0.295676</td>\n",
       "      <td>-1.102000</td>\n",
       "      <td>0.902015</td>\n",
       "      <td>-1.370478</td>\n",
       "      <td>0.427760</td>\n",
       "      <td>0.922569</td>\n",
       "      <td>1.487985</td>\n",
       "      <td>1.041293</td>\n",
       "      <td>-0.905811</td>\n",
       "      <td>0.524734</td>\n",
       "    </tr>\n",
       "    <tr>\n",
       "      <th>4</th>\n",
       "      <td>-0.295676</td>\n",
       "      <td>-2.157314</td>\n",
       "      <td>-1.599652</td>\n",
       "      <td>1.752627</td>\n",
       "      <td>-1.256599</td>\n",
       "      <td>0.723258</td>\n",
       "      <td>1.172391</td>\n",
       "      <td>0.977164</td>\n",
       "      <td>-0.905811</td>\n",
       "      <td>0.524734</td>\n",
       "    </tr>\n",
       "    <tr>\n",
       "      <th>...</th>\n",
       "      <td>...</td>\n",
       "      <td>...</td>\n",
       "      <td>...</td>\n",
       "      <td>...</td>\n",
       "      <td>...</td>\n",
       "      <td>...</td>\n",
       "      <td>...</td>\n",
       "      <td>...</td>\n",
       "      <td>...</td>\n",
       "      <td>...</td>\n",
       "    </tr>\n",
       "    <tr>\n",
       "      <th>10677</th>\n",
       "      <td>-2.244258</td>\n",
       "      <td>1.342587</td>\n",
       "      <td>0.902015</td>\n",
       "      <td>-1.370478</td>\n",
       "      <td>-0.324503</td>\n",
       "      <td>1.164375</td>\n",
       "      <td>1.251518</td>\n",
       "      <td>0.426156</td>\n",
       "      <td>1.293519</td>\n",
       "      <td>0.524734</td>\n",
       "    </tr>\n",
       "    <tr>\n",
       "      <th>10678</th>\n",
       "      <td>-1.420475</td>\n",
       "      <td>0.459273</td>\n",
       "      <td>0.902015</td>\n",
       "      <td>-1.370478</td>\n",
       "      <td>-0.324503</td>\n",
       "      <td>1.287403</td>\n",
       "      <td>1.418454</td>\n",
       "      <td>0.434584</td>\n",
       "      <td>1.293519</td>\n",
       "      <td>0.524734</td>\n",
       "    </tr>\n",
       "    <tr>\n",
       "      <th>10679</th>\n",
       "      <td>0.147591</td>\n",
       "      <td>0.459273</td>\n",
       "      <td>-1.599652</td>\n",
       "      <td>0.707019</td>\n",
       "      <td>-1.533484</td>\n",
       "      <td>-0.743378</td>\n",
       "      <td>-0.219132</td>\n",
       "      <td>0.790942</td>\n",
       "      <td>1.293519</td>\n",
       "      <td>0.524734</td>\n",
       "    </tr>\n",
       "    <tr>\n",
       "      <th>10680</th>\n",
       "      <td>2.122962</td>\n",
       "      <td>-2.157314</td>\n",
       "      <td>-1.599652</td>\n",
       "      <td>1.752627</td>\n",
       "      <td>-1.533484</td>\n",
       "      <td>-0.126215</td>\n",
       "      <td>0.145914</td>\n",
       "      <td>0.443005</td>\n",
       "      <td>1.293519</td>\n",
       "      <td>0.524734</td>\n",
       "    </tr>\n",
       "    <tr>\n",
       "      <th>10681</th>\n",
       "      <td>-1.420475</td>\n",
       "      <td>1.413930</td>\n",
       "      <td>-0.012096</td>\n",
       "      <td>0.005859</td>\n",
       "      <td>0.911838</td>\n",
       "      <td>-0.244234</td>\n",
       "      <td>0.773457</td>\n",
       "      <td>1.326086</td>\n",
       "      <td>0.355429</td>\n",
       "      <td>0.524734</td>\n",
       "    </tr>\n",
       "  </tbody>\n",
       "</table>\n",
       "<p>10681 rows × 10 columns</p>\n",
       "</div>"
      ],
      "text/plain": [
       "        Airline  Date_of_Journey    Source  Destination     Route  Dep_Time  \\\n",
       "0     -0.295676         0.072966 -1.599652     1.752627 -1.533484  1.502311   \n",
       "1     -1.420475        -1.481458  0.902015    -1.370478  0.230611 -1.354199   \n",
       "2      0.147591         1.484970 -0.012096     0.005859  1.199748 -0.511704   \n",
       "3     -0.295676        -1.102000  0.902015    -1.370478  0.427760  0.922569   \n",
       "4     -0.295676        -2.157314 -1.599652     1.752627 -1.256599  0.723258   \n",
       "...         ...              ...       ...          ...       ...       ...   \n",
       "10677 -2.244258         1.342587  0.902015    -1.370478 -0.324503  1.164375   \n",
       "10678 -1.420475         0.459273  0.902015    -1.370478 -0.324503  1.287403   \n",
       "10679  0.147591         0.459273 -1.599652     0.707019 -1.533484 -0.743378   \n",
       "10680  2.122962        -2.157314 -1.599652     1.752627 -1.533484 -0.126215   \n",
       "10681 -1.420475         1.413930 -0.012096     0.005859  0.911838 -0.244234   \n",
       "\n",
       "       Arrival_Time  Duration  Total_Stops  Additional_Info  \n",
       "0         -1.795790  0.459827     1.293519         0.524734  \n",
       "1          0.041865  1.239696     0.355429         0.524734  \n",
       "2         -1.384215 -0.746538     0.355429         0.524734  \n",
       "3          1.487985  1.041293    -0.905811         0.524734  \n",
       "4          1.172391  0.977164    -0.905811         0.524734  \n",
       "...             ...       ...          ...              ...  \n",
       "10677      1.251518  0.426156     1.293519         0.524734  \n",
       "10678      1.418454  0.434584     1.293519         0.524734  \n",
       "10679     -0.219132  0.790942     1.293519         0.524734  \n",
       "10680      0.145914  0.443005     1.293519         0.524734  \n",
       "10681      0.773457  1.326086     0.355429         0.524734  \n",
       "\n",
       "[10681 rows x 10 columns]"
      ]
     },
     "execution_count": 68,
     "metadata": {},
     "output_type": "execute_result"
    }
   ],
   "source": [
    "New_X = X[(np.abs(zscore(X))<3).all(axis=1)]\n",
    "New_X"
   ]
  },
  {
   "cell_type": "code",
   "execution_count": 69,
   "id": "adf0fc22",
   "metadata": {},
   "outputs": [
    {
     "data": {
      "text/plain": [
       "0       -1.367854\n",
       "1       -0.138984\n",
       "2        1.086164\n",
       "3       -0.536300\n",
       "4        0.993291\n",
       "           ...   \n",
       "10677   -1.278242\n",
       "10678   -1.262421\n",
       "10679   -0.251324\n",
       "10680    0.884591\n",
       "10681    0.728284\n",
       "Name: Price, Length: 10681, dtype: float64"
      ]
     },
     "execution_count": 69,
     "metadata": {},
     "output_type": "execute_result"
    }
   ],
   "source": [
    "Y_new=Y.drop(index[0],axis=0)\n",
    "Y_new  #removing the outliers from target variables"
   ]
  },
  {
   "cell_type": "code",
   "execution_count": 70,
   "id": "7f9323e8",
   "metadata": {},
   "outputs": [
    {
     "data": {
      "text/plain": [
       "(10681, 10)"
      ]
     },
     "execution_count": 70,
     "metadata": {},
     "output_type": "execute_result"
    }
   ],
   "source": [
    "New_X.shape # Checking the shape of X and Y after removing Outliers"
   ]
  },
  {
   "cell_type": "code",
   "execution_count": 71,
   "id": "544cf7e0",
   "metadata": {},
   "outputs": [
    {
     "data": {
      "text/plain": [
       "(10681,)"
      ]
     },
     "execution_count": 71,
     "metadata": {},
     "output_type": "execute_result"
    }
   ],
   "source": [
    "Y_new.shape # Checking the shape of X and Y after removing Outliers"
   ]
  },
  {
   "cell_type": "code",
   "execution_count": 72,
   "id": "0111ff9d",
   "metadata": {},
   "outputs": [],
   "source": [
    "Scalar=StandardScaler()"
   ]
  },
  {
   "cell_type": "code",
   "execution_count": 73,
   "id": "a5043eae",
   "metadata": {},
   "outputs": [
    {
     "data": {
      "text/plain": [
       "array([[-0.29594157,  0.07277618, -1.59991876, ...,  0.459852  ,\n",
       "         1.29368137,  0.5261364 ],\n",
       "       [-1.42095339, -1.48191382,  0.90193135, ...,  1.23969236,\n",
       "         0.35556096,  0.5261364 ],\n",
       "       [ 0.14740887,  1.48502235, -0.01224654, ..., -0.7464677 ,\n",
       "         0.35556096,  0.5261364 ],\n",
       "       ...,\n",
       "       [ 0.14740887,  0.45914935, -1.59991876, ...,  0.79095455,\n",
       "         1.29368137,  0.5261364 ],\n",
       "       [ 2.12315268, -2.15788485, -1.59991876, ...,  0.44303072,\n",
       "         1.29368137,  0.5261364 ],\n",
       "       [-1.42095339,  1.41396964, -0.01224654, ...,  1.32607872,\n",
       "         0.35556096,  0.5261364 ]])"
      ]
     },
     "execution_count": 73,
     "metadata": {},
     "output_type": "execute_result"
    }
   ],
   "source": [
    "X_Scaled=Scalar.fit_transform(New_X)\n",
    "X_Scaled"
   ]
  },
  {
   "cell_type": "markdown",
   "id": "ddfa2b2e",
   "metadata": {},
   "source": [
    "# Ridge Regression"
   ]
  },
  {
   "cell_type": "code",
   "execution_count": 74,
   "id": "0a0ddbf5",
   "metadata": {},
   "outputs": [],
   "source": [
    "Ridge=Ridge()"
   ]
  },
  {
   "cell_type": "code",
   "execution_count": 75,
   "id": "1ec3b4e5",
   "metadata": {},
   "outputs": [
    {
     "name": "stdout",
     "output_type": "stream",
     "text": [
      "R-Squared: 35.09009046694743\n"
     ]
    }
   ],
   "source": [
    "X_train,X_test,y_train,y_test=train_test_split(X_Scaled,Y_new,test_size=0.20,random_state=50)\n",
    "Ridge.fit(X_train,y_train)\n",
    "pred_test=Ridge.predict(X_test)\n",
    "\n",
    "\n",
    "print('R-Squared:',r2_score(y_test,pred_test)*100)"
   ]
  },
  {
   "cell_type": "markdown",
   "id": "f097b80b",
   "metadata": {},
   "source": [
    "# Lasso Regression"
   ]
  },
  {
   "cell_type": "code",
   "execution_count": 76,
   "id": "20c4a52b",
   "metadata": {},
   "outputs": [],
   "source": [
    "Lasso=Lasso()"
   ]
  },
  {
   "cell_type": "code",
   "execution_count": 77,
   "id": "e610a854",
   "metadata": {},
   "outputs": [
    {
     "name": "stdout",
     "output_type": "stream",
     "text": [
      "R-Squared: -0.35262359888030836\n"
     ]
    }
   ],
   "source": [
    "X_train,X_test,y_train,y_test=train_test_split(X_Scaled,Y_new,test_size=0.20,random_state=50)\n",
    "Lasso.fit(X_train,y_train)\n",
    "pred_test=Lasso.predict(X_test)\n",
    "\n",
    "\n",
    "print('R-Squared:',r2_score(y_test,pred_test)*100)"
   ]
  },
  {
   "cell_type": "markdown",
   "id": "ef9a434c",
   "metadata": {},
   "source": [
    "# Decision Tree Regressor"
   ]
  },
  {
   "cell_type": "code",
   "execution_count": 78,
   "id": "baf44d7d",
   "metadata": {},
   "outputs": [],
   "source": [
    "DT= DecisionTreeRegressor()"
   ]
  },
  {
   "cell_type": "code",
   "execution_count": 79,
   "id": "ba16d187",
   "metadata": {},
   "outputs": [
    {
     "name": "stdout",
     "output_type": "stream",
     "text": [
      "R-Squared: 84.7968408197315\n"
     ]
    }
   ],
   "source": [
    "X_train,X_test,y_train,y_test=train_test_split(X_Scaled,Y_new,test_size=0.20,random_state=50)\n",
    "DT.fit(X_train,y_train)\n",
    "pred_test=DT.predict(X_test)\n",
    "\n",
    "\n",
    "print('R-Squared:',r2_score(y_test,pred_test)*100)"
   ]
  },
  {
   "cell_type": "markdown",
   "id": "e4b51918",
   "metadata": {},
   "source": [
    "# Random Forest Regressor"
   ]
  },
  {
   "cell_type": "code",
   "execution_count": 80,
   "id": "a3611b86",
   "metadata": {},
   "outputs": [],
   "source": [
    "RF= RandomForestRegressor()"
   ]
  },
  {
   "cell_type": "code",
   "execution_count": 81,
   "id": "99f0ee58",
   "metadata": {},
   "outputs": [
    {
     "name": "stdout",
     "output_type": "stream",
     "text": [
      "R-Squared: 90.38974969566375\n"
     ]
    }
   ],
   "source": [
    "X_train,X_test,y_train,y_test=train_test_split(X_Scaled,Y_new,test_size=0.20,random_state=50)\n",
    "RF.fit(X_train,y_train)\n",
    "pred_test=RF.predict(X_test)\n",
    "\n",
    "\n",
    "print('R-Squared:',r2_score(y_test,pred_test)*100)"
   ]
  },
  {
   "cell_type": "markdown",
   "id": "543d56a4",
   "metadata": {},
   "source": [
    "# Cross Validation for Ridge"
   ]
  },
  {
   "cell_type": "code",
   "execution_count": 82,
   "id": "87a4454d",
   "metadata": {},
   "outputs": [
    {
     "name": "stdout",
     "output_type": "stream",
     "text": [
      "The cross validation score for 2 is 36.41297993610883\n",
      "The cross validation score for 3 is 36.440780595360884\n",
      "The cross validation score for 4 is 36.471021559975824\n",
      "The cross validation score for 5 is 36.447192535600614\n"
     ]
    }
   ],
   "source": [
    "for i in range(2,6):\n",
    "    Rid_Val=cross_val_score(Ridge,X_Scaled,Y_new,cv=i)\n",
    "    print(\"The cross validation score for\",i,\"is\",Rid_Val.mean()*100)"
   ]
  },
  {
   "cell_type": "markdown",
   "id": "b6ebbdba",
   "metadata": {},
   "source": [
    "# Cross Validation for Lasso"
   ]
  },
  {
   "cell_type": "code",
   "execution_count": 83,
   "id": "25943040",
   "metadata": {},
   "outputs": [
    {
     "name": "stdout",
     "output_type": "stream",
     "text": [
      "The cross validation score for 2 is -0.04526257744866813\n",
      "The cross validation score for 3 is -0.04194944013629076\n",
      "The cross validation score for 4 is -0.030724526419317888\n",
      "The cross validation score for 5 is -0.06410540477462146\n"
     ]
    }
   ],
   "source": [
    "for i in range(2,6):\n",
    "    Lass_Val=cross_val_score(Lasso,X_Scaled,Y_new,cv=i)\n",
    "    print(\"The cross validation score for\",i,\"is\",Lass_Val.mean()*100)"
   ]
  },
  {
   "cell_type": "markdown",
   "id": "0e5c50c7",
   "metadata": {},
   "source": [
    "# Cross Validation for Decision Tree Regressor"
   ]
  },
  {
   "cell_type": "code",
   "execution_count": 84,
   "id": "85fc8e73",
   "metadata": {},
   "outputs": [
    {
     "name": "stdout",
     "output_type": "stream",
     "text": [
      "The cross validation score for 2 is 83.14999873566421\n",
      "The cross validation score for 3 is 84.42114225828631\n",
      "The cross validation score for 4 is 86.03129624543004\n",
      "The cross validation score for 5 is 86.47354198029085\n"
     ]
    }
   ],
   "source": [
    "for i in range(2,6):\n",
    "    DT_Val=cross_val_score(DT,X_Scaled,Y_new,cv=i)\n",
    "    print(\"The cross validation score for\",i,\"is\",DT_Val.mean()*100)"
   ]
  },
  {
   "cell_type": "markdown",
   "id": "c9b2e067",
   "metadata": {},
   "source": [
    "# Cross Validation for Random Forest Regressor"
   ]
  },
  {
   "cell_type": "code",
   "execution_count": 85,
   "id": "7c821576",
   "metadata": {},
   "outputs": [
    {
     "name": "stdout",
     "output_type": "stream",
     "text": [
      "The cross validation score for 2 is 89.70740584318035\n",
      "The cross validation score for 3 is 90.36426342661393\n",
      "The cross validation score for 4 is 91.04527197368586\n",
      "The cross validation score for 5 is 91.27607482912104\n"
     ]
    }
   ],
   "source": [
    "for i in range(2,6):\n",
    "    RF_Val=cross_val_score(RF,X_Scaled,Y_new,cv=i)\n",
    "    print(\"The cross validation score for\",i,\"is\",RF_Val.mean()*100)"
   ]
  },
  {
   "cell_type": "code",
   "execution_count": 86,
   "id": "d005dbd2",
   "metadata": {},
   "outputs": [
    {
     "name": "stdout",
     "output_type": "stream",
     "text": [
      "+-------------------------+---------+------------------------+\n",
      "|        Model Name       | R_score | Cross Validation Score |\n",
      "+-------------------------+---------+------------------------+\n",
      "|     Ridge Regression    |  35.09  |         36.44          |\n",
      "|     Lasso Regression    |  -0.35  |         -0.06          |\n",
      "| Decision Tree Regressor |  84.79  |         86.43          |\n",
      "|  Random Tree Regressor  |  90.38  |         91.27          |\n",
      "+-------------------------+---------+------------------------+\n"
     ]
    }
   ],
   "source": [
    "x=PrettyTable()\n",
    "x.field_names=['Model Name','R_score','Cross Validation Score']\n",
    "x.add_row(['Ridge Regression','35.09','36.44'])\n",
    "x.add_row(['Lasso Regression','-0.35','-0.06'])\n",
    "x.add_row(['Decision Tree Regressor','84.79','86.43'])\n",
    "x.add_row(['Random Tree Regressor','90.38','91.27'])\n",
    "\n",
    "print(x)"
   ]
  },
  {
   "cell_type": "markdown",
   "id": "80f806af",
   "metadata": {},
   "source": [
    "## Therefore looking at the pretty table it can be said that Random Tree Regressor is the best model for this dataset "
   ]
  },
  {
   "cell_type": "markdown",
   "id": "54d3211c",
   "metadata": {},
   "source": [
    "# Hypertuning Parameters"
   ]
  },
  {
   "cell_type": "code",
   "execution_count": 87,
   "id": "18aa27bb",
   "metadata": {},
   "outputs": [],
   "source": [
    "RFC=RandomForestRegressor()"
   ]
  },
  {
   "cell_type": "code",
   "execution_count": 88,
   "id": "c5829106",
   "metadata": {},
   "outputs": [
    {
     "data": {
      "text/plain": [
       "GridSearchCV(estimator=RandomForestRegressor(),\n",
       "             param_grid={'max_depth': [10], 'min_samples_leaf': [2],\n",
       "                         'min_samples_split': [4]})"
      ]
     },
     "execution_count": 88,
     "metadata": {},
     "output_type": "execute_result"
    }
   ],
   "source": [
    "parameters={'max_depth':(list(range(10,11))),'min_samples_split':(list(range(4,5))),'min_samples_leaf':(list(range(2,3)))}\n",
    "clf=GridSearchCV(RFC,parameters)\n",
    "clf.fit(X_train,y_train)"
   ]
  },
  {
   "cell_type": "code",
   "execution_count": 89,
   "id": "424bc8eb",
   "metadata": {},
   "outputs": [
    {
     "data": {
      "text/plain": [
       "{'max_depth': 10, 'min_samples_leaf': 2, 'min_samples_split': 4}"
      ]
     },
     "execution_count": 89,
     "metadata": {},
     "output_type": "execute_result"
    }
   ],
   "source": [
    "clf.best_params_"
   ]
  },
  {
   "cell_type": "code",
   "execution_count": 90,
   "id": "b57f17f4",
   "metadata": {},
   "outputs": [],
   "source": [
    "RFC=RandomForestRegressor(max_depth=10, min_samples_leaf=2, min_samples_split=4)"
   ]
  },
  {
   "cell_type": "code",
   "execution_count": 91,
   "id": "8df67bdf",
   "metadata": {},
   "outputs": [],
   "source": [
    "X_train,X_test,y_train,y_test=train_test_split(X_Scaled,Y_new,test_size=0.20,random_state=50)\n",
    "RFC.fit(X_train,y_train)\n",
    "pred_test=RFC.predict(X_test)"
   ]
  },
  {
   "cell_type": "code",
   "execution_count": 92,
   "id": "7e516eee",
   "metadata": {},
   "outputs": [
    {
     "data": {
      "text/plain": [
       "86.80364035792405"
      ]
     },
     "execution_count": 92,
     "metadata": {},
     "output_type": "execute_result"
    }
   ],
   "source": [
    "RFC_Score=r2_score(y_test,pred_test)*100\n",
    "RFC_Score"
   ]
  },
  {
   "cell_type": "code",
   "execution_count": 110,
   "id": "9afbe84f",
   "metadata": {},
   "outputs": [],
   "source": [
    "RFC=RandomForestRegressor(max_depth=30, min_samples_leaf=2, min_samples_split=4)"
   ]
  },
  {
   "cell_type": "code",
   "execution_count": 111,
   "id": "eb1d2a1a",
   "metadata": {},
   "outputs": [],
   "source": [
    "X_train,X_test,y_train,y_test=train_test_split(X_Scaled,Y_new,test_size=0.20,random_state=50)\n",
    "RFC.fit(X_train,y_train)\n",
    "pred_test=RFC.predict(X_test)"
   ]
  },
  {
   "cell_type": "code",
   "execution_count": 112,
   "id": "3ba10d05",
   "metadata": {},
   "outputs": [
    {
     "data": {
      "text/plain": [
       "90.1577115449815"
      ]
     },
     "execution_count": 112,
     "metadata": {},
     "output_type": "execute_result"
    }
   ],
   "source": [
    "RFC_Score=r2_score(y_test,pred_test)*100\n",
    "RFC_Score"
   ]
  },
  {
   "cell_type": "markdown",
   "id": "2662f0e7",
   "metadata": {},
   "source": [
    "## It seems that the initial score before hyper tuning gave the maximum value, therefore the initial score for random forest classifier will be taken"
   ]
  },
  {
   "cell_type": "code",
   "execution_count": 115,
   "id": "7969014d",
   "metadata": {},
   "outputs": [
    {
     "name": "stdout",
     "output_type": "stream",
     "text": [
      "R-Squared value for Random Forest: 90.21969838042997\n"
     ]
    }
   ],
   "source": [
    "X_train,X_test,y_train,y_test=train_test_split(X_Scaled,Y_new,test_size=0.20,random_state=50)\n",
    "RF.fit(X_train,y_train)\n",
    "pred_test=RF.predict(X_test)\n",
    "\n",
    "\n",
    "print('R-Squared value for Random Forest:',r2_score(y_test,pred_test)*100)\n"
   ]
  },
  {
   "cell_type": "markdown",
   "id": "2f6d6d1c",
   "metadata": {},
   "source": [
    "# Saving the model"
   ]
  },
  {
   "cell_type": "code",
   "execution_count": 116,
   "id": "6dfe60cb",
   "metadata": {},
   "outputs": [],
   "source": [
    "import pickle\n",
    "filename='Flight Price Prediction.pkl'\n",
    "pickle.dump(RF,open(filename,'wb'))"
   ]
  },
  {
   "cell_type": "code",
   "execution_count": null,
   "id": "d0eed248",
   "metadata": {},
   "outputs": [],
   "source": []
  }
 ],
 "metadata": {
  "kernelspec": {
   "display_name": "Python 3 (ipykernel)",
   "language": "python",
   "name": "python3"
  },
  "language_info": {
   "codemirror_mode": {
    "name": "ipython",
    "version": 3
   },
   "file_extension": ".py",
   "mimetype": "text/x-python",
   "name": "python",
   "nbconvert_exporter": "python",
   "pygments_lexer": "ipython3",
   "version": "3.9.7"
  }
 },
 "nbformat": 4,
 "nbformat_minor": 5
}
