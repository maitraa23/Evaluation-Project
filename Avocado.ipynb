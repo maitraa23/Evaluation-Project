{
 "cells": [
  {
   "cell_type": "code",
   "execution_count": 49,
   "id": "3dc8c7b5",
   "metadata": {},
   "outputs": [],
   "source": [
    "import pandas as pd\n",
    "import numpy as np\n",
    "from sklearn.preprocessing import StandardScaler\n",
    "from sklearn.linear_model import LinearRegression\n",
    "from sklearn.ensemble import RandomForestRegressor\n",
    "from sklearn.ensemble import VotingClassifier\n",
    "from sklearn.ensemble import AdaBoostRegressor\n",
    "from sklearn.ensemble import GradientBoostingRegressor\n",
    "from sklearn.tree import DecisionTreeRegressor\n",
    "from sklearn.svm import SVC\n",
    "from sklearn.model_selection import cross_val_score\n",
    "from sklearn.model_selection import GridSearchCV\n",
    "from sklearn.metrics import r2_score\n",
    "from sklearn.model_selection import train_test_split\n",
    "from statsmodels.stats.outliers_influence import variance_inflation_factor\n",
    "from sklearn.metrics import confusion_matrix, classification_report\n",
    "from sklearn.metrics import accuracy_score,confusion_matrix,roc_curve, roc_auc_score\n",
    "import matplotlib.pyplot as plt\n",
    "import seaborn as sns\n",
    "import warnings\n",
    "warnings.filterwarnings('ignore') # importing neccesary ,libraries"
   ]
  },
  {
   "cell_type": "code",
   "execution_count": 2,
   "id": "5baa5448",
   "metadata": {},
   "outputs": [],
   "source": [
    "Data=pd.read_csv(\"avocado.csv\") #loading the dataset"
   ]
  },
  {
   "cell_type": "code",
   "execution_count": 3,
   "id": "ab7c02c9",
   "metadata": {},
   "outputs": [
    {
     "data": {
      "text/html": [
       "<div>\n",
       "<style scoped>\n",
       "    .dataframe tbody tr th:only-of-type {\n",
       "        vertical-align: middle;\n",
       "    }\n",
       "\n",
       "    .dataframe tbody tr th {\n",
       "        vertical-align: top;\n",
       "    }\n",
       "\n",
       "    .dataframe thead th {\n",
       "        text-align: right;\n",
       "    }\n",
       "</style>\n",
       "<table border=\"1\" class=\"dataframe\">\n",
       "  <thead>\n",
       "    <tr style=\"text-align: right;\">\n",
       "      <th></th>\n",
       "      <th>Unnamed: 0</th>\n",
       "      <th>Date</th>\n",
       "      <th>AveragePrice</th>\n",
       "      <th>Total Volume</th>\n",
       "      <th>4046</th>\n",
       "      <th>4225</th>\n",
       "      <th>4770</th>\n",
       "      <th>Total Bags</th>\n",
       "      <th>Small Bags</th>\n",
       "      <th>Large Bags</th>\n",
       "      <th>XLarge Bags</th>\n",
       "      <th>type</th>\n",
       "      <th>year</th>\n",
       "      <th>region</th>\n",
       "    </tr>\n",
       "  </thead>\n",
       "  <tbody>\n",
       "    <tr>\n",
       "      <th>0</th>\n",
       "      <td>0</td>\n",
       "      <td>27-12-2015</td>\n",
       "      <td>1.33</td>\n",
       "      <td>64236.62</td>\n",
       "      <td>1036.74</td>\n",
       "      <td>54454.85</td>\n",
       "      <td>48.16</td>\n",
       "      <td>8696.87</td>\n",
       "      <td>8603.62</td>\n",
       "      <td>93.25</td>\n",
       "      <td>0.0</td>\n",
       "      <td>conventional</td>\n",
       "      <td>2015</td>\n",
       "      <td>Albany</td>\n",
       "    </tr>\n",
       "    <tr>\n",
       "      <th>1</th>\n",
       "      <td>1</td>\n",
       "      <td>20-12-2015</td>\n",
       "      <td>1.35</td>\n",
       "      <td>54876.98</td>\n",
       "      <td>674.28</td>\n",
       "      <td>44638.81</td>\n",
       "      <td>58.33</td>\n",
       "      <td>9505.56</td>\n",
       "      <td>9408.07</td>\n",
       "      <td>97.49</td>\n",
       "      <td>0.0</td>\n",
       "      <td>conventional</td>\n",
       "      <td>2015</td>\n",
       "      <td>Albany</td>\n",
       "    </tr>\n",
       "    <tr>\n",
       "      <th>2</th>\n",
       "      <td>2</td>\n",
       "      <td>13-12-2015</td>\n",
       "      <td>0.93</td>\n",
       "      <td>118220.22</td>\n",
       "      <td>794.70</td>\n",
       "      <td>109149.67</td>\n",
       "      <td>130.50</td>\n",
       "      <td>8145.35</td>\n",
       "      <td>8042.21</td>\n",
       "      <td>103.14</td>\n",
       "      <td>0.0</td>\n",
       "      <td>conventional</td>\n",
       "      <td>2015</td>\n",
       "      <td>Albany</td>\n",
       "    </tr>\n",
       "    <tr>\n",
       "      <th>3</th>\n",
       "      <td>3</td>\n",
       "      <td>06-12-2015</td>\n",
       "      <td>1.08</td>\n",
       "      <td>78992.15</td>\n",
       "      <td>1132.00</td>\n",
       "      <td>71976.41</td>\n",
       "      <td>72.58</td>\n",
       "      <td>5811.16</td>\n",
       "      <td>5677.40</td>\n",
       "      <td>133.76</td>\n",
       "      <td>0.0</td>\n",
       "      <td>conventional</td>\n",
       "      <td>2015</td>\n",
       "      <td>Albany</td>\n",
       "    </tr>\n",
       "    <tr>\n",
       "      <th>4</th>\n",
       "      <td>4</td>\n",
       "      <td>29-11-2015</td>\n",
       "      <td>1.28</td>\n",
       "      <td>51039.60</td>\n",
       "      <td>941.48</td>\n",
       "      <td>43838.39</td>\n",
       "      <td>75.78</td>\n",
       "      <td>6183.95</td>\n",
       "      <td>5986.26</td>\n",
       "      <td>197.69</td>\n",
       "      <td>0.0</td>\n",
       "      <td>conventional</td>\n",
       "      <td>2015</td>\n",
       "      <td>Albany</td>\n",
       "    </tr>\n",
       "  </tbody>\n",
       "</table>\n",
       "</div>"
      ],
      "text/plain": [
       "   Unnamed: 0        Date  AveragePrice  Total Volume     4046       4225  \\\n",
       "0           0  27-12-2015          1.33      64236.62  1036.74   54454.85   \n",
       "1           1  20-12-2015          1.35      54876.98   674.28   44638.81   \n",
       "2           2  13-12-2015          0.93     118220.22   794.70  109149.67   \n",
       "3           3  06-12-2015          1.08      78992.15  1132.00   71976.41   \n",
       "4           4  29-11-2015          1.28      51039.60   941.48   43838.39   \n",
       "\n",
       "     4770  Total Bags  Small Bags  Large Bags  XLarge Bags          type  \\\n",
       "0   48.16     8696.87     8603.62       93.25          0.0  conventional   \n",
       "1   58.33     9505.56     9408.07       97.49          0.0  conventional   \n",
       "2  130.50     8145.35     8042.21      103.14          0.0  conventional   \n",
       "3   72.58     5811.16     5677.40      133.76          0.0  conventional   \n",
       "4   75.78     6183.95     5986.26      197.69          0.0  conventional   \n",
       "\n",
       "   year  region  \n",
       "0  2015  Albany  \n",
       "1  2015  Albany  \n",
       "2  2015  Albany  \n",
       "3  2015  Albany  \n",
       "4  2015  Albany  "
      ]
     },
     "execution_count": 3,
     "metadata": {},
     "output_type": "execute_result"
    }
   ],
   "source": [
    "Data.head()"
   ]
  },
  {
   "cell_type": "code",
   "execution_count": 4,
   "id": "c26ab486",
   "metadata": {},
   "outputs": [
    {
     "data": {
      "text/plain": [
       "(18249, 14)"
      ]
     },
     "execution_count": 4,
     "metadata": {},
     "output_type": "execute_result"
    }
   ],
   "source": [
    "Data.shape #checking the row and column"
   ]
  },
  {
   "cell_type": "code",
   "execution_count": 5,
   "id": "1b7e3283",
   "metadata": {},
   "outputs": [],
   "source": [
    "Data.drop('Unnamed: 0',axis=1,inplace=True) #dropping the unnecessary column"
   ]
  },
  {
   "cell_type": "code",
   "execution_count": 6,
   "id": "292ae172",
   "metadata": {},
   "outputs": [
    {
     "data": {
      "text/plain": [
       "array(['conventional', 'organic'], dtype=object)"
      ]
     },
     "execution_count": 6,
     "metadata": {},
     "output_type": "execute_result"
    }
   ],
   "source": [
    "Data['type'].unique() #checking the object data type"
   ]
  },
  {
   "cell_type": "code",
   "execution_count": 7,
   "id": "dc3d987d",
   "metadata": {},
   "outputs": [
    {
     "data": {
      "text/plain": [
       "array(['Albany', 'Atlanta', 'BaltimoreWashington', 'Boise', 'Boston',\n",
       "       'BuffaloRochester', 'California', 'Charlotte', 'Chicago',\n",
       "       'CincinnatiDayton', 'Columbus', 'DallasFtWorth', 'Denver',\n",
       "       'Detroit', 'GrandRapids', 'GreatLakes', 'HarrisburgScranton',\n",
       "       'HartfordSpringfield', 'Houston', 'Indianapolis', 'Jacksonville',\n",
       "       'LasVegas', 'LosAngeles', 'Louisville', 'MiamiFtLauderdale',\n",
       "       'Midsouth', 'Nashville', 'NewOrleansMobile', 'NewYork',\n",
       "       'Northeast', 'NorthernNewEngland', 'Orlando', 'Philadelphia',\n",
       "       'PhoenixTucson', 'Pittsburgh', 'Plains', 'Portland',\n",
       "       'RaleighGreensboro', 'RichmondNorfolk', 'Roanoke', 'Sacramento',\n",
       "       'SanDiego', 'SanFrancisco', 'Seattle', 'SouthCarolina',\n",
       "       'SouthCentral', 'Southeast', 'Spokane', 'StLouis', 'Syracuse',\n",
       "       'Tampa', 'TotalUS', 'West', 'WestTexNewMexico'], dtype=object)"
      ]
     },
     "execution_count": 7,
     "metadata": {},
     "output_type": "execute_result"
    }
   ],
   "source": [
    "Data['region'].unique() #checking the object data type"
   ]
  },
  {
   "cell_type": "code",
   "execution_count": 8,
   "id": "5bf5d734",
   "metadata": {},
   "outputs": [],
   "source": [
    "Data['type']=Data['type'].replace({'conventional':0,'organic':1}) #Changing the data type"
   ]
  },
  {
   "cell_type": "code",
   "execution_count": 9,
   "id": "0d0e4f7b",
   "metadata": {},
   "outputs": [
    {
     "data": {
      "text/plain": [
       "0        0\n",
       "1        0\n",
       "2        0\n",
       "3        0\n",
       "4        0\n",
       "        ..\n",
       "18244    1\n",
       "18245    1\n",
       "18246    1\n",
       "18247    1\n",
       "18248    1\n",
       "Name: type, Length: 18249, dtype: int64"
      ]
     },
     "execution_count": 9,
     "metadata": {},
     "output_type": "execute_result"
    }
   ],
   "source": [
    "Data['type']"
   ]
  },
  {
   "cell_type": "code",
   "execution_count": 10,
   "id": "a10b5f54",
   "metadata": {},
   "outputs": [],
   "source": [
    "from sklearn.preprocessing import OrdinalEncoder"
   ]
  },
  {
   "cell_type": "code",
   "execution_count": 11,
   "id": "1b57179d",
   "metadata": {},
   "outputs": [
    {
     "data": {
      "text/plain": [
       "array([[ 0.],\n",
       "       [ 0.],\n",
       "       [ 0.],\n",
       "       ...,\n",
       "       [53.],\n",
       "       [53.],\n",
       "       [53.]])"
      ]
     },
     "execution_count": 11,
     "metadata": {},
     "output_type": "execute_result"
    }
   ],
   "source": [
    "OE= OrdinalEncoder()\n",
    "Encode= OE.fit_transform(Data[[\"region\"]])\n",
    "Encode"
   ]
  },
  {
   "cell_type": "code",
   "execution_count": 12,
   "id": "18f944be",
   "metadata": {},
   "outputs": [],
   "source": [
    "Data[\"region\"]=Encode #assigning the encoded values to the main value in dataset"
   ]
  },
  {
   "cell_type": "code",
   "execution_count": 13,
   "id": "36fd1956",
   "metadata": {},
   "outputs": [
    {
     "data": {
      "text/plain": [
       "Date            0\n",
       "AveragePrice    0\n",
       "Total Volume    0\n",
       "4046            0\n",
       "4225            0\n",
       "4770            0\n",
       "Total Bags      0\n",
       "Small Bags      0\n",
       "Large Bags      0\n",
       "XLarge Bags     0\n",
       "type            0\n",
       "year            0\n",
       "region          0\n",
       "dtype: int64"
      ]
     },
     "execution_count": 13,
     "metadata": {},
     "output_type": "execute_result"
    }
   ],
   "source": [
    "Data.isnull().sum() #Checking the null values"
   ]
  },
  {
   "cell_type": "code",
   "execution_count": 14,
   "id": "4c49e2a3",
   "metadata": {},
   "outputs": [],
   "source": [
    "#No null values"
   ]
  },
  {
   "cell_type": "code",
   "execution_count": 15,
   "id": "9fd836fa",
   "metadata": {},
   "outputs": [
    {
     "data": {
      "text/plain": [
       "Date            18249\n",
       "AveragePrice    18249\n",
       "Total Volume    18249\n",
       "4046            18249\n",
       "4225            18249\n",
       "4770            18249\n",
       "Total Bags      18249\n",
       "Small Bags      18249\n",
       "Large Bags      18249\n",
       "XLarge Bags     18249\n",
       "type            18249\n",
       "year            18249\n",
       "region          18249\n",
       "dtype: int64"
      ]
     },
     "execution_count": 15,
     "metadata": {},
     "output_type": "execute_result"
    }
   ],
   "source": [
    "Data.count()"
   ]
  },
  {
   "cell_type": "code",
   "execution_count": 16,
   "id": "506b7f58",
   "metadata": {},
   "outputs": [],
   "source": [
    "#No non empty values"
   ]
  },
  {
   "cell_type": "code",
   "execution_count": 17,
   "id": "b9d5bf1d",
   "metadata": {},
   "outputs": [
    {
     "data": {
      "text/plain": [
       "array([  0.  ,  33.33, 104.17, ..., 228.27,  12.12,  24.18])"
      ]
     },
     "execution_count": 17,
     "metadata": {},
     "output_type": "execute_result"
    }
   ],
   "source": [
    "Data['XLarge Bags'].unique() #Checking the values for XLarge bags"
   ]
  },
  {
   "cell_type": "code",
   "execution_count": 18,
   "id": "fac36cde",
   "metadata": {},
   "outputs": [
    {
     "name": "stdout",
     "output_type": "stream",
     "text": [
      "<class 'pandas.core.frame.DataFrame'>\n",
      "RangeIndex: 18249 entries, 0 to 18248\n",
      "Data columns (total 13 columns):\n",
      " #   Column        Non-Null Count  Dtype  \n",
      "---  ------        --------------  -----  \n",
      " 0   Date          18249 non-null  object \n",
      " 1   AveragePrice  18249 non-null  float64\n",
      " 2   Total Volume  18249 non-null  float64\n",
      " 3   4046          18249 non-null  float64\n",
      " 4   4225          18249 non-null  float64\n",
      " 5   4770          18249 non-null  float64\n",
      " 6   Total Bags    18249 non-null  float64\n",
      " 7   Small Bags    18249 non-null  float64\n",
      " 8   Large Bags    18249 non-null  float64\n",
      " 9   XLarge Bags   18249 non-null  float64\n",
      " 10  type          18249 non-null  int64  \n",
      " 11  year          18249 non-null  int64  \n",
      " 12  region        18249 non-null  float64\n",
      "dtypes: float64(10), int64(2), object(1)\n",
      "memory usage: 1.8+ MB\n"
     ]
    }
   ],
   "source": [
    "Data.info() #Checking the data type"
   ]
  },
  {
   "cell_type": "code",
   "execution_count": 19,
   "id": "64d9ef6d",
   "metadata": {},
   "outputs": [],
   "source": [
    "#Date and Year has no relation to Region and Average price, hence it can be dropped as well"
   ]
  },
  {
   "cell_type": "code",
   "execution_count": 20,
   "id": "cc84224c",
   "metadata": {},
   "outputs": [],
   "source": [
    "Data.drop(['Date','year'],axis=1,inplace=True)"
   ]
  },
  {
   "cell_type": "code",
   "execution_count": 21,
   "id": "ccb7e2f7",
   "metadata": {},
   "outputs": [
    {
     "data": {
      "text/html": [
       "<div>\n",
       "<style scoped>\n",
       "    .dataframe tbody tr th:only-of-type {\n",
       "        vertical-align: middle;\n",
       "    }\n",
       "\n",
       "    .dataframe tbody tr th {\n",
       "        vertical-align: top;\n",
       "    }\n",
       "\n",
       "    .dataframe thead th {\n",
       "        text-align: right;\n",
       "    }\n",
       "</style>\n",
       "<table border=\"1\" class=\"dataframe\">\n",
       "  <thead>\n",
       "    <tr style=\"text-align: right;\">\n",
       "      <th></th>\n",
       "      <th>AveragePrice</th>\n",
       "      <th>Total Volume</th>\n",
       "      <th>4046</th>\n",
       "      <th>4225</th>\n",
       "      <th>4770</th>\n",
       "      <th>Total Bags</th>\n",
       "      <th>Small Bags</th>\n",
       "      <th>Large Bags</th>\n",
       "      <th>XLarge Bags</th>\n",
       "      <th>type</th>\n",
       "      <th>region</th>\n",
       "    </tr>\n",
       "  </thead>\n",
       "  <tbody>\n",
       "    <tr>\n",
       "      <th>0</th>\n",
       "      <td>1.33</td>\n",
       "      <td>64236.62</td>\n",
       "      <td>1036.74</td>\n",
       "      <td>54454.85</td>\n",
       "      <td>48.16</td>\n",
       "      <td>8696.87</td>\n",
       "      <td>8603.62</td>\n",
       "      <td>93.25</td>\n",
       "      <td>0.0</td>\n",
       "      <td>0</td>\n",
       "      <td>0.0</td>\n",
       "    </tr>\n",
       "    <tr>\n",
       "      <th>1</th>\n",
       "      <td>1.35</td>\n",
       "      <td>54876.98</td>\n",
       "      <td>674.28</td>\n",
       "      <td>44638.81</td>\n",
       "      <td>58.33</td>\n",
       "      <td>9505.56</td>\n",
       "      <td>9408.07</td>\n",
       "      <td>97.49</td>\n",
       "      <td>0.0</td>\n",
       "      <td>0</td>\n",
       "      <td>0.0</td>\n",
       "    </tr>\n",
       "    <tr>\n",
       "      <th>2</th>\n",
       "      <td>0.93</td>\n",
       "      <td>118220.22</td>\n",
       "      <td>794.70</td>\n",
       "      <td>109149.67</td>\n",
       "      <td>130.50</td>\n",
       "      <td>8145.35</td>\n",
       "      <td>8042.21</td>\n",
       "      <td>103.14</td>\n",
       "      <td>0.0</td>\n",
       "      <td>0</td>\n",
       "      <td>0.0</td>\n",
       "    </tr>\n",
       "    <tr>\n",
       "      <th>3</th>\n",
       "      <td>1.08</td>\n",
       "      <td>78992.15</td>\n",
       "      <td>1132.00</td>\n",
       "      <td>71976.41</td>\n",
       "      <td>72.58</td>\n",
       "      <td>5811.16</td>\n",
       "      <td>5677.40</td>\n",
       "      <td>133.76</td>\n",
       "      <td>0.0</td>\n",
       "      <td>0</td>\n",
       "      <td>0.0</td>\n",
       "    </tr>\n",
       "    <tr>\n",
       "      <th>4</th>\n",
       "      <td>1.28</td>\n",
       "      <td>51039.60</td>\n",
       "      <td>941.48</td>\n",
       "      <td>43838.39</td>\n",
       "      <td>75.78</td>\n",
       "      <td>6183.95</td>\n",
       "      <td>5986.26</td>\n",
       "      <td>197.69</td>\n",
       "      <td>0.0</td>\n",
       "      <td>0</td>\n",
       "      <td>0.0</td>\n",
       "    </tr>\n",
       "    <tr>\n",
       "      <th>...</th>\n",
       "      <td>...</td>\n",
       "      <td>...</td>\n",
       "      <td>...</td>\n",
       "      <td>...</td>\n",
       "      <td>...</td>\n",
       "      <td>...</td>\n",
       "      <td>...</td>\n",
       "      <td>...</td>\n",
       "      <td>...</td>\n",
       "      <td>...</td>\n",
       "      <td>...</td>\n",
       "    </tr>\n",
       "    <tr>\n",
       "      <th>18244</th>\n",
       "      <td>1.63</td>\n",
       "      <td>17074.83</td>\n",
       "      <td>2046.96</td>\n",
       "      <td>1529.20</td>\n",
       "      <td>0.00</td>\n",
       "      <td>13498.67</td>\n",
       "      <td>13066.82</td>\n",
       "      <td>431.85</td>\n",
       "      <td>0.0</td>\n",
       "      <td>1</td>\n",
       "      <td>53.0</td>\n",
       "    </tr>\n",
       "    <tr>\n",
       "      <th>18245</th>\n",
       "      <td>1.71</td>\n",
       "      <td>13888.04</td>\n",
       "      <td>1191.70</td>\n",
       "      <td>3431.50</td>\n",
       "      <td>0.00</td>\n",
       "      <td>9264.84</td>\n",
       "      <td>8940.04</td>\n",
       "      <td>324.80</td>\n",
       "      <td>0.0</td>\n",
       "      <td>1</td>\n",
       "      <td>53.0</td>\n",
       "    </tr>\n",
       "    <tr>\n",
       "      <th>18246</th>\n",
       "      <td>1.87</td>\n",
       "      <td>13766.76</td>\n",
       "      <td>1191.92</td>\n",
       "      <td>2452.79</td>\n",
       "      <td>727.94</td>\n",
       "      <td>9394.11</td>\n",
       "      <td>9351.80</td>\n",
       "      <td>42.31</td>\n",
       "      <td>0.0</td>\n",
       "      <td>1</td>\n",
       "      <td>53.0</td>\n",
       "    </tr>\n",
       "    <tr>\n",
       "      <th>18247</th>\n",
       "      <td>1.93</td>\n",
       "      <td>16205.22</td>\n",
       "      <td>1527.63</td>\n",
       "      <td>2981.04</td>\n",
       "      <td>727.01</td>\n",
       "      <td>10969.54</td>\n",
       "      <td>10919.54</td>\n",
       "      <td>50.00</td>\n",
       "      <td>0.0</td>\n",
       "      <td>1</td>\n",
       "      <td>53.0</td>\n",
       "    </tr>\n",
       "    <tr>\n",
       "      <th>18248</th>\n",
       "      <td>1.62</td>\n",
       "      <td>17489.58</td>\n",
       "      <td>2894.77</td>\n",
       "      <td>2356.13</td>\n",
       "      <td>224.53</td>\n",
       "      <td>12014.15</td>\n",
       "      <td>11988.14</td>\n",
       "      <td>26.01</td>\n",
       "      <td>0.0</td>\n",
       "      <td>1</td>\n",
       "      <td>53.0</td>\n",
       "    </tr>\n",
       "  </tbody>\n",
       "</table>\n",
       "<p>18249 rows × 11 columns</p>\n",
       "</div>"
      ],
      "text/plain": [
       "       AveragePrice  Total Volume     4046       4225    4770  Total Bags  \\\n",
       "0              1.33      64236.62  1036.74   54454.85   48.16     8696.87   \n",
       "1              1.35      54876.98   674.28   44638.81   58.33     9505.56   \n",
       "2              0.93     118220.22   794.70  109149.67  130.50     8145.35   \n",
       "3              1.08      78992.15  1132.00   71976.41   72.58     5811.16   \n",
       "4              1.28      51039.60   941.48   43838.39   75.78     6183.95   \n",
       "...             ...           ...      ...        ...     ...         ...   \n",
       "18244          1.63      17074.83  2046.96    1529.20    0.00    13498.67   \n",
       "18245          1.71      13888.04  1191.70    3431.50    0.00     9264.84   \n",
       "18246          1.87      13766.76  1191.92    2452.79  727.94     9394.11   \n",
       "18247          1.93      16205.22  1527.63    2981.04  727.01    10969.54   \n",
       "18248          1.62      17489.58  2894.77    2356.13  224.53    12014.15   \n",
       "\n",
       "       Small Bags  Large Bags  XLarge Bags  type  region  \n",
       "0         8603.62       93.25          0.0     0     0.0  \n",
       "1         9408.07       97.49          0.0     0     0.0  \n",
       "2         8042.21      103.14          0.0     0     0.0  \n",
       "3         5677.40      133.76          0.0     0     0.0  \n",
       "4         5986.26      197.69          0.0     0     0.0  \n",
       "...           ...         ...          ...   ...     ...  \n",
       "18244    13066.82      431.85          0.0     1    53.0  \n",
       "18245     8940.04      324.80          0.0     1    53.0  \n",
       "18246     9351.80       42.31          0.0     1    53.0  \n",
       "18247    10919.54       50.00          0.0     1    53.0  \n",
       "18248    11988.14       26.01          0.0     1    53.0  \n",
       "\n",
       "[18249 rows x 11 columns]"
      ]
     },
     "execution_count": 21,
     "metadata": {},
     "output_type": "execute_result"
    }
   ],
   "source": [
    "Data"
   ]
  },
  {
   "cell_type": "code",
   "execution_count": 22,
   "id": "18c8ec70",
   "metadata": {},
   "outputs": [
    {
     "data": {
      "text/html": [
       "<div>\n",
       "<style scoped>\n",
       "    .dataframe tbody tr th:only-of-type {\n",
       "        vertical-align: middle;\n",
       "    }\n",
       "\n",
       "    .dataframe tbody tr th {\n",
       "        vertical-align: top;\n",
       "    }\n",
       "\n",
       "    .dataframe thead th {\n",
       "        text-align: right;\n",
       "    }\n",
       "</style>\n",
       "<table border=\"1\" class=\"dataframe\">\n",
       "  <thead>\n",
       "    <tr style=\"text-align: right;\">\n",
       "      <th></th>\n",
       "      <th>AveragePrice</th>\n",
       "      <th>Total Volume</th>\n",
       "      <th>4046</th>\n",
       "      <th>4225</th>\n",
       "      <th>4770</th>\n",
       "      <th>Total Bags</th>\n",
       "      <th>Small Bags</th>\n",
       "      <th>Large Bags</th>\n",
       "      <th>XLarge Bags</th>\n",
       "      <th>type</th>\n",
       "      <th>region</th>\n",
       "    </tr>\n",
       "  </thead>\n",
       "  <tbody>\n",
       "    <tr>\n",
       "      <th>count</th>\n",
       "      <td>18249.000000</td>\n",
       "      <td>1.824900e+04</td>\n",
       "      <td>1.824900e+04</td>\n",
       "      <td>1.824900e+04</td>\n",
       "      <td>1.824900e+04</td>\n",
       "      <td>1.824900e+04</td>\n",
       "      <td>1.824900e+04</td>\n",
       "      <td>1.824900e+04</td>\n",
       "      <td>18249.000000</td>\n",
       "      <td>18249.000000</td>\n",
       "      <td>18249.000000</td>\n",
       "    </tr>\n",
       "    <tr>\n",
       "      <th>mean</th>\n",
       "      <td>1.405978</td>\n",
       "      <td>8.506440e+05</td>\n",
       "      <td>2.930084e+05</td>\n",
       "      <td>2.951546e+05</td>\n",
       "      <td>2.283974e+04</td>\n",
       "      <td>2.396392e+05</td>\n",
       "      <td>1.821947e+05</td>\n",
       "      <td>5.433809e+04</td>\n",
       "      <td>3106.426507</td>\n",
       "      <td>0.499918</td>\n",
       "      <td>26.495644</td>\n",
       "    </tr>\n",
       "    <tr>\n",
       "      <th>std</th>\n",
       "      <td>0.402677</td>\n",
       "      <td>3.453545e+06</td>\n",
       "      <td>1.264989e+06</td>\n",
       "      <td>1.204120e+06</td>\n",
       "      <td>1.074641e+05</td>\n",
       "      <td>9.862424e+05</td>\n",
       "      <td>7.461785e+05</td>\n",
       "      <td>2.439660e+05</td>\n",
       "      <td>17692.894652</td>\n",
       "      <td>0.500014</td>\n",
       "      <td>15.583788</td>\n",
       "    </tr>\n",
       "    <tr>\n",
       "      <th>min</th>\n",
       "      <td>0.440000</td>\n",
       "      <td>8.456000e+01</td>\n",
       "      <td>0.000000e+00</td>\n",
       "      <td>0.000000e+00</td>\n",
       "      <td>0.000000e+00</td>\n",
       "      <td>0.000000e+00</td>\n",
       "      <td>0.000000e+00</td>\n",
       "      <td>0.000000e+00</td>\n",
       "      <td>0.000000</td>\n",
       "      <td>0.000000</td>\n",
       "      <td>0.000000</td>\n",
       "    </tr>\n",
       "    <tr>\n",
       "      <th>25%</th>\n",
       "      <td>1.100000</td>\n",
       "      <td>1.083858e+04</td>\n",
       "      <td>8.540700e+02</td>\n",
       "      <td>3.008780e+03</td>\n",
       "      <td>0.000000e+00</td>\n",
       "      <td>5.088640e+03</td>\n",
       "      <td>2.849420e+03</td>\n",
       "      <td>1.274700e+02</td>\n",
       "      <td>0.000000</td>\n",
       "      <td>0.000000</td>\n",
       "      <td>13.000000</td>\n",
       "    </tr>\n",
       "    <tr>\n",
       "      <th>50%</th>\n",
       "      <td>1.370000</td>\n",
       "      <td>1.073768e+05</td>\n",
       "      <td>8.645300e+03</td>\n",
       "      <td>2.906102e+04</td>\n",
       "      <td>1.849900e+02</td>\n",
       "      <td>3.974383e+04</td>\n",
       "      <td>2.636282e+04</td>\n",
       "      <td>2.647710e+03</td>\n",
       "      <td>0.000000</td>\n",
       "      <td>0.000000</td>\n",
       "      <td>26.000000</td>\n",
       "    </tr>\n",
       "    <tr>\n",
       "      <th>75%</th>\n",
       "      <td>1.660000</td>\n",
       "      <td>4.329623e+05</td>\n",
       "      <td>1.110202e+05</td>\n",
       "      <td>1.502069e+05</td>\n",
       "      <td>6.243420e+03</td>\n",
       "      <td>1.107834e+05</td>\n",
       "      <td>8.333767e+04</td>\n",
       "      <td>2.202925e+04</td>\n",
       "      <td>132.500000</td>\n",
       "      <td>1.000000</td>\n",
       "      <td>40.000000</td>\n",
       "    </tr>\n",
       "    <tr>\n",
       "      <th>max</th>\n",
       "      <td>3.250000</td>\n",
       "      <td>6.250565e+07</td>\n",
       "      <td>2.274362e+07</td>\n",
       "      <td>2.047057e+07</td>\n",
       "      <td>2.546439e+06</td>\n",
       "      <td>1.937313e+07</td>\n",
       "      <td>1.338459e+07</td>\n",
       "      <td>5.719097e+06</td>\n",
       "      <td>551693.650000</td>\n",
       "      <td>1.000000</td>\n",
       "      <td>53.000000</td>\n",
       "    </tr>\n",
       "  </tbody>\n",
       "</table>\n",
       "</div>"
      ],
      "text/plain": [
       "       AveragePrice  Total Volume          4046          4225          4770  \\\n",
       "count  18249.000000  1.824900e+04  1.824900e+04  1.824900e+04  1.824900e+04   \n",
       "mean       1.405978  8.506440e+05  2.930084e+05  2.951546e+05  2.283974e+04   \n",
       "std        0.402677  3.453545e+06  1.264989e+06  1.204120e+06  1.074641e+05   \n",
       "min        0.440000  8.456000e+01  0.000000e+00  0.000000e+00  0.000000e+00   \n",
       "25%        1.100000  1.083858e+04  8.540700e+02  3.008780e+03  0.000000e+00   \n",
       "50%        1.370000  1.073768e+05  8.645300e+03  2.906102e+04  1.849900e+02   \n",
       "75%        1.660000  4.329623e+05  1.110202e+05  1.502069e+05  6.243420e+03   \n",
       "max        3.250000  6.250565e+07  2.274362e+07  2.047057e+07  2.546439e+06   \n",
       "\n",
       "         Total Bags    Small Bags    Large Bags    XLarge Bags          type  \\\n",
       "count  1.824900e+04  1.824900e+04  1.824900e+04   18249.000000  18249.000000   \n",
       "mean   2.396392e+05  1.821947e+05  5.433809e+04    3106.426507      0.499918   \n",
       "std    9.862424e+05  7.461785e+05  2.439660e+05   17692.894652      0.500014   \n",
       "min    0.000000e+00  0.000000e+00  0.000000e+00       0.000000      0.000000   \n",
       "25%    5.088640e+03  2.849420e+03  1.274700e+02       0.000000      0.000000   \n",
       "50%    3.974383e+04  2.636282e+04  2.647710e+03       0.000000      0.000000   \n",
       "75%    1.107834e+05  8.333767e+04  2.202925e+04     132.500000      1.000000   \n",
       "max    1.937313e+07  1.338459e+07  5.719097e+06  551693.650000      1.000000   \n",
       "\n",
       "             region  \n",
       "count  18249.000000  \n",
       "mean      26.495644  \n",
       "std       15.583788  \n",
       "min        0.000000  \n",
       "25%       13.000000  \n",
       "50%       26.000000  \n",
       "75%       40.000000  \n",
       "max       53.000000  "
      ]
     },
     "execution_count": 22,
     "metadata": {},
     "output_type": "execute_result"
    }
   ],
   "source": [
    "Data.describe()"
   ]
  },
  {
   "cell_type": "code",
   "execution_count": 23,
   "id": "da457afc",
   "metadata": {},
   "outputs": [],
   "source": [
    "#From the above data, following can be concluded:\n",
    "#1. Type and region will not be considered here as they have been transformed from object data type\n",
    "#2. There is a difference in mean and standard deviation for Total Volume, Total bags,Small bags and XLarge bags\n",
    "#3. There is a huge difference between the min and max values for Xlarge Bags"
   ]
  },
  {
   "cell_type": "code",
   "execution_count": 24,
   "id": "e429e94c",
   "metadata": {},
   "outputs": [
    {
     "data": {
      "image/png": "[encoded data removed]",
      "text/plain": [
       "<Figure size 720x576 with 12 Axes>"
      ]
     },
     "metadata": {
      "needs_background": "light"
     },
     "output_type": "display_data"
    }
   ],
   "source": [
    "Data.plot(kind='kde',subplots=True,layout=(2,6),sharex=False,legend=True,fontsize=3,figsize=(10,8))\n",
    "plt.show()"
   ]
  },
  {
   "cell_type": "code",
   "execution_count": 25,
   "id": "1152bb99",
   "metadata": {},
   "outputs": [],
   "source": [
    "# Data is extremely skewed from total volume to XLarge Bags"
   ]
  },
  {
   "cell_type": "code",
   "execution_count": 26,
   "id": "b4a6acd7",
   "metadata": {},
   "outputs": [
    {
     "data": {
      "image/png": "[encoded data removed]",
      "text/plain": [
       "<Figure size 720x864 with 2 Axes>"
      ]
     },
     "metadata": {
      "needs_background": "light"
     },
     "output_type": "display_data"
    }
   ],
   "source": [
    "corr_mat=Data.corr()  #Checking correlation\n",
    "plt.figure(figsize=[10,12])\n",
    "sns.heatmap(corr_mat,annot=True)\n",
    "plt.title(\"Correlation Matrix\")\n",
    "plt.show() #Checking correlation"
   ]
  },
  {
   "cell_type": "code",
   "execution_count": 27,
   "id": "525d9517",
   "metadata": {},
   "outputs": [],
   "source": [
    "# There is a huge multicolinearity present in the data.\n",
    "#From the heat map- Total bags have a huge multicollinearity with all features"
   ]
  },
  {
   "cell_type": "code",
   "execution_count": 28,
   "id": "e2769d2c",
   "metadata": {},
   "outputs": [
    {
     "data": {
      "text/html": [
       "<div>\n",
       "<style scoped>\n",
       "    .dataframe tbody tr th:only-of-type {\n",
       "        vertical-align: middle;\n",
       "    }\n",
       "\n",
       "    .dataframe tbody tr th {\n",
       "        vertical-align: top;\n",
       "    }\n",
       "\n",
       "    .dataframe thead th {\n",
       "        text-align: right;\n",
       "    }\n",
       "</style>\n",
       "<table border=\"1\" class=\"dataframe\">\n",
       "  <thead>\n",
       "    <tr style=\"text-align: right;\">\n",
       "      <th></th>\n",
       "      <th>feature</th>\n",
       "      <th>VIF</th>\n",
       "    </tr>\n",
       "  </thead>\n",
       "  <tbody>\n",
       "    <tr>\n",
       "      <th>0</th>\n",
       "      <td>AveragePrice</td>\n",
       "      <td>5.896036e+00</td>\n",
       "    </tr>\n",
       "    <tr>\n",
       "      <th>1</th>\n",
       "      <td>Total Volume</td>\n",
       "      <td>5.212418e+09</td>\n",
       "    </tr>\n",
       "    <tr>\n",
       "      <th>2</th>\n",
       "      <td>4046</td>\n",
       "      <td>6.946977e+08</td>\n",
       "    </tr>\n",
       "    <tr>\n",
       "      <th>3</th>\n",
       "      <td>4225</td>\n",
       "      <td>6.332964e+08</td>\n",
       "    </tr>\n",
       "    <tr>\n",
       "      <th>4</th>\n",
       "      <td>4770</td>\n",
       "      <td>4.973362e+06</td>\n",
       "    </tr>\n",
       "    <tr>\n",
       "      <th>5</th>\n",
       "      <td>Total Bags</td>\n",
       "      <td>2.502000e+14</td>\n",
       "    </tr>\n",
       "    <tr>\n",
       "      <th>6</th>\n",
       "      <td>Small Bags</td>\n",
       "      <td>1.429714e+14</td>\n",
       "    </tr>\n",
       "    <tr>\n",
       "      <th>7</th>\n",
       "      <td>Large Bags</td>\n",
       "      <td>1.521486e+13</td>\n",
       "    </tr>\n",
       "    <tr>\n",
       "      <th>8</th>\n",
       "      <td>XLarge Bags</td>\n",
       "      <td>7.855572e+10</td>\n",
       "    </tr>\n",
       "    <tr>\n",
       "      <th>9</th>\n",
       "      <td>type</td>\n",
       "      <td>2.981761e+00</td>\n",
       "    </tr>\n",
       "    <tr>\n",
       "      <th>10</th>\n",
       "      <td>region</td>\n",
       "      <td>3.582680e+00</td>\n",
       "    </tr>\n",
       "  </tbody>\n",
       "</table>\n",
       "</div>"
      ],
      "text/plain": [
       "         feature           VIF\n",
       "0   AveragePrice  5.896036e+00\n",
       "1   Total Volume  5.212418e+09\n",
       "2           4046  6.946977e+08\n",
       "3           4225  6.332964e+08\n",
       "4           4770  4.973362e+06\n",
       "5     Total Bags  2.502000e+14\n",
       "6     Small Bags  1.429714e+14\n",
       "7     Large Bags  1.521486e+13\n",
       "8    XLarge Bags  7.855572e+10\n",
       "9           type  2.981761e+00\n",
       "10        region  3.582680e+00"
      ]
     },
     "execution_count": 28,
     "metadata": {},
     "output_type": "execute_result"
    }
   ],
   "source": [
    "vif_data = pd.DataFrame()\n",
    "vif_data[\"feature\"] = Data.columns\n",
    "vif_data[\"VIF\"] = [variance_inflation_factor(Data.values, i)\n",
    "                          for i in range(len(Data.columns))]\n",
    "\n",
    "vif_data"
   ]
  },
  {
   "cell_type": "code",
   "execution_count": 29,
   "id": "9683cb36",
   "metadata": {},
   "outputs": [],
   "source": [
    "# In VIF, XLarge bags has the multicollinearity.\n",
    "# Total bags will be a sumation of Small, Large and X Large bags.\n",
    "# Therefore there will be changes in data by dropping it"
   ]
  },
  {
   "cell_type": "code",
   "execution_count": 30,
   "id": "1f48fed7",
   "metadata": {},
   "outputs": [],
   "source": [
    "Data.drop('Total Bags',axis=1,inplace=True)"
   ]
  },
  {
   "cell_type": "code",
   "execution_count": 31,
   "id": "3c68a459",
   "metadata": {},
   "outputs": [
    {
     "data": {
      "text/html": [
       "<div>\n",
       "<style scoped>\n",
       "    .dataframe tbody tr th:only-of-type {\n",
       "        vertical-align: middle;\n",
       "    }\n",
       "\n",
       "    .dataframe tbody tr th {\n",
       "        vertical-align: top;\n",
       "    }\n",
       "\n",
       "    .dataframe thead th {\n",
       "        text-align: right;\n",
       "    }\n",
       "</style>\n",
       "<table border=\"1\" class=\"dataframe\">\n",
       "  <thead>\n",
       "    <tr style=\"text-align: right;\">\n",
       "      <th></th>\n",
       "      <th>feature</th>\n",
       "      <th>VIF</th>\n",
       "    </tr>\n",
       "  </thead>\n",
       "  <tbody>\n",
       "    <tr>\n",
       "      <th>0</th>\n",
       "      <td>AveragePrice</td>\n",
       "      <td>5.895874e+00</td>\n",
       "    </tr>\n",
       "    <tr>\n",
       "      <th>1</th>\n",
       "      <td>Total Volume</td>\n",
       "      <td>5.212406e+09</td>\n",
       "    </tr>\n",
       "    <tr>\n",
       "      <th>2</th>\n",
       "      <td>4046</td>\n",
       "      <td>6.946963e+08</td>\n",
       "    </tr>\n",
       "    <tr>\n",
       "      <th>3</th>\n",
       "      <td>4225</td>\n",
       "      <td>6.332951e+08</td>\n",
       "    </tr>\n",
       "    <tr>\n",
       "      <th>4</th>\n",
       "      <td>4770</td>\n",
       "      <td>4.973352e+06</td>\n",
       "    </tr>\n",
       "    <tr>\n",
       "      <th>5</th>\n",
       "      <td>Small Bags</td>\n",
       "      <td>2.430958e+08</td>\n",
       "    </tr>\n",
       "    <tr>\n",
       "      <th>6</th>\n",
       "      <td>Large Bags</td>\n",
       "      <td>2.573994e+07</td>\n",
       "    </tr>\n",
       "    <tr>\n",
       "      <th>7</th>\n",
       "      <td>XLarge Bags</td>\n",
       "      <td>1.329108e+05</td>\n",
       "    </tr>\n",
       "    <tr>\n",
       "      <th>8</th>\n",
       "      <td>type</td>\n",
       "      <td>2.981597e+00</td>\n",
       "    </tr>\n",
       "    <tr>\n",
       "      <th>9</th>\n",
       "      <td>region</td>\n",
       "      <td>3.582558e+00</td>\n",
       "    </tr>\n",
       "  </tbody>\n",
       "</table>\n",
       "</div>"
      ],
      "text/plain": [
       "        feature           VIF\n",
       "0  AveragePrice  5.895874e+00\n",
       "1  Total Volume  5.212406e+09\n",
       "2          4046  6.946963e+08\n",
       "3          4225  6.332951e+08\n",
       "4          4770  4.973352e+06\n",
       "5    Small Bags  2.430958e+08\n",
       "6    Large Bags  2.573994e+07\n",
       "7   XLarge Bags  1.329108e+05\n",
       "8          type  2.981597e+00\n",
       "9        region  3.582558e+00"
      ]
     },
     "execution_count": 31,
     "metadata": {},
     "output_type": "execute_result"
    }
   ],
   "source": [
    "vif_data = pd.DataFrame()\n",
    "vif_data[\"feature\"] = Data.columns\n",
    "vif_data[\"VIF\"] = [variance_inflation_factor(Data.values, i)\n",
    "                          for i in range(len(Data.columns))]\n",
    "\n",
    "vif_data"
   ]
  },
  {
   "cell_type": "code",
   "execution_count": 50,
   "id": "5d2fcd99",
   "metadata": {},
   "outputs": [],
   "source": [
    "X=Data.drop('AveragePrice',axis=1)\n",
    "Y=Data['AveragePrice'] #Differentiating the target and feature variable"
   ]
  },
  {
   "cell_type": "code",
   "execution_count": 51,
   "id": "48550b6c",
   "metadata": {},
   "outputs": [
    {
     "data": {
      "text/plain": [
       "XLarge Bags     13.139751\n",
       "4770            10.159396\n",
       "Large Bags       9.796455\n",
       "Small Bags       9.540660\n",
       "Total Volume     9.007687\n",
       "4225             8.942466\n",
       "4046             8.648220\n",
       "type             0.000329\n",
       "region           0.000030\n",
       "dtype: float64"
      ]
     },
     "execution_count": 51,
     "metadata": {},
     "output_type": "execute_result"
    }
   ],
   "source": [
    "X.skew().sort_values(ascending=False)"
   ]
  },
  {
   "cell_type": "code",
   "execution_count": 52,
   "id": "48995619",
   "metadata": {},
   "outputs": [],
   "source": [
    "from sklearn.preprocessing import power_transform"
   ]
  },
  {
   "cell_type": "code",
   "execution_count": 53,
   "id": "9bc0dad6",
   "metadata": {},
   "outputs": [],
   "source": [
    "X_New=power_transform(X) # Transforming the values to reduce skewness"
   ]
  },
  {
   "cell_type": "code",
   "execution_count": 54,
   "id": "b5f9cf5c",
   "metadata": {},
   "outputs": [
    {
     "data": {
      "text/plain": [
       "XLarge Bags     0.793520\n",
       "4770            0.032184\n",
       "Total Volume    0.011171\n",
       "Small Bags      0.007058\n",
       "type            0.000329\n",
       "4225           -0.017740\n",
       "4046           -0.022679\n",
       "Large Bags     -0.073809\n",
       "region         -0.261443\n",
       "dtype: float64"
      ]
     },
     "execution_count": 54,
     "metadata": {},
     "output_type": "execute_result"
    }
   ],
   "source": [
    "pd.DataFrame(X_New,columns=X.columns).skew().sort_values(ascending=False)"
   ]
  },
  {
   "cell_type": "code",
   "execution_count": 55,
   "id": "51a17e1b",
   "metadata": {},
   "outputs": [],
   "source": [
    "X=pd.DataFrame(X_New,columns=X.columns) #assigning the old values"
   ]
  },
  {
   "cell_type": "code",
   "execution_count": 56,
   "id": "b0fe56ce",
   "metadata": {},
   "outputs": [
    {
     "data": {
      "image/png": "[encoded data removed]",
      "text/plain": [
       "<Figure size 720x576 with 10 Axes>"
      ]
     },
     "metadata": {
      "needs_background": "light"
     },
     "output_type": "display_data"
    }
   ],
   "source": [
    "X.plot(kind='kde',subplots=True,layout=(2,5),sharex=False,legend=True,fontsize=3,figsize=(10,8))\n",
    "plt.show()"
   ]
  },
  {
   "cell_type": "code",
   "execution_count": 57,
   "id": "3c2b5f1c",
   "metadata": {},
   "outputs": [
    {
     "data": {
      "text/plain": [
       "Total Volume    0\n",
       "4046            0\n",
       "4225            0\n",
       "4770            0\n",
       "Small Bags      0\n",
       "Large Bags      0\n",
       "XLarge Bags     0\n",
       "type            0\n",
       "region          0\n",
       "dtype: int64"
      ]
     },
     "execution_count": 57,
     "metadata": {},
     "output_type": "execute_result"
    }
   ],
   "source": [
    "X.isnull().sum()"
   ]
  },
  {
   "cell_type": "code",
   "execution_count": 58,
   "id": "597c5b85",
   "metadata": {},
   "outputs": [
    {
     "data": {
      "image/png": "[encoded data removed]",
      "text/plain": [
       "<Figure size 720x576 with 1 Axes>"
      ]
     },
     "metadata": {
      "needs_background": "light"
     },
     "output_type": "display_data"
    }
   ],
   "source": [
    "X.plot(kind='box',figsize=(10,8),layout=(6,6))\n",
    "plt.show() #checking for oultiers"
   ]
  },
  {
   "cell_type": "code",
   "execution_count": 59,
   "id": "38c07a6c",
   "metadata": {},
   "outputs": [],
   "source": [
    "# data shows presence of Outliers, however values are less than 3"
   ]
  },
  {
   "cell_type": "code",
   "execution_count": 60,
   "id": "9856fffe",
   "metadata": {},
   "outputs": [],
   "source": [
    "from scipy.stats import zscore"
   ]
  },
  {
   "cell_type": "code",
   "execution_count": 61,
   "id": "52040d2d",
   "metadata": {},
   "outputs": [
    {
     "data": {
      "text/plain": [
       "Total Volume    False\n",
       "4046            False\n",
       "4225            False\n",
       "4770            False\n",
       "Small Bags      False\n",
       "Large Bags      False\n",
       "XLarge Bags     False\n",
       "type            False\n",
       "region          False\n",
       "dtype: bool"
      ]
     },
     "execution_count": 61,
     "metadata": {},
     "output_type": "execute_result"
    }
   ],
   "source": [
    "(np.abs(zscore(X)>3)).all()"
   ]
  },
  {
   "cell_type": "code",
   "execution_count": 62,
   "id": "b1802c37",
   "metadata": {},
   "outputs": [],
   "source": [
    "Scalar=StandardScaler() #scaling the data"
   ]
  },
  {
   "cell_type": "code",
   "execution_count": 63,
   "id": "883d37a3",
   "metadata": {},
   "outputs": [],
   "source": [
    "X_Scaled=Scalar.fit_transform(X)\n",
    "#scaling the features"
   ]
  },
  {
   "cell_type": "code",
   "execution_count": 64,
   "id": "36402ebc",
   "metadata": {},
   "outputs": [
    {
     "data": {
      "text/plain": [
       "Total Volume    0\n",
       "4046            0\n",
       "4225            0\n",
       "4770            0\n",
       "Small Bags      0\n",
       "Large Bags      0\n",
       "XLarge Bags     0\n",
       "type            0\n",
       "region          0\n",
       "dtype: int64"
      ]
     },
     "execution_count": 64,
     "metadata": {},
     "output_type": "execute_result"
    }
   ],
   "source": [
    "X.isnull().sum()"
   ]
  },
  {
   "cell_type": "markdown",
   "id": "90275a9d",
   "metadata": {},
   "source": [
    "# Linear Regression"
   ]
  },
  {
   "cell_type": "code",
   "execution_count": 66,
   "id": "75c6505a",
   "metadata": {},
   "outputs": [],
   "source": [
    "LR=LinearRegression()"
   ]
  },
  {
   "cell_type": "code",
   "execution_count": 67,
   "id": "7a160a1f",
   "metadata": {},
   "outputs": [
    {
     "name": "stdout",
     "output_type": "stream",
     "text": [
      "At random state 0 the testing accurancy is:- 48.169144669156985\n",
      "/n\n",
      "At random state 1 the testing accurancy is:- 49.597588222361466\n",
      "/n\n",
      "At random state 2 the testing accurancy is:- 48.34132879614662\n",
      "/n\n",
      "At random state 3 the testing accurancy is:- 49.093531578677705\n",
      "/n\n",
      "At random state 4 the testing accurancy is:- 47.02025328584263\n",
      "/n\n",
      "At random state 5 the testing accurancy is:- 48.291452955598565\n",
      "/n\n",
      "At random state 6 the testing accurancy is:- 49.70270237770021\n",
      "/n\n",
      "At random state 7 the testing accurancy is:- 48.4335852562373\n",
      "/n\n",
      "At random state 8 the testing accurancy is:- 49.17249545259826\n",
      "/n\n",
      "At random state 9 the testing accurancy is:- 47.73125550808268\n",
      "/n\n",
      "At random state 10 the testing accurancy is:- 49.32499870972381\n",
      "/n\n",
      "At random state 11 the testing accurancy is:- 48.52178140873301\n",
      "/n\n",
      "At random state 12 the testing accurancy is:- 48.76227019223802\n",
      "/n\n",
      "At random state 13 the testing accurancy is:- 48.14731389370495\n",
      "/n\n",
      "At random state 14 the testing accurancy is:- 49.36600640556269\n",
      "/n\n",
      "At random state 15 the testing accurancy is:- 47.76555209825138\n",
      "/n\n",
      "At random state 16 the testing accurancy is:- 48.04022576766964\n",
      "/n\n",
      "At random state 17 the testing accurancy is:- 49.472328006353784\n",
      "/n\n",
      "At random state 18 the testing accurancy is:- 48.416876631391006\n",
      "/n\n",
      "At random state 19 the testing accurancy is:- 46.49202294045455\n",
      "/n\n",
      "At random state 20 the testing accurancy is:- 50.53382570370459\n",
      "/n\n",
      "At random state 21 the testing accurancy is:- 48.19465045548205\n",
      "/n\n",
      "At random state 22 the testing accurancy is:- 48.14961139514582\n",
      "/n\n",
      "At random state 23 the testing accurancy is:- 48.86144832732875\n",
      "/n\n",
      "At random state 24 the testing accurancy is:- 48.27283410336016\n",
      "/n\n",
      "At random state 25 the testing accurancy is:- 48.20853965486738\n",
      "/n\n",
      "At random state 26 the testing accurancy is:- 49.695580115935186\n",
      "/n\n",
      "At random state 27 the testing accurancy is:- 50.8051847121684\n",
      "/n\n",
      "At random state 28 the testing accurancy is:- 49.73038000579157\n",
      "/n\n",
      "At random state 29 the testing accurancy is:- 50.00541757176305\n",
      "/n\n",
      "At random state 30 the testing accurancy is:- 47.95421996565356\n",
      "/n\n",
      "At random state 31 the testing accurancy is:- 48.764650574475986\n",
      "/n\n",
      "At random state 32 the testing accurancy is:- 46.13937836825496\n",
      "/n\n",
      "At random state 33 the testing accurancy is:- 49.09265920462775\n",
      "/n\n",
      "At random state 34 the testing accurancy is:- 48.513329505177495\n",
      "/n\n",
      "At random state 35 the testing accurancy is:- 47.871244556924076\n",
      "/n\n",
      "At random state 36 the testing accurancy is:- 48.654474229252955\n",
      "/n\n",
      "At random state 37 the testing accurancy is:- 48.963984271353326\n",
      "/n\n",
      "At random state 38 the testing accurancy is:- 49.3947932477362\n",
      "/n\n",
      "At random state 39 the testing accurancy is:- 48.41311063611566\n",
      "/n\n",
      "At random state 40 the testing accurancy is:- 47.12015940306359\n",
      "/n\n",
      "At random state 41 the testing accurancy is:- 50.123913512652166\n",
      "/n\n",
      "At random state 42 the testing accurancy is:- 46.80138050718522\n",
      "/n\n",
      "At random state 43 the testing accurancy is:- 49.18616741329096\n",
      "/n\n",
      "At random state 44 the testing accurancy is:- 47.090056236293584\n",
      "/n\n",
      "At random state 45 the testing accurancy is:- 47.685058545242\n",
      "/n\n",
      "At random state 46 the testing accurancy is:- 47.152871564433305\n",
      "/n\n",
      "At random state 47 the testing accurancy is:- 48.397743289783335\n",
      "/n\n",
      "At random state 48 the testing accurancy is:- 50.24040266087617\n",
      "/n\n",
      "At random state 49 the testing accurancy is:- 49.54617461200967\n",
      "/n\n",
      "At random state 50 the testing accurancy is:- 50.79800822975987\n",
      "/n\n",
      "At random state 51 the testing accurancy is:- 49.393708306030234\n",
      "/n\n",
      "At random state 52 the testing accurancy is:- 49.38837289173631\n",
      "/n\n",
      "At random state 53 the testing accurancy is:- 48.81506921690022\n",
      "/n\n",
      "At random state 54 the testing accurancy is:- 48.12650055910004\n",
      "/n\n",
      "At random state 55 the testing accurancy is:- 48.34710523254029\n",
      "/n\n",
      "At random state 56 the testing accurancy is:- 50.041077294329085\n",
      "/n\n",
      "At random state 57 the testing accurancy is:- 48.27007856310046\n",
      "/n\n",
      "At random state 58 the testing accurancy is:- 48.671896672615\n",
      "/n\n",
      "At random state 59 the testing accurancy is:- 47.548936534522966\n",
      "/n\n",
      "At random state 60 the testing accurancy is:- 47.898325737057434\n",
      "/n\n",
      "At random state 61 the testing accurancy is:- 47.97763472835794\n",
      "/n\n",
      "At random state 62 the testing accurancy is:- 49.80986077258757\n",
      "/n\n",
      "At random state 63 the testing accurancy is:- 48.53809184133237\n",
      "/n\n",
      "At random state 64 the testing accurancy is:- 48.508220065055184\n",
      "/n\n",
      "At random state 65 the testing accurancy is:- 47.60392316303913\n",
      "/n\n",
      "At random state 66 the testing accurancy is:- 48.74005024681966\n",
      "/n\n",
      "At random state 67 the testing accurancy is:- 48.960619205849596\n",
      "/n\n",
      "At random state 68 the testing accurancy is:- 49.2496600134131\n",
      "/n\n",
      "At random state 69 the testing accurancy is:- 48.197225177191086\n",
      "/n\n",
      "At random state 70 the testing accurancy is:- 49.4582149508079\n",
      "/n\n",
      "At random state 71 the testing accurancy is:- 49.1538493152766\n",
      "/n\n",
      "At random state 72 the testing accurancy is:- 47.509998146282996\n",
      "/n\n",
      "At random state 73 the testing accurancy is:- 48.21893359653813\n",
      "/n\n",
      "At random state 74 the testing accurancy is:- 47.93456053339913\n",
      "/n\n",
      "At random state 75 the testing accurancy is:- 47.61154255686281\n",
      "/n\n",
      "At random state 76 the testing accurancy is:- 49.3274838291015\n",
      "/n\n",
      "At random state 77 the testing accurancy is:- 50.12994174947893\n",
      "/n\n",
      "At random state 78 the testing accurancy is:- 49.85265931920756\n",
      "/n\n",
      "At random state 79 the testing accurancy is:- 48.88093525952172\n",
      "/n\n",
      "At random state 80 the testing accurancy is:- 47.81753504255229\n",
      "/n\n",
      "At random state 81 the testing accurancy is:- 47.85308339744474\n",
      "/n\n",
      "At random state 82 the testing accurancy is:- 48.35051407671853\n",
      "/n\n",
      "At random state 83 the testing accurancy is:- 47.77883022610294\n",
      "/n\n",
      "At random state 84 the testing accurancy is:- 48.56550445222012\n",
      "/n\n",
      "At random state 85 the testing accurancy is:- 48.99694454720919\n",
      "/n\n",
      "At random state 86 the testing accurancy is:- 48.574130528310064\n",
      "/n\n",
      "At random state 87 the testing accurancy is:- 49.568818037478714\n",
      "/n\n",
      "At random state 88 the testing accurancy is:- 49.01526650698239\n",
      "/n\n",
      "At random state 89 the testing accurancy is:- 47.93113891129297\n",
      "/n\n",
      "At random state 90 the testing accurancy is:- 45.77967691570127\n",
      "/n\n",
      "At random state 91 the testing accurancy is:- 48.224176124268794\n",
      "/n\n",
      "At random state 92 the testing accurancy is:- 49.22878106755266\n",
      "/n\n",
      "At random state 93 the testing accurancy is:- 48.42144974715139\n",
      "/n\n",
      "At random state 94 the testing accurancy is:- 50.18466376020729\n",
      "/n\n",
      "At random state 95 the testing accurancy is:- 48.34939723074094\n",
      "/n\n",
      "At random state 96 the testing accurancy is:- 50.709532235293565\n",
      "/n\n",
      "At random state 97 the testing accurancy is:- 46.64059666793575\n",
      "/n\n",
      "At random state 98 the testing accurancy is:- 47.79765485837603\n",
      "/n\n",
      "At random state 99 the testing accurancy is:- 48.16313358524018\n",
      "/n\n"
     ]
    }
   ],
   "source": [
    "for i in range (0,100):\n",
    "    X_train,X_test,y_train,y_test=train_test_split(X_Scaled,Y,test_size=0.20,random_state=i)\n",
    "    LR.fit(X_train,y_train)\n",
    "    pred_test=LR.predict(X_test)\n",
    "    print('At random state',i,'the testing accurancy is:-',r2_score(y_test,pred_test)*100)\n",
    "    print(\"/n\")"
   ]
  },
  {
   "cell_type": "code",
   "execution_count": 68,
   "id": "c09b9a7e",
   "metadata": {},
   "outputs": [],
   "source": [
    "X_train,X_test,y_train,y_test=train_test_split(X_Scaled,Y,test_size=0.20,random_state=77)\n",
    "LR.fit(X_train,y_train)\n",
    "pred_test=LR.predict(X_test)"
   ]
  },
  {
   "cell_type": "code",
   "execution_count": 69,
   "id": "db52381e",
   "metadata": {},
   "outputs": [
    {
     "data": {
      "text/plain": [
       "50.12994174947893"
      ]
     },
     "execution_count": 69,
     "metadata": {},
     "output_type": "execute_result"
    }
   ],
   "source": [
    "LR_Score= r2_score(y_test,pred_test)*100\n",
    "LR_Score"
   ]
  },
  {
   "cell_type": "markdown",
   "id": "cc63476f",
   "metadata": {},
   "source": [
    "# Random Forest Regressor"
   ]
  },
  {
   "cell_type": "code",
   "execution_count": 70,
   "id": "14b86cfd",
   "metadata": {},
   "outputs": [],
   "source": [
    "RF=RandomForestRegressor()"
   ]
  },
  {
   "cell_type": "code",
   "execution_count": 72,
   "id": "372fa5e5",
   "metadata": {},
   "outputs": [
    {
     "name": "stdout",
     "output_type": "stream",
     "text": [
      "At random state 0 the testing accurancy is:- 81.80536427471675\n",
      "/n\n",
      "At random state 1 the testing accurancy is:- 82.63024469377969\n",
      "/n\n",
      "At random state 2 the testing accurancy is:- 82.20932204475689\n",
      "/n\n",
      "At random state 3 the testing accurancy is:- 82.2138678192398\n",
      "/n\n",
      "At random state 4 the testing accurancy is:- 81.32188807080816\n",
      "/n\n",
      "At random state 5 the testing accurancy is:- 80.99649372296062\n",
      "/n\n",
      "At random state 6 the testing accurancy is:- 83.15895475652025\n",
      "/n\n",
      "At random state 7 the testing accurancy is:- 81.85710306351338\n",
      "/n\n",
      "At random state 8 the testing accurancy is:- 83.41283069749957\n",
      "/n\n",
      "At random state 9 the testing accurancy is:- 81.63116220651375\n",
      "/n\n"
     ]
    }
   ],
   "source": [
    "for i in range (0,10):\n",
    "    X_train,X_test,y_train,y_test=train_test_split(X_Scaled,Y,test_size=0.20,random_state=i)\n",
    "    RF.fit(X_train,y_train)\n",
    "    pred_test=RF.predict(X_test)\n",
    "    print('At random state',i,'the testing accurancy is:-',r2_score(y_test,pred_test)*100)\n",
    "    print(\"/n\")"
   ]
  },
  {
   "cell_type": "code",
   "execution_count": 73,
   "id": "49ba6926",
   "metadata": {},
   "outputs": [],
   "source": [
    "X_train,X_test,y_train,y_test=train_test_split(X_Scaled,Y,test_size=0.20,random_state=8)\n",
    "RF.fit(X_train,y_train)\n",
    "pred_test=RF.predict(X_test)"
   ]
  },
  {
   "cell_type": "code",
   "execution_count": 74,
   "id": "1997e4be",
   "metadata": {},
   "outputs": [
    {
     "data": {
      "text/plain": [
       "83.39318547643121"
      ]
     },
     "execution_count": 74,
     "metadata": {},
     "output_type": "execute_result"
    }
   ],
   "source": [
    "RF_Score= r2_score(y_test,pred_test)*100\n",
    "RF_Score"
   ]
  },
  {
   "cell_type": "markdown",
   "id": "d969a989",
   "metadata": {},
   "source": [
    "# Gradient Boosting"
   ]
  },
  {
   "cell_type": "code",
   "execution_count": 75,
   "id": "8050334b",
   "metadata": {},
   "outputs": [],
   "source": [
    "GB=GradientBoostingRegressor()"
   ]
  },
  {
   "cell_type": "code",
   "execution_count": 76,
   "id": "ed9d61b4",
   "metadata": {},
   "outputs": [
    {
     "name": "stdout",
     "output_type": "stream",
     "text": [
      "At random state 0 the testing accurancy is:- 63.364854364167876\n",
      "/n\n",
      "At random state 1 the testing accurancy is:- 64.573261882559\n",
      "/n\n",
      "At random state 2 the testing accurancy is:- 64.47620395770906\n",
      "/n\n",
      "At random state 3 the testing accurancy is:- 63.5712006508217\n",
      "/n\n",
      "At random state 4 the testing accurancy is:- 62.62110027121663\n",
      "/n\n",
      "At random state 5 the testing accurancy is:- 63.421583351671394\n",
      "/n\n",
      "At random state 6 the testing accurancy is:- 64.58805644420225\n",
      "/n\n",
      "At random state 7 the testing accurancy is:- 63.63759979273424\n",
      "/n\n",
      "At random state 8 the testing accurancy is:- 64.70321233264555\n",
      "/n\n",
      "At random state 9 the testing accurancy is:- 62.37148308198262\n",
      "/n\n"
     ]
    }
   ],
   "source": [
    "for i in range (0,10):\n",
    "    X_train,X_test,y_train,y_test=train_test_split(X_Scaled,Y,test_size=0.20,random_state=i)\n",
    "    GB.fit(X_train,y_train)\n",
    "    pred_test=GB.predict(X_test)\n",
    "    print('At random state',i,'the testing accurancy is:-',r2_score(y_test,pred_test)*100)\n",
    "    print(\"/n\")"
   ]
  },
  {
   "cell_type": "code",
   "execution_count": 78,
   "id": "51dcc1dd",
   "metadata": {},
   "outputs": [],
   "source": [
    "X_train,X_test,y_train,y_test=train_test_split(X_Scaled,Y,test_size=0.20,random_state=8)\n",
    "GB.fit(X_train,y_train)\n",
    "pred_test=GB.predict(X_test)"
   ]
  },
  {
   "cell_type": "code",
   "execution_count": 79,
   "id": "b54c6aec",
   "metadata": {},
   "outputs": [
    {
     "data": {
      "text/plain": [
       "64.70321233264555"
      ]
     },
     "execution_count": 79,
     "metadata": {},
     "output_type": "execute_result"
    }
   ],
   "source": [
    "GB_Score= r2_score(y_test,pred_test)*100\n",
    "GB_Score"
   ]
  },
  {
   "cell_type": "markdown",
   "id": "bc9de1b2",
   "metadata": {},
   "source": [
    "# Lasso Regression"
   ]
  },
  {
   "cell_type": "code",
   "execution_count": 77,
   "id": "d6ce25ce",
   "metadata": {},
   "outputs": [],
   "source": [
    "from sklearn.linear_model import Lasso,LassoCV"
   ]
  },
  {
   "cell_type": "code",
   "execution_count": 80,
   "id": "a1a957ec",
   "metadata": {},
   "outputs": [
    {
     "data": {
      "text/plain": [
       "LassoCV(max_iter=100, normalize=True)"
      ]
     },
     "execution_count": 80,
     "metadata": {},
     "output_type": "execute_result"
    }
   ],
   "source": [
    "LassCV=LassoCV(alphas=None,max_iter=100,normalize=True)\n",
    "LassCV.fit(X_train,y_train)"
   ]
  },
  {
   "cell_type": "code",
   "execution_count": 81,
   "id": "1966daa7",
   "metadata": {},
   "outputs": [
    {
     "data": {
      "text/plain": [
       "2.061286365677574e-06"
      ]
     },
     "execution_count": 81,
     "metadata": {},
     "output_type": "execute_result"
    }
   ],
   "source": [
    "alpha=LassCV.alpha_\n",
    "alpha #getting the correct alpha value"
   ]
  },
  {
   "cell_type": "code",
   "execution_count": 82,
   "id": "7234514e",
   "metadata": {},
   "outputs": [
    {
     "data": {
      "text/plain": [
       "Lasso(alpha=2.061286365677574e-06)"
      ]
     },
     "execution_count": 82,
     "metadata": {},
     "output_type": "execute_result"
    }
   ],
   "source": [
    "LassReg=Lasso(alpha)\n",
    "LassReg.fit(X_train,y_train) #Training the model with correct alpha value"
   ]
  },
  {
   "cell_type": "code",
   "execution_count": 83,
   "id": "975f25ed",
   "metadata": {},
   "outputs": [],
   "source": [
    "Lass_predict=LassReg.predict(X_test)"
   ]
  },
  {
   "cell_type": "code",
   "execution_count": 84,
   "id": "9e04f14c",
   "metadata": {},
   "outputs": [
    {
     "data": {
      "text/plain": [
       "49.17262914086694"
      ]
     },
     "execution_count": 84,
     "metadata": {},
     "output_type": "execute_result"
    }
   ],
   "source": [
    "LassReg_Score=r2_score(y_test,Lass_predict)*100\n",
    "LassReg_Score"
   ]
  },
  {
   "cell_type": "markdown",
   "id": "c5f6f080",
   "metadata": {},
   "source": [
    "### In comparison to rest of the models random forest classifier gave the best score so far"
   ]
  },
  {
   "cell_type": "markdown",
   "id": "ff328bc0",
   "metadata": {},
   "source": [
    "# Cross Validation for LR"
   ]
  },
  {
   "cell_type": "code",
   "execution_count": 85,
   "id": "5d57e8bd",
   "metadata": {},
   "outputs": [
    {
     "name": "stdout",
     "output_type": "stream",
     "text": [
      "The cross validation score for 2 is -1.1608414014669484\n",
      "The cross validation score for 3 is -0.06106516357145834\n",
      "The cross validation score for 4 is -0.148205115958656\n",
      "The cross validation score for 5 is 0.01558845232788426\n",
      "The cross validation score for 6 is -0.06186227107966449\n",
      "The cross validation score for 7 is -0.004568549782924107\n",
      "The cross validation score for 8 is -0.026301166273667284\n",
      "The cross validation score for 9 is 0.03610856349152942\n"
     ]
    }
   ],
   "source": [
    "for i in range(2,10):\n",
    "    LR_Val=cross_val_score(LR,X,Y,cv=i)\n",
    "    print(\"The cross validation score for\",i,\"is\",LR_Val.mean())"
   ]
  },
  {
   "cell_type": "markdown",
   "id": "a64e986b",
   "metadata": {},
   "source": [
    "# Cross Validation for RF"
   ]
  },
  {
   "cell_type": "code",
   "execution_count": 86,
   "id": "39e56ee8",
   "metadata": {},
   "outputs": [
    {
     "name": "stdout",
     "output_type": "stream",
     "text": [
      "The cross validation score for 2 is -199.20449914795356\n",
      "The cross validation score for 3 is 11.940927289862742\n",
      "The cross validation score for 4 is -9.416468061986766\n",
      "The cross validation score for 5 is 15.930553742657619\n",
      "The cross validation score for 6 is 15.790547300463015\n",
      "The cross validation score for 7 is 29.203895091320476\n",
      "The cross validation score for 8 is 24.386117806120488\n",
      "The cross validation score for 9 is 29.153607925992837\n"
     ]
    }
   ],
   "source": [
    "for i in range(2,10):\n",
    "    RF_Val=cross_val_score(RF,X,Y,cv=i)\n",
    "    print(\"The cross validation score for\",i,\"is\",RF_Val.mean()*100)"
   ]
  },
  {
   "cell_type": "markdown",
   "id": "39c09f97",
   "metadata": {},
   "source": [
    "# Cross Validation for GB"
   ]
  },
  {
   "cell_type": "code",
   "execution_count": 87,
   "id": "10d87595",
   "metadata": {},
   "outputs": [
    {
     "name": "stdout",
     "output_type": "stream",
     "text": [
      "The cross validation score for 2 is -289.3291195318532\n",
      "The cross validation score for 3 is 7.838546589667568\n",
      "The cross validation score for 4 is -5.440688081623427\n",
      "The cross validation score for 5 is 14.961982769761434\n"
     ]
    }
   ],
   "source": [
    "for i in range(2,6):\n",
    "    GB_Val=cross_val_score(GB,X,Y,cv=i)\n",
    "    print(\"The cross validation score for\",i,\"is\",GB_Val.mean()*100)"
   ]
  },
  {
   "cell_type": "markdown",
   "id": "9718d808",
   "metadata": {},
   "source": [
    "# Cross Validation for Lass Reg"
   ]
  },
  {
   "cell_type": "code",
   "execution_count": 88,
   "id": "72c2a894",
   "metadata": {},
   "outputs": [
    {
     "name": "stdout",
     "output_type": "stream",
     "text": [
      "The cross validation score for 2 is -112.15141132616107\n",
      "The cross validation score for 3 is -6.107926100190575\n",
      "The cross validation score for 4 is -14.82007790537208\n",
      "The cross validation score for 5 is 1.5586542135958736\n"
     ]
    }
   ],
   "source": [
    "for i in range(2,6):\n",
    "    LassReg_Val=cross_val_score(LassReg,X,Y,cv=i)\n",
    "    print(\"The cross validation score for\",i,\"is\",LassReg_Val.mean()*100)"
   ]
  },
  {
   "cell_type": "code",
   "execution_count": 89,
   "id": "246ad1ca",
   "metadata": {},
   "outputs": [],
   "source": [
    "### From the above cross validation score, all the models are overfitted"
   ]
  },
  {
   "cell_type": "markdown",
   "id": "ddf45a80",
   "metadata": {},
   "source": [
    "# Hyper parameter Tuning"
   ]
  },
  {
   "cell_type": "code",
   "execution_count": 90,
   "id": "46bae183",
   "metadata": {},
   "outputs": [],
   "source": [
    "#Random Forest is being chosen as it has the highest score"
   ]
  },
  {
   "cell_type": "code",
   "execution_count": 91,
   "id": "b08843e4",
   "metadata": {},
   "outputs": [],
   "source": [
    "RFC=RandomForestRegressor()"
   ]
  },
  {
   "cell_type": "code",
   "execution_count": 93,
   "id": "66eda0b3",
   "metadata": {},
   "outputs": [
    {
     "data": {
      "text/plain": [
       "GridSearchCV(estimator=RandomForestRegressor(),\n",
       "             param_grid={'max_depth': [10], 'min_samples_leaf': [2],\n",
       "                         'min_samples_split': [4]})"
      ]
     },
     "execution_count": 93,
     "metadata": {},
     "output_type": "execute_result"
    }
   ],
   "source": [
    "parameters={'max_depth':(list(range(10,11))),'min_samples_split':(list(range(4,5))),'min_samples_leaf':(list(range(2,3)))}\n",
    "clf=GridSearchCV(RFC,parameters)\n",
    "clf.fit(X_train,y_train)"
   ]
  },
  {
   "cell_type": "code",
   "execution_count": 94,
   "id": "1065e2f6",
   "metadata": {},
   "outputs": [],
   "source": [
    "RFC=RandomForestRegressor(max_depth=10, min_samples_leaf=2, min_samples_split=4)"
   ]
  },
  {
   "cell_type": "code",
   "execution_count": 96,
   "id": "75a3d27a",
   "metadata": {},
   "outputs": [],
   "source": [
    "X_train,X_test,y_train,y_test=train_test_split(X_Scaled,Y,test_size=0.20,random_state=8)\n",
    "RFC.fit(X_train,y_train)\n",
    "pred_test=RFC.predict(X_test)"
   ]
  },
  {
   "cell_type": "code",
   "execution_count": 97,
   "id": "ea752a36",
   "metadata": {},
   "outputs": [
    {
     "data": {
      "text/plain": [
       "0.7693209949829225"
      ]
     },
     "execution_count": 97,
     "metadata": {},
     "output_type": "execute_result"
    }
   ],
   "source": [
    "RFC_Score=r2_score(y_test,pred_test)\n",
    "RFC_Score"
   ]
  },
  {
   "cell_type": "code",
   "execution_count": 98,
   "id": "f0d6125b",
   "metadata": {},
   "outputs": [],
   "source": [
    "#The score for random forest reduced after hypertuning"
   ]
  },
  {
   "cell_type": "code",
   "execution_count": 99,
   "id": "9a25032f",
   "metadata": {},
   "outputs": [],
   "source": [
    "RFC=RandomForestRegressor(max_depth=15, min_samples_leaf=2, min_samples_split=4)"
   ]
  },
  {
   "cell_type": "code",
   "execution_count": 100,
   "id": "545668e5",
   "metadata": {},
   "outputs": [],
   "source": [
    "X_train,X_test,y_train,y_test=train_test_split(X_Scaled,Y,test_size=0.20,random_state=8)\n",
    "RFC.fit(X_train,y_train)\n",
    "pred_test=RFC.predict(X_test)"
   ]
  },
  {
   "cell_type": "code",
   "execution_count": 101,
   "id": "8922a988",
   "metadata": {},
   "outputs": [
    {
     "data": {
      "text/plain": [
       "0.8247598692782302"
      ]
     },
     "execution_count": 101,
     "metadata": {},
     "output_type": "execute_result"
    }
   ],
   "source": [
    "RFC_Score=r2_score(y_test,pred_test)\n",
    "RFC_Score"
   ]
  },
  {
   "cell_type": "code",
   "execution_count": 105,
   "id": "e0835085",
   "metadata": {},
   "outputs": [],
   "source": [
    "RFC=RandomForestRegressor(max_depth=20, min_samples_leaf=3, min_samples_split=4)"
   ]
  },
  {
   "cell_type": "code",
   "execution_count": 106,
   "id": "fb329c1f",
   "metadata": {},
   "outputs": [],
   "source": [
    "X_train,X_test,y_train,y_test=train_test_split(X_Scaled,Y,test_size=0.20,random_state=8)\n",
    "RFC.fit(X_train,y_train)\n",
    "pred_test=RFC.predict(X_test)"
   ]
  },
  {
   "cell_type": "code",
   "execution_count": 107,
   "id": "8222b98e",
   "metadata": {},
   "outputs": [
    {
     "data": {
      "text/plain": [
       "0.8264464652236955"
      ]
     },
     "execution_count": 107,
     "metadata": {},
     "output_type": "execute_result"
    }
   ],
   "source": [
    "RFC_Score=r2_score(y_test,pred_test)\n",
    "RFC_Score"
   ]
  },
  {
   "cell_type": "code",
   "execution_count": 111,
   "id": "dc21c54e",
   "metadata": {},
   "outputs": [],
   "source": [
    "RFC=RandomForestRegressor(max_depth=25, min_samples_leaf=2, min_samples_split=4,max_features='log2')"
   ]
  },
  {
   "cell_type": "code",
   "execution_count": 112,
   "id": "2b5a6628",
   "metadata": {},
   "outputs": [],
   "source": [
    "X_train,X_test,y_train,y_test=train_test_split(X_Scaled,Y,test_size=0.20,random_state=8)\n",
    "RFC.fit(X_train,y_train)\n",
    "pred_test=RFC.predict(X_test)"
   ]
  },
  {
   "cell_type": "code",
   "execution_count": 113,
   "id": "c59b83e3",
   "metadata": {},
   "outputs": [
    {
     "data": {
      "text/plain": [
       "0.834931564179201"
      ]
     },
     "execution_count": 113,
     "metadata": {},
     "output_type": "execute_result"
    }
   ],
   "source": [
    "RFC_Score=r2_score(y_test,pred_test)\n",
    "RFC_Score"
   ]
  },
  {
   "cell_type": "code",
   "execution_count": 114,
   "id": "4f4a3489",
   "metadata": {},
   "outputs": [],
   "source": [
    "#Score increased than that of the original Random Forest Classifier Score"
   ]
  },
  {
   "cell_type": "markdown",
   "id": "035e34a8",
   "metadata": {},
   "source": [
    "# Saving the model"
   ]
  },
  {
   "cell_type": "code",
   "execution_count": 115,
   "id": "f24a7d6b",
   "metadata": {},
   "outputs": [],
   "source": [
    "import pickle\n",
    "filename='Avocado Project.pkl'\n",
    "pickle.dump(RFC,open(filename,'wb'))"
   ]
  },
  {
   "cell_type": "code",
   "execution_count": null,
   "id": "bdd4e13f",
   "metadata": {},
   "outputs": [],
   "source": []
  }
 ],
 "metadata": {
  "kernelspec": {
   "display_name": "Python 3 (ipykernel)",
   "language": "python",
   "name": "python3"
  },
  "language_info": {
   "codemirror_mode": {
    "name": "ipython",
    "version": 3
   },
   "file_extension": ".py",
   "mimetype": "text/x-python",
   "name": "python",
   "nbconvert_exporter": "python",
   "pygments_lexer": "ipython3",
   "version": "3.9.7"
  }
 },
 "nbformat": 4,
 "nbformat_minor": 5
}
