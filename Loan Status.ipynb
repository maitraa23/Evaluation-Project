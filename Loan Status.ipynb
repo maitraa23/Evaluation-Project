{
 "cells": [
  {
   "cell_type": "code",
   "execution_count": 1,
   "id": "c66b838e",
   "metadata": {},
   "outputs": [],
   "source": [
    "import pandas as pd\n",
    "import numpy as np\n",
    "from sklearn.preprocessing import StandardScaler\n",
    "from sklearn.linear_model import LogisticRegression\n",
    "from sklearn.ensemble import RandomForestClassifier\n",
    "from sklearn.neighbors import KNeighborsClassifier\n",
    "from sklearn.ensemble import VotingClassifier\n",
    "from sklearn.ensemble import GradientBoostingClassifier\n",
    "from sklearn.tree import DecisionTreeClassifier\n",
    "from sklearn.svm import SVC\n",
    "from sklearn.model_selection import cross_val_score\n",
    "from sklearn.model_selection import GridSearchCV\n",
    "from sklearn.model_selection import train_test_split\n",
    "from statsmodels.stats.outliers_influence import variance_inflation_factor\n",
    "from sklearn.metrics import confusion_matrix, classification_report\n",
    "from sklearn.metrics import accuracy_score,confusion_matrix,roc_curve, roc_auc_score\n",
    "import matplotlib.pyplot as plt\n",
    "import seaborn as sns\n",
    "import warnings\n",
    "warnings.filterwarnings('ignore') # importing neccesary ,libraries"
   ]
  },
  {
   "cell_type": "code",
   "execution_count": 2,
   "id": "397dd310",
   "metadata": {},
   "outputs": [],
   "source": [
    "Data=pd.read_csv(\"https://raw.githubusercontent.com/dsrscientist/DSData/master/loan_prediction.csv\") #Loading the dataset"
   ]
  },
  {
   "cell_type": "code",
   "execution_count": 3,
   "id": "c79aa010",
   "metadata": {},
   "outputs": [
    {
     "data": {
      "text/html": [
       "<div>\n",
       "<style scoped>\n",
       "    .dataframe tbody tr th:only-of-type {\n",
       "        vertical-align: middle;\n",
       "    }\n",
       "\n",
       "    .dataframe tbody tr th {\n",
       "        vertical-align: top;\n",
       "    }\n",
       "\n",
       "    .dataframe thead th {\n",
       "        text-align: right;\n",
       "    }\n",
       "</style>\n",
       "<table border=\"1\" class=\"dataframe\">\n",
       "  <thead>\n",
       "    <tr style=\"text-align: right;\">\n",
       "      <th></th>\n",
       "      <th>Loan_ID</th>\n",
       "      <th>Gender</th>\n",
       "      <th>Married</th>\n",
       "      <th>Dependents</th>\n",
       "      <th>Education</th>\n",
       "      <th>Self_Employed</th>\n",
       "      <th>ApplicantIncome</th>\n",
       "      <th>CoapplicantIncome</th>\n",
       "      <th>LoanAmount</th>\n",
       "      <th>Loan_Amount_Term</th>\n",
       "      <th>Credit_History</th>\n",
       "      <th>Property_Area</th>\n",
       "      <th>Loan_Status</th>\n",
       "    </tr>\n",
       "  </thead>\n",
       "  <tbody>\n",
       "    <tr>\n",
       "      <th>0</th>\n",
       "      <td>LP001002</td>\n",
       "      <td>Male</td>\n",
       "      <td>No</td>\n",
       "      <td>0</td>\n",
       "      <td>Graduate</td>\n",
       "      <td>No</td>\n",
       "      <td>5849</td>\n",
       "      <td>0.0</td>\n",
       "      <td>NaN</td>\n",
       "      <td>360.0</td>\n",
       "      <td>1.0</td>\n",
       "      <td>Urban</td>\n",
       "      <td>Y</td>\n",
       "    </tr>\n",
       "    <tr>\n",
       "      <th>1</th>\n",
       "      <td>LP001003</td>\n",
       "      <td>Male</td>\n",
       "      <td>Yes</td>\n",
       "      <td>1</td>\n",
       "      <td>Graduate</td>\n",
       "      <td>No</td>\n",
       "      <td>4583</td>\n",
       "      <td>1508.0</td>\n",
       "      <td>128.0</td>\n",
       "      <td>360.0</td>\n",
       "      <td>1.0</td>\n",
       "      <td>Rural</td>\n",
       "      <td>N</td>\n",
       "    </tr>\n",
       "    <tr>\n",
       "      <th>2</th>\n",
       "      <td>LP001005</td>\n",
       "      <td>Male</td>\n",
       "      <td>Yes</td>\n",
       "      <td>0</td>\n",
       "      <td>Graduate</td>\n",
       "      <td>Yes</td>\n",
       "      <td>3000</td>\n",
       "      <td>0.0</td>\n",
       "      <td>66.0</td>\n",
       "      <td>360.0</td>\n",
       "      <td>1.0</td>\n",
       "      <td>Urban</td>\n",
       "      <td>Y</td>\n",
       "    </tr>\n",
       "    <tr>\n",
       "      <th>3</th>\n",
       "      <td>LP001006</td>\n",
       "      <td>Male</td>\n",
       "      <td>Yes</td>\n",
       "      <td>0</td>\n",
       "      <td>Not Graduate</td>\n",
       "      <td>No</td>\n",
       "      <td>2583</td>\n",
       "      <td>2358.0</td>\n",
       "      <td>120.0</td>\n",
       "      <td>360.0</td>\n",
       "      <td>1.0</td>\n",
       "      <td>Urban</td>\n",
       "      <td>Y</td>\n",
       "    </tr>\n",
       "    <tr>\n",
       "      <th>4</th>\n",
       "      <td>LP001008</td>\n",
       "      <td>Male</td>\n",
       "      <td>No</td>\n",
       "      <td>0</td>\n",
       "      <td>Graduate</td>\n",
       "      <td>No</td>\n",
       "      <td>6000</td>\n",
       "      <td>0.0</td>\n",
       "      <td>141.0</td>\n",
       "      <td>360.0</td>\n",
       "      <td>1.0</td>\n",
       "      <td>Urban</td>\n",
       "      <td>Y</td>\n",
       "    </tr>\n",
       "    <tr>\n",
       "      <th>...</th>\n",
       "      <td>...</td>\n",
       "      <td>...</td>\n",
       "      <td>...</td>\n",
       "      <td>...</td>\n",
       "      <td>...</td>\n",
       "      <td>...</td>\n",
       "      <td>...</td>\n",
       "      <td>...</td>\n",
       "      <td>...</td>\n",
       "      <td>...</td>\n",
       "      <td>...</td>\n",
       "      <td>...</td>\n",
       "      <td>...</td>\n",
       "    </tr>\n",
       "    <tr>\n",
       "      <th>609</th>\n",
       "      <td>LP002978</td>\n",
       "      <td>Female</td>\n",
       "      <td>No</td>\n",
       "      <td>0</td>\n",
       "      <td>Graduate</td>\n",
       "      <td>No</td>\n",
       "      <td>2900</td>\n",
       "      <td>0.0</td>\n",
       "      <td>71.0</td>\n",
       "      <td>360.0</td>\n",
       "      <td>1.0</td>\n",
       "      <td>Rural</td>\n",
       "      <td>Y</td>\n",
       "    </tr>\n",
       "    <tr>\n",
       "      <th>610</th>\n",
       "      <td>LP002979</td>\n",
       "      <td>Male</td>\n",
       "      <td>Yes</td>\n",
       "      <td>3+</td>\n",
       "      <td>Graduate</td>\n",
       "      <td>No</td>\n",
       "      <td>4106</td>\n",
       "      <td>0.0</td>\n",
       "      <td>40.0</td>\n",
       "      <td>180.0</td>\n",
       "      <td>1.0</td>\n",
       "      <td>Rural</td>\n",
       "      <td>Y</td>\n",
       "    </tr>\n",
       "    <tr>\n",
       "      <th>611</th>\n",
       "      <td>LP002983</td>\n",
       "      <td>Male</td>\n",
       "      <td>Yes</td>\n",
       "      <td>1</td>\n",
       "      <td>Graduate</td>\n",
       "      <td>No</td>\n",
       "      <td>8072</td>\n",
       "      <td>240.0</td>\n",
       "      <td>253.0</td>\n",
       "      <td>360.0</td>\n",
       "      <td>1.0</td>\n",
       "      <td>Urban</td>\n",
       "      <td>Y</td>\n",
       "    </tr>\n",
       "    <tr>\n",
       "      <th>612</th>\n",
       "      <td>LP002984</td>\n",
       "      <td>Male</td>\n",
       "      <td>Yes</td>\n",
       "      <td>2</td>\n",
       "      <td>Graduate</td>\n",
       "      <td>No</td>\n",
       "      <td>7583</td>\n",
       "      <td>0.0</td>\n",
       "      <td>187.0</td>\n",
       "      <td>360.0</td>\n",
       "      <td>1.0</td>\n",
       "      <td>Urban</td>\n",
       "      <td>Y</td>\n",
       "    </tr>\n",
       "    <tr>\n",
       "      <th>613</th>\n",
       "      <td>LP002990</td>\n",
       "      <td>Female</td>\n",
       "      <td>No</td>\n",
       "      <td>0</td>\n",
       "      <td>Graduate</td>\n",
       "      <td>Yes</td>\n",
       "      <td>4583</td>\n",
       "      <td>0.0</td>\n",
       "      <td>133.0</td>\n",
       "      <td>360.0</td>\n",
       "      <td>0.0</td>\n",
       "      <td>Semiurban</td>\n",
       "      <td>N</td>\n",
       "    </tr>\n",
       "  </tbody>\n",
       "</table>\n",
       "<p>614 rows × 13 columns</p>\n",
       "</div>"
      ],
      "text/plain": [
       "      Loan_ID  Gender Married Dependents     Education Self_Employed  \\\n",
       "0    LP001002    Male      No          0      Graduate            No   \n",
       "1    LP001003    Male     Yes          1      Graduate            No   \n",
       "2    LP001005    Male     Yes          0      Graduate           Yes   \n",
       "3    LP001006    Male     Yes          0  Not Graduate            No   \n",
       "4    LP001008    Male      No          0      Graduate            No   \n",
       "..        ...     ...     ...        ...           ...           ...   \n",
       "609  LP002978  Female      No          0      Graduate            No   \n",
       "610  LP002979    Male     Yes         3+      Graduate            No   \n",
       "611  LP002983    Male     Yes          1      Graduate            No   \n",
       "612  LP002984    Male     Yes          2      Graduate            No   \n",
       "613  LP002990  Female      No          0      Graduate           Yes   \n",
       "\n",
       "     ApplicantIncome  CoapplicantIncome  LoanAmount  Loan_Amount_Term  \\\n",
       "0               5849                0.0         NaN             360.0   \n",
       "1               4583             1508.0       128.0             360.0   \n",
       "2               3000                0.0        66.0             360.0   \n",
       "3               2583             2358.0       120.0             360.0   \n",
       "4               6000                0.0       141.0             360.0   \n",
       "..               ...                ...         ...               ...   \n",
       "609             2900                0.0        71.0             360.0   \n",
       "610             4106                0.0        40.0             180.0   \n",
       "611             8072              240.0       253.0             360.0   \n",
       "612             7583                0.0       187.0             360.0   \n",
       "613             4583                0.0       133.0             360.0   \n",
       "\n",
       "     Credit_History Property_Area Loan_Status  \n",
       "0               1.0         Urban           Y  \n",
       "1               1.0         Rural           N  \n",
       "2               1.0         Urban           Y  \n",
       "3               1.0         Urban           Y  \n",
       "4               1.0         Urban           Y  \n",
       "..              ...           ...         ...  \n",
       "609             1.0         Rural           Y  \n",
       "610             1.0         Rural           Y  \n",
       "611             1.0         Urban           Y  \n",
       "612             1.0         Urban           Y  \n",
       "613             0.0     Semiurban           N  \n",
       "\n",
       "[614 rows x 13 columns]"
      ]
     },
     "execution_count": 3,
     "metadata": {},
     "output_type": "execute_result"
    }
   ],
   "source": [
    "Data"
   ]
  },
  {
   "cell_type": "code",
   "execution_count": 4,
   "id": "371dbb6e",
   "metadata": {},
   "outputs": [
    {
     "data": {
      "text/plain": [
       "(614, 13)"
      ]
     },
     "execution_count": 4,
     "metadata": {},
     "output_type": "execute_result"
    }
   ],
   "source": [
    "Data.shape #Checking the rows and columns"
   ]
  },
  {
   "cell_type": "code",
   "execution_count": 5,
   "id": "36b67d00",
   "metadata": {},
   "outputs": [
    {
     "name": "stdout",
     "output_type": "stream",
     "text": [
      "<class 'pandas.core.frame.DataFrame'>\n",
      "RangeIndex: 614 entries, 0 to 613\n",
      "Data columns (total 13 columns):\n",
      " #   Column             Non-Null Count  Dtype  \n",
      "---  ------             --------------  -----  \n",
      " 0   Loan_ID            614 non-null    object \n",
      " 1   Gender             601 non-null    object \n",
      " 2   Married            611 non-null    object \n",
      " 3   Dependents         599 non-null    object \n",
      " 4   Education          614 non-null    object \n",
      " 5   Self_Employed      582 non-null    object \n",
      " 6   ApplicantIncome    614 non-null    int64  \n",
      " 7   CoapplicantIncome  614 non-null    float64\n",
      " 8   LoanAmount         592 non-null    float64\n",
      " 9   Loan_Amount_Term   600 non-null    float64\n",
      " 10  Credit_History     564 non-null    float64\n",
      " 11  Property_Area      614 non-null    object \n",
      " 12  Loan_Status        614 non-null    object \n",
      "dtypes: float64(4), int64(1), object(8)\n",
      "memory usage: 62.5+ KB\n"
     ]
    }
   ],
   "source": [
    "Data.info() #Checking the data types"
   ]
  },
  {
   "cell_type": "code",
   "execution_count": 6,
   "id": "8625e638",
   "metadata": {},
   "outputs": [],
   "source": [
    "#Droping Loan_ID:\n",
    "\n",
    "Data.drop(\"Loan_ID\",axis=1,inplace=True)"
   ]
  },
  {
   "cell_type": "code",
   "execution_count": 7,
   "id": "0ec03f45",
   "metadata": {},
   "outputs": [
    {
     "data": {
      "text/plain": [
       "Gender               13\n",
       "Married               3\n",
       "Dependents           15\n",
       "Education             0\n",
       "Self_Employed        32\n",
       "ApplicantIncome       0\n",
       "CoapplicantIncome     0\n",
       "LoanAmount           22\n",
       "Loan_Amount_Term     14\n",
       "Credit_History       50\n",
       "Property_Area         0\n",
       "Loan_Status           0\n",
       "dtype: int64"
      ]
     },
     "execution_count": 7,
     "metadata": {},
     "output_type": "execute_result"
    }
   ],
   "source": [
    "Data.isnull().sum()"
   ]
  },
  {
   "cell_type": "code",
   "execution_count": 8,
   "id": "3cea780f",
   "metadata": {},
   "outputs": [],
   "source": [
    "from sklearn.preprocessing import LabelEncoder #To encode object data type\n",
    "from sklearn.impute import SimpleImputer #To impute null values"
   ]
  },
  {
   "cell_type": "code",
   "execution_count": 9,
   "id": "bb962102",
   "metadata": {},
   "outputs": [],
   "source": [
    "enc= LabelEncoder()\n",
    "si= SimpleImputer()"
   ]
  },
  {
   "cell_type": "code",
   "execution_count": 10,
   "id": "2780c24a",
   "metadata": {},
   "outputs": [
    {
     "data": {
      "text/plain": [
       "array(['Male', 'Female', nan], dtype=object)"
      ]
     },
     "execution_count": 10,
     "metadata": {},
     "output_type": "execute_result"
    }
   ],
   "source": [
    "Data['Gender'].unique()"
   ]
  },
  {
   "cell_type": "code",
   "execution_count": 11,
   "id": "3e3ee72e",
   "metadata": {},
   "outputs": [
    {
     "data": {
      "text/plain": [
       "array(['0', '1', '2', '3+', nan], dtype=object)"
      ]
     },
     "execution_count": 11,
     "metadata": {},
     "output_type": "execute_result"
    }
   ],
   "source": [
    "Data['Dependents'].unique()"
   ]
  },
  {
   "cell_type": "code",
   "execution_count": 12,
   "id": "5dd011fb",
   "metadata": {},
   "outputs": [],
   "source": [
    "Data['Dependents']=Data['Dependents'].replace({'3+':3})"
   ]
  },
  {
   "cell_type": "code",
   "execution_count": 13,
   "id": "15ebe385",
   "metadata": {},
   "outputs": [],
   "source": [
    "Data['Gender']=Data['Gender'].replace({'Male':1,'Female':0})"
   ]
  },
  {
   "cell_type": "code",
   "execution_count": 14,
   "id": "a182d364",
   "metadata": {},
   "outputs": [
    {
     "data": {
      "text/plain": [
       "array(['No', 'Yes', nan], dtype=object)"
      ]
     },
     "execution_count": 14,
     "metadata": {},
     "output_type": "execute_result"
    }
   ],
   "source": [
    "Data['Married'].unique()"
   ]
  },
  {
   "cell_type": "code",
   "execution_count": 15,
   "id": "427e1e0e",
   "metadata": {},
   "outputs": [],
   "source": [
    "Data['Married']=Data['Married'].replace({'No':0,'Yes':1})"
   ]
  },
  {
   "cell_type": "code",
   "execution_count": 16,
   "id": "9a3d1626",
   "metadata": {},
   "outputs": [
    {
     "data": {
      "text/plain": [
       "array(['Graduate', 'Not Graduate'], dtype=object)"
      ]
     },
     "execution_count": 16,
     "metadata": {},
     "output_type": "execute_result"
    }
   ],
   "source": [
    "Data['Education'].unique()"
   ]
  },
  {
   "cell_type": "code",
   "execution_count": 17,
   "id": "2f25bfaa",
   "metadata": {},
   "outputs": [],
   "source": [
    "Data['Education']=Data['Education'].replace({'Not Graduate':0,'Graduate':1})"
   ]
  },
  {
   "cell_type": "code",
   "execution_count": 18,
   "id": "a3d763d9",
   "metadata": {},
   "outputs": [
    {
     "data": {
      "text/plain": [
       "array(['No', 'Yes', nan], dtype=object)"
      ]
     },
     "execution_count": 18,
     "metadata": {},
     "output_type": "execute_result"
    }
   ],
   "source": [
    "Data['Self_Employed'].unique()"
   ]
  },
  {
   "cell_type": "code",
   "execution_count": 19,
   "id": "0cbc315c",
   "metadata": {},
   "outputs": [],
   "source": [
    "Data['Self_Employed']=Data['Self_Employed'].replace({'No':0,'Yes':1})"
   ]
  },
  {
   "cell_type": "code",
   "execution_count": 20,
   "id": "6b4f7b6c",
   "metadata": {},
   "outputs": [
    {
     "data": {
      "text/plain": [
       "array(['Urban', 'Rural', 'Semiurban'], dtype=object)"
      ]
     },
     "execution_count": 20,
     "metadata": {},
     "output_type": "execute_result"
    }
   ],
   "source": [
    "Data['Property_Area'].unique()"
   ]
  },
  {
   "cell_type": "code",
   "execution_count": 21,
   "id": "8fc5ef94",
   "metadata": {},
   "outputs": [],
   "source": [
    "Data['Property_Area']=Data['Property_Area'].replace({'Urban':0,'Rural':1,'Semiurban':2})"
   ]
  },
  {
   "cell_type": "code",
   "execution_count": 22,
   "id": "e3980102",
   "metadata": {},
   "outputs": [
    {
     "data": {
      "text/plain": [
       "array(['Y', 'N'], dtype=object)"
      ]
     },
     "execution_count": 22,
     "metadata": {},
     "output_type": "execute_result"
    }
   ],
   "source": [
    "Data['Loan_Status'].unique()"
   ]
  },
  {
   "cell_type": "code",
   "execution_count": 23,
   "id": "ad430810",
   "metadata": {},
   "outputs": [],
   "source": [
    "Data['Loan_Status']=Data['Loan_Status'].replace({'Y':1,'N':0})"
   ]
  },
  {
   "cell_type": "code",
   "execution_count": 24,
   "id": "76e73c11",
   "metadata": {},
   "outputs": [
    {
     "name": "stdout",
     "output_type": "stream",
     "text": [
      "<class 'pandas.core.frame.DataFrame'>\n",
      "RangeIndex: 614 entries, 0 to 613\n",
      "Data columns (total 12 columns):\n",
      " #   Column             Non-Null Count  Dtype  \n",
      "---  ------             --------------  -----  \n",
      " 0   Gender             601 non-null    float64\n",
      " 1   Married            611 non-null    float64\n",
      " 2   Dependents         599 non-null    object \n",
      " 3   Education          614 non-null    int64  \n",
      " 4   Self_Employed      582 non-null    float64\n",
      " 5   ApplicantIncome    614 non-null    int64  \n",
      " 6   CoapplicantIncome  614 non-null    float64\n",
      " 7   LoanAmount         592 non-null    float64\n",
      " 8   Loan_Amount_Term   600 non-null    float64\n",
      " 9   Credit_History     564 non-null    float64\n",
      " 10  Property_Area      614 non-null    int64  \n",
      " 11  Loan_Status        614 non-null    int64  \n",
      "dtypes: float64(7), int64(4), object(1)\n",
      "memory usage: 57.7+ KB\n"
     ]
    }
   ],
   "source": [
    "Data.info() #After Transfomation"
   ]
  },
  {
   "cell_type": "code",
   "execution_count": 25,
   "id": "464532d4",
   "metadata": {},
   "outputs": [
    {
     "data": {
      "text/plain": [
       "Gender               13\n",
       "Married               3\n",
       "Dependents           15\n",
       "Education             0\n",
       "Self_Employed        32\n",
       "ApplicantIncome       0\n",
       "CoapplicantIncome     0\n",
       "LoanAmount           22\n",
       "Loan_Amount_Term     14\n",
       "Credit_History       50\n",
       "Property_Area         0\n",
       "Loan_Status           0\n",
       "dtype: int64"
      ]
     },
     "execution_count": 25,
     "metadata": {},
     "output_type": "execute_result"
    }
   ],
   "source": [
    "Data.isnull().sum() #After Transfomation"
   ]
  },
  {
   "cell_type": "code",
   "execution_count": 26,
   "id": "7c1e9168",
   "metadata": {},
   "outputs": [],
   "source": [
    "Data.dropna(inplace=True)"
   ]
  },
  {
   "cell_type": "code",
   "execution_count": 27,
   "id": "71fc0995",
   "metadata": {},
   "outputs": [],
   "source": [
    "Data=Data.reset_index() #reseting the index after dropping the values"
   ]
  },
  {
   "cell_type": "code",
   "execution_count": 28,
   "id": "e11828a9",
   "metadata": {},
   "outputs": [
    {
     "data": {
      "text/html": [
       "<div>\n",
       "<style scoped>\n",
       "    .dataframe tbody tr th:only-of-type {\n",
       "        vertical-align: middle;\n",
       "    }\n",
       "\n",
       "    .dataframe tbody tr th {\n",
       "        vertical-align: top;\n",
       "    }\n",
       "\n",
       "    .dataframe thead th {\n",
       "        text-align: right;\n",
       "    }\n",
       "</style>\n",
       "<table border=\"1\" class=\"dataframe\">\n",
       "  <thead>\n",
       "    <tr style=\"text-align: right;\">\n",
       "      <th></th>\n",
       "      <th>index</th>\n",
       "      <th>Gender</th>\n",
       "      <th>Married</th>\n",
       "      <th>Dependents</th>\n",
       "      <th>Education</th>\n",
       "      <th>Self_Employed</th>\n",
       "      <th>ApplicantIncome</th>\n",
       "      <th>CoapplicantIncome</th>\n",
       "      <th>LoanAmount</th>\n",
       "      <th>Loan_Amount_Term</th>\n",
       "      <th>Credit_History</th>\n",
       "      <th>Property_Area</th>\n",
       "      <th>Loan_Status</th>\n",
       "    </tr>\n",
       "  </thead>\n",
       "  <tbody>\n",
       "    <tr>\n",
       "      <th>0</th>\n",
       "      <td>1</td>\n",
       "      <td>1.0</td>\n",
       "      <td>1.0</td>\n",
       "      <td>1</td>\n",
       "      <td>1</td>\n",
       "      <td>0.0</td>\n",
       "      <td>4583</td>\n",
       "      <td>1508.0</td>\n",
       "      <td>128.0</td>\n",
       "      <td>360.0</td>\n",
       "      <td>1.0</td>\n",
       "      <td>1</td>\n",
       "      <td>0</td>\n",
       "    </tr>\n",
       "    <tr>\n",
       "      <th>1</th>\n",
       "      <td>2</td>\n",
       "      <td>1.0</td>\n",
       "      <td>1.0</td>\n",
       "      <td>0</td>\n",
       "      <td>1</td>\n",
       "      <td>1.0</td>\n",
       "      <td>3000</td>\n",
       "      <td>0.0</td>\n",
       "      <td>66.0</td>\n",
       "      <td>360.0</td>\n",
       "      <td>1.0</td>\n",
       "      <td>0</td>\n",
       "      <td>1</td>\n",
       "    </tr>\n",
       "    <tr>\n",
       "      <th>2</th>\n",
       "      <td>3</td>\n",
       "      <td>1.0</td>\n",
       "      <td>1.0</td>\n",
       "      <td>0</td>\n",
       "      <td>0</td>\n",
       "      <td>0.0</td>\n",
       "      <td>2583</td>\n",
       "      <td>2358.0</td>\n",
       "      <td>120.0</td>\n",
       "      <td>360.0</td>\n",
       "      <td>1.0</td>\n",
       "      <td>0</td>\n",
       "      <td>1</td>\n",
       "    </tr>\n",
       "    <tr>\n",
       "      <th>3</th>\n",
       "      <td>4</td>\n",
       "      <td>1.0</td>\n",
       "      <td>0.0</td>\n",
       "      <td>0</td>\n",
       "      <td>1</td>\n",
       "      <td>0.0</td>\n",
       "      <td>6000</td>\n",
       "      <td>0.0</td>\n",
       "      <td>141.0</td>\n",
       "      <td>360.0</td>\n",
       "      <td>1.0</td>\n",
       "      <td>0</td>\n",
       "      <td>1</td>\n",
       "    </tr>\n",
       "    <tr>\n",
       "      <th>4</th>\n",
       "      <td>5</td>\n",
       "      <td>1.0</td>\n",
       "      <td>1.0</td>\n",
       "      <td>2</td>\n",
       "      <td>1</td>\n",
       "      <td>1.0</td>\n",
       "      <td>5417</td>\n",
       "      <td>4196.0</td>\n",
       "      <td>267.0</td>\n",
       "      <td>360.0</td>\n",
       "      <td>1.0</td>\n",
       "      <td>0</td>\n",
       "      <td>1</td>\n",
       "    </tr>\n",
       "    <tr>\n",
       "      <th>...</th>\n",
       "      <td>...</td>\n",
       "      <td>...</td>\n",
       "      <td>...</td>\n",
       "      <td>...</td>\n",
       "      <td>...</td>\n",
       "      <td>...</td>\n",
       "      <td>...</td>\n",
       "      <td>...</td>\n",
       "      <td>...</td>\n",
       "      <td>...</td>\n",
       "      <td>...</td>\n",
       "      <td>...</td>\n",
       "      <td>...</td>\n",
       "    </tr>\n",
       "    <tr>\n",
       "      <th>475</th>\n",
       "      <td>609</td>\n",
       "      <td>0.0</td>\n",
       "      <td>0.0</td>\n",
       "      <td>0</td>\n",
       "      <td>1</td>\n",
       "      <td>0.0</td>\n",
       "      <td>2900</td>\n",
       "      <td>0.0</td>\n",
       "      <td>71.0</td>\n",
       "      <td>360.0</td>\n",
       "      <td>1.0</td>\n",
       "      <td>1</td>\n",
       "      <td>1</td>\n",
       "    </tr>\n",
       "    <tr>\n",
       "      <th>476</th>\n",
       "      <td>610</td>\n",
       "      <td>1.0</td>\n",
       "      <td>1.0</td>\n",
       "      <td>3</td>\n",
       "      <td>1</td>\n",
       "      <td>0.0</td>\n",
       "      <td>4106</td>\n",
       "      <td>0.0</td>\n",
       "      <td>40.0</td>\n",
       "      <td>180.0</td>\n",
       "      <td>1.0</td>\n",
       "      <td>1</td>\n",
       "      <td>1</td>\n",
       "    </tr>\n",
       "    <tr>\n",
       "      <th>477</th>\n",
       "      <td>611</td>\n",
       "      <td>1.0</td>\n",
       "      <td>1.0</td>\n",
       "      <td>1</td>\n",
       "      <td>1</td>\n",
       "      <td>0.0</td>\n",
       "      <td>8072</td>\n",
       "      <td>240.0</td>\n",
       "      <td>253.0</td>\n",
       "      <td>360.0</td>\n",
       "      <td>1.0</td>\n",
       "      <td>0</td>\n",
       "      <td>1</td>\n",
       "    </tr>\n",
       "    <tr>\n",
       "      <th>478</th>\n",
       "      <td>612</td>\n",
       "      <td>1.0</td>\n",
       "      <td>1.0</td>\n",
       "      <td>2</td>\n",
       "      <td>1</td>\n",
       "      <td>0.0</td>\n",
       "      <td>7583</td>\n",
       "      <td>0.0</td>\n",
       "      <td>187.0</td>\n",
       "      <td>360.0</td>\n",
       "      <td>1.0</td>\n",
       "      <td>0</td>\n",
       "      <td>1</td>\n",
       "    </tr>\n",
       "    <tr>\n",
       "      <th>479</th>\n",
       "      <td>613</td>\n",
       "      <td>0.0</td>\n",
       "      <td>0.0</td>\n",
       "      <td>0</td>\n",
       "      <td>1</td>\n",
       "      <td>1.0</td>\n",
       "      <td>4583</td>\n",
       "      <td>0.0</td>\n",
       "      <td>133.0</td>\n",
       "      <td>360.0</td>\n",
       "      <td>0.0</td>\n",
       "      <td>2</td>\n",
       "      <td>0</td>\n",
       "    </tr>\n",
       "  </tbody>\n",
       "</table>\n",
       "<p>480 rows × 13 columns</p>\n",
       "</div>"
      ],
      "text/plain": [
       "     index  Gender  Married Dependents  Education  Self_Employed  \\\n",
       "0        1     1.0      1.0          1          1            0.0   \n",
       "1        2     1.0      1.0          0          1            1.0   \n",
       "2        3     1.0      1.0          0          0            0.0   \n",
       "3        4     1.0      0.0          0          1            0.0   \n",
       "4        5     1.0      1.0          2          1            1.0   \n",
       "..     ...     ...      ...        ...        ...            ...   \n",
       "475    609     0.0      0.0          0          1            0.0   \n",
       "476    610     1.0      1.0          3          1            0.0   \n",
       "477    611     1.0      1.0          1          1            0.0   \n",
       "478    612     1.0      1.0          2          1            0.0   \n",
       "479    613     0.0      0.0          0          1            1.0   \n",
       "\n",
       "     ApplicantIncome  CoapplicantIncome  LoanAmount  Loan_Amount_Term  \\\n",
       "0               4583             1508.0       128.0             360.0   \n",
       "1               3000                0.0        66.0             360.0   \n",
       "2               2583             2358.0       120.0             360.0   \n",
       "3               6000                0.0       141.0             360.0   \n",
       "4               5417             4196.0       267.0             360.0   \n",
       "..               ...                ...         ...               ...   \n",
       "475             2900                0.0        71.0             360.0   \n",
       "476             4106                0.0        40.0             180.0   \n",
       "477             8072              240.0       253.0             360.0   \n",
       "478             7583                0.0       187.0             360.0   \n",
       "479             4583                0.0       133.0             360.0   \n",
       "\n",
       "     Credit_History  Property_Area  Loan_Status  \n",
       "0               1.0              1            0  \n",
       "1               1.0              0            1  \n",
       "2               1.0              0            1  \n",
       "3               1.0              0            1  \n",
       "4               1.0              0            1  \n",
       "..              ...            ...          ...  \n",
       "475             1.0              1            1  \n",
       "476             1.0              1            1  \n",
       "477             1.0              0            1  \n",
       "478             1.0              0            1  \n",
       "479             0.0              2            0  \n",
       "\n",
       "[480 rows x 13 columns]"
      ]
     },
     "execution_count": 28,
     "metadata": {},
     "output_type": "execute_result"
    }
   ],
   "source": [
    "Data"
   ]
  },
  {
   "cell_type": "code",
   "execution_count": 29,
   "id": "9e83b3be",
   "metadata": {},
   "outputs": [],
   "source": [
    "#Dropping data will all null values"
   ]
  },
  {
   "cell_type": "code",
   "execution_count": 30,
   "id": "99af9a62",
   "metadata": {},
   "outputs": [
    {
     "data": {
      "text/plain": [
       "index                0\n",
       "Gender               0\n",
       "Married              0\n",
       "Dependents           0\n",
       "Education            0\n",
       "Self_Employed        0\n",
       "ApplicantIncome      0\n",
       "CoapplicantIncome    0\n",
       "LoanAmount           0\n",
       "Loan_Amount_Term     0\n",
       "Credit_History       0\n",
       "Property_Area        0\n",
       "Loan_Status          0\n",
       "dtype: int64"
      ]
     },
     "execution_count": 30,
     "metadata": {},
     "output_type": "execute_result"
    }
   ],
   "source": [
    "Data.isnull().sum() #After dropping all null values"
   ]
  },
  {
   "cell_type": "markdown",
   "id": "a9099be3",
   "metadata": {},
   "source": [
    "# Data Visualization"
   ]
  },
  {
   "cell_type": "code",
   "execution_count": 31,
   "id": "cb2a09bd",
   "metadata": {},
   "outputs": [
    {
     "data": {
      "text/plain": [
       "<AxesSubplot:xlabel='Gender', ylabel='count'>"
      ]
     },
     "execution_count": 31,
     "metadata": {},
     "output_type": "execute_result"
    },
    {
     "data": {
      "image/png": "[encoded data removed]",
      "text/plain": [
       "<Figure size 432x288 with 1 Axes>"
      ]
     },
     "metadata": {
      "needs_background": "light"
     },
     "output_type": "display_data"
    }
   ],
   "source": [
    "sns.countplot(Data['Gender'])"
   ]
  },
  {
   "cell_type": "code",
   "execution_count": 32,
   "id": "7c1a8701",
   "metadata": {},
   "outputs": [
    {
     "data": {
      "text/plain": [
       "<AxesSubplot:xlabel='Married', ylabel='count'>"
      ]
     },
     "execution_count": 32,
     "metadata": {},
     "output_type": "execute_result"
    },
    {
     "data": {
      "image/png": "[encoded data removed]",
      "text/plain": [
       "<Figure size 432x288 with 1 Axes>"
      ]
     },
     "metadata": {
      "needs_background": "light"
     },
     "output_type": "display_data"
    }
   ],
   "source": [
    "sns.countplot(Data['Married'])"
   ]
  },
  {
   "cell_type": "code",
   "execution_count": 33,
   "id": "87632d4f",
   "metadata": {},
   "outputs": [
    {
     "data": {
      "text/plain": [
       "<AxesSubplot:xlabel='Dependents', ylabel='count'>"
      ]
     },
     "execution_count": 33,
     "metadata": {},
     "output_type": "execute_result"
    },
    {
     "data": {
      "image/png": "[encoded data removed]",
      "text/plain": [
       "<Figure size 432x288 with 1 Axes>"
      ]
     },
     "metadata": {
      "needs_background": "light"
     },
     "output_type": "display_data"
    }
   ],
   "source": [
    "sns.countplot(Data['Dependents'])"
   ]
  },
  {
   "cell_type": "code",
   "execution_count": 34,
   "id": "a150d4fd",
   "metadata": {},
   "outputs": [
    {
     "data": {
      "text/plain": [
       "<AxesSubplot:xlabel='Education', ylabel='count'>"
      ]
     },
     "execution_count": 34,
     "metadata": {},
     "output_type": "execute_result"
    },
    {
     "data": {
      "image/png": "[encoded data removed]",
      "text/plain": [
       "<Figure size 432x288 with 1 Axes>"
      ]
     },
     "metadata": {
      "needs_background": "light"
     },
     "output_type": "display_data"
    }
   ],
   "source": [
    "sns.countplot(Data['Education'])"
   ]
  },
  {
   "cell_type": "code",
   "execution_count": 35,
   "id": "3407ad6f",
   "metadata": {},
   "outputs": [
    {
     "data": {
      "text/plain": [
       "<AxesSubplot:xlabel='Self_Employed', ylabel='count'>"
      ]
     },
     "execution_count": 35,
     "metadata": {},
     "output_type": "execute_result"
    },
    {
     "data": {
      "image/png": "[encoded data removed]",
      "text/plain": [
       "<Figure size 432x288 with 1 Axes>"
      ]
     },
     "metadata": {
      "needs_background": "light"
     },
     "output_type": "display_data"
    }
   ],
   "source": [
    "sns.countplot(Data['Self_Employed'])"
   ]
  },
  {
   "cell_type": "code",
   "execution_count": 36,
   "id": "1d2f4dec",
   "metadata": {},
   "outputs": [
    {
     "data": {
      "text/plain": [
       "array([[<AxesSubplot:ylabel='Density'>, <AxesSubplot:ylabel='Density'>],\n",
       "       [<AxesSubplot:ylabel='Density'>, <AxesSubplot:ylabel='Density'>],\n",
       "       [<AxesSubplot:ylabel='Density'>, <AxesSubplot:ylabel='Density'>]],\n",
       "      dtype=object)"
      ]
     },
     "execution_count": 36,
     "metadata": {},
     "output_type": "execute_result"
    },
    {
     "data": {
      "image/png": "[encoded data removed]",
      "text/plain": [
       "<Figure size 1440x1800 with 6 Axes>"
      ]
     },
     "metadata": {
      "needs_background": "light"
     },
     "output_type": "display_data"
    }
   ],
   "source": [
    "Data[['ApplicantIncome','CoapplicantIncome','LoanAmount','Loan_Amount_Term','Credit_History']].plot(kind='kde',subplots=True,layout=(3,2),sharex=False,legend=True,fontsize=10,figsize=(20,25))"
   ]
  },
  {
   "cell_type": "code",
   "execution_count": 37,
   "id": "3743c1cb",
   "metadata": {},
   "outputs": [
    {
     "data": {
      "text/plain": [
       "<AxesSubplot:xlabel='Property_Area', ylabel='count'>"
      ]
     },
     "execution_count": 37,
     "metadata": {},
     "output_type": "execute_result"
    },
    {
     "data": {
      "image/png": "[encoded data removed]",
      "text/plain": [
       "<Figure size 432x288 with 1 Axes>"
      ]
     },
     "metadata": {
      "needs_background": "light"
     },
     "output_type": "display_data"
    }
   ],
   "source": [
    "sns.countplot(Data['Property_Area'])"
   ]
  },
  {
   "cell_type": "code",
   "execution_count": 38,
   "id": "e4e4a1ea",
   "metadata": {},
   "outputs": [
    {
     "data": {
      "text/plain": [
       "<AxesSubplot:xlabel='Loan_Status', ylabel='count'>"
      ]
     },
     "execution_count": 38,
     "metadata": {},
     "output_type": "execute_result"
    },
    {
     "data": {
      "image/png": "[encoded data removed]",
      "text/plain": [
       "<Figure size 432x288 with 1 Axes>"
      ]
     },
     "metadata": {
      "needs_background": "light"
     },
     "output_type": "display_data"
    }
   ],
   "source": [
    "sns.countplot(Data['Loan_Status'])"
   ]
  },
  {
   "cell_type": "code",
   "execution_count": 39,
   "id": "f091b49f",
   "metadata": {},
   "outputs": [],
   "source": [
    "#Observation:\n",
    "#There is a majority of male gender, married people, educated,self employed with people living in urban areas in the dataset\n",
    "# As per graph, it shows few incomes are in negative which will be investigated\n",
    "#Majority of people have been given loans"
   ]
  },
  {
   "cell_type": "code",
   "execution_count": 40,
   "id": "6a74f37a",
   "metadata": {},
   "outputs": [
    {
     "data": {
      "text/plain": [
       "1    332\n",
       "0    148\n",
       "Name: Loan_Status, dtype: int64"
      ]
     },
     "execution_count": 40,
     "metadata": {},
     "output_type": "execute_result"
    }
   ],
   "source": [
    "Data['Loan_Status'].value_counts() #Checking the value of the target variable"
   ]
  },
  {
   "cell_type": "code",
   "execution_count": 41,
   "id": "374279bb",
   "metadata": {},
   "outputs": [],
   "source": [
    "#Data is balanced\n"
   ]
  },
  {
   "cell_type": "code",
   "execution_count": 42,
   "id": "ba9a1bf1",
   "metadata": {},
   "outputs": [
    {
     "data": {
      "text/html": [
       "<div>\n",
       "<style scoped>\n",
       "    .dataframe tbody tr th:only-of-type {\n",
       "        vertical-align: middle;\n",
       "    }\n",
       "\n",
       "    .dataframe tbody tr th {\n",
       "        vertical-align: top;\n",
       "    }\n",
       "\n",
       "    .dataframe thead th {\n",
       "        text-align: right;\n",
       "    }\n",
       "</style>\n",
       "<table border=\"1\" class=\"dataframe\">\n",
       "  <thead>\n",
       "    <tr style=\"text-align: right;\">\n",
       "      <th></th>\n",
       "      <th>index</th>\n",
       "      <th>Gender</th>\n",
       "      <th>Married</th>\n",
       "      <th>Education</th>\n",
       "      <th>Self_Employed</th>\n",
       "      <th>ApplicantIncome</th>\n",
       "      <th>CoapplicantIncome</th>\n",
       "      <th>LoanAmount</th>\n",
       "      <th>Loan_Amount_Term</th>\n",
       "      <th>Credit_History</th>\n",
       "      <th>Property_Area</th>\n",
       "      <th>Loan_Status</th>\n",
       "    </tr>\n",
       "  </thead>\n",
       "  <tbody>\n",
       "    <tr>\n",
       "      <th>count</th>\n",
       "      <td>480.000000</td>\n",
       "      <td>480.000000</td>\n",
       "      <td>480.000000</td>\n",
       "      <td>480.000000</td>\n",
       "      <td>480.000000</td>\n",
       "      <td>480.000000</td>\n",
       "      <td>480.000000</td>\n",
       "      <td>480.000000</td>\n",
       "      <td>480.000000</td>\n",
       "      <td>480.000000</td>\n",
       "      <td>480.000000</td>\n",
       "      <td>480.000000</td>\n",
       "    </tr>\n",
       "    <tr>\n",
       "      <th>mean</th>\n",
       "      <td>307.214583</td>\n",
       "      <td>0.820833</td>\n",
       "      <td>0.647917</td>\n",
       "      <td>0.797917</td>\n",
       "      <td>0.137500</td>\n",
       "      <td>5364.231250</td>\n",
       "      <td>1581.093583</td>\n",
       "      <td>144.735417</td>\n",
       "      <td>342.050000</td>\n",
       "      <td>0.854167</td>\n",
       "      <td>1.085417</td>\n",
       "      <td>0.691667</td>\n",
       "    </tr>\n",
       "    <tr>\n",
       "      <th>std</th>\n",
       "      <td>177.433330</td>\n",
       "      <td>0.383892</td>\n",
       "      <td>0.478118</td>\n",
       "      <td>0.401973</td>\n",
       "      <td>0.344734</td>\n",
       "      <td>5668.251251</td>\n",
       "      <td>2617.692267</td>\n",
       "      <td>80.508164</td>\n",
       "      <td>65.212401</td>\n",
       "      <td>0.353307</td>\n",
       "      <td>0.839398</td>\n",
       "      <td>0.462287</td>\n",
       "    </tr>\n",
       "    <tr>\n",
       "      <th>min</th>\n",
       "      <td>1.000000</td>\n",
       "      <td>0.000000</td>\n",
       "      <td>0.000000</td>\n",
       "      <td>0.000000</td>\n",
       "      <td>0.000000</td>\n",
       "      <td>150.000000</td>\n",
       "      <td>0.000000</td>\n",
       "      <td>9.000000</td>\n",
       "      <td>36.000000</td>\n",
       "      <td>0.000000</td>\n",
       "      <td>0.000000</td>\n",
       "      <td>0.000000</td>\n",
       "    </tr>\n",
       "    <tr>\n",
       "      <th>25%</th>\n",
       "      <td>154.750000</td>\n",
       "      <td>1.000000</td>\n",
       "      <td>0.000000</td>\n",
       "      <td>1.000000</td>\n",
       "      <td>0.000000</td>\n",
       "      <td>2898.750000</td>\n",
       "      <td>0.000000</td>\n",
       "      <td>100.000000</td>\n",
       "      <td>360.000000</td>\n",
       "      <td>1.000000</td>\n",
       "      <td>0.000000</td>\n",
       "      <td>0.000000</td>\n",
       "    </tr>\n",
       "    <tr>\n",
       "      <th>50%</th>\n",
       "      <td>302.500000</td>\n",
       "      <td>1.000000</td>\n",
       "      <td>1.000000</td>\n",
       "      <td>1.000000</td>\n",
       "      <td>0.000000</td>\n",
       "      <td>3859.000000</td>\n",
       "      <td>1084.500000</td>\n",
       "      <td>128.000000</td>\n",
       "      <td>360.000000</td>\n",
       "      <td>1.000000</td>\n",
       "      <td>1.000000</td>\n",
       "      <td>1.000000</td>\n",
       "    </tr>\n",
       "    <tr>\n",
       "      <th>75%</th>\n",
       "      <td>459.500000</td>\n",
       "      <td>1.000000</td>\n",
       "      <td>1.000000</td>\n",
       "      <td>1.000000</td>\n",
       "      <td>0.000000</td>\n",
       "      <td>5852.500000</td>\n",
       "      <td>2253.250000</td>\n",
       "      <td>170.000000</td>\n",
       "      <td>360.000000</td>\n",
       "      <td>1.000000</td>\n",
       "      <td>2.000000</td>\n",
       "      <td>1.000000</td>\n",
       "    </tr>\n",
       "    <tr>\n",
       "      <th>max</th>\n",
       "      <td>613.000000</td>\n",
       "      <td>1.000000</td>\n",
       "      <td>1.000000</td>\n",
       "      <td>1.000000</td>\n",
       "      <td>1.000000</td>\n",
       "      <td>81000.000000</td>\n",
       "      <td>33837.000000</td>\n",
       "      <td>600.000000</td>\n",
       "      <td>480.000000</td>\n",
       "      <td>1.000000</td>\n",
       "      <td>2.000000</td>\n",
       "      <td>1.000000</td>\n",
       "    </tr>\n",
       "  </tbody>\n",
       "</table>\n",
       "</div>"
      ],
      "text/plain": [
       "            index      Gender     Married   Education  Self_Employed  \\\n",
       "count  480.000000  480.000000  480.000000  480.000000     480.000000   \n",
       "mean   307.214583    0.820833    0.647917    0.797917       0.137500   \n",
       "std    177.433330    0.383892    0.478118    0.401973       0.344734   \n",
       "min      1.000000    0.000000    0.000000    0.000000       0.000000   \n",
       "25%    154.750000    1.000000    0.000000    1.000000       0.000000   \n",
       "50%    302.500000    1.000000    1.000000    1.000000       0.000000   \n",
       "75%    459.500000    1.000000    1.000000    1.000000       0.000000   \n",
       "max    613.000000    1.000000    1.000000    1.000000       1.000000   \n",
       "\n",
       "       ApplicantIncome  CoapplicantIncome  LoanAmount  Loan_Amount_Term  \\\n",
       "count       480.000000         480.000000  480.000000        480.000000   \n",
       "mean       5364.231250        1581.093583  144.735417        342.050000   \n",
       "std        5668.251251        2617.692267   80.508164         65.212401   \n",
       "min         150.000000           0.000000    9.000000         36.000000   \n",
       "25%        2898.750000           0.000000  100.000000        360.000000   \n",
       "50%        3859.000000        1084.500000  128.000000        360.000000   \n",
       "75%        5852.500000        2253.250000  170.000000        360.000000   \n",
       "max       81000.000000       33837.000000  600.000000        480.000000   \n",
       "\n",
       "       Credit_History  Property_Area  Loan_Status  \n",
       "count      480.000000     480.000000   480.000000  \n",
       "mean         0.854167       1.085417     0.691667  \n",
       "std          0.353307       0.839398     0.462287  \n",
       "min          0.000000       0.000000     0.000000  \n",
       "25%          1.000000       0.000000     0.000000  \n",
       "50%          1.000000       1.000000     1.000000  \n",
       "75%          1.000000       2.000000     1.000000  \n",
       "max          1.000000       2.000000     1.000000  "
      ]
     },
     "execution_count": 42,
     "metadata": {},
     "output_type": "execute_result"
    }
   ],
   "source": [
    "Data.describe()"
   ]
  },
  {
   "cell_type": "code",
   "execution_count": 43,
   "id": "82712f26",
   "metadata": {},
   "outputs": [],
   "source": [
    "#There is a huge difference between mean and std deviation as well as maximum and minimum values"
   ]
  },
  {
   "cell_type": "code",
   "execution_count": 44,
   "id": "52dd646f",
   "metadata": {},
   "outputs": [],
   "source": [
    "X=Data.drop('Loan_Status',axis=1)\n",
    "Y=Data['Loan_Status'] #Seperating the target and classes"
   ]
  },
  {
   "cell_type": "code",
   "execution_count": 46,
   "id": "c94a1fd3",
   "metadata": {},
   "outputs": [
    {
     "data": {
      "image/png": "[encoded data removed]",
      "text/plain": [
       "<Figure size 720x576 with 12 Axes>"
      ]
     },
     "metadata": {
      "needs_background": "light"
     },
     "output_type": "display_data"
    }
   ],
   "source": [
    "X.plot(kind='kde',subplots=True,layout=(2,6),sharex=False,legend=True,fontsize=3,figsize=(10,8))\n",
    "plt.show()"
   ]
  },
  {
   "cell_type": "code",
   "execution_count": 47,
   "id": "4c836540",
   "metadata": {},
   "outputs": [
    {
     "data": {
      "text/plain": [
       "ApplicantIncome      6.917027\n",
       "CoapplicantIncome    5.881622\n",
       "LoanAmount           2.361437\n",
       "Self_Employed        2.111872\n",
       "Dependents           0.942272\n",
       "index               -0.000692\n",
       "Property_Area       -0.162285\n",
       "Married             -0.621334\n",
       "Education           -1.488474\n",
       "Gender              -1.678471\n",
       "Credit_History      -2.013253\n",
       "Loan_Amount_Term    -2.333710\n",
       "dtype: float64"
      ]
     },
     "execution_count": 47,
     "metadata": {},
     "output_type": "execute_result"
    }
   ],
   "source": [
    "X.skew().sort_values(ascending=False) #Checking the skewness"
   ]
  },
  {
   "cell_type": "code",
   "execution_count": 48,
   "id": "7d372fc7",
   "metadata": {},
   "outputs": [],
   "source": [
    "from sklearn.preprocessing import power_transform"
   ]
  },
  {
   "cell_type": "code",
   "execution_count": 49,
   "id": "be5a1204",
   "metadata": {},
   "outputs": [],
   "source": [
    "New_X=power_transform(X)"
   ]
  },
  {
   "cell_type": "code",
   "execution_count": 50,
   "id": "75e061dc",
   "metadata": {},
   "outputs": [
    {
     "data": {
      "text/plain": [
       "Self_Employed        2.111872\n",
       "Loan_Amount_Term     0.400696\n",
       "Dependents           0.391653\n",
       "LoanAmount           0.044294\n",
       "ApplicantIncome     -0.112745\n",
       "CoapplicantIncome   -0.127432\n",
       "Property_Area       -0.208161\n",
       "index               -0.285838\n",
       "Married             -0.621334\n",
       "Education           -1.488474\n",
       "Gender              -1.678471\n",
       "Credit_History      -2.013253\n",
       "dtype: float64"
      ]
     },
     "execution_count": 50,
     "metadata": {},
     "output_type": "execute_result"
    }
   ],
   "source": [
    "pd.DataFrame(New_X,columns=X.columns).skew().sort_values(ascending=False) # transforming the data to reduce skewness"
   ]
  },
  {
   "cell_type": "code",
   "execution_count": 51,
   "id": "8701f373",
   "metadata": {},
   "outputs": [],
   "source": [
    "X=pd.DataFrame(New_X,columns=X.columns)"
   ]
  },
  {
   "cell_type": "code",
   "execution_count": 52,
   "id": "1691ec65",
   "metadata": {},
   "outputs": [
    {
     "data": {
      "image/png": "[encoded data removed]",
      "text/plain": [
       "<Figure size 720x576 with 12 Axes>"
      ]
     },
     "metadata": {
      "needs_background": "light"
     },
     "output_type": "display_data"
    }
   ],
   "source": [
    "X.plot(kind='kde',subplots=True,layout=(2,6),sharex=False,legend=True,fontsize=3,figsize=(10,8))\n",
    "plt.show() #Checking skewness after transformation"
   ]
  },
  {
   "cell_type": "code",
   "execution_count": 53,
   "id": "6edccc0d",
   "metadata": {},
   "outputs": [
    {
     "data": {
      "text/plain": [
       "index                0\n",
       "Gender               0\n",
       "Married              0\n",
       "Dependents           0\n",
       "Education            0\n",
       "Self_Employed        0\n",
       "ApplicantIncome      0\n",
       "CoapplicantIncome    0\n",
       "LoanAmount           0\n",
       "Loan_Amount_Term     0\n",
       "Credit_History       0\n",
       "Property_Area        0\n",
       "dtype: int64"
      ]
     },
     "execution_count": 53,
     "metadata": {},
     "output_type": "execute_result"
    }
   ],
   "source": [
    "X.isnull().sum()"
   ]
  },
  {
   "cell_type": "code",
   "execution_count": 54,
   "id": "960dd52e",
   "metadata": {},
   "outputs": [],
   "source": [
    "#Checking whether any value is lost while reducing the data skewness"
   ]
  },
  {
   "cell_type": "code",
   "execution_count": 55,
   "id": "722d1c05",
   "metadata": {},
   "outputs": [
    {
     "data": {
      "image/png": "[encoded data removed]",
      "text/plain": [
       "<Figure size 1440x1800 with 2 Axes>"
      ]
     },
     "metadata": {
      "needs_background": "light"
     },
     "output_type": "display_data"
    }
   ],
   "source": [
    "corr_mat=X.corr()\n",
    "plt.figure(figsize=[20,25])\n",
    "sns.heatmap(corr_mat,annot=True)\n",
    "plt.title(\"Correlation Matrix\")\n",
    "plt.show() #Checking correlation"
   ]
  },
  {
   "cell_type": "code",
   "execution_count": 56,
   "id": "bd5b7b44",
   "metadata": {},
   "outputs": [],
   "source": [
    "#Looking at the above data, there is no multicollinearity between any values\n",
    "#Therefore checking by VIF"
   ]
  },
  {
   "cell_type": "code",
   "execution_count": 57,
   "id": "ac128e28",
   "metadata": {},
   "outputs": [
    {
     "data": {
      "text/html": [
       "<div>\n",
       "<style scoped>\n",
       "    .dataframe tbody tr th:only-of-type {\n",
       "        vertical-align: middle;\n",
       "    }\n",
       "\n",
       "    .dataframe tbody tr th {\n",
       "        vertical-align: top;\n",
       "    }\n",
       "\n",
       "    .dataframe thead th {\n",
       "        text-align: right;\n",
       "    }\n",
       "</style>\n",
       "<table border=\"1\" class=\"dataframe\">\n",
       "  <thead>\n",
       "    <tr style=\"text-align: right;\">\n",
       "      <th></th>\n",
       "      <th>feature</th>\n",
       "      <th>VIF</th>\n",
       "    </tr>\n",
       "  </thead>\n",
       "  <tbody>\n",
       "    <tr>\n",
       "      <th>0</th>\n",
       "      <td>index</td>\n",
       "      <td>1.021259</td>\n",
       "    </tr>\n",
       "    <tr>\n",
       "      <th>1</th>\n",
       "      <td>Gender</td>\n",
       "      <td>1.209721</td>\n",
       "    </tr>\n",
       "    <tr>\n",
       "      <th>2</th>\n",
       "      <td>Married</td>\n",
       "      <td>1.466107</td>\n",
       "    </tr>\n",
       "    <tr>\n",
       "      <th>3</th>\n",
       "      <td>Dependents</td>\n",
       "      <td>1.271286</td>\n",
       "    </tr>\n",
       "    <tr>\n",
       "      <th>4</th>\n",
       "      <td>Education</td>\n",
       "      <td>1.055003</td>\n",
       "    </tr>\n",
       "    <tr>\n",
       "      <th>5</th>\n",
       "      <td>Self_Employed</td>\n",
       "      <td>1.061066</td>\n",
       "    </tr>\n",
       "    <tr>\n",
       "      <th>6</th>\n",
       "      <td>ApplicantIncome</td>\n",
       "      <td>1.930826</td>\n",
       "    </tr>\n",
       "    <tr>\n",
       "      <th>7</th>\n",
       "      <td>CoapplicantIncome</td>\n",
       "      <td>1.545321</td>\n",
       "    </tr>\n",
       "    <tr>\n",
       "      <th>8</th>\n",
       "      <td>LoanAmount</td>\n",
       "      <td>1.705847</td>\n",
       "    </tr>\n",
       "    <tr>\n",
       "      <th>9</th>\n",
       "      <td>Loan_Amount_Term</td>\n",
       "      <td>1.057035</td>\n",
       "    </tr>\n",
       "    <tr>\n",
       "      <th>10</th>\n",
       "      <td>Credit_History</td>\n",
       "      <td>1.015425</td>\n",
       "    </tr>\n",
       "    <tr>\n",
       "      <th>11</th>\n",
       "      <td>Property_Area</td>\n",
       "      <td>1.032088</td>\n",
       "    </tr>\n",
       "  </tbody>\n",
       "</table>\n",
       "</div>"
      ],
      "text/plain": [
       "              feature       VIF\n",
       "0               index  1.021259\n",
       "1              Gender  1.209721\n",
       "2             Married  1.466107\n",
       "3          Dependents  1.271286\n",
       "4           Education  1.055003\n",
       "5       Self_Employed  1.061066\n",
       "6     ApplicantIncome  1.930826\n",
       "7   CoapplicantIncome  1.545321\n",
       "8          LoanAmount  1.705847\n",
       "9    Loan_Amount_Term  1.057035\n",
       "10     Credit_History  1.015425\n",
       "11      Property_Area  1.032088"
      ]
     },
     "execution_count": 57,
     "metadata": {},
     "output_type": "execute_result"
    }
   ],
   "source": [
    "vif_data = pd.DataFrame()\n",
    "vif_data[\"feature\"] = X.columns\n",
    "vif_data[\"VIF\"] = [variance_inflation_factor(X.values, i)\n",
    "                          for i in range(len(X.columns))]\n",
    "\n",
    "vif_data"
   ]
  },
  {
   "cell_type": "code",
   "execution_count": 58,
   "id": "619d9702",
   "metadata": {},
   "outputs": [],
   "source": [
    "#Therefore from the above data there is no multicollinearity issue"
   ]
  },
  {
   "cell_type": "code",
   "execution_count": 59,
   "id": "7f161aa3",
   "metadata": {},
   "outputs": [
    {
     "data": {
      "text/plain": [
       "(480, 12)"
      ]
     },
     "execution_count": 59,
     "metadata": {},
     "output_type": "execute_result"
    }
   ],
   "source": [
    "X.shape"
   ]
  },
  {
   "cell_type": "code",
   "execution_count": 60,
   "id": "1e195ca3",
   "metadata": {},
   "outputs": [
    {
     "data": {
      "text/plain": [
       "(480,)"
      ]
     },
     "execution_count": 60,
     "metadata": {},
     "output_type": "execute_result"
    }
   ],
   "source": [
    "Y.shape"
   ]
  },
  {
   "cell_type": "code",
   "execution_count": 61,
   "id": "44b7c983",
   "metadata": {},
   "outputs": [
    {
     "data": {
      "image/png": "[encoded data removed]",
      "text/plain": [
       "<Figure size 720x864 with 1 Axes>"
      ]
     },
     "metadata": {
      "needs_background": "light"
     },
     "output_type": "display_data"
    }
   ],
   "source": [
    "X.plot(kind='box',figsize=(10,12),layout=(4,3))\n",
    "plt.show() #checking for oultiers"
   ]
  },
  {
   "cell_type": "code",
   "execution_count": 62,
   "id": "8484d5b5",
   "metadata": {},
   "outputs": [],
   "source": [
    "#From the above data there is presence of too many outliers"
   ]
  },
  {
   "cell_type": "code",
   "execution_count": 63,
   "id": "11b35005",
   "metadata": {},
   "outputs": [],
   "source": [
    "from scipy.stats import zscore"
   ]
  },
  {
   "cell_type": "code",
   "execution_count": 64,
   "id": "a8e1d9c4",
   "metadata": {},
   "outputs": [
    {
     "data": {
      "text/plain": [
       "index                 True\n",
       "Gender                True\n",
       "Married               True\n",
       "Dependents            True\n",
       "Education             True\n",
       "Self_Employed         True\n",
       "ApplicantIncome      False\n",
       "CoapplicantIncome     True\n",
       "LoanAmount           False\n",
       "Loan_Amount_Term     False\n",
       "Credit_History        True\n",
       "Property_Area         True\n",
       "dtype: bool"
      ]
     },
     "execution_count": 64,
     "metadata": {},
     "output_type": "execute_result"
    }
   ],
   "source": [
    "(np.abs(zscore(X)<3)).all()"
   ]
  },
  {
   "cell_type": "code",
   "execution_count": 65,
   "id": "12ef36d6",
   "metadata": {},
   "outputs": [
    {
     "data": {
      "text/plain": [
       "(array([ 12,  60,  85, 120, 120, 130, 139, 144, 170, 193, 236, 277, 284,\n",
       "        286, 293, 319, 347, 390, 390, 403, 438, 444, 448], dtype=int64),\n",
       " array([8, 9, 9, 6, 8, 9, 9, 6, 6, 9, 9, 9, 9, 8, 9, 6, 6, 6, 9, 9, 8, 8,\n",
       "        9], dtype=int64))"
      ]
     },
     "execution_count": 65,
     "metadata": {},
     "output_type": "execute_result"
    }
   ],
   "source": [
    "# these are the index positions where outlier is present\n",
    "index = np.where(np.abs(zscore(X))>3)\n",
    "index"
   ]
  },
  {
   "cell_type": "code",
   "execution_count": 66,
   "id": "ccc6700a",
   "metadata": {},
   "outputs": [
    {
     "data": {
      "text/html": [
       "<div>\n",
       "<style scoped>\n",
       "    .dataframe tbody tr th:only-of-type {\n",
       "        vertical-align: middle;\n",
       "    }\n",
       "\n",
       "    .dataframe tbody tr th {\n",
       "        vertical-align: top;\n",
       "    }\n",
       "\n",
       "    .dataframe thead th {\n",
       "        text-align: right;\n",
       "    }\n",
       "</style>\n",
       "<table border=\"1\" class=\"dataframe\">\n",
       "  <thead>\n",
       "    <tr style=\"text-align: right;\">\n",
       "      <th></th>\n",
       "      <th>index</th>\n",
       "      <th>Gender</th>\n",
       "      <th>Married</th>\n",
       "      <th>Dependents</th>\n",
       "      <th>Education</th>\n",
       "      <th>Self_Employed</th>\n",
       "      <th>ApplicantIncome</th>\n",
       "      <th>CoapplicantIncome</th>\n",
       "      <th>LoanAmount</th>\n",
       "      <th>Loan_Amount_Term</th>\n",
       "      <th>Credit_History</th>\n",
       "      <th>Property_Area</th>\n",
       "    </tr>\n",
       "  </thead>\n",
       "  <tbody>\n",
       "    <tr>\n",
       "      <th>0</th>\n",
       "      <td>-2.130019</td>\n",
       "      <td>0.467198</td>\n",
       "      <td>0.737162</td>\n",
       "      <td>0.786423</td>\n",
       "      <td>0.503253</td>\n",
       "      <td>-0.399275</td>\n",
       "      <td>0.164670</td>\n",
       "      <td>0.766892</td>\n",
       "      <td>-0.029189</td>\n",
       "      <td>0.174422</td>\n",
       "      <td>0.413197</td>\n",
       "      <td>-0.064878</td>\n",
       "    </tr>\n",
       "    <tr>\n",
       "      <th>1</th>\n",
       "      <td>-2.108933</td>\n",
       "      <td>0.467198</td>\n",
       "      <td>0.737162</td>\n",
       "      <td>-0.851464</td>\n",
       "      <td>0.503253</td>\n",
       "      <td>2.504541</td>\n",
       "      <td>-0.538339</td>\n",
       "      <td>-1.091163</td>\n",
       "      <td>-1.281195</td>\n",
       "      <td>0.174422</td>\n",
       "      <td>0.413197</td>\n",
       "      <td>-1.311201</td>\n",
       "    </tr>\n",
       "    <tr>\n",
       "      <th>2</th>\n",
       "      <td>-2.089806</td>\n",
       "      <td>0.467198</td>\n",
       "      <td>0.737162</td>\n",
       "      <td>-0.851464</td>\n",
       "      <td>-1.987072</td>\n",
       "      <td>-0.399275</td>\n",
       "      <td>-0.796236</td>\n",
       "      <td>0.904508</td>\n",
       "      <td>-0.156488</td>\n",
       "      <td>0.174422</td>\n",
       "      <td>0.413197</td>\n",
       "      <td>-1.311201</td>\n",
       "    </tr>\n",
       "    <tr>\n",
       "      <th>3</th>\n",
       "      <td>-2.072014</td>\n",
       "      <td>0.467198</td>\n",
       "      <td>-1.356553</td>\n",
       "      <td>-0.851464</td>\n",
       "      <td>0.503253</td>\n",
       "      <td>-0.399275</td>\n",
       "      <td>0.591486</td>\n",
       "      <td>-1.091163</td>\n",
       "      <td>0.163801</td>\n",
       "      <td>0.174422</td>\n",
       "      <td>0.413197</td>\n",
       "      <td>-1.311201</td>\n",
       "    </tr>\n",
       "    <tr>\n",
       "      <th>4</th>\n",
       "      <td>-2.055220</td>\n",
       "      <td>0.467198</td>\n",
       "      <td>0.737162</td>\n",
       "      <td>1.277424</td>\n",
       "      <td>0.503253</td>\n",
       "      <td>2.504541</td>\n",
       "      <td>0.431341</td>\n",
       "      <td>1.086684</td>\n",
       "      <td>1.505559</td>\n",
       "      <td>0.174422</td>\n",
       "      <td>0.413197</td>\n",
       "      <td>-1.311201</td>\n",
       "    </tr>\n",
       "    <tr>\n",
       "      <th>...</th>\n",
       "      <td>...</td>\n",
       "      <td>...</td>\n",
       "      <td>...</td>\n",
       "      <td>...</td>\n",
       "      <td>...</td>\n",
       "      <td>...</td>\n",
       "      <td>...</td>\n",
       "      <td>...</td>\n",
       "      <td>...</td>\n",
       "      <td>...</td>\n",
       "      <td>...</td>\n",
       "      <td>...</td>\n",
       "    </tr>\n",
       "    <tr>\n",
       "      <th>475</th>\n",
       "      <td>1.535875</td>\n",
       "      <td>-2.140419</td>\n",
       "      <td>-1.356553</td>\n",
       "      <td>-0.851464</td>\n",
       "      <td>0.503253</td>\n",
       "      <td>-0.399275</td>\n",
       "      <td>-0.596311</td>\n",
       "      <td>-1.091163</td>\n",
       "      <td>-1.149005</td>\n",
       "      <td>0.174422</td>\n",
       "      <td>0.413197</td>\n",
       "      <td>-0.064878</td>\n",
       "    </tr>\n",
       "    <tr>\n",
       "      <th>476</th>\n",
       "      <td>1.540238</td>\n",
       "      <td>0.467198</td>\n",
       "      <td>0.737162</td>\n",
       "      <td>1.507472</td>\n",
       "      <td>0.503253</td>\n",
       "      <td>-0.399275</td>\n",
       "      <td>-0.013885</td>\n",
       "      <td>-1.091163</td>\n",
       "      <td>-2.149682</td>\n",
       "      <td>-2.278046</td>\n",
       "      <td>0.413197</td>\n",
       "      <td>-0.064878</td>\n",
       "    </tr>\n",
       "    <tr>\n",
       "      <th>477</th>\n",
       "      <td>1.544599</td>\n",
       "      <td>0.467198</td>\n",
       "      <td>0.737162</td>\n",
       "      <td>0.786423</td>\n",
       "      <td>0.503253</td>\n",
       "      <td>-0.399275</td>\n",
       "      <td>1.044108</td>\n",
       "      <td>0.233802</td>\n",
       "      <td>1.387711</td>\n",
       "      <td>0.174422</td>\n",
       "      <td>0.413197</td>\n",
       "      <td>-1.311201</td>\n",
       "    </tr>\n",
       "    <tr>\n",
       "      <th>478</th>\n",
       "      <td>1.548957</td>\n",
       "      <td>0.467198</td>\n",
       "      <td>0.737162</td>\n",
       "      <td>1.277424</td>\n",
       "      <td>0.503253</td>\n",
       "      <td>-0.399275</td>\n",
       "      <td>0.950234</td>\n",
       "      <td>-1.091163</td>\n",
       "      <td>0.742412</td>\n",
       "      <td>0.174422</td>\n",
       "      <td>0.413197</td>\n",
       "      <td>-1.311201</td>\n",
       "    </tr>\n",
       "    <tr>\n",
       "      <th>479</th>\n",
       "      <td>1.553314</td>\n",
       "      <td>-2.140419</td>\n",
       "      <td>-1.356553</td>\n",
       "      <td>-0.851464</td>\n",
       "      <td>0.503253</td>\n",
       "      <td>2.504541</td>\n",
       "      <td>0.164670</td>\n",
       "      <td>-1.091163</td>\n",
       "      <td>0.046947</td>\n",
       "      <td>0.174422</td>\n",
       "      <td>-2.420153</td>\n",
       "      <td>1.076954</td>\n",
       "    </tr>\n",
       "  </tbody>\n",
       "</table>\n",
       "<p>459 rows × 12 columns</p>\n",
       "</div>"
      ],
      "text/plain": [
       "        index    Gender   Married  Dependents  Education  Self_Employed  \\\n",
       "0   -2.130019  0.467198  0.737162    0.786423   0.503253      -0.399275   \n",
       "1   -2.108933  0.467198  0.737162   -0.851464   0.503253       2.504541   \n",
       "2   -2.089806  0.467198  0.737162   -0.851464  -1.987072      -0.399275   \n",
       "3   -2.072014  0.467198 -1.356553   -0.851464   0.503253      -0.399275   \n",
       "4   -2.055220  0.467198  0.737162    1.277424   0.503253       2.504541   \n",
       "..        ...       ...       ...         ...        ...            ...   \n",
       "475  1.535875 -2.140419 -1.356553   -0.851464   0.503253      -0.399275   \n",
       "476  1.540238  0.467198  0.737162    1.507472   0.503253      -0.399275   \n",
       "477  1.544599  0.467198  0.737162    0.786423   0.503253      -0.399275   \n",
       "478  1.548957  0.467198  0.737162    1.277424   0.503253      -0.399275   \n",
       "479  1.553314 -2.140419 -1.356553   -0.851464   0.503253       2.504541   \n",
       "\n",
       "     ApplicantIncome  CoapplicantIncome  LoanAmount  Loan_Amount_Term  \\\n",
       "0           0.164670           0.766892   -0.029189          0.174422   \n",
       "1          -0.538339          -1.091163   -1.281195          0.174422   \n",
       "2          -0.796236           0.904508   -0.156488          0.174422   \n",
       "3           0.591486          -1.091163    0.163801          0.174422   \n",
       "4           0.431341           1.086684    1.505559          0.174422   \n",
       "..               ...                ...         ...               ...   \n",
       "475        -0.596311          -1.091163   -1.149005          0.174422   \n",
       "476        -0.013885          -1.091163   -2.149682         -2.278046   \n",
       "477         1.044108           0.233802    1.387711          0.174422   \n",
       "478         0.950234          -1.091163    0.742412          0.174422   \n",
       "479         0.164670          -1.091163    0.046947          0.174422   \n",
       "\n",
       "     Credit_History  Property_Area  \n",
       "0          0.413197      -0.064878  \n",
       "1          0.413197      -1.311201  \n",
       "2          0.413197      -1.311201  \n",
       "3          0.413197      -1.311201  \n",
       "4          0.413197      -1.311201  \n",
       "..              ...            ...  \n",
       "475        0.413197      -0.064878  \n",
       "476        0.413197      -0.064878  \n",
       "477        0.413197      -1.311201  \n",
       "478        0.413197      -1.311201  \n",
       "479       -2.420153       1.076954  \n",
       "\n",
       "[459 rows x 12 columns]"
      ]
     },
     "execution_count": 66,
     "metadata": {},
     "output_type": "execute_result"
    }
   ],
   "source": [
    "# assigning a variable to the values having less than 3 zscore\n",
    "X_new = X[(np.abs(zscore(X))<3).all(axis=1)]\n",
    "X_new"
   ]
  },
  {
   "cell_type": "code",
   "execution_count": 67,
   "id": "1751563d",
   "metadata": {},
   "outputs": [
    {
     "data": {
      "text/plain": [
       "(459, 12)"
      ]
     },
     "execution_count": 67,
     "metadata": {},
     "output_type": "execute_result"
    }
   ],
   "source": [
    "X_new.shape #checking the shape of feature variable after removing the data"
   ]
  },
  {
   "cell_type": "code",
   "execution_count": 68,
   "id": "e0dfdd05",
   "metadata": {},
   "outputs": [
    {
     "data": {
      "text/plain": [
       "0      0\n",
       "1      1\n",
       "2      1\n",
       "3      1\n",
       "4      1\n",
       "      ..\n",
       "475    1\n",
       "476    1\n",
       "477    1\n",
       "478    1\n",
       "479    0\n",
       "Name: Loan_Status, Length: 459, dtype: int64"
      ]
     },
     "execution_count": 68,
     "metadata": {},
     "output_type": "execute_result"
    }
   ],
   "source": [
    "Y_new=Y.drop(index[0],axis=0)\n",
    "Y_new  #removing the outliers from target variables"
   ]
  },
  {
   "cell_type": "code",
   "execution_count": 69,
   "id": "eb6c4a11",
   "metadata": {},
   "outputs": [
    {
     "data": {
      "text/plain": [
       "(459,)"
      ]
     },
     "execution_count": 69,
     "metadata": {},
     "output_type": "execute_result"
    }
   ],
   "source": [
    "Y_new.shape ##checking the shape of target variable after removing the data"
   ]
  },
  {
   "cell_type": "code",
   "execution_count": 70,
   "id": "f64608e8",
   "metadata": {},
   "outputs": [],
   "source": [
    "Scalar=StandardScaler() #scaling the data"
   ]
  },
  {
   "cell_type": "code",
   "execution_count": 73,
   "id": "9890d4f1",
   "metadata": {},
   "outputs": [
    {
     "data": {
      "text/plain": [
       "array([[-2.12041055,  0.46291005,  0.73151696, ...,  0.35906474,\n",
       "         0.40617068, -0.05932324],\n",
       "       [-2.09938566,  0.46291005,  0.73151696, ...,  0.35906474,\n",
       "         0.40617068, -1.30693701],\n",
       "       [-2.08031384,  0.46291005,  0.73151696, ...,  0.35906474,\n",
       "         0.40617068, -1.30693701],\n",
       "       ...,\n",
       "       [ 1.54357015,  0.46291005,  0.73151696, ...,  0.35906474,\n",
       "         0.40617068, -1.30693701],\n",
       "       [ 1.54791619,  0.46291005,  0.73151696, ...,  0.35906474,\n",
       "         0.40617068, -1.30693701],\n",
       "       [ 1.5522602 , -2.1602469 , -1.36702231, ...,  0.35906474,\n",
       "        -2.46201918,  1.08369195]])"
      ]
     },
     "execution_count": 73,
     "metadata": {},
     "output_type": "execute_result"
    }
   ],
   "source": [
    "X_Scaled=Scalar.fit_transform(X_new)\n",
    "X_Scaled"
   ]
  },
  {
   "cell_type": "markdown",
   "id": "62c93da9",
   "metadata": {},
   "source": [
    "# Logistic Regression"
   ]
  },
  {
   "cell_type": "code",
   "execution_count": 71,
   "id": "4a8cb43a",
   "metadata": {},
   "outputs": [],
   "source": [
    "LR=LogisticRegression()"
   ]
  },
  {
   "cell_type": "code",
   "execution_count": 74,
   "id": "d80c254a",
   "metadata": {},
   "outputs": [
    {
     "name": "stdout",
     "output_type": "stream",
     "text": [
      "At random state 0 the testing accurancy is:- 0.8260869565217391\n",
      "/n\n",
      "At random state 1 the testing accurancy is:- 0.8913043478260869\n",
      "/n\n",
      "At random state 2 the testing accurancy is:- 0.8043478260869565\n",
      "/n\n",
      "At random state 3 the testing accurancy is:- 0.8369565217391305\n",
      "/n\n",
      "At random state 4 the testing accurancy is:- 0.8043478260869565\n",
      "/n\n",
      "At random state 5 the testing accurancy is:- 0.782608695652174\n",
      "/n\n",
      "At random state 6 the testing accurancy is:- 0.8804347826086957\n",
      "/n\n",
      "At random state 7 the testing accurancy is:- 0.8043478260869565\n",
      "/n\n",
      "At random state 8 the testing accurancy is:- 0.7934782608695652\n",
      "/n\n",
      "At random state 9 the testing accurancy is:- 0.8260869565217391\n",
      "/n\n",
      "At random state 10 the testing accurancy is:- 0.8260869565217391\n",
      "/n\n",
      "At random state 11 the testing accurancy is:- 0.8043478260869565\n",
      "/n\n",
      "At random state 12 the testing accurancy is:- 0.7934782608695652\n",
      "/n\n",
      "At random state 13 the testing accurancy is:- 0.8369565217391305\n",
      "/n\n",
      "At random state 14 the testing accurancy is:- 0.8478260869565217\n",
      "/n\n",
      "At random state 15 the testing accurancy is:- 0.8043478260869565\n",
      "/n\n",
      "At random state 16 the testing accurancy is:- 0.8478260869565217\n",
      "/n\n",
      "At random state 17 the testing accurancy is:- 0.8260869565217391\n",
      "/n\n",
      "At random state 18 the testing accurancy is:- 0.8043478260869565\n",
      "/n\n",
      "At random state 19 the testing accurancy is:- 0.8478260869565217\n",
      "/n\n",
      "At random state 20 the testing accurancy is:- 0.8369565217391305\n",
      "/n\n",
      "At random state 21 the testing accurancy is:- 0.8260869565217391\n",
      "/n\n",
      "At random state 22 the testing accurancy is:- 0.8478260869565217\n",
      "/n\n",
      "At random state 23 the testing accurancy is:- 0.8152173913043478\n",
      "/n\n",
      "At random state 24 the testing accurancy is:- 0.8369565217391305\n",
      "/n\n",
      "At random state 25 the testing accurancy is:- 0.8260869565217391\n",
      "/n\n",
      "At random state 26 the testing accurancy is:- 0.8369565217391305\n",
      "/n\n",
      "At random state 27 the testing accurancy is:- 0.7391304347826086\n",
      "/n\n",
      "At random state 28 the testing accurancy is:- 0.782608695652174\n",
      "/n\n",
      "At random state 29 the testing accurancy is:- 0.782608695652174\n",
      "/n\n",
      "At random state 30 the testing accurancy is:- 0.8369565217391305\n",
      "/n\n",
      "At random state 31 the testing accurancy is:- 0.8043478260869565\n",
      "/n\n",
      "At random state 32 the testing accurancy is:- 0.7934782608695652\n",
      "/n\n",
      "At random state 33 the testing accurancy is:- 0.7608695652173914\n",
      "/n\n",
      "At random state 34 the testing accurancy is:- 0.8369565217391305\n",
      "/n\n",
      "At random state 35 the testing accurancy is:- 0.7608695652173914\n",
      "/n\n",
      "At random state 36 the testing accurancy is:- 0.7717391304347826\n",
      "/n\n",
      "At random state 37 the testing accurancy is:- 0.8043478260869565\n",
      "/n\n",
      "At random state 38 the testing accurancy is:- 0.7934782608695652\n",
      "/n\n",
      "At random state 39 the testing accurancy is:- 0.782608695652174\n",
      "/n\n",
      "At random state 40 the testing accurancy is:- 0.8586956521739131\n",
      "/n\n",
      "At random state 41 the testing accurancy is:- 0.7934782608695652\n",
      "/n\n",
      "At random state 42 the testing accurancy is:- 0.8043478260869565\n",
      "/n\n",
      "At random state 43 the testing accurancy is:- 0.8152173913043478\n",
      "/n\n",
      "At random state 44 the testing accurancy is:- 0.8369565217391305\n",
      "/n\n",
      "At random state 45 the testing accurancy is:- 0.8152173913043478\n",
      "/n\n",
      "At random state 46 the testing accurancy is:- 0.782608695652174\n",
      "/n\n",
      "At random state 47 the testing accurancy is:- 0.8478260869565217\n",
      "/n\n",
      "At random state 48 the testing accurancy is:- 0.8152173913043478\n",
      "/n\n",
      "At random state 49 the testing accurancy is:- 0.8152173913043478\n",
      "/n\n",
      "At random state 50 the testing accurancy is:- 0.7391304347826086\n",
      "/n\n",
      "At random state 51 the testing accurancy is:- 0.8260869565217391\n",
      "/n\n",
      "At random state 52 the testing accurancy is:- 0.8478260869565217\n",
      "/n\n",
      "At random state 53 the testing accurancy is:- 0.8695652173913043\n",
      "/n\n",
      "At random state 54 the testing accurancy is:- 0.8260869565217391\n",
      "/n\n",
      "At random state 55 the testing accurancy is:- 0.8478260869565217\n",
      "/n\n",
      "At random state 56 the testing accurancy is:- 0.8586956521739131\n",
      "/n\n",
      "At random state 57 the testing accurancy is:- 0.8260869565217391\n",
      "/n\n",
      "At random state 58 the testing accurancy is:- 0.7717391304347826\n",
      "/n\n",
      "At random state 59 the testing accurancy is:- 0.8586956521739131\n",
      "/n\n",
      "At random state 60 the testing accurancy is:- 0.8152173913043478\n",
      "/n\n",
      "At random state 61 the testing accurancy is:- 0.782608695652174\n",
      "/n\n",
      "At random state 62 the testing accurancy is:- 0.8586956521739131\n",
      "/n\n",
      "At random state 63 the testing accurancy is:- 0.8152173913043478\n",
      "/n\n",
      "At random state 64 the testing accurancy is:- 0.8043478260869565\n",
      "/n\n",
      "At random state 65 the testing accurancy is:- 0.8586956521739131\n",
      "/n\n",
      "At random state 66 the testing accurancy is:- 0.8260869565217391\n",
      "/n\n",
      "At random state 67 the testing accurancy is:- 0.8260869565217391\n",
      "/n\n",
      "At random state 68 the testing accurancy is:- 0.8043478260869565\n",
      "/n\n",
      "At random state 69 the testing accurancy is:- 0.75\n",
      "/n\n",
      "At random state 70 the testing accurancy is:- 0.782608695652174\n",
      "/n\n",
      "At random state 71 the testing accurancy is:- 0.7608695652173914\n",
      "/n\n",
      "At random state 72 the testing accurancy is:- 0.7934782608695652\n",
      "/n\n",
      "At random state 73 the testing accurancy is:- 0.8043478260869565\n",
      "/n\n",
      "At random state 74 the testing accurancy is:- 0.8152173913043478\n",
      "/n\n",
      "At random state 75 the testing accurancy is:- 0.8043478260869565\n",
      "/n\n",
      "At random state 76 the testing accurancy is:- 0.8043478260869565\n",
      "/n\n",
      "At random state 77 the testing accurancy is:- 0.8152173913043478\n",
      "/n\n",
      "At random state 78 the testing accurancy is:- 0.8586956521739131\n",
      "/n\n",
      "At random state 79 the testing accurancy is:- 0.75\n",
      "/n\n",
      "At random state 80 the testing accurancy is:- 0.7391304347826086\n",
      "/n\n",
      "At random state 81 the testing accurancy is:- 0.782608695652174\n",
      "/n\n",
      "At random state 82 the testing accurancy is:- 0.9021739130434783\n",
      "/n\n",
      "At random state 83 the testing accurancy is:- 0.782608695652174\n",
      "/n\n",
      "At random state 84 the testing accurancy is:- 0.8260869565217391\n",
      "/n\n",
      "At random state 85 the testing accurancy is:- 0.8586956521739131\n",
      "/n\n",
      "At random state 86 the testing accurancy is:- 0.8152173913043478\n",
      "/n\n",
      "At random state 87 the testing accurancy is:- 0.8478260869565217\n",
      "/n\n",
      "At random state 88 the testing accurancy is:- 0.8369565217391305\n",
      "/n\n",
      "At random state 89 the testing accurancy is:- 0.8260869565217391\n",
      "/n\n",
      "At random state 90 the testing accurancy is:- 0.8043478260869565\n",
      "/n\n",
      "At random state 91 the testing accurancy is:- 0.7934782608695652\n",
      "/n\n",
      "At random state 92 the testing accurancy is:- 0.8260869565217391\n",
      "/n\n",
      "At random state 93 the testing accurancy is:- 0.7608695652173914\n",
      "/n\n",
      "At random state 94 the testing accurancy is:- 0.8152173913043478\n",
      "/n\n",
      "At random state 95 the testing accurancy is:- 0.8152173913043478\n",
      "/n\n",
      "At random state 96 the testing accurancy is:- 0.8586956521739131\n",
      "/n\n",
      "At random state 97 the testing accurancy is:- 0.8369565217391305\n",
      "/n\n",
      "At random state 98 the testing accurancy is:- 0.8260869565217391\n",
      "/n\n",
      "At random state 99 the testing accurancy is:- 0.8586956521739131\n",
      "/n\n"
     ]
    }
   ],
   "source": [
    "for i in range (0,100):\n",
    "    X_train,X_test,y_train,y_test=train_test_split(X_Scaled,Y_new,test_size=0.20,random_state=i)\n",
    "    LR.fit(X_train,y_train)\n",
    "    pred_test=LR.predict(X_test)\n",
    "    print('At random state',i,'the testing accurancy is:-',accuracy_score(y_test,pred_test))\n",
    "    print(\"/n\")"
   ]
  },
  {
   "cell_type": "markdown",
   "id": "0166db4a",
   "metadata": {},
   "source": [
    "# Random Forest Classifier"
   ]
  },
  {
   "cell_type": "code",
   "execution_count": 76,
   "id": "21930bc2",
   "metadata": {},
   "outputs": [],
   "source": [
    "rfc=RandomForestClassifier()"
   ]
  },
  {
   "cell_type": "code",
   "execution_count": 77,
   "id": "0cfa2e2b",
   "metadata": {},
   "outputs": [
    {
     "name": "stdout",
     "output_type": "stream",
     "text": [
      "At random state 0 the testing accurancy is:- 0.8260869565217391\n",
      "/n\n",
      "At random state 1 the testing accurancy is:- 0.8695652173913043\n",
      "/n\n",
      "At random state 2 the testing accurancy is:- 0.8152173913043478\n",
      "/n\n",
      "At random state 3 the testing accurancy is:- 0.8369565217391305\n",
      "/n\n",
      "At random state 4 the testing accurancy is:- 0.7934782608695652\n",
      "/n\n",
      "At random state 5 the testing accurancy is:- 0.8152173913043478\n",
      "/n\n",
      "At random state 6 the testing accurancy is:- 0.8695652173913043\n",
      "/n\n",
      "At random state 7 the testing accurancy is:- 0.8043478260869565\n",
      "/n\n",
      "At random state 8 the testing accurancy is:- 0.8152173913043478\n",
      "/n\n",
      "At random state 9 the testing accurancy is:- 0.8043478260869565\n",
      "/n\n",
      "At random state 10 the testing accurancy is:- 0.7608695652173914\n",
      "/n\n",
      "At random state 11 the testing accurancy is:- 0.8043478260869565\n",
      "/n\n",
      "At random state 12 the testing accurancy is:- 0.7934782608695652\n",
      "/n\n",
      "At random state 13 the testing accurancy is:- 0.8586956521739131\n",
      "/n\n",
      "At random state 14 the testing accurancy is:- 0.8152173913043478\n",
      "/n\n",
      "At random state 15 the testing accurancy is:- 0.7934782608695652\n",
      "/n\n",
      "At random state 16 the testing accurancy is:- 0.8152173913043478\n",
      "/n\n",
      "At random state 17 the testing accurancy is:- 0.8260869565217391\n",
      "/n\n",
      "At random state 18 the testing accurancy is:- 0.7934782608695652\n",
      "/n\n",
      "At random state 19 the testing accurancy is:- 0.8152173913043478\n",
      "/n\n",
      "At random state 20 the testing accurancy is:- 0.782608695652174\n",
      "/n\n",
      "At random state 21 the testing accurancy is:- 0.8043478260869565\n",
      "/n\n",
      "At random state 22 the testing accurancy is:- 0.8369565217391305\n",
      "/n\n",
      "At random state 23 the testing accurancy is:- 0.8043478260869565\n",
      "/n\n",
      "At random state 24 the testing accurancy is:- 0.8478260869565217\n",
      "/n\n",
      "At random state 25 the testing accurancy is:- 0.8043478260869565\n",
      "/n\n",
      "At random state 26 the testing accurancy is:- 0.8152173913043478\n",
      "/n\n",
      "At random state 27 the testing accurancy is:- 0.717391304347826\n",
      "/n\n",
      "At random state 28 the testing accurancy is:- 0.8043478260869565\n",
      "/n\n",
      "At random state 29 the testing accurancy is:- 0.782608695652174\n",
      "/n\n",
      "At random state 30 the testing accurancy is:- 0.8152173913043478\n",
      "/n\n",
      "At random state 31 the testing accurancy is:- 0.8043478260869565\n",
      "/n\n",
      "At random state 32 the testing accurancy is:- 0.7934782608695652\n",
      "/n\n",
      "At random state 33 the testing accurancy is:- 0.7608695652173914\n",
      "/n\n",
      "At random state 34 the testing accurancy is:- 0.8043478260869565\n",
      "/n\n",
      "At random state 35 the testing accurancy is:- 0.7608695652173914\n",
      "/n\n",
      "At random state 36 the testing accurancy is:- 0.7717391304347826\n",
      "/n\n",
      "At random state 37 the testing accurancy is:- 0.7934782608695652\n",
      "/n\n",
      "At random state 38 the testing accurancy is:- 0.782608695652174\n",
      "/n\n",
      "At random state 39 the testing accurancy is:- 0.782608695652174\n",
      "/n\n",
      "At random state 40 the testing accurancy is:- 0.8369565217391305\n",
      "/n\n",
      "At random state 41 the testing accurancy is:- 0.7934782608695652\n",
      "/n\n",
      "At random state 42 the testing accurancy is:- 0.8043478260869565\n",
      "/n\n",
      "At random state 43 the testing accurancy is:- 0.8152173913043478\n",
      "/n\n",
      "At random state 44 the testing accurancy is:- 0.7717391304347826\n",
      "/n\n",
      "At random state 45 the testing accurancy is:- 0.8043478260869565\n",
      "/n\n",
      "At random state 46 the testing accurancy is:- 0.782608695652174\n",
      "/n\n",
      "At random state 47 the testing accurancy is:- 0.8478260869565217\n",
      "/n\n",
      "At random state 48 the testing accurancy is:- 0.8478260869565217\n",
      "/n\n",
      "At random state 49 the testing accurancy is:- 0.8369565217391305\n",
      "/n\n",
      "At random state 50 the testing accurancy is:- 0.7391304347826086\n",
      "/n\n",
      "At random state 51 the testing accurancy is:- 0.8369565217391305\n",
      "/n\n",
      "At random state 52 the testing accurancy is:- 0.8043478260869565\n",
      "/n\n",
      "At random state 53 the testing accurancy is:- 0.8586956521739131\n",
      "/n\n",
      "At random state 54 the testing accurancy is:- 0.8260869565217391\n",
      "/n\n",
      "At random state 55 the testing accurancy is:- 0.8586956521739131\n",
      "/n\n",
      "At random state 56 the testing accurancy is:- 0.8369565217391305\n",
      "/n\n",
      "At random state 57 the testing accurancy is:- 0.8043478260869565\n",
      "/n\n",
      "At random state 58 the testing accurancy is:- 0.7934782608695652\n",
      "/n\n",
      "At random state 59 the testing accurancy is:- 0.8586956521739131\n",
      "/n\n",
      "At random state 60 the testing accurancy is:- 0.8043478260869565\n",
      "/n\n",
      "At random state 61 the testing accurancy is:- 0.8260869565217391\n",
      "/n\n",
      "At random state 62 the testing accurancy is:- 0.8260869565217391\n",
      "/n\n",
      "At random state 63 the testing accurancy is:- 0.782608695652174\n",
      "/n\n",
      "At random state 64 the testing accurancy is:- 0.8152173913043478\n",
      "/n\n",
      "At random state 65 the testing accurancy is:- 0.8369565217391305\n",
      "/n\n",
      "At random state 66 the testing accurancy is:- 0.8043478260869565\n",
      "/n\n",
      "At random state 67 the testing accurancy is:- 0.8043478260869565\n",
      "/n\n",
      "At random state 68 the testing accurancy is:- 0.7717391304347826\n",
      "/n\n",
      "At random state 69 the testing accurancy is:- 0.7391304347826086\n",
      "/n\n",
      "At random state 70 the testing accurancy is:- 0.7934782608695652\n",
      "/n\n",
      "At random state 71 the testing accurancy is:- 0.7717391304347826\n",
      "/n\n",
      "At random state 72 the testing accurancy is:- 0.8152173913043478\n",
      "/n\n",
      "At random state 73 the testing accurancy is:- 0.8152173913043478\n",
      "/n\n",
      "At random state 74 the testing accurancy is:- 0.8260869565217391\n",
      "/n\n",
      "At random state 75 the testing accurancy is:- 0.8260869565217391\n",
      "/n\n",
      "At random state 76 the testing accurancy is:- 0.7934782608695652\n",
      "/n\n",
      "At random state 77 the testing accurancy is:- 0.8260869565217391\n",
      "/n\n",
      "At random state 78 the testing accurancy is:- 0.8586956521739131\n",
      "/n\n",
      "At random state 79 the testing accurancy is:- 0.75\n",
      "/n\n",
      "At random state 80 the testing accurancy is:- 0.7282608695652174\n",
      "/n\n",
      "At random state 81 the testing accurancy is:- 0.75\n",
      "/n\n",
      "At random state 82 the testing accurancy is:- 0.9021739130434783\n",
      "/n\n",
      "At random state 83 the testing accurancy is:- 0.7934782608695652\n",
      "/n\n",
      "At random state 84 the testing accurancy is:- 0.8260869565217391\n",
      "/n\n",
      "At random state 85 the testing accurancy is:- 0.8369565217391305\n",
      "/n\n",
      "At random state 86 the testing accurancy is:- 0.8260869565217391\n",
      "/n\n",
      "At random state 87 the testing accurancy is:- 0.8804347826086957\n",
      "/n\n",
      "At random state 88 the testing accurancy is:- 0.8478260869565217\n",
      "/n\n",
      "At random state 89 the testing accurancy is:- 0.782608695652174\n",
      "/n\n",
      "At random state 90 the testing accurancy is:- 0.8260869565217391\n",
      "/n\n",
      "At random state 91 the testing accurancy is:- 0.7934782608695652\n",
      "/n\n",
      "At random state 92 the testing accurancy is:- 0.8369565217391305\n",
      "/n\n",
      "At random state 93 the testing accurancy is:- 0.7391304347826086\n",
      "/n\n",
      "At random state 94 the testing accurancy is:- 0.8152173913043478\n",
      "/n\n",
      "At random state 95 the testing accurancy is:- 0.8260869565217391\n",
      "/n\n",
      "At random state 96 the testing accurancy is:- 0.8804347826086957\n",
      "/n\n",
      "At random state 97 the testing accurancy is:- 0.8369565217391305\n",
      "/n\n",
      "At random state 98 the testing accurancy is:- 0.8043478260869565\n",
      "/n\n",
      "At random state 99 the testing accurancy is:- 0.8586956521739131\n",
      "/n\n"
     ]
    }
   ],
   "source": [
    "for i in range (0,100):\n",
    "    X_train,X_test,y_train,y_test=train_test_split(X_Scaled,Y_new,test_size=0.20,random_state=i)\n",
    "    rfc.fit(X_train,y_train)\n",
    "    pred_test=rfc.predict(X_test)\n",
    "    print('At random state',i,'the testing accurancy is:-',accuracy_score(y_test,pred_test))\n",
    "    print(\"/n\")"
   ]
  },
  {
   "cell_type": "markdown",
   "id": "d6b44f41",
   "metadata": {},
   "source": [
    "# Decision Tree"
   ]
  },
  {
   "cell_type": "code",
   "execution_count": 78,
   "id": "610584b2",
   "metadata": {},
   "outputs": [],
   "source": [
    "DT=DecisionTreeClassifier()"
   ]
  },
  {
   "cell_type": "code",
   "execution_count": 79,
   "id": "171e448b",
   "metadata": {},
   "outputs": [
    {
     "name": "stdout",
     "output_type": "stream",
     "text": [
      "At random state 0 the testing accurancy is:- 0.7282608695652174\n",
      "/n\n",
      "At random state 1 the testing accurancy is:- 0.7717391304347826\n",
      "/n\n",
      "At random state 2 the testing accurancy is:- 0.6739130434782609\n",
      "/n\n",
      "At random state 3 the testing accurancy is:- 0.7717391304347826\n",
      "/n\n",
      "At random state 4 the testing accurancy is:- 0.782608695652174\n",
      "/n\n",
      "At random state 5 the testing accurancy is:- 0.7608695652173914\n",
      "/n\n",
      "At random state 6 the testing accurancy is:- 0.7391304347826086\n",
      "/n\n",
      "At random state 7 the testing accurancy is:- 0.782608695652174\n",
      "/n\n",
      "At random state 8 the testing accurancy is:- 0.75\n",
      "/n\n",
      "At random state 9 the testing accurancy is:- 0.75\n",
      "/n\n",
      "At random state 10 the testing accurancy is:- 0.6195652173913043\n",
      "/n\n",
      "At random state 11 the testing accurancy is:- 0.7282608695652174\n",
      "/n\n",
      "At random state 12 the testing accurancy is:- 0.7282608695652174\n",
      "/n\n",
      "At random state 13 the testing accurancy is:- 0.7391304347826086\n",
      "/n\n",
      "At random state 14 the testing accurancy is:- 0.7608695652173914\n",
      "/n\n",
      "At random state 15 the testing accurancy is:- 0.75\n",
      "/n\n",
      "At random state 16 the testing accurancy is:- 0.7065217391304348\n",
      "/n\n",
      "At random state 17 the testing accurancy is:- 0.6956521739130435\n",
      "/n\n",
      "At random state 18 the testing accurancy is:- 0.7717391304347826\n",
      "/n\n",
      "At random state 19 the testing accurancy is:- 0.782608695652174\n",
      "/n\n",
      "At random state 20 the testing accurancy is:- 0.6521739130434783\n",
      "/n\n",
      "At random state 21 the testing accurancy is:- 0.6739130434782609\n",
      "/n\n",
      "At random state 22 the testing accurancy is:- 0.7608695652173914\n",
      "/n\n",
      "At random state 23 the testing accurancy is:- 0.6630434782608695\n",
      "/n\n",
      "At random state 24 the testing accurancy is:- 0.6956521739130435\n",
      "/n\n",
      "At random state 25 the testing accurancy is:- 0.6847826086956522\n",
      "/n\n",
      "At random state 26 the testing accurancy is:- 0.7391304347826086\n",
      "/n\n",
      "At random state 27 the testing accurancy is:- 0.6195652173913043\n",
      "/n\n",
      "At random state 28 the testing accurancy is:- 0.717391304347826\n",
      "/n\n",
      "At random state 29 the testing accurancy is:- 0.717391304347826\n",
      "/n\n",
      "At random state 30 the testing accurancy is:- 0.6630434782608695\n",
      "/n\n",
      "At random state 31 the testing accurancy is:- 0.6847826086956522\n",
      "/n\n",
      "At random state 32 the testing accurancy is:- 0.7282608695652174\n",
      "/n\n",
      "At random state 33 the testing accurancy is:- 0.6847826086956522\n",
      "/n\n",
      "At random state 34 the testing accurancy is:- 0.7608695652173914\n",
      "/n\n",
      "At random state 35 the testing accurancy is:- 0.7391304347826086\n",
      "/n\n",
      "At random state 36 the testing accurancy is:- 0.6956521739130435\n",
      "/n\n",
      "At random state 37 the testing accurancy is:- 0.6630434782608695\n",
      "/n\n",
      "At random state 38 the testing accurancy is:- 0.7282608695652174\n",
      "/n\n",
      "At random state 39 the testing accurancy is:- 0.6847826086956522\n",
      "/n\n",
      "At random state 40 the testing accurancy is:- 0.7065217391304348\n",
      "/n\n",
      "At random state 41 the testing accurancy is:- 0.7717391304347826\n",
      "/n\n",
      "At random state 42 the testing accurancy is:- 0.6956521739130435\n",
      "/n\n",
      "At random state 43 the testing accurancy is:- 0.717391304347826\n",
      "/n\n",
      "At random state 44 the testing accurancy is:- 0.6847826086956522\n",
      "/n\n",
      "At random state 45 the testing accurancy is:- 0.7065217391304348\n",
      "/n\n",
      "At random state 46 the testing accurancy is:- 0.7608695652173914\n",
      "/n\n",
      "At random state 47 the testing accurancy is:- 0.7934782608695652\n",
      "/n\n",
      "At random state 48 the testing accurancy is:- 0.75\n",
      "/n\n",
      "At random state 49 the testing accurancy is:- 0.7934782608695652\n",
      "/n\n",
      "At random state 50 the testing accurancy is:- 0.75\n",
      "/n\n",
      "At random state 51 the testing accurancy is:- 0.7717391304347826\n",
      "/n\n",
      "At random state 52 the testing accurancy is:- 0.7065217391304348\n",
      "/n\n",
      "At random state 53 the testing accurancy is:- 0.7391304347826086\n",
      "/n\n",
      "At random state 54 the testing accurancy is:- 0.6956521739130435\n",
      "/n\n",
      "At random state 55 the testing accurancy is:- 0.717391304347826\n",
      "/n\n",
      "At random state 56 the testing accurancy is:- 0.7282608695652174\n",
      "/n\n",
      "At random state 57 the testing accurancy is:- 0.7608695652173914\n",
      "/n\n",
      "At random state 58 the testing accurancy is:- 0.717391304347826\n",
      "/n\n",
      "At random state 59 the testing accurancy is:- 0.7934782608695652\n",
      "/n\n",
      "At random state 60 the testing accurancy is:- 0.7391304347826086\n",
      "/n\n",
      "At random state 61 the testing accurancy is:- 0.7065217391304348\n",
      "/n\n",
      "At random state 62 the testing accurancy is:- 0.6630434782608695\n",
      "/n\n",
      "At random state 63 the testing accurancy is:- 0.6956521739130435\n",
      "/n\n",
      "At random state 64 the testing accurancy is:- 0.75\n",
      "/n\n",
      "At random state 65 the testing accurancy is:- 0.7065217391304348\n",
      "/n\n",
      "At random state 66 the testing accurancy is:- 0.7282608695652174\n",
      "/n\n",
      "At random state 67 the testing accurancy is:- 0.6739130434782609\n",
      "/n\n",
      "At random state 68 the testing accurancy is:- 0.75\n",
      "/n\n",
      "At random state 69 the testing accurancy is:- 0.6956521739130435\n",
      "/n\n",
      "At random state 70 the testing accurancy is:- 0.717391304347826\n",
      "/n\n",
      "At random state 71 the testing accurancy is:- 0.717391304347826\n",
      "/n\n",
      "At random state 72 the testing accurancy is:- 0.75\n",
      "/n\n",
      "At random state 73 the testing accurancy is:- 0.6304347826086957\n",
      "/n\n",
      "At random state 74 the testing accurancy is:- 0.7282608695652174\n",
      "/n\n",
      "At random state 75 the testing accurancy is:- 0.7065217391304348\n",
      "/n\n",
      "At random state 76 the testing accurancy is:- 0.7065217391304348\n",
      "/n\n",
      "At random state 77 the testing accurancy is:- 0.6847826086956522\n",
      "/n\n",
      "At random state 78 the testing accurancy is:- 0.717391304347826\n",
      "/n\n",
      "At random state 79 the testing accurancy is:- 0.7391304347826086\n",
      "/n\n",
      "At random state 80 the testing accurancy is:- 0.6956521739130435\n",
      "/n\n",
      "At random state 81 the testing accurancy is:- 0.75\n",
      "/n\n",
      "At random state 82 the testing accurancy is:- 0.8260869565217391\n",
      "/n\n",
      "At random state 83 the testing accurancy is:- 0.7391304347826086\n",
      "/n\n",
      "At random state 84 the testing accurancy is:- 0.7391304347826086\n",
      "/n\n",
      "At random state 85 the testing accurancy is:- 0.7934782608695652\n",
      "/n\n",
      "At random state 86 the testing accurancy is:- 0.6630434782608695\n",
      "/n\n",
      "At random state 87 the testing accurancy is:- 0.75\n",
      "/n\n",
      "At random state 88 the testing accurancy is:- 0.6956521739130435\n",
      "/n\n",
      "At random state 89 the testing accurancy is:- 0.6630434782608695\n",
      "/n\n",
      "At random state 90 the testing accurancy is:- 0.782608695652174\n",
      "/n\n",
      "At random state 91 the testing accurancy is:- 0.7282608695652174\n",
      "/n\n",
      "At random state 92 the testing accurancy is:- 0.7282608695652174\n",
      "/n\n",
      "At random state 93 the testing accurancy is:- 0.717391304347826\n",
      "/n\n",
      "At random state 94 the testing accurancy is:- 0.75\n",
      "/n\n",
      "At random state 95 the testing accurancy is:- 0.7282608695652174\n",
      "/n\n",
      "At random state 96 the testing accurancy is:- 0.782608695652174\n",
      "/n\n",
      "At random state 97 the testing accurancy is:- 0.717391304347826\n",
      "/n\n",
      "At random state 98 the testing accurancy is:- 0.7065217391304348\n",
      "/n\n",
      "At random state 99 the testing accurancy is:- 0.7391304347826086\n",
      "/n\n"
     ]
    }
   ],
   "source": [
    "for i in range (0,100):\n",
    "    X_train,X_test,y_train,y_test=train_test_split(X_Scaled,Y_new,test_size=0.20,random_state=i)\n",
    "    DT.fit(X_train,y_train)\n",
    "    pred_test=DT.predict(X_test)\n",
    "    print('At random state',i,'the testing accurancy is:-',accuracy_score(y_test,pred_test))\n",
    "    print(\"/n\")"
   ]
  },
  {
   "cell_type": "markdown",
   "id": "366f6559",
   "metadata": {},
   "source": [
    "# Gradient Boosting"
   ]
  },
  {
   "cell_type": "code",
   "execution_count": 80,
   "id": "745b5b67",
   "metadata": {},
   "outputs": [],
   "source": [
    "GB=GradientBoostingClassifier()"
   ]
  },
  {
   "cell_type": "code",
   "execution_count": 81,
   "id": "3678879b",
   "metadata": {},
   "outputs": [
    {
     "name": "stdout",
     "output_type": "stream",
     "text": [
      "At random state 0 the testing accurancy is:- 0.75\n",
      "/n\n",
      "At random state 1 the testing accurancy is:- 0.8586956521739131\n",
      "/n\n",
      "At random state 2 the testing accurancy is:- 0.782608695652174\n",
      "/n\n",
      "At random state 3 the testing accurancy is:- 0.7934782608695652\n",
      "/n\n",
      "At random state 4 the testing accurancy is:- 0.782608695652174\n",
      "/n\n",
      "At random state 5 the testing accurancy is:- 0.8260869565217391\n",
      "/n\n",
      "At random state 6 the testing accurancy is:- 0.7934782608695652\n",
      "/n\n",
      "At random state 7 the testing accurancy is:- 0.8152173913043478\n",
      "/n\n",
      "At random state 8 the testing accurancy is:- 0.7717391304347826\n",
      "/n\n",
      "At random state 9 the testing accurancy is:- 0.8043478260869565\n",
      "/n\n",
      "At random state 10 the testing accurancy is:- 0.7391304347826086\n",
      "/n\n",
      "At random state 11 the testing accurancy is:- 0.8043478260869565\n",
      "/n\n",
      "At random state 12 the testing accurancy is:- 0.782608695652174\n",
      "/n\n",
      "At random state 13 the testing accurancy is:- 0.8478260869565217\n",
      "/n\n",
      "At random state 14 the testing accurancy is:- 0.8478260869565217\n",
      "/n\n",
      "At random state 15 the testing accurancy is:- 0.782608695652174\n",
      "/n\n",
      "At random state 16 the testing accurancy is:- 0.7934782608695652\n",
      "/n\n",
      "At random state 17 the testing accurancy is:- 0.782608695652174\n",
      "/n\n",
      "At random state 18 the testing accurancy is:- 0.7934782608695652\n",
      "/n\n",
      "At random state 19 the testing accurancy is:- 0.782608695652174\n",
      "/n\n",
      "At random state 20 the testing accurancy is:- 0.7717391304347826\n",
      "/n\n",
      "At random state 21 the testing accurancy is:- 0.7717391304347826\n",
      "/n\n",
      "At random state 22 the testing accurancy is:- 0.8152173913043478\n",
      "/n\n",
      "At random state 23 the testing accurancy is:- 0.8043478260869565\n",
      "/n\n",
      "At random state 24 the testing accurancy is:- 0.8260869565217391\n",
      "/n\n",
      "At random state 25 the testing accurancy is:- 0.8043478260869565\n",
      "/n\n",
      "At random state 26 the testing accurancy is:- 0.8152173913043478\n",
      "/n\n",
      "At random state 27 the testing accurancy is:- 0.75\n",
      "/n\n",
      "At random state 28 the testing accurancy is:- 0.7934782608695652\n",
      "/n\n",
      "At random state 29 the testing accurancy is:- 0.7391304347826086\n",
      "/n\n",
      "At random state 30 the testing accurancy is:- 0.7608695652173914\n",
      "/n\n",
      "At random state 31 the testing accurancy is:- 0.7717391304347826\n",
      "/n\n",
      "At random state 32 the testing accurancy is:- 0.7717391304347826\n",
      "/n\n",
      "At random state 33 the testing accurancy is:- 0.717391304347826\n",
      "/n\n",
      "At random state 34 the testing accurancy is:- 0.782608695652174\n",
      "/n\n",
      "At random state 35 the testing accurancy is:- 0.7391304347826086\n",
      "/n\n",
      "At random state 36 the testing accurancy is:- 0.75\n",
      "/n\n",
      "At random state 37 the testing accurancy is:- 0.7717391304347826\n",
      "/n\n",
      "At random state 38 the testing accurancy is:- 0.7608695652173914\n",
      "/n\n",
      "At random state 39 the testing accurancy is:- 0.7608695652173914\n",
      "/n\n",
      "At random state 40 the testing accurancy is:- 0.782608695652174\n",
      "/n\n",
      "At random state 41 the testing accurancy is:- 0.782608695652174\n",
      "/n\n",
      "At random state 42 the testing accurancy is:- 0.8043478260869565\n",
      "/n\n",
      "At random state 43 the testing accurancy is:- 0.8043478260869565\n",
      "/n\n",
      "At random state 44 the testing accurancy is:- 0.7608695652173914\n",
      "/n\n",
      "At random state 45 the testing accurancy is:- 0.7934782608695652\n",
      "/n\n",
      "At random state 46 the testing accurancy is:- 0.7391304347826086\n",
      "/n\n",
      "At random state 47 the testing accurancy is:- 0.8260869565217391\n",
      "/n\n",
      "At random state 48 the testing accurancy is:- 0.7934782608695652\n",
      "/n\n",
      "At random state 49 the testing accurancy is:- 0.7717391304347826\n",
      "/n\n",
      "At random state 50 the testing accurancy is:- 0.7065217391304348\n",
      "/n\n",
      "At random state 51 the testing accurancy is:- 0.8369565217391305\n",
      "/n\n",
      "At random state 52 the testing accurancy is:- 0.8369565217391305\n",
      "/n\n",
      "At random state 53 the testing accurancy is:- 0.7934782608695652\n",
      "/n\n",
      "At random state 54 the testing accurancy is:- 0.8043478260869565\n",
      "/n\n",
      "At random state 55 the testing accurancy is:- 0.8478260869565217\n",
      "/n\n",
      "At random state 56 the testing accurancy is:- 0.8369565217391305\n",
      "/n\n",
      "At random state 57 the testing accurancy is:- 0.782608695652174\n",
      "/n\n",
      "At random state 58 the testing accurancy is:- 0.7608695652173914\n",
      "/n\n",
      "At random state 59 the testing accurancy is:- 0.8260869565217391\n",
      "/n\n",
      "At random state 60 the testing accurancy is:- 0.7717391304347826\n",
      "/n\n",
      "At random state 61 the testing accurancy is:- 0.8260869565217391\n",
      "/n\n",
      "At random state 62 the testing accurancy is:- 0.7934782608695652\n",
      "/n\n",
      "At random state 63 the testing accurancy is:- 0.7934782608695652\n",
      "/n\n",
      "At random state 64 the testing accurancy is:- 0.782608695652174\n",
      "/n\n",
      "At random state 65 the testing accurancy is:- 0.782608695652174\n",
      "/n\n",
      "At random state 66 the testing accurancy is:- 0.7717391304347826\n",
      "/n\n",
      "At random state 67 the testing accurancy is:- 0.7934782608695652\n",
      "/n\n",
      "At random state 68 the testing accurancy is:- 0.7717391304347826\n",
      "/n\n",
      "At random state 69 the testing accurancy is:- 0.7065217391304348\n",
      "/n\n",
      "At random state 70 the testing accurancy is:- 0.7717391304347826\n",
      "/n\n",
      "At random state 71 the testing accurancy is:- 0.75\n",
      "/n\n",
      "At random state 72 the testing accurancy is:- 0.717391304347826\n",
      "/n\n",
      "At random state 73 the testing accurancy is:- 0.7608695652173914\n",
      "/n\n",
      "At random state 74 the testing accurancy is:- 0.8369565217391305\n",
      "/n\n",
      "At random state 75 the testing accurancy is:- 0.8260869565217391\n",
      "/n\n",
      "At random state 76 the testing accurancy is:- 0.7717391304347826\n",
      "/n\n",
      "At random state 77 the testing accurancy is:- 0.75\n",
      "/n\n",
      "At random state 78 the testing accurancy is:- 0.8152173913043478\n",
      "/n\n",
      "At random state 79 the testing accurancy is:- 0.6847826086956522\n",
      "/n\n",
      "At random state 80 the testing accurancy is:- 0.717391304347826\n",
      "/n\n",
      "At random state 81 the testing accurancy is:- 0.7282608695652174\n",
      "/n\n",
      "At random state 82 the testing accurancy is:- 0.9130434782608695\n",
      "/n\n",
      "At random state 83 the testing accurancy is:- 0.75\n",
      "/n\n",
      "At random state 84 the testing accurancy is:- 0.782608695652174\n",
      "/n\n",
      "At random state 85 the testing accurancy is:- 0.8043478260869565\n",
      "/n\n",
      "At random state 86 the testing accurancy is:- 0.7717391304347826\n",
      "/n\n",
      "At random state 87 the testing accurancy is:- 0.8369565217391305\n",
      "/n\n",
      "At random state 88 the testing accurancy is:- 0.8043478260869565\n",
      "/n\n",
      "At random state 89 the testing accurancy is:- 0.7717391304347826\n",
      "/n\n",
      "At random state 90 the testing accurancy is:- 0.8043478260869565\n",
      "/n\n",
      "At random state 91 the testing accurancy is:- 0.7608695652173914\n",
      "/n\n",
      "At random state 92 the testing accurancy is:- 0.8043478260869565\n",
      "/n\n",
      "At random state 93 the testing accurancy is:- 0.7934782608695652\n",
      "/n\n",
      "At random state 94 the testing accurancy is:- 0.8043478260869565\n",
      "/n\n",
      "At random state 95 the testing accurancy is:- 0.7608695652173914\n",
      "/n\n",
      "At random state 96 the testing accurancy is:- 0.8369565217391305\n",
      "/n\n",
      "At random state 97 the testing accurancy is:- 0.782608695652174\n",
      "/n\n",
      "At random state 98 the testing accurancy is:- 0.7934782608695652\n",
      "/n\n",
      "At random state 99 the testing accurancy is:- 0.8260869565217391\n",
      "/n\n"
     ]
    }
   ],
   "source": [
    "for i in range (0,100):\n",
    "    X_train,X_test,y_train,y_test=train_test_split(X_Scaled,Y_new,test_size=0.20,random_state=i)\n",
    "    GB.fit(X_train,y_train)\n",
    "    pred_test=GB.predict(X_test)\n",
    "    print('At random state',i,'the testing accurancy is:-',accuracy_score(y_test,pred_test))\n",
    "    print(\"/n\")"
   ]
  },
  {
   "cell_type": "markdown",
   "id": "663fdc83",
   "metadata": {},
   "source": [
    "# Cross Validation for LR"
   ]
  },
  {
   "cell_type": "code",
   "execution_count": 83,
   "id": "e1e4b9f0",
   "metadata": {},
   "outputs": [
    {
     "name": "stdout",
     "output_type": "stream",
     "text": [
      "The cross validation score for 2 is 0.8170400607556483\n",
      "The cross validation score for 3 is 0.8017429193899782\n",
      "The cross validation score for 4 is 0.7952707856598017\n",
      "The cross validation score for 5 is 0.8061634018155758\n"
     ]
    }
   ],
   "source": [
    "for i in range(2,6):\n",
    "    LR_Val=cross_val_score(LR,X_Scaled,Y_new,cv=i)\n",
    "    print(\"The cross validation score for\",i,\"is\",LR_Val.mean())"
   ]
  },
  {
   "cell_type": "markdown",
   "id": "1ffca754",
   "metadata": {},
   "source": [
    "# Cross Validation for RFC"
   ]
  },
  {
   "cell_type": "code",
   "execution_count": 84,
   "id": "62c6234c",
   "metadata": {},
   "outputs": [
    {
     "name": "stdout",
     "output_type": "stream",
     "text": [
      "The cross validation score for 2 is 0.6843459274729448\n",
      "The cross validation score for 3 is 0.6470588235294118\n",
      "The cross validation score for 4 is 0.6822463768115943\n",
      "The cross validation score for 5 is 0.7887482083134257\n"
     ]
    }
   ],
   "source": [
    "for i in range(2,6):\n",
    "    RFC_Val=cross_val_score(rfc,X_Scaled,Y_new,cv=i)\n",
    "    print(\"The cross validation score for\",i,\"is\",RFC_Val.mean())"
   ]
  },
  {
   "cell_type": "markdown",
   "id": "53fcf38d",
   "metadata": {},
   "source": [
    "# Cross Validation for DT"
   ]
  },
  {
   "cell_type": "code",
   "execution_count": 85,
   "id": "2c3ade2e",
   "metadata": {},
   "outputs": [
    {
     "name": "stdout",
     "output_type": "stream",
     "text": [
      "The cross validation score for 2 is 0.5342794759825328\n",
      "The cross validation score for 3 is 0.5751633986928105\n",
      "The cross validation score for 4 is 0.6057780320366133\n",
      "The cross validation score for 5 is 0.6776158623984712\n"
     ]
    }
   ],
   "source": [
    "for i in range(2,6):\n",
    "    DT_Val=cross_val_score(DT,X_Scaled,Y_new,cv=i)\n",
    "    print(\"The cross validation score for\",i,\"is\",DT_Val.mean())"
   ]
  },
  {
   "cell_type": "markdown",
   "id": "c7fa0da2",
   "metadata": {},
   "source": [
    "# Cross Validation for GB"
   ]
  },
  {
   "cell_type": "code",
   "execution_count": 87,
   "id": "5b9fc131",
   "metadata": {},
   "outputs": [
    {
     "name": "stdout",
     "output_type": "stream",
     "text": [
      "The cross validation score for 2 is 0.560356939434213\n",
      "The cross validation score for 3 is 0.6252723311546842\n",
      "The cross validation score for 4 is 0.6536994660564455\n",
      "The cross validation score for 5 is 0.7735308170090779\n"
     ]
    }
   ],
   "source": [
    "for i in range(2,6):\n",
    "    GB_Val=cross_val_score(GB,X_Scaled,Y_new,cv=i)\n",
    "    print(\"The cross validation score for\",i,\"is\",GB_Val.mean())"
   ]
  },
  {
   "cell_type": "markdown",
   "id": "6961d8ad",
   "metadata": {},
   "source": [
    "### Looking at the accuracy score and cross validation value, Logistic Regression is suitable for this dataset with least difference between accuracy score and cross validation"
   ]
  },
  {
   "cell_type": "code",
   "execution_count": 99,
   "id": "154c6937",
   "metadata": {},
   "outputs": [],
   "source": [
    "LogReg=LogisticRegression()"
   ]
  },
  {
   "cell_type": "code",
   "execution_count": null,
   "id": "9c6847f4",
   "metadata": {},
   "outputs": [],
   "source": [
    "LogisticRegression(\n",
    "    penalty='l2',\n",
    "    *,\n",
    "    dual=False,\n",
    "    tol=0.0001,\n",
    "    C=1.0,\n",
    "    fit_intercept=True,\n",
    "    intercept_scaling=1,\n",
    "    class_weight=None,\n",
    "    random_state=None,\n",
    "    solver='lbfgs',\n",
    "    max_iter=100,\n",
    "    multi_class='auto',\n",
    "    verbose=0,\n",
    "    warm_start=False,\n",
    "    n_jobs=None,\n",
    "    l1_ratio=None,\n",
    ")"
   ]
  },
  {
   "cell_type": "code",
   "execution_count": 100,
   "id": "6ad4f82b",
   "metadata": {},
   "outputs": [
    {
     "data": {
      "text/plain": [
       "GridSearchCV(estimator=LogisticRegression(),\n",
       "             param_grid={'max_iter': [100, 500, 1000], 'penalty': ['l1', 'l2']})"
      ]
     },
     "execution_count": 100,
     "metadata": {},
     "output_type": "execute_result"
    }
   ],
   "source": [
    "parameters={'penalty':['l1','l2'],'max_iter':[100,500,1000]}\n",
    "clf=GridSearchCV(LogReg,parameters)\n",
    "clf.fit(X_train,y_train)"
   ]
  },
  {
   "cell_type": "code",
   "execution_count": 101,
   "id": "03b8bd03",
   "metadata": {},
   "outputs": [
    {
     "data": {
      "text/plain": [
       "{'max_iter': 100, 'penalty': 'l2'}"
      ]
     },
     "execution_count": 101,
     "metadata": {},
     "output_type": "execute_result"
    }
   ],
   "source": [
    "clf.best_params_"
   ]
  },
  {
   "cell_type": "code",
   "execution_count": 102,
   "id": "1cca4d90",
   "metadata": {},
   "outputs": [],
   "source": [
    "LogReg=LogisticRegression(max_iter=100)"
   ]
  },
  {
   "cell_type": "code",
   "execution_count": 103,
   "id": "4236880c",
   "metadata": {},
   "outputs": [],
   "source": [
    "X_train,X_test,y_train,y_test=train_test_split(X_Scaled,Y_new,test_size=0.20,random_state=6)\n",
    "LogReg.fit(X_train,y_train)\n",
    "pred_test=LogReg.predict(X_test)"
   ]
  },
  {
   "cell_type": "code",
   "execution_count": 104,
   "id": "bcd2541d",
   "metadata": {},
   "outputs": [
    {
     "data": {
      "text/plain": [
       "0.8804347826086957"
      ]
     },
     "execution_count": 104,
     "metadata": {},
     "output_type": "execute_result"
    }
   ],
   "source": [
    "Logistic_Accuracy=accuracy_score(y_test,pred_test)\n",
    "Logistic_Accuracy"
   ]
  },
  {
   "cell_type": "code",
   "execution_count": 108,
   "id": "e4bf005c",
   "metadata": {},
   "outputs": [],
   "source": [
    "LogReg=LogisticRegression(max_iter=200)"
   ]
  },
  {
   "cell_type": "code",
   "execution_count": 109,
   "id": "11711557",
   "metadata": {},
   "outputs": [],
   "source": [
    "X_train,X_test,y_train,y_test=train_test_split(X_Scaled,Y_new,test_size=0.20,random_state=6)\n",
    "LogReg.fit(X_train,y_train)\n",
    "pred_test=LogReg.predict(X_test)"
   ]
  },
  {
   "cell_type": "code",
   "execution_count": 110,
   "id": "5761cac8",
   "metadata": {},
   "outputs": [
    {
     "data": {
      "text/plain": [
       "0.8804347826086957"
      ]
     },
     "execution_count": 110,
     "metadata": {},
     "output_type": "execute_result"
    }
   ],
   "source": [
    "Logistic_Accuracy=accuracy_score(y_test,pred_test)\n",
    "Logistic_Accuracy"
   ]
  },
  {
   "cell_type": "code",
   "execution_count": 112,
   "id": "6343c4e5",
   "metadata": {},
   "outputs": [
    {
     "data": {
      "text/plain": [
       "array([[11, 11],\n",
       "       [ 0, 70]], dtype=int64)"
      ]
     },
     "execution_count": 112,
     "metadata": {},
     "output_type": "execute_result"
    }
   ],
   "source": [
    "Conf_Mat=confusion_matrix(y_test,pred_test)\n",
    "Conf_Mat"
   ]
  },
  {
   "cell_type": "code",
   "execution_count": 111,
   "id": "04c25512",
   "metadata": {},
   "outputs": [],
   "source": [
    "#It seems that after hyper parameter tuning the score remains same, hence going with logistic regression for this dataset"
   ]
  },
  {
   "cell_type": "markdown",
   "id": "f53e42fa",
   "metadata": {},
   "source": [
    "# Saving the model"
   ]
  },
  {
   "cell_type": "code",
   "execution_count": 113,
   "id": "ee1dc831",
   "metadata": {},
   "outputs": [],
   "source": [
    "import pickle\n",
    "filename='Loan Application.pkl'\n",
    "pickle.dump(rfc,open(filename,'wb'))"
   ]
  },
  {
   "cell_type": "code",
   "execution_count": null,
   "id": "dffeed40",
   "metadata": {},
   "outputs": [],
   "source": []
  }
 ],
 "metadata": {
  "kernelspec": {
   "display_name": "Python 3 (ipykernel)",
   "language": "python",
   "name": "python3"
  },
  "language_info": {
   "codemirror_mode": {
    "name": "ipython",
    "version": 3
   },
   "file_extension": ".py",
   "mimetype": "text/x-python",
   "name": "python",
   "nbconvert_exporter": "python",
   "pygments_lexer": "ipython3",
   "version": "3.9.7"
  }
 },
 "nbformat": 4,
 "nbformat_minor": 5
}
