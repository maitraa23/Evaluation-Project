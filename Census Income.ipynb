{
 "cells": [
  {
   "cell_type": "code",
   "execution_count": 1,
   "id": "4bed038f",
   "metadata": {},
   "outputs": [],
   "source": [
    "import pandas as pd\n",
    "import numpy as np\n",
    "from sklearn.preprocessing import StandardScaler\n",
    "from sklearn.linear_model import LogisticRegression\n",
    "from sklearn.ensemble import RandomForestClassifier\n",
    "from sklearn.neighbors import KNeighborsClassifier\n",
    "from sklearn.ensemble import VotingClassifier\n",
    "from sklearn.ensemble import GradientBoostingClassifier\n",
    "from sklearn.tree import DecisionTreeClassifier\n",
    "from sklearn.svm import SVC\n",
    "from sklearn.model_selection import cross_val_score\n",
    "from sklearn.model_selection import GridSearchCV\n",
    "from sklearn.model_selection import train_test_split\n",
    "from statsmodels.stats.outliers_influence import variance_inflation_factor\n",
    "from sklearn.metrics import confusion_matrix, classification_report\n",
    "from sklearn.metrics import accuracy_score,confusion_matrix,roc_curve, roc_auc_score\n",
    "import matplotlib.pyplot as plt\n",
    "import seaborn as sns\n",
    "import warnings\n",
    "warnings.filterwarnings('ignore') # importing neccesary ,libraries"
   ]
  },
  {
   "cell_type": "code",
   "execution_count": 2,
   "id": "8890e911",
   "metadata": {},
   "outputs": [],
   "source": [
    "Data=pd.read_csv(\"https://raw.githubusercontent.com/dsrscientist/dataset1/master/census_income.csv\") #Loading the data"
   ]
  },
  {
   "cell_type": "code",
   "execution_count": 3,
   "id": "6aa3355a",
   "metadata": {},
   "outputs": [
    {
     "data": {
      "text/html": [
       "<div>\n",
       "<style scoped>\n",
       "    .dataframe tbody tr th:only-of-type {\n",
       "        vertical-align: middle;\n",
       "    }\n",
       "\n",
       "    .dataframe tbody tr th {\n",
       "        vertical-align: top;\n",
       "    }\n",
       "\n",
       "    .dataframe thead th {\n",
       "        text-align: right;\n",
       "    }\n",
       "</style>\n",
       "<table border=\"1\" class=\"dataframe\">\n",
       "  <thead>\n",
       "    <tr style=\"text-align: right;\">\n",
       "      <th></th>\n",
       "      <th>Age</th>\n",
       "      <th>Workclass</th>\n",
       "      <th>Fnlwgt</th>\n",
       "      <th>Education</th>\n",
       "      <th>Education_num</th>\n",
       "      <th>Marital_status</th>\n",
       "      <th>Occupation</th>\n",
       "      <th>Relationship</th>\n",
       "      <th>Race</th>\n",
       "      <th>Sex</th>\n",
       "      <th>Capital_gain</th>\n",
       "      <th>Capital_loss</th>\n",
       "      <th>Hours_per_week</th>\n",
       "      <th>Native_country</th>\n",
       "      <th>Income</th>\n",
       "    </tr>\n",
       "  </thead>\n",
       "  <tbody>\n",
       "    <tr>\n",
       "      <th>0</th>\n",
       "      <td>50</td>\n",
       "      <td>Self-emp-not-inc</td>\n",
       "      <td>83311</td>\n",
       "      <td>Bachelors</td>\n",
       "      <td>13</td>\n",
       "      <td>Married-civ-spouse</td>\n",
       "      <td>Exec-managerial</td>\n",
       "      <td>Husband</td>\n",
       "      <td>White</td>\n",
       "      <td>Male</td>\n",
       "      <td>0</td>\n",
       "      <td>0</td>\n",
       "      <td>13</td>\n",
       "      <td>United-States</td>\n",
       "      <td>&lt;=50K</td>\n",
       "    </tr>\n",
       "    <tr>\n",
       "      <th>1</th>\n",
       "      <td>38</td>\n",
       "      <td>Private</td>\n",
       "      <td>215646</td>\n",
       "      <td>HS-grad</td>\n",
       "      <td>9</td>\n",
       "      <td>Divorced</td>\n",
       "      <td>Handlers-cleaners</td>\n",
       "      <td>Not-in-family</td>\n",
       "      <td>White</td>\n",
       "      <td>Male</td>\n",
       "      <td>0</td>\n",
       "      <td>0</td>\n",
       "      <td>40</td>\n",
       "      <td>United-States</td>\n",
       "      <td>&lt;=50K</td>\n",
       "    </tr>\n",
       "    <tr>\n",
       "      <th>2</th>\n",
       "      <td>53</td>\n",
       "      <td>Private</td>\n",
       "      <td>234721</td>\n",
       "      <td>11th</td>\n",
       "      <td>7</td>\n",
       "      <td>Married-civ-spouse</td>\n",
       "      <td>Handlers-cleaners</td>\n",
       "      <td>Husband</td>\n",
       "      <td>Black</td>\n",
       "      <td>Male</td>\n",
       "      <td>0</td>\n",
       "      <td>0</td>\n",
       "      <td>40</td>\n",
       "      <td>United-States</td>\n",
       "      <td>&lt;=50K</td>\n",
       "    </tr>\n",
       "    <tr>\n",
       "      <th>3</th>\n",
       "      <td>28</td>\n",
       "      <td>Private</td>\n",
       "      <td>338409</td>\n",
       "      <td>Bachelors</td>\n",
       "      <td>13</td>\n",
       "      <td>Married-civ-spouse</td>\n",
       "      <td>Prof-specialty</td>\n",
       "      <td>Wife</td>\n",
       "      <td>Black</td>\n",
       "      <td>Female</td>\n",
       "      <td>0</td>\n",
       "      <td>0</td>\n",
       "      <td>40</td>\n",
       "      <td>Cuba</td>\n",
       "      <td>&lt;=50K</td>\n",
       "    </tr>\n",
       "    <tr>\n",
       "      <th>4</th>\n",
       "      <td>37</td>\n",
       "      <td>Private</td>\n",
       "      <td>284582</td>\n",
       "      <td>Masters</td>\n",
       "      <td>14</td>\n",
       "      <td>Married-civ-spouse</td>\n",
       "      <td>Exec-managerial</td>\n",
       "      <td>Wife</td>\n",
       "      <td>White</td>\n",
       "      <td>Female</td>\n",
       "      <td>0</td>\n",
       "      <td>0</td>\n",
       "      <td>40</td>\n",
       "      <td>United-States</td>\n",
       "      <td>&lt;=50K</td>\n",
       "    </tr>\n",
       "    <tr>\n",
       "      <th>...</th>\n",
       "      <td>...</td>\n",
       "      <td>...</td>\n",
       "      <td>...</td>\n",
       "      <td>...</td>\n",
       "      <td>...</td>\n",
       "      <td>...</td>\n",
       "      <td>...</td>\n",
       "      <td>...</td>\n",
       "      <td>...</td>\n",
       "      <td>...</td>\n",
       "      <td>...</td>\n",
       "      <td>...</td>\n",
       "      <td>...</td>\n",
       "      <td>...</td>\n",
       "      <td>...</td>\n",
       "    </tr>\n",
       "    <tr>\n",
       "      <th>32555</th>\n",
       "      <td>27</td>\n",
       "      <td>Private</td>\n",
       "      <td>257302</td>\n",
       "      <td>Assoc-acdm</td>\n",
       "      <td>12</td>\n",
       "      <td>Married-civ-spouse</td>\n",
       "      <td>Tech-support</td>\n",
       "      <td>Wife</td>\n",
       "      <td>White</td>\n",
       "      <td>Female</td>\n",
       "      <td>0</td>\n",
       "      <td>0</td>\n",
       "      <td>38</td>\n",
       "      <td>United-States</td>\n",
       "      <td>&lt;=50K</td>\n",
       "    </tr>\n",
       "    <tr>\n",
       "      <th>32556</th>\n",
       "      <td>40</td>\n",
       "      <td>Private</td>\n",
       "      <td>154374</td>\n",
       "      <td>HS-grad</td>\n",
       "      <td>9</td>\n",
       "      <td>Married-civ-spouse</td>\n",
       "      <td>Machine-op-inspct</td>\n",
       "      <td>Husband</td>\n",
       "      <td>White</td>\n",
       "      <td>Male</td>\n",
       "      <td>0</td>\n",
       "      <td>0</td>\n",
       "      <td>40</td>\n",
       "      <td>United-States</td>\n",
       "      <td>&gt;50K</td>\n",
       "    </tr>\n",
       "    <tr>\n",
       "      <th>32557</th>\n",
       "      <td>58</td>\n",
       "      <td>Private</td>\n",
       "      <td>151910</td>\n",
       "      <td>HS-grad</td>\n",
       "      <td>9</td>\n",
       "      <td>Widowed</td>\n",
       "      <td>Adm-clerical</td>\n",
       "      <td>Unmarried</td>\n",
       "      <td>White</td>\n",
       "      <td>Female</td>\n",
       "      <td>0</td>\n",
       "      <td>0</td>\n",
       "      <td>40</td>\n",
       "      <td>United-States</td>\n",
       "      <td>&lt;=50K</td>\n",
       "    </tr>\n",
       "    <tr>\n",
       "      <th>32558</th>\n",
       "      <td>22</td>\n",
       "      <td>Private</td>\n",
       "      <td>201490</td>\n",
       "      <td>HS-grad</td>\n",
       "      <td>9</td>\n",
       "      <td>Never-married</td>\n",
       "      <td>Adm-clerical</td>\n",
       "      <td>Own-child</td>\n",
       "      <td>White</td>\n",
       "      <td>Male</td>\n",
       "      <td>0</td>\n",
       "      <td>0</td>\n",
       "      <td>20</td>\n",
       "      <td>United-States</td>\n",
       "      <td>&lt;=50K</td>\n",
       "    </tr>\n",
       "    <tr>\n",
       "      <th>32559</th>\n",
       "      <td>52</td>\n",
       "      <td>Self-emp-inc</td>\n",
       "      <td>287927</td>\n",
       "      <td>HS-grad</td>\n",
       "      <td>9</td>\n",
       "      <td>Married-civ-spouse</td>\n",
       "      <td>Exec-managerial</td>\n",
       "      <td>Wife</td>\n",
       "      <td>White</td>\n",
       "      <td>Female</td>\n",
       "      <td>15024</td>\n",
       "      <td>0</td>\n",
       "      <td>40</td>\n",
       "      <td>United-States</td>\n",
       "      <td>&gt;50K</td>\n",
       "    </tr>\n",
       "  </tbody>\n",
       "</table>\n",
       "<p>32560 rows × 15 columns</p>\n",
       "</div>"
      ],
      "text/plain": [
       "       Age          Workclass  Fnlwgt    Education  Education_num  \\\n",
       "0       50   Self-emp-not-inc   83311    Bachelors             13   \n",
       "1       38            Private  215646      HS-grad              9   \n",
       "2       53            Private  234721         11th              7   \n",
       "3       28            Private  338409    Bachelors             13   \n",
       "4       37            Private  284582      Masters             14   \n",
       "...    ...                ...     ...          ...            ...   \n",
       "32555   27            Private  257302   Assoc-acdm             12   \n",
       "32556   40            Private  154374      HS-grad              9   \n",
       "32557   58            Private  151910      HS-grad              9   \n",
       "32558   22            Private  201490      HS-grad              9   \n",
       "32559   52       Self-emp-inc  287927      HS-grad              9   \n",
       "\n",
       "            Marital_status          Occupation    Relationship    Race  \\\n",
       "0       Married-civ-spouse     Exec-managerial         Husband   White   \n",
       "1                 Divorced   Handlers-cleaners   Not-in-family   White   \n",
       "2       Married-civ-spouse   Handlers-cleaners         Husband   Black   \n",
       "3       Married-civ-spouse      Prof-specialty            Wife   Black   \n",
       "4       Married-civ-spouse     Exec-managerial            Wife   White   \n",
       "...                    ...                 ...             ...     ...   \n",
       "32555   Married-civ-spouse        Tech-support            Wife   White   \n",
       "32556   Married-civ-spouse   Machine-op-inspct         Husband   White   \n",
       "32557              Widowed        Adm-clerical       Unmarried   White   \n",
       "32558        Never-married        Adm-clerical       Own-child   White   \n",
       "32559   Married-civ-spouse     Exec-managerial            Wife   White   \n",
       "\n",
       "           Sex  Capital_gain  Capital_loss  Hours_per_week  Native_country  \\\n",
       "0         Male             0             0              13   United-States   \n",
       "1         Male             0             0              40   United-States   \n",
       "2         Male             0             0              40   United-States   \n",
       "3       Female             0             0              40            Cuba   \n",
       "4       Female             0             0              40   United-States   \n",
       "...        ...           ...           ...             ...             ...   \n",
       "32555   Female             0             0              38   United-States   \n",
       "32556     Male             0             0              40   United-States   \n",
       "32557   Female             0             0              40   United-States   \n",
       "32558     Male             0             0              20   United-States   \n",
       "32559   Female         15024             0              40   United-States   \n",
       "\n",
       "       Income  \n",
       "0       <=50K  \n",
       "1       <=50K  \n",
       "2       <=50K  \n",
       "3       <=50K  \n",
       "4       <=50K  \n",
       "...       ...  \n",
       "32555   <=50K  \n",
       "32556    >50K  \n",
       "32557   <=50K  \n",
       "32558   <=50K  \n",
       "32559    >50K  \n",
       "\n",
       "[32560 rows x 15 columns]"
      ]
     },
     "execution_count": 3,
     "metadata": {},
     "output_type": "execute_result"
    }
   ],
   "source": [
    "Data"
   ]
  },
  {
   "cell_type": "code",
   "execution_count": 4,
   "id": "eaeaa658",
   "metadata": {},
   "outputs": [
    {
     "data": {
      "text/plain": [
       "(32560, 15)"
      ]
     },
     "execution_count": 4,
     "metadata": {},
     "output_type": "execute_result"
    }
   ],
   "source": [
    "Data.shape #Checking the rows and columns"
   ]
  },
  {
   "cell_type": "code",
   "execution_count": 5,
   "id": "3a94c773",
   "metadata": {},
   "outputs": [
    {
     "name": "stdout",
     "output_type": "stream",
     "text": [
      "<class 'pandas.core.frame.DataFrame'>\n",
      "RangeIndex: 32560 entries, 0 to 32559\n",
      "Data columns (total 15 columns):\n",
      " #   Column          Non-Null Count  Dtype \n",
      "---  ------          --------------  ----- \n",
      " 0   Age             32560 non-null  int64 \n",
      " 1   Workclass       32560 non-null  object\n",
      " 2   Fnlwgt          32560 non-null  int64 \n",
      " 3   Education       32560 non-null  object\n",
      " 4   Education_num   32560 non-null  int64 \n",
      " 5   Marital_status  32560 non-null  object\n",
      " 6   Occupation      32560 non-null  object\n",
      " 7   Relationship    32560 non-null  object\n",
      " 8   Race            32560 non-null  object\n",
      " 9   Sex             32560 non-null  object\n",
      " 10  Capital_gain    32560 non-null  int64 \n",
      " 11  Capital_loss    32560 non-null  int64 \n",
      " 12  Hours_per_week  32560 non-null  int64 \n",
      " 13  Native_country  32560 non-null  object\n",
      " 14  Income          32560 non-null  object\n",
      "dtypes: int64(6), object(9)\n",
      "memory usage: 3.7+ MB\n"
     ]
    }
   ],
   "source": [
    "Data.info() #Checking the data types"
   ]
  },
  {
   "cell_type": "code",
   "execution_count": 6,
   "id": "6d8bf3bc",
   "metadata": {},
   "outputs": [
    {
     "data": {
      "text/plain": [
       "array([' Self-emp-not-inc', ' Private', ' State-gov', ' Federal-gov',\n",
       "       ' Local-gov', ' ?', ' Self-emp-inc', ' Without-pay',\n",
       "       ' Never-worked'], dtype=object)"
      ]
     },
     "execution_count": 6,
     "metadata": {},
     "output_type": "execute_result"
    }
   ],
   "source": [
    "Data['Workclass'].unique() #Checking the object data type"
   ]
  },
  {
   "cell_type": "code",
   "execution_count": 7,
   "id": "993796a4",
   "metadata": {},
   "outputs": [
    {
     "data": {
      "text/plain": [
       "<AxesSubplot:xlabel='Workclass', ylabel='count'>"
      ]
     },
     "execution_count": 7,
     "metadata": {},
     "output_type": "execute_result"
    },
    {
     "data": {
      "image/png": "[encoded data removed]",
      "text/plain": [
       "<Figure size 432x288 with 1 Axes>"
      ]
     },
     "metadata": {
      "needs_background": "light"
     },
     "output_type": "display_data"
    }
   ],
   "source": [
    "sns.countplot(Data['Workclass'])"
   ]
  },
  {
   "cell_type": "code",
   "execution_count": 8,
   "id": "b968fdc6",
   "metadata": {},
   "outputs": [
    {
     "data": {
      "text/plain": [
       "array([' Bachelors', ' HS-grad', ' 11th', ' Masters', ' 9th',\n",
       "       ' Some-college', ' Assoc-acdm', ' Assoc-voc', ' 7th-8th',\n",
       "       ' Doctorate', ' Prof-school', ' 5th-6th', ' 10th', ' 1st-4th',\n",
       "       ' Preschool', ' 12th'], dtype=object)"
      ]
     },
     "execution_count": 8,
     "metadata": {},
     "output_type": "execute_result"
    }
   ],
   "source": [
    "Data['Education'].unique() #Checking the object data type"
   ]
  },
  {
   "cell_type": "code",
   "execution_count": 9,
   "id": "07d7ee83",
   "metadata": {},
   "outputs": [
    {
     "data": {
      "text/plain": [
       "<AxesSubplot:xlabel='Education', ylabel='count'>"
      ]
     },
     "execution_count": 9,
     "metadata": {},
     "output_type": "execute_result"
    },
    {
     "data": {
      "image/png": "[encoded data removed]",
      "text/plain": [
       "<Figure size 432x288 with 1 Axes>"
      ]
     },
     "metadata": {
      "needs_background": "light"
     },
     "output_type": "display_data"
    }
   ],
   "source": [
    "sns.countplot(Data['Education'])"
   ]
  },
  {
   "cell_type": "code",
   "execution_count": 10,
   "id": "ee3bf0d8",
   "metadata": {},
   "outputs": [
    {
     "data": {
      "text/plain": [
       "array([' Married-civ-spouse', ' Divorced', ' Married-spouse-absent',\n",
       "       ' Never-married', ' Separated', ' Married-AF-spouse', ' Widowed'],\n",
       "      dtype=object)"
      ]
     },
     "execution_count": 10,
     "metadata": {},
     "output_type": "execute_result"
    }
   ],
   "source": [
    "Data['Marital_status'].unique() #Checking the object data type"
   ]
  },
  {
   "cell_type": "code",
   "execution_count": 11,
   "id": "f7f9d1f8",
   "metadata": {},
   "outputs": [
    {
     "data": {
      "text/plain": [
       "<AxesSubplot:xlabel='Marital_status', ylabel='count'>"
      ]
     },
     "execution_count": 11,
     "metadata": {},
     "output_type": "execute_result"
    },
    {
     "data": {
      "image/png": "[encoded data removed]",
      "text/plain": [
       "<Figure size 432x288 with 1 Axes>"
      ]
     },
     "metadata": {
      "needs_background": "light"
     },
     "output_type": "display_data"
    }
   ],
   "source": [
    "sns.countplot(Data['Marital_status'])"
   ]
  },
  {
   "cell_type": "code",
   "execution_count": 12,
   "id": "2e6f71d7",
   "metadata": {},
   "outputs": [
    {
     "data": {
      "text/plain": [
       "array([' Exec-managerial', ' Handlers-cleaners', ' Prof-specialty',\n",
       "       ' Other-service', ' Adm-clerical', ' Sales', ' Craft-repair',\n",
       "       ' Transport-moving', ' Farming-fishing', ' Machine-op-inspct',\n",
       "       ' Tech-support', ' ?', ' Protective-serv', ' Armed-Forces',\n",
       "       ' Priv-house-serv'], dtype=object)"
      ]
     },
     "execution_count": 12,
     "metadata": {},
     "output_type": "execute_result"
    }
   ],
   "source": [
    "Data['Occupation'].unique() #Checking the object data type"
   ]
  },
  {
   "cell_type": "code",
   "execution_count": 13,
   "id": "4d4a85df",
   "metadata": {},
   "outputs": [
    {
     "data": {
      "text/plain": [
       "<AxesSubplot:xlabel='Occupation', ylabel='count'>"
      ]
     },
     "execution_count": 13,
     "metadata": {},
     "output_type": "execute_result"
    },
    {
     "data": {
      "image/png": "[encoded data removed]",
      "text/plain": [
       "<Figure size 432x288 with 1 Axes>"
      ]
     },
     "metadata": {
      "needs_background": "light"
     },
     "output_type": "display_data"
    }
   ],
   "source": [
    "sns.countplot(Data['Occupation'])"
   ]
  },
  {
   "cell_type": "code",
   "execution_count": 14,
   "id": "4e4f719f",
   "metadata": {},
   "outputs": [
    {
     "data": {
      "text/plain": [
       "array([' Husband', ' Not-in-family', ' Wife', ' Own-child', ' Unmarried',\n",
       "       ' Other-relative'], dtype=object)"
      ]
     },
     "execution_count": 14,
     "metadata": {},
     "output_type": "execute_result"
    }
   ],
   "source": [
    "Data['Relationship'].unique() #Checking the object data type"
   ]
  },
  {
   "cell_type": "code",
   "execution_count": 15,
   "id": "dbd9e64f",
   "metadata": {},
   "outputs": [
    {
     "data": {
      "text/plain": [
       "<AxesSubplot:xlabel='Relationship', ylabel='count'>"
      ]
     },
     "execution_count": 15,
     "metadata": {},
     "output_type": "execute_result"
    },
    {
     "data": {
      "image/png": "[encoded data removed]",
      "text/plain": [
       "<Figure size 432x288 with 1 Axes>"
      ]
     },
     "metadata": {
      "needs_background": "light"
     },
     "output_type": "display_data"
    }
   ],
   "source": [
    "sns.countplot(Data['Relationship'])"
   ]
  },
  {
   "cell_type": "code",
   "execution_count": 16,
   "id": "64a6f265",
   "metadata": {},
   "outputs": [
    {
     "data": {
      "text/plain": [
       "array([' White', ' Black', ' Asian-Pac-Islander', ' Amer-Indian-Eskimo',\n",
       "       ' Other'], dtype=object)"
      ]
     },
     "execution_count": 16,
     "metadata": {},
     "output_type": "execute_result"
    }
   ],
   "source": [
    "Data['Race'].unique() #Checking the object data type"
   ]
  },
  {
   "cell_type": "code",
   "execution_count": 17,
   "id": "99996533",
   "metadata": {},
   "outputs": [
    {
     "data": {
      "text/plain": [
       "<AxesSubplot:xlabel='Race', ylabel='count'>"
      ]
     },
     "execution_count": 17,
     "metadata": {},
     "output_type": "execute_result"
    },
    {
     "data": {
      "image/png": "[encoded data removed]",
      "text/plain": [
       "<Figure size 432x288 with 1 Axes>"
      ]
     },
     "metadata": {
      "needs_background": "light"
     },
     "output_type": "display_data"
    }
   ],
   "source": [
    "sns.countplot(Data['Race'])"
   ]
  },
  {
   "cell_type": "code",
   "execution_count": 18,
   "id": "d303e1cb",
   "metadata": {},
   "outputs": [
    {
     "data": {
      "text/plain": [
       "array([' Male', ' Female'], dtype=object)"
      ]
     },
     "execution_count": 18,
     "metadata": {},
     "output_type": "execute_result"
    }
   ],
   "source": [
    "Data['Sex'].unique() #Checking the object data type"
   ]
  },
  {
   "cell_type": "code",
   "execution_count": 19,
   "id": "6bedff43",
   "metadata": {},
   "outputs": [
    {
     "data": {
      "text/plain": [
       "<AxesSubplot:xlabel='Sex', ylabel='count'>"
      ]
     },
     "execution_count": 19,
     "metadata": {},
     "output_type": "execute_result"
    },
    {
     "data": {
      "image/png": "[encoded data removed]",
      "text/plain": [
       "<Figure size 432x288 with 1 Axes>"
      ]
     },
     "metadata": {
      "needs_background": "light"
     },
     "output_type": "display_data"
    }
   ],
   "source": [
    "sns.countplot(Data['Sex'])"
   ]
  },
  {
   "cell_type": "code",
   "execution_count": 20,
   "id": "c569beb8",
   "metadata": {},
   "outputs": [
    {
     "data": {
      "text/plain": [
       " Male      21789\n",
       " Female    10771\n",
       "Name: Sex, dtype: int64"
      ]
     },
     "execution_count": 20,
     "metadata": {},
     "output_type": "execute_result"
    }
   ],
   "source": [
    "Data['Sex'].value_counts() #Checking if the numbers are equal"
   ]
  },
  {
   "cell_type": "code",
   "execution_count": 21,
   "id": "9e9170fa",
   "metadata": {},
   "outputs": [
    {
     "data": {
      "text/plain": [
       "array([' United-States', ' Cuba', ' Jamaica', ' India', ' ?', ' Mexico',\n",
       "       ' South', ' Puerto-Rico', ' Honduras', ' England', ' Canada',\n",
       "       ' Germany', ' Iran', ' Philippines', ' Italy', ' Poland',\n",
       "       ' Columbia', ' Cambodia', ' Thailand', ' Ecuador', ' Laos',\n",
       "       ' Taiwan', ' Haiti', ' Portugal', ' Dominican-Republic',\n",
       "       ' El-Salvador', ' France', ' Guatemala', ' China', ' Japan',\n",
       "       ' Yugoslavia', ' Peru', ' Outlying-US(Guam-USVI-etc)', ' Scotland',\n",
       "       ' Trinadad&Tobago', ' Greece', ' Nicaragua', ' Vietnam', ' Hong',\n",
       "       ' Ireland', ' Hungary', ' Holand-Netherlands'], dtype=object)"
      ]
     },
     "execution_count": 21,
     "metadata": {},
     "output_type": "execute_result"
    }
   ],
   "source": [
    "Data['Native_country'].unique() #Checking the object data type"
   ]
  },
  {
   "cell_type": "code",
   "execution_count": 22,
   "id": "6a54ff97",
   "metadata": {},
   "outputs": [
    {
     "data": {
      "text/plain": [
       "<AxesSubplot:xlabel='Native_country', ylabel='count'>"
      ]
     },
     "execution_count": 22,
     "metadata": {},
     "output_type": "execute_result"
    },
    {
     "data": {
      "image/png": "[encoded data removed]",
      "text/plain": [
       "<Figure size 432x288 with 1 Axes>"
      ]
     },
     "metadata": {
      "needs_background": "light"
     },
     "output_type": "display_data"
    }
   ],
   "source": [
    "sns.countplot(Data['Native_country'])"
   ]
  },
  {
   "cell_type": "code",
   "execution_count": 23,
   "id": "6f617af1",
   "metadata": {},
   "outputs": [
    {
     "data": {
      "text/plain": [
       "array([' <=50K', ' >50K'], dtype=object)"
      ]
     },
     "execution_count": 23,
     "metadata": {},
     "output_type": "execute_result"
    }
   ],
   "source": [
    "Data['Income'].unique() #Checking the object data type"
   ]
  },
  {
   "cell_type": "code",
   "execution_count": 24,
   "id": "89cb070a",
   "metadata": {},
   "outputs": [
    {
     "data": {
      "text/plain": [
       "<AxesSubplot:xlabel='Income', ylabel='count'>"
      ]
     },
     "execution_count": 24,
     "metadata": {},
     "output_type": "execute_result"
    },
    {
     "data": {
      "image/png": "[encoded data removed]",
      "text/plain": [
       "<Figure size 432x288 with 1 Axes>"
      ]
     },
     "metadata": {
      "needs_background": "light"
     },
     "output_type": "display_data"
    }
   ],
   "source": [
    "sns.countplot(Data['Income'])"
   ]
  },
  {
   "cell_type": "code",
   "execution_count": 25,
   "id": "f104469a",
   "metadata": {},
   "outputs": [
    {
     "data": {
      "text/plain": [
       " <=50K    24719\n",
       " >50K      7841\n",
       "Name: Income, dtype: int64"
      ]
     },
     "execution_count": 25,
     "metadata": {},
     "output_type": "execute_result"
    }
   ],
   "source": [
    "Data['Income'].value_counts()"
   ]
  },
  {
   "cell_type": "code",
   "execution_count": 26,
   "id": "2d172fb2",
   "metadata": {},
   "outputs": [],
   "source": [
    "#From the above observations, below things can be concluded:\n",
    "# 1. Majority of the workclass is private sector\n",
    "#2. Majority of education qualification is HS-grad and Some college\n",
    "#3.Majoriy of the marital status is married and unmarried\n",
    "#4. Husband is common for majority of relationship\n",
    "#5.Majority of the race is white and the sex being male\n",
    "#6.Most of the people have their native country as united states\n",
    "#7.Outcome column/Income is unbalanced with majority percentage people earning less than 50K"
   ]
  },
  {
   "cell_type": "code",
   "execution_count": 27,
   "id": "9a4e3420",
   "metadata": {},
   "outputs": [
    {
     "data": {
      "text/plain": [
       " Private             22696\n",
       " Self-emp-not-inc     2541\n",
       " Local-gov            2093\n",
       " ?                    1836\n",
       " State-gov            1297\n",
       " Self-emp-inc         1116\n",
       " Federal-gov           960\n",
       " Without-pay            14\n",
       " Never-worked            7\n",
       "Name: Workclass, dtype: int64"
      ]
     },
     "execution_count": 27,
     "metadata": {},
     "output_type": "execute_result"
    }
   ],
   "source": [
    "Data[\"Workclass\"].value_counts()"
   ]
  },
  {
   "cell_type": "code",
   "execution_count": 28,
   "id": "d73b6c87",
   "metadata": {},
   "outputs": [],
   "source": [
    "#Workclass has 1836 ? values which means no data and needs to be dropped"
   ]
  },
  {
   "cell_type": "code",
   "execution_count": 29,
   "id": "594c7cfc",
   "metadata": {},
   "outputs": [
    {
     "data": {
      "text/plain": [
       "(array([   26,    60,    68, ..., 32538, 32540, 32541], dtype=int64),)"
      ]
     },
     "execution_count": 29,
     "metadata": {},
     "output_type": "execute_result"
    }
   ],
   "source": [
    "No_Value=np.where(Data['Workclass']==' ?')\n",
    "No_Value"
   ]
  },
  {
   "cell_type": "code",
   "execution_count": 30,
   "id": "59f7392d",
   "metadata": {},
   "outputs": [],
   "source": [
    "#Getting the index values which has ? as its value"
   ]
  },
  {
   "cell_type": "code",
   "execution_count": 31,
   "id": "de9dcdbc",
   "metadata": {},
   "outputs": [],
   "source": [
    "Data.drop(No_Value[0],axis=0,inplace=True)"
   ]
  },
  {
   "cell_type": "code",
   "execution_count": 32,
   "id": "0eb6f6c7",
   "metadata": {},
   "outputs": [
    {
     "data": {
      "text/html": [
       "<div>\n",
       "<style scoped>\n",
       "    .dataframe tbody tr th:only-of-type {\n",
       "        vertical-align: middle;\n",
       "    }\n",
       "\n",
       "    .dataframe tbody tr th {\n",
       "        vertical-align: top;\n",
       "    }\n",
       "\n",
       "    .dataframe thead th {\n",
       "        text-align: right;\n",
       "    }\n",
       "</style>\n",
       "<table border=\"1\" class=\"dataframe\">\n",
       "  <thead>\n",
       "    <tr style=\"text-align: right;\">\n",
       "      <th></th>\n",
       "      <th>Age</th>\n",
       "      <th>Workclass</th>\n",
       "      <th>Fnlwgt</th>\n",
       "      <th>Education</th>\n",
       "      <th>Education_num</th>\n",
       "      <th>Marital_status</th>\n",
       "      <th>Occupation</th>\n",
       "      <th>Relationship</th>\n",
       "      <th>Race</th>\n",
       "      <th>Sex</th>\n",
       "      <th>Capital_gain</th>\n",
       "      <th>Capital_loss</th>\n",
       "      <th>Hours_per_week</th>\n",
       "      <th>Native_country</th>\n",
       "      <th>Income</th>\n",
       "    </tr>\n",
       "  </thead>\n",
       "  <tbody>\n",
       "    <tr>\n",
       "      <th>0</th>\n",
       "      <td>50</td>\n",
       "      <td>Self-emp-not-inc</td>\n",
       "      <td>83311</td>\n",
       "      <td>Bachelors</td>\n",
       "      <td>13</td>\n",
       "      <td>Married-civ-spouse</td>\n",
       "      <td>Exec-managerial</td>\n",
       "      <td>Husband</td>\n",
       "      <td>White</td>\n",
       "      <td>Male</td>\n",
       "      <td>0</td>\n",
       "      <td>0</td>\n",
       "      <td>13</td>\n",
       "      <td>United-States</td>\n",
       "      <td>&lt;=50K</td>\n",
       "    </tr>\n",
       "    <tr>\n",
       "      <th>1</th>\n",
       "      <td>38</td>\n",
       "      <td>Private</td>\n",
       "      <td>215646</td>\n",
       "      <td>HS-grad</td>\n",
       "      <td>9</td>\n",
       "      <td>Divorced</td>\n",
       "      <td>Handlers-cleaners</td>\n",
       "      <td>Not-in-family</td>\n",
       "      <td>White</td>\n",
       "      <td>Male</td>\n",
       "      <td>0</td>\n",
       "      <td>0</td>\n",
       "      <td>40</td>\n",
       "      <td>United-States</td>\n",
       "      <td>&lt;=50K</td>\n",
       "    </tr>\n",
       "    <tr>\n",
       "      <th>2</th>\n",
       "      <td>53</td>\n",
       "      <td>Private</td>\n",
       "      <td>234721</td>\n",
       "      <td>11th</td>\n",
       "      <td>7</td>\n",
       "      <td>Married-civ-spouse</td>\n",
       "      <td>Handlers-cleaners</td>\n",
       "      <td>Husband</td>\n",
       "      <td>Black</td>\n",
       "      <td>Male</td>\n",
       "      <td>0</td>\n",
       "      <td>0</td>\n",
       "      <td>40</td>\n",
       "      <td>United-States</td>\n",
       "      <td>&lt;=50K</td>\n",
       "    </tr>\n",
       "    <tr>\n",
       "      <th>3</th>\n",
       "      <td>28</td>\n",
       "      <td>Private</td>\n",
       "      <td>338409</td>\n",
       "      <td>Bachelors</td>\n",
       "      <td>13</td>\n",
       "      <td>Married-civ-spouse</td>\n",
       "      <td>Prof-specialty</td>\n",
       "      <td>Wife</td>\n",
       "      <td>Black</td>\n",
       "      <td>Female</td>\n",
       "      <td>0</td>\n",
       "      <td>0</td>\n",
       "      <td>40</td>\n",
       "      <td>Cuba</td>\n",
       "      <td>&lt;=50K</td>\n",
       "    </tr>\n",
       "    <tr>\n",
       "      <th>4</th>\n",
       "      <td>37</td>\n",
       "      <td>Private</td>\n",
       "      <td>284582</td>\n",
       "      <td>Masters</td>\n",
       "      <td>14</td>\n",
       "      <td>Married-civ-spouse</td>\n",
       "      <td>Exec-managerial</td>\n",
       "      <td>Wife</td>\n",
       "      <td>White</td>\n",
       "      <td>Female</td>\n",
       "      <td>0</td>\n",
       "      <td>0</td>\n",
       "      <td>40</td>\n",
       "      <td>United-States</td>\n",
       "      <td>&lt;=50K</td>\n",
       "    </tr>\n",
       "    <tr>\n",
       "      <th>...</th>\n",
       "      <td>...</td>\n",
       "      <td>...</td>\n",
       "      <td>...</td>\n",
       "      <td>...</td>\n",
       "      <td>...</td>\n",
       "      <td>...</td>\n",
       "      <td>...</td>\n",
       "      <td>...</td>\n",
       "      <td>...</td>\n",
       "      <td>...</td>\n",
       "      <td>...</td>\n",
       "      <td>...</td>\n",
       "      <td>...</td>\n",
       "      <td>...</td>\n",
       "      <td>...</td>\n",
       "    </tr>\n",
       "    <tr>\n",
       "      <th>32555</th>\n",
       "      <td>27</td>\n",
       "      <td>Private</td>\n",
       "      <td>257302</td>\n",
       "      <td>Assoc-acdm</td>\n",
       "      <td>12</td>\n",
       "      <td>Married-civ-spouse</td>\n",
       "      <td>Tech-support</td>\n",
       "      <td>Wife</td>\n",
       "      <td>White</td>\n",
       "      <td>Female</td>\n",
       "      <td>0</td>\n",
       "      <td>0</td>\n",
       "      <td>38</td>\n",
       "      <td>United-States</td>\n",
       "      <td>&lt;=50K</td>\n",
       "    </tr>\n",
       "    <tr>\n",
       "      <th>32556</th>\n",
       "      <td>40</td>\n",
       "      <td>Private</td>\n",
       "      <td>154374</td>\n",
       "      <td>HS-grad</td>\n",
       "      <td>9</td>\n",
       "      <td>Married-civ-spouse</td>\n",
       "      <td>Machine-op-inspct</td>\n",
       "      <td>Husband</td>\n",
       "      <td>White</td>\n",
       "      <td>Male</td>\n",
       "      <td>0</td>\n",
       "      <td>0</td>\n",
       "      <td>40</td>\n",
       "      <td>United-States</td>\n",
       "      <td>&gt;50K</td>\n",
       "    </tr>\n",
       "    <tr>\n",
       "      <th>32557</th>\n",
       "      <td>58</td>\n",
       "      <td>Private</td>\n",
       "      <td>151910</td>\n",
       "      <td>HS-grad</td>\n",
       "      <td>9</td>\n",
       "      <td>Widowed</td>\n",
       "      <td>Adm-clerical</td>\n",
       "      <td>Unmarried</td>\n",
       "      <td>White</td>\n",
       "      <td>Female</td>\n",
       "      <td>0</td>\n",
       "      <td>0</td>\n",
       "      <td>40</td>\n",
       "      <td>United-States</td>\n",
       "      <td>&lt;=50K</td>\n",
       "    </tr>\n",
       "    <tr>\n",
       "      <th>32558</th>\n",
       "      <td>22</td>\n",
       "      <td>Private</td>\n",
       "      <td>201490</td>\n",
       "      <td>HS-grad</td>\n",
       "      <td>9</td>\n",
       "      <td>Never-married</td>\n",
       "      <td>Adm-clerical</td>\n",
       "      <td>Own-child</td>\n",
       "      <td>White</td>\n",
       "      <td>Male</td>\n",
       "      <td>0</td>\n",
       "      <td>0</td>\n",
       "      <td>20</td>\n",
       "      <td>United-States</td>\n",
       "      <td>&lt;=50K</td>\n",
       "    </tr>\n",
       "    <tr>\n",
       "      <th>32559</th>\n",
       "      <td>52</td>\n",
       "      <td>Self-emp-inc</td>\n",
       "      <td>287927</td>\n",
       "      <td>HS-grad</td>\n",
       "      <td>9</td>\n",
       "      <td>Married-civ-spouse</td>\n",
       "      <td>Exec-managerial</td>\n",
       "      <td>Wife</td>\n",
       "      <td>White</td>\n",
       "      <td>Female</td>\n",
       "      <td>15024</td>\n",
       "      <td>0</td>\n",
       "      <td>40</td>\n",
       "      <td>United-States</td>\n",
       "      <td>&gt;50K</td>\n",
       "    </tr>\n",
       "  </tbody>\n",
       "</table>\n",
       "<p>30724 rows × 15 columns</p>\n",
       "</div>"
      ],
      "text/plain": [
       "       Age          Workclass  Fnlwgt    Education  Education_num  \\\n",
       "0       50   Self-emp-not-inc   83311    Bachelors             13   \n",
       "1       38            Private  215646      HS-grad              9   \n",
       "2       53            Private  234721         11th              7   \n",
       "3       28            Private  338409    Bachelors             13   \n",
       "4       37            Private  284582      Masters             14   \n",
       "...    ...                ...     ...          ...            ...   \n",
       "32555   27            Private  257302   Assoc-acdm             12   \n",
       "32556   40            Private  154374      HS-grad              9   \n",
       "32557   58            Private  151910      HS-grad              9   \n",
       "32558   22            Private  201490      HS-grad              9   \n",
       "32559   52       Self-emp-inc  287927      HS-grad              9   \n",
       "\n",
       "            Marital_status          Occupation    Relationship    Race  \\\n",
       "0       Married-civ-spouse     Exec-managerial         Husband   White   \n",
       "1                 Divorced   Handlers-cleaners   Not-in-family   White   \n",
       "2       Married-civ-spouse   Handlers-cleaners         Husband   Black   \n",
       "3       Married-civ-spouse      Prof-specialty            Wife   Black   \n",
       "4       Married-civ-spouse     Exec-managerial            Wife   White   \n",
       "...                    ...                 ...             ...     ...   \n",
       "32555   Married-civ-spouse        Tech-support            Wife   White   \n",
       "32556   Married-civ-spouse   Machine-op-inspct         Husband   White   \n",
       "32557              Widowed        Adm-clerical       Unmarried   White   \n",
       "32558        Never-married        Adm-clerical       Own-child   White   \n",
       "32559   Married-civ-spouse     Exec-managerial            Wife   White   \n",
       "\n",
       "           Sex  Capital_gain  Capital_loss  Hours_per_week  Native_country  \\\n",
       "0         Male             0             0              13   United-States   \n",
       "1         Male             0             0              40   United-States   \n",
       "2         Male             0             0              40   United-States   \n",
       "3       Female             0             0              40            Cuba   \n",
       "4       Female             0             0              40   United-States   \n",
       "...        ...           ...           ...             ...             ...   \n",
       "32555   Female             0             0              38   United-States   \n",
       "32556     Male             0             0              40   United-States   \n",
       "32557   Female             0             0              40   United-States   \n",
       "32558     Male             0             0              20   United-States   \n",
       "32559   Female         15024             0              40   United-States   \n",
       "\n",
       "       Income  \n",
       "0       <=50K  \n",
       "1       <=50K  \n",
       "2       <=50K  \n",
       "3       <=50K  \n",
       "4       <=50K  \n",
       "...       ...  \n",
       "32555   <=50K  \n",
       "32556    >50K  \n",
       "32557   <=50K  \n",
       "32558   <=50K  \n",
       "32559    >50K  \n",
       "\n",
       "[30724 rows x 15 columns]"
      ]
     },
     "execution_count": 32,
     "metadata": {},
     "output_type": "execute_result"
    }
   ],
   "source": [
    "Data"
   ]
  },
  {
   "cell_type": "code",
   "execution_count": 33,
   "id": "29b5b035",
   "metadata": {},
   "outputs": [
    {
     "data": {
      "text/plain": [
       " Private             22696\n",
       " Self-emp-not-inc     2541\n",
       " Local-gov            2093\n",
       " State-gov            1297\n",
       " Self-emp-inc         1116\n",
       " Federal-gov           960\n",
       " Without-pay            14\n",
       " Never-worked            7\n",
       "Name: Workclass, dtype: int64"
      ]
     },
     "execution_count": 33,
     "metadata": {},
     "output_type": "execute_result"
    }
   ],
   "source": [
    "Data[\"Workclass\"].value_counts()"
   ]
  },
  {
   "cell_type": "code",
   "execution_count": 34,
   "id": "9dd13fa4",
   "metadata": {},
   "outputs": [],
   "source": [
    "#Checking the data after dropping the values"
   ]
  },
  {
   "cell_type": "code",
   "execution_count": 35,
   "id": "c5fed6af",
   "metadata": {},
   "outputs": [
    {
     "data": {
      "text/plain": [
       "Age               0\n",
       "Workclass         0\n",
       "Fnlwgt            0\n",
       "Education         0\n",
       "Education_num     0\n",
       "Marital_status    0\n",
       "Occupation        0\n",
       "Relationship      0\n",
       "Race              0\n",
       "Sex               0\n",
       "Capital_gain      0\n",
       "Capital_loss      0\n",
       "Hours_per_week    0\n",
       "Native_country    0\n",
       "Income            0\n",
       "dtype: int64"
      ]
     },
     "execution_count": 35,
     "metadata": {},
     "output_type": "execute_result"
    }
   ],
   "source": [
    "Data.isnull().sum() #Checking the null values"
   ]
  },
  {
   "cell_type": "code",
   "execution_count": 36,
   "id": "1fcc6107",
   "metadata": {},
   "outputs": [],
   "source": [
    "# No Null values"
   ]
  },
  {
   "cell_type": "code",
   "execution_count": 37,
   "id": "9119a5c5",
   "metadata": {},
   "outputs": [],
   "source": [
    "from sklearn.preprocessing import OrdinalEncoder #Encoding the object data "
   ]
  },
  {
   "cell_type": "code",
   "execution_count": 38,
   "id": "ed3501bc",
   "metadata": {},
   "outputs": [
    {
     "data": {
      "text/plain": [
       "array([[ 5.,  9.,  2., ...,  1., 39.,  0.],\n",
       "       [ 3., 11.,  0., ...,  1., 39.,  0.],\n",
       "       [ 3.,  1.,  2., ...,  1., 39.,  0.],\n",
       "       ...,\n",
       "       [ 3., 11.,  6., ...,  0., 39.,  0.],\n",
       "       [ 3., 11.,  4., ...,  1., 39.,  0.],\n",
       "       [ 4., 11.,  2., ...,  0., 39.,  1.]])"
      ]
     },
     "execution_count": 38,
     "metadata": {},
     "output_type": "execute_result"
    }
   ],
   "source": [
    "OE= OrdinalEncoder()\n",
    "Encode= OE.fit_transform(Data[['Workclass','Education','Marital_status','Occupation','Relationship','Race','Sex','Native_country','Income']])\n",
    "Encode"
   ]
  },
  {
   "cell_type": "code",
   "execution_count": 39,
   "id": "d9d918af",
   "metadata": {},
   "outputs": [],
   "source": [
    "Data[['Workclass','Education','Marital_status','Occupation','Relationship','Race','Sex','Native_country','Income']]=Encode"
   ]
  },
  {
   "cell_type": "code",
   "execution_count": 40,
   "id": "c64a5ccf",
   "metadata": {},
   "outputs": [
    {
     "name": "stdout",
     "output_type": "stream",
     "text": [
      "<class 'pandas.core.frame.DataFrame'>\n",
      "Int64Index: 30724 entries, 0 to 32559\n",
      "Data columns (total 15 columns):\n",
      " #   Column          Non-Null Count  Dtype  \n",
      "---  ------          --------------  -----  \n",
      " 0   Age             30724 non-null  int64  \n",
      " 1   Workclass       30724 non-null  float64\n",
      " 2   Fnlwgt          30724 non-null  int64  \n",
      " 3   Education       30724 non-null  float64\n",
      " 4   Education_num   30724 non-null  int64  \n",
      " 5   Marital_status  30724 non-null  float64\n",
      " 6   Occupation      30724 non-null  float64\n",
      " 7   Relationship    30724 non-null  float64\n",
      " 8   Race            30724 non-null  float64\n",
      " 9   Sex             30724 non-null  float64\n",
      " 10  Capital_gain    30724 non-null  int64  \n",
      " 11  Capital_loss    30724 non-null  int64  \n",
      " 12  Hours_per_week  30724 non-null  int64  \n",
      " 13  Native_country  30724 non-null  float64\n",
      " 14  Income          30724 non-null  float64\n",
      "dtypes: float64(9), int64(6)\n",
      "memory usage: 3.8 MB\n"
     ]
    }
   ],
   "source": [
    "Data.info() #After encoding"
   ]
  },
  {
   "cell_type": "code",
   "execution_count": 41,
   "id": "a84ae6b4",
   "metadata": {},
   "outputs": [
    {
     "data": {
      "text/plain": [
       "0.0    23074\n",
       "1.0     7650\n",
       "Name: Income, dtype: int64"
      ]
     },
     "execution_count": 41,
     "metadata": {},
     "output_type": "execute_result"
    }
   ],
   "source": [
    "Data['Income'].value_counts()"
   ]
  },
  {
   "cell_type": "code",
   "execution_count": 42,
   "id": "9fc2a1c8",
   "metadata": {},
   "outputs": [],
   "source": [
    "# Target data is imbalanced, hence needs to be resampled"
   ]
  },
  {
   "cell_type": "code",
   "execution_count": 43,
   "id": "c7231e21",
   "metadata": {},
   "outputs": [],
   "source": [
    "from sklearn.utils import resample"
   ]
  },
  {
   "cell_type": "code",
   "execution_count": 44,
   "id": "dcc9e7f7",
   "metadata": {},
   "outputs": [],
   "source": [
    "Less_Income=Data[Data.Income==0.0]\n",
    "More_Income=Data[Data.Income==1.0]"
   ]
  },
  {
   "cell_type": "code",
   "execution_count": 45,
   "id": "3d92b4ee",
   "metadata": {},
   "outputs": [],
   "source": [
    "Income_upsamples=resample(More_Income,replace=True,n_samples=len(Less_Income),random_state=27)"
   ]
  },
  {
   "cell_type": "code",
   "execution_count": 46,
   "id": "9ea7f465",
   "metadata": {},
   "outputs": [],
   "source": [
    "upsampled=pd.concat([Less_Income,Income_upsamples])"
   ]
  },
  {
   "cell_type": "code",
   "execution_count": 47,
   "id": "754e7d0b",
   "metadata": {},
   "outputs": [],
   "source": [
    "Data=upsampled"
   ]
  },
  {
   "cell_type": "code",
   "execution_count": 48,
   "id": "89bc0501",
   "metadata": {},
   "outputs": [
    {
     "data": {
      "text/plain": [
       "0.0    23074\n",
       "1.0    23074\n",
       "Name: Income, dtype: int64"
      ]
     },
     "execution_count": 48,
     "metadata": {},
     "output_type": "execute_result"
    }
   ],
   "source": [
    "Data['Income'].value_counts()"
   ]
  },
  {
   "cell_type": "code",
   "execution_count": 49,
   "id": "20e8bb1f",
   "metadata": {},
   "outputs": [
    {
     "data": {
      "text/html": [
       "<div>\n",
       "<style scoped>\n",
       "    .dataframe tbody tr th:only-of-type {\n",
       "        vertical-align: middle;\n",
       "    }\n",
       "\n",
       "    .dataframe tbody tr th {\n",
       "        vertical-align: top;\n",
       "    }\n",
       "\n",
       "    .dataframe thead th {\n",
       "        text-align: right;\n",
       "    }\n",
       "</style>\n",
       "<table border=\"1\" class=\"dataframe\">\n",
       "  <thead>\n",
       "    <tr style=\"text-align: right;\">\n",
       "      <th></th>\n",
       "      <th>Age</th>\n",
       "      <th>Workclass</th>\n",
       "      <th>Fnlwgt</th>\n",
       "      <th>Education</th>\n",
       "      <th>Education_num</th>\n",
       "      <th>Marital_status</th>\n",
       "      <th>Occupation</th>\n",
       "      <th>Relationship</th>\n",
       "      <th>Race</th>\n",
       "      <th>Sex</th>\n",
       "      <th>Capital_gain</th>\n",
       "      <th>Capital_loss</th>\n",
       "      <th>Hours_per_week</th>\n",
       "      <th>Native_country</th>\n",
       "      <th>Income</th>\n",
       "    </tr>\n",
       "  </thead>\n",
       "  <tbody>\n",
       "    <tr>\n",
       "      <th>count</th>\n",
       "      <td>46148.000000</td>\n",
       "      <td>46148.000000</td>\n",
       "      <td>4.614800e+04</td>\n",
       "      <td>46148.000000</td>\n",
       "      <td>46148.000000</td>\n",
       "      <td>46148.000000</td>\n",
       "      <td>46148.000000</td>\n",
       "      <td>46148.000000</td>\n",
       "      <td>46148.000000</td>\n",
       "      <td>46148.000000</td>\n",
       "      <td>46148.000000</td>\n",
       "      <td>46148.000000</td>\n",
       "      <td>46148.000000</td>\n",
       "      <td>46148.000000</td>\n",
       "      <td>46148.000000</td>\n",
       "    </tr>\n",
       "    <tr>\n",
       "      <th>mean</th>\n",
       "      <td>40.318107</td>\n",
       "      <td>3.088151</td>\n",
       "      <td>1.892281e+05</td>\n",
       "      <td>10.499155</td>\n",
       "      <td>10.631100</td>\n",
       "      <td>2.415121</td>\n",
       "      <td>7.085551</td>\n",
       "      <td>1.175826</td>\n",
       "      <td>3.709998</td>\n",
       "      <td>0.737908</td>\n",
       "      <td>2000.218753</td>\n",
       "      <td>127.634935</td>\n",
       "      <td>42.518809</td>\n",
       "      <td>36.763717</td>\n",
       "      <td>0.500000</td>\n",
       "    </tr>\n",
       "    <tr>\n",
       "      <th>std</th>\n",
       "      <td>12.492356</td>\n",
       "      <td>1.185627</td>\n",
       "      <td>1.042864e+05</td>\n",
       "      <td>3.523628</td>\n",
       "      <td>2.598225</td>\n",
       "      <td>1.339879</td>\n",
       "      <td>4.013273</td>\n",
       "      <td>1.617759</td>\n",
       "      <td>0.804832</td>\n",
       "      <td>0.439777</td>\n",
       "      <td>10220.905804</td>\n",
       "      <td>487.234176</td>\n",
       "      <td>11.754188</td>\n",
       "      <td>7.839152</td>\n",
       "      <td>0.500005</td>\n",
       "    </tr>\n",
       "    <tr>\n",
       "      <th>min</th>\n",
       "      <td>17.000000</td>\n",
       "      <td>0.000000</td>\n",
       "      <td>1.376900e+04</td>\n",
       "      <td>0.000000</td>\n",
       "      <td>1.000000</td>\n",
       "      <td>0.000000</td>\n",
       "      <td>0.000000</td>\n",
       "      <td>0.000000</td>\n",
       "      <td>0.000000</td>\n",
       "      <td>0.000000</td>\n",
       "      <td>0.000000</td>\n",
       "      <td>0.000000</td>\n",
       "      <td>1.000000</td>\n",
       "      <td>0.000000</td>\n",
       "      <td>0.000000</td>\n",
       "    </tr>\n",
       "    <tr>\n",
       "      <th>25%</th>\n",
       "      <td>31.000000</td>\n",
       "      <td>3.000000</td>\n",
       "      <td>1.179128e+05</td>\n",
       "      <td>9.000000</td>\n",
       "      <td>9.000000</td>\n",
       "      <td>2.000000</td>\n",
       "      <td>4.000000</td>\n",
       "      <td>0.000000</td>\n",
       "      <td>4.000000</td>\n",
       "      <td>0.000000</td>\n",
       "      <td>0.000000</td>\n",
       "      <td>0.000000</td>\n",
       "      <td>40.000000</td>\n",
       "      <td>39.000000</td>\n",
       "      <td>0.000000</td>\n",
       "    </tr>\n",
       "    <tr>\n",
       "      <th>50%</th>\n",
       "      <td>40.000000</td>\n",
       "      <td>3.000000</td>\n",
       "      <td>1.779005e+05</td>\n",
       "      <td>11.000000</td>\n",
       "      <td>10.000000</td>\n",
       "      <td>2.000000</td>\n",
       "      <td>7.000000</td>\n",
       "      <td>0.000000</td>\n",
       "      <td>4.000000</td>\n",
       "      <td>1.000000</td>\n",
       "      <td>0.000000</td>\n",
       "      <td>0.000000</td>\n",
       "      <td>40.000000</td>\n",
       "      <td>39.000000</td>\n",
       "      <td>0.500000</td>\n",
       "    </tr>\n",
       "    <tr>\n",
       "      <th>75%</th>\n",
       "      <td>49.000000</td>\n",
       "      <td>3.000000</td>\n",
       "      <td>2.360210e+05</td>\n",
       "      <td>12.000000</td>\n",
       "      <td>13.000000</td>\n",
       "      <td>4.000000</td>\n",
       "      <td>10.000000</td>\n",
       "      <td>2.000000</td>\n",
       "      <td>4.000000</td>\n",
       "      <td>1.000000</td>\n",
       "      <td>0.000000</td>\n",
       "      <td>0.000000</td>\n",
       "      <td>50.000000</td>\n",
       "      <td>39.000000</td>\n",
       "      <td>1.000000</td>\n",
       "    </tr>\n",
       "    <tr>\n",
       "      <th>max</th>\n",
       "      <td>90.000000</td>\n",
       "      <td>7.000000</td>\n",
       "      <td>1.484705e+06</td>\n",
       "      <td>15.000000</td>\n",
       "      <td>16.000000</td>\n",
       "      <td>6.000000</td>\n",
       "      <td>14.000000</td>\n",
       "      <td>5.000000</td>\n",
       "      <td>4.000000</td>\n",
       "      <td>1.000000</td>\n",
       "      <td>99999.000000</td>\n",
       "      <td>4356.000000</td>\n",
       "      <td>99.000000</td>\n",
       "      <td>41.000000</td>\n",
       "      <td>1.000000</td>\n",
       "    </tr>\n",
       "  </tbody>\n",
       "</table>\n",
       "</div>"
      ],
      "text/plain": [
       "                Age     Workclass        Fnlwgt     Education  Education_num  \\\n",
       "count  46148.000000  46148.000000  4.614800e+04  46148.000000   46148.000000   \n",
       "mean      40.318107      3.088151  1.892281e+05     10.499155      10.631100   \n",
       "std       12.492356      1.185627  1.042864e+05      3.523628       2.598225   \n",
       "min       17.000000      0.000000  1.376900e+04      0.000000       1.000000   \n",
       "25%       31.000000      3.000000  1.179128e+05      9.000000       9.000000   \n",
       "50%       40.000000      3.000000  1.779005e+05     11.000000      10.000000   \n",
       "75%       49.000000      3.000000  2.360210e+05     12.000000      13.000000   \n",
       "max       90.000000      7.000000  1.484705e+06     15.000000      16.000000   \n",
       "\n",
       "       Marital_status    Occupation  Relationship          Race           Sex  \\\n",
       "count    46148.000000  46148.000000  46148.000000  46148.000000  46148.000000   \n",
       "mean         2.415121      7.085551      1.175826      3.709998      0.737908   \n",
       "std          1.339879      4.013273      1.617759      0.804832      0.439777   \n",
       "min          0.000000      0.000000      0.000000      0.000000      0.000000   \n",
       "25%          2.000000      4.000000      0.000000      4.000000      0.000000   \n",
       "50%          2.000000      7.000000      0.000000      4.000000      1.000000   \n",
       "75%          4.000000     10.000000      2.000000      4.000000      1.000000   \n",
       "max          6.000000     14.000000      5.000000      4.000000      1.000000   \n",
       "\n",
       "       Capital_gain  Capital_loss  Hours_per_week  Native_country  \\\n",
       "count  46148.000000  46148.000000    46148.000000    46148.000000   \n",
       "mean    2000.218753    127.634935       42.518809       36.763717   \n",
       "std    10220.905804    487.234176       11.754188        7.839152   \n",
       "min        0.000000      0.000000        1.000000        0.000000   \n",
       "25%        0.000000      0.000000       40.000000       39.000000   \n",
       "50%        0.000000      0.000000       40.000000       39.000000   \n",
       "75%        0.000000      0.000000       50.000000       39.000000   \n",
       "max    99999.000000   4356.000000       99.000000       41.000000   \n",
       "\n",
       "             Income  \n",
       "count  46148.000000  \n",
       "mean       0.500000  \n",
       "std        0.500005  \n",
       "min        0.000000  \n",
       "25%        0.000000  \n",
       "50%        0.500000  \n",
       "75%        1.000000  \n",
       "max        1.000000  "
      ]
     },
     "execution_count": 49,
     "metadata": {},
     "output_type": "execute_result"
    }
   ],
   "source": [
    "Data.describe() #Checking the statistics"
   ]
  },
  {
   "cell_type": "code",
   "execution_count": 50,
   "id": "e2f4e7d6",
   "metadata": {},
   "outputs": [],
   "source": [
    "#Huge difference in mean and standard deviation in all columns\n",
    "# Difference in maximum and minimum values"
   ]
  },
  {
   "cell_type": "code",
   "execution_count": 51,
   "id": "04149a75",
   "metadata": {},
   "outputs": [
    {
     "data": {
      "image/png": "[encoded data removed]",
      "text/plain": [
       "<Figure size 1440x1800 with 2 Axes>"
      ]
     },
     "metadata": {
      "needs_background": "light"
     },
     "output_type": "display_data"
    }
   ],
   "source": [
    "corr_mat=Data.corr()\n",
    "plt.figure(figsize=[20,25])\n",
    "sns.heatmap(corr_mat,annot=True)\n",
    "plt.title(\"Correlation Matrix\")\n",
    "plt.show() #Checking correlation"
   ]
  },
  {
   "cell_type": "code",
   "execution_count": 52,
   "id": "b917a65d",
   "metadata": {},
   "outputs": [
    {
     "data": {
      "text/html": [
       "<div>\n",
       "<style scoped>\n",
       "    .dataframe tbody tr th:only-of-type {\n",
       "        vertical-align: middle;\n",
       "    }\n",
       "\n",
       "    .dataframe tbody tr th {\n",
       "        vertical-align: top;\n",
       "    }\n",
       "\n",
       "    .dataframe thead th {\n",
       "        text-align: right;\n",
       "    }\n",
       "</style>\n",
       "<table border=\"1\" class=\"dataframe\">\n",
       "  <thead>\n",
       "    <tr style=\"text-align: right;\">\n",
       "      <th></th>\n",
       "      <th>feature</th>\n",
       "      <th>VIF</th>\n",
       "    </tr>\n",
       "  </thead>\n",
       "  <tbody>\n",
       "    <tr>\n",
       "      <th>0</th>\n",
       "      <td>Age</td>\n",
       "      <td>11.279836</td>\n",
       "    </tr>\n",
       "    <tr>\n",
       "      <th>1</th>\n",
       "      <td>Workclass</td>\n",
       "      <td>7.587062</td>\n",
       "    </tr>\n",
       "    <tr>\n",
       "      <th>2</th>\n",
       "      <td>Fnlwgt</td>\n",
       "      <td>4.111041</td>\n",
       "    </tr>\n",
       "    <tr>\n",
       "      <th>3</th>\n",
       "      <td>Education</td>\n",
       "      <td>10.440036</td>\n",
       "    </tr>\n",
       "    <tr>\n",
       "      <th>4</th>\n",
       "      <td>Education_num</td>\n",
       "      <td>20.889669</td>\n",
       "    </tr>\n",
       "    <tr>\n",
       "      <th>5</th>\n",
       "      <td>Marital_status</td>\n",
       "      <td>4.359496</td>\n",
       "    </tr>\n",
       "    <tr>\n",
       "      <th>6</th>\n",
       "      <td>Occupation</td>\n",
       "      <td>4.145799</td>\n",
       "    </tr>\n",
       "    <tr>\n",
       "      <th>7</th>\n",
       "      <td>Relationship</td>\n",
       "      <td>2.544763</td>\n",
       "    </tr>\n",
       "    <tr>\n",
       "      <th>8</th>\n",
       "      <td>Race</td>\n",
       "      <td>20.299541</td>\n",
       "    </tr>\n",
       "    <tr>\n",
       "      <th>9</th>\n",
       "      <td>Sex</td>\n",
       "      <td>6.486453</td>\n",
       "    </tr>\n",
       "    <tr>\n",
       "      <th>10</th>\n",
       "      <td>Capital_gain</td>\n",
       "      <td>1.088739</td>\n",
       "    </tr>\n",
       "    <tr>\n",
       "      <th>11</th>\n",
       "      <td>Capital_loss</td>\n",
       "      <td>1.104595</td>\n",
       "    </tr>\n",
       "    <tr>\n",
       "      <th>12</th>\n",
       "      <td>Hours_per_week</td>\n",
       "      <td>14.588389</td>\n",
       "    </tr>\n",
       "    <tr>\n",
       "      <th>13</th>\n",
       "      <td>Native_country</td>\n",
       "      <td>20.322744</td>\n",
       "    </tr>\n",
       "    <tr>\n",
       "      <th>14</th>\n",
       "      <td>Income</td>\n",
       "      <td>2.882046</td>\n",
       "    </tr>\n",
       "  </tbody>\n",
       "</table>\n",
       "</div>"
      ],
      "text/plain": [
       "           feature        VIF\n",
       "0              Age  11.279836\n",
       "1        Workclass   7.587062\n",
       "2           Fnlwgt   4.111041\n",
       "3        Education  10.440036\n",
       "4    Education_num  20.889669\n",
       "5   Marital_status   4.359496\n",
       "6       Occupation   4.145799\n",
       "7     Relationship   2.544763\n",
       "8             Race  20.299541\n",
       "9              Sex   6.486453\n",
       "10    Capital_gain   1.088739\n",
       "11    Capital_loss   1.104595\n",
       "12  Hours_per_week  14.588389\n",
       "13  Native_country  20.322744\n",
       "14          Income   2.882046"
      ]
     },
     "execution_count": 52,
     "metadata": {},
     "output_type": "execute_result"
    }
   ],
   "source": [
    "vif_data = pd.DataFrame()\n",
    "vif_data[\"feature\"] = Data.columns\n",
    "vif_data[\"VIF\"] = [variance_inflation_factor(Data.values, i)\n",
    "                          for i in range(len(Data.columns))]\n",
    "\n",
    "vif_data"
   ]
  },
  {
   "cell_type": "code",
   "execution_count": 53,
   "id": "427fa90e",
   "metadata": {},
   "outputs": [],
   "source": [
    "#Dropping off the columns which has least corelation with target variable(Income) and more corelation with feature variable\n",
    "#Fnlwgt- No relation with target variable (-0.012) Relationship (-0.29)\n",
    "#Native_country- Least relation with Income(0.017) more with feature variable (20.29)\n",
    "#Educational number- More corelaionwith feature variable (20.889)\n"
   ]
  },
  {
   "cell_type": "code",
   "execution_count": 54,
   "id": "caa18615",
   "metadata": {},
   "outputs": [],
   "source": [
    "Data.drop(['Fnlwgt','Native_country','Education_num','Relationship'],axis=1,inplace=True)"
   ]
  },
  {
   "cell_type": "code",
   "execution_count": 55,
   "id": "621ff418",
   "metadata": {},
   "outputs": [
    {
     "data": {
      "text/html": [
       "<div>\n",
       "<style scoped>\n",
       "    .dataframe tbody tr th:only-of-type {\n",
       "        vertical-align: middle;\n",
       "    }\n",
       "\n",
       "    .dataframe tbody tr th {\n",
       "        vertical-align: top;\n",
       "    }\n",
       "\n",
       "    .dataframe thead th {\n",
       "        text-align: right;\n",
       "    }\n",
       "</style>\n",
       "<table border=\"1\" class=\"dataframe\">\n",
       "  <thead>\n",
       "    <tr style=\"text-align: right;\">\n",
       "      <th></th>\n",
       "      <th>Age</th>\n",
       "      <th>Workclass</th>\n",
       "      <th>Education</th>\n",
       "      <th>Marital_status</th>\n",
       "      <th>Occupation</th>\n",
       "      <th>Race</th>\n",
       "      <th>Sex</th>\n",
       "      <th>Capital_gain</th>\n",
       "      <th>Capital_loss</th>\n",
       "      <th>Hours_per_week</th>\n",
       "      <th>Income</th>\n",
       "    </tr>\n",
       "  </thead>\n",
       "  <tbody>\n",
       "    <tr>\n",
       "      <th>0</th>\n",
       "      <td>50</td>\n",
       "      <td>5.0</td>\n",
       "      <td>9.0</td>\n",
       "      <td>2.0</td>\n",
       "      <td>4.0</td>\n",
       "      <td>4.0</td>\n",
       "      <td>1.0</td>\n",
       "      <td>0</td>\n",
       "      <td>0</td>\n",
       "      <td>13</td>\n",
       "      <td>0.0</td>\n",
       "    </tr>\n",
       "    <tr>\n",
       "      <th>1</th>\n",
       "      <td>38</td>\n",
       "      <td>3.0</td>\n",
       "      <td>11.0</td>\n",
       "      <td>0.0</td>\n",
       "      <td>6.0</td>\n",
       "      <td>4.0</td>\n",
       "      <td>1.0</td>\n",
       "      <td>0</td>\n",
       "      <td>0</td>\n",
       "      <td>40</td>\n",
       "      <td>0.0</td>\n",
       "    </tr>\n",
       "    <tr>\n",
       "      <th>2</th>\n",
       "      <td>53</td>\n",
       "      <td>3.0</td>\n",
       "      <td>1.0</td>\n",
       "      <td>2.0</td>\n",
       "      <td>6.0</td>\n",
       "      <td>2.0</td>\n",
       "      <td>1.0</td>\n",
       "      <td>0</td>\n",
       "      <td>0</td>\n",
       "      <td>40</td>\n",
       "      <td>0.0</td>\n",
       "    </tr>\n",
       "    <tr>\n",
       "      <th>3</th>\n",
       "      <td>28</td>\n",
       "      <td>3.0</td>\n",
       "      <td>9.0</td>\n",
       "      <td>2.0</td>\n",
       "      <td>10.0</td>\n",
       "      <td>2.0</td>\n",
       "      <td>0.0</td>\n",
       "      <td>0</td>\n",
       "      <td>0</td>\n",
       "      <td>40</td>\n",
       "      <td>0.0</td>\n",
       "    </tr>\n",
       "    <tr>\n",
       "      <th>4</th>\n",
       "      <td>37</td>\n",
       "      <td>3.0</td>\n",
       "      <td>12.0</td>\n",
       "      <td>2.0</td>\n",
       "      <td>4.0</td>\n",
       "      <td>4.0</td>\n",
       "      <td>0.0</td>\n",
       "      <td>0</td>\n",
       "      <td>0</td>\n",
       "      <td>40</td>\n",
       "      <td>0.0</td>\n",
       "    </tr>\n",
       "    <tr>\n",
       "      <th>...</th>\n",
       "      <td>...</td>\n",
       "      <td>...</td>\n",
       "      <td>...</td>\n",
       "      <td>...</td>\n",
       "      <td>...</td>\n",
       "      <td>...</td>\n",
       "      <td>...</td>\n",
       "      <td>...</td>\n",
       "      <td>...</td>\n",
       "      <td>...</td>\n",
       "      <td>...</td>\n",
       "    </tr>\n",
       "    <tr>\n",
       "      <th>2366</th>\n",
       "      <td>34</td>\n",
       "      <td>4.0</td>\n",
       "      <td>12.0</td>\n",
       "      <td>5.0</td>\n",
       "      <td>10.0</td>\n",
       "      <td>4.0</td>\n",
       "      <td>0.0</td>\n",
       "      <td>4787</td>\n",
       "      <td>0</td>\n",
       "      <td>40</td>\n",
       "      <td>1.0</td>\n",
       "    </tr>\n",
       "    <tr>\n",
       "      <th>26815</th>\n",
       "      <td>54</td>\n",
       "      <td>3.0</td>\n",
       "      <td>15.0</td>\n",
       "      <td>2.0</td>\n",
       "      <td>12.0</td>\n",
       "      <td>4.0</td>\n",
       "      <td>1.0</td>\n",
       "      <td>7298</td>\n",
       "      <td>0</td>\n",
       "      <td>50</td>\n",
       "      <td>1.0</td>\n",
       "    </tr>\n",
       "    <tr>\n",
       "      <th>24936</th>\n",
       "      <td>44</td>\n",
       "      <td>3.0</td>\n",
       "      <td>9.0</td>\n",
       "      <td>2.0</td>\n",
       "      <td>7.0</td>\n",
       "      <td>4.0</td>\n",
       "      <td>1.0</td>\n",
       "      <td>0</td>\n",
       "      <td>0</td>\n",
       "      <td>40</td>\n",
       "      <td>1.0</td>\n",
       "    </tr>\n",
       "    <tr>\n",
       "      <th>31952</th>\n",
       "      <td>37</td>\n",
       "      <td>3.0</td>\n",
       "      <td>9.0</td>\n",
       "      <td>2.0</td>\n",
       "      <td>4.0</td>\n",
       "      <td>4.0</td>\n",
       "      <td>0.0</td>\n",
       "      <td>0</td>\n",
       "      <td>1848</td>\n",
       "      <td>40</td>\n",
       "      <td>1.0</td>\n",
       "    </tr>\n",
       "    <tr>\n",
       "      <th>28158</th>\n",
       "      <td>62</td>\n",
       "      <td>1.0</td>\n",
       "      <td>12.0</td>\n",
       "      <td>2.0</td>\n",
       "      <td>10.0</td>\n",
       "      <td>4.0</td>\n",
       "      <td>0.0</td>\n",
       "      <td>0</td>\n",
       "      <td>0</td>\n",
       "      <td>40</td>\n",
       "      <td>1.0</td>\n",
       "    </tr>\n",
       "  </tbody>\n",
       "</table>\n",
       "<p>46148 rows × 11 columns</p>\n",
       "</div>"
      ],
      "text/plain": [
       "       Age  Workclass  Education  Marital_status  Occupation  Race  Sex  \\\n",
       "0       50        5.0        9.0             2.0         4.0   4.0  1.0   \n",
       "1       38        3.0       11.0             0.0         6.0   4.0  1.0   \n",
       "2       53        3.0        1.0             2.0         6.0   2.0  1.0   \n",
       "3       28        3.0        9.0             2.0        10.0   2.0  0.0   \n",
       "4       37        3.0       12.0             2.0         4.0   4.0  0.0   \n",
       "...    ...        ...        ...             ...         ...   ...  ...   \n",
       "2366    34        4.0       12.0             5.0        10.0   4.0  0.0   \n",
       "26815   54        3.0       15.0             2.0        12.0   4.0  1.0   \n",
       "24936   44        3.0        9.0             2.0         7.0   4.0  1.0   \n",
       "31952   37        3.0        9.0             2.0         4.0   4.0  0.0   \n",
       "28158   62        1.0       12.0             2.0        10.0   4.0  0.0   \n",
       "\n",
       "       Capital_gain  Capital_loss  Hours_per_week  Income  \n",
       "0                 0             0              13     0.0  \n",
       "1                 0             0              40     0.0  \n",
       "2                 0             0              40     0.0  \n",
       "3                 0             0              40     0.0  \n",
       "4                 0             0              40     0.0  \n",
       "...             ...           ...             ...     ...  \n",
       "2366           4787             0              40     1.0  \n",
       "26815          7298             0              50     1.0  \n",
       "24936             0             0              40     1.0  \n",
       "31952             0          1848              40     1.0  \n",
       "28158             0             0              40     1.0  \n",
       "\n",
       "[46148 rows x 11 columns]"
      ]
     },
     "execution_count": 55,
     "metadata": {},
     "output_type": "execute_result"
    }
   ],
   "source": [
    "Data"
   ]
  },
  {
   "cell_type": "code",
   "execution_count": 56,
   "id": "b6a019a3",
   "metadata": {},
   "outputs": [
    {
     "data": {
      "text/plain": [
       "(46148, 11)"
      ]
     },
     "execution_count": 56,
     "metadata": {},
     "output_type": "execute_result"
    }
   ],
   "source": [
    "Data.shape"
   ]
  },
  {
   "cell_type": "code",
   "execution_count": 57,
   "id": "39c56bc6",
   "metadata": {},
   "outputs": [
    {
     "data": {
      "text/html": [
       "<div>\n",
       "<style scoped>\n",
       "    .dataframe tbody tr th:only-of-type {\n",
       "        vertical-align: middle;\n",
       "    }\n",
       "\n",
       "    .dataframe tbody tr th {\n",
       "        vertical-align: top;\n",
       "    }\n",
       "\n",
       "    .dataframe thead th {\n",
       "        text-align: right;\n",
       "    }\n",
       "</style>\n",
       "<table border=\"1\" class=\"dataframe\">\n",
       "  <thead>\n",
       "    <tr style=\"text-align: right;\">\n",
       "      <th></th>\n",
       "      <th>feature</th>\n",
       "      <th>VIF</th>\n",
       "    </tr>\n",
       "  </thead>\n",
       "  <tbody>\n",
       "    <tr>\n",
       "      <th>0</th>\n",
       "      <td>Age</td>\n",
       "      <td>10.769409</td>\n",
       "    </tr>\n",
       "    <tr>\n",
       "      <th>1</th>\n",
       "      <td>Workclass</td>\n",
       "      <td>7.401257</td>\n",
       "    </tr>\n",
       "    <tr>\n",
       "      <th>2</th>\n",
       "      <td>Education</td>\n",
       "      <td>8.770080</td>\n",
       "    </tr>\n",
       "    <tr>\n",
       "      <th>3</th>\n",
       "      <td>Marital_status</td>\n",
       "      <td>4.006013</td>\n",
       "    </tr>\n",
       "    <tr>\n",
       "      <th>4</th>\n",
       "      <td>Occupation</td>\n",
       "      <td>3.996575</td>\n",
       "    </tr>\n",
       "    <tr>\n",
       "      <th>5</th>\n",
       "      <td>Race</td>\n",
       "      <td>16.468430</td>\n",
       "    </tr>\n",
       "    <tr>\n",
       "      <th>6</th>\n",
       "      <td>Sex</td>\n",
       "      <td>4.312285</td>\n",
       "    </tr>\n",
       "    <tr>\n",
       "      <th>7</th>\n",
       "      <td>Capital_gain</td>\n",
       "      <td>1.085008</td>\n",
       "    </tr>\n",
       "    <tr>\n",
       "      <th>8</th>\n",
       "      <td>Capital_loss</td>\n",
       "      <td>1.102481</td>\n",
       "    </tr>\n",
       "    <tr>\n",
       "      <th>9</th>\n",
       "      <td>Hours_per_week</td>\n",
       "      <td>13.462383</td>\n",
       "    </tr>\n",
       "    <tr>\n",
       "      <th>10</th>\n",
       "      <td>Income</td>\n",
       "      <td>2.608528</td>\n",
       "    </tr>\n",
       "  </tbody>\n",
       "</table>\n",
       "</div>"
      ],
      "text/plain": [
       "           feature        VIF\n",
       "0              Age  10.769409\n",
       "1        Workclass   7.401257\n",
       "2        Education   8.770080\n",
       "3   Marital_status   4.006013\n",
       "4       Occupation   3.996575\n",
       "5             Race  16.468430\n",
       "6              Sex   4.312285\n",
       "7     Capital_gain   1.085008\n",
       "8     Capital_loss   1.102481\n",
       "9   Hours_per_week  13.462383\n",
       "10          Income   2.608528"
      ]
     },
     "execution_count": 57,
     "metadata": {},
     "output_type": "execute_result"
    }
   ],
   "source": [
    "vif_data = pd.DataFrame()\n",
    "vif_data[\"feature\"] = Data.columns\n",
    "vif_data[\"VIF\"] = [variance_inflation_factor(Data.values, i)\n",
    "                          for i in range(len(Data.columns))]\n",
    "\n",
    "vif_data"
   ]
  },
  {
   "cell_type": "code",
   "execution_count": 58,
   "id": "df3e609f",
   "metadata": {},
   "outputs": [],
   "source": [
    "#Dropping off race as it has high covariance and less dependence on target variable"
   ]
  },
  {
   "cell_type": "code",
   "execution_count": 59,
   "id": "ddcfa54e",
   "metadata": {},
   "outputs": [],
   "source": [
    "Data.drop('Race',axis=1,inplace=True)"
   ]
  },
  {
   "cell_type": "code",
   "execution_count": 60,
   "id": "1177ba07",
   "metadata": {},
   "outputs": [
    {
     "data": {
      "text/html": [
       "<div>\n",
       "<style scoped>\n",
       "    .dataframe tbody tr th:only-of-type {\n",
       "        vertical-align: middle;\n",
       "    }\n",
       "\n",
       "    .dataframe tbody tr th {\n",
       "        vertical-align: top;\n",
       "    }\n",
       "\n",
       "    .dataframe thead th {\n",
       "        text-align: right;\n",
       "    }\n",
       "</style>\n",
       "<table border=\"1\" class=\"dataframe\">\n",
       "  <thead>\n",
       "    <tr style=\"text-align: right;\">\n",
       "      <th></th>\n",
       "      <th>feature</th>\n",
       "      <th>VIF</th>\n",
       "    </tr>\n",
       "  </thead>\n",
       "  <tbody>\n",
       "    <tr>\n",
       "      <th>0</th>\n",
       "      <td>Age</td>\n",
       "      <td>9.868443</td>\n",
       "    </tr>\n",
       "    <tr>\n",
       "      <th>1</th>\n",
       "      <td>Workclass</td>\n",
       "      <td>7.097334</td>\n",
       "    </tr>\n",
       "    <tr>\n",
       "      <th>2</th>\n",
       "      <td>Education</td>\n",
       "      <td>8.257282</td>\n",
       "    </tr>\n",
       "    <tr>\n",
       "      <th>3</th>\n",
       "      <td>Marital_status</td>\n",
       "      <td>3.788913</td>\n",
       "    </tr>\n",
       "    <tr>\n",
       "      <th>4</th>\n",
       "      <td>Occupation</td>\n",
       "      <td>3.941442</td>\n",
       "    </tr>\n",
       "    <tr>\n",
       "      <th>5</th>\n",
       "      <td>Sex</td>\n",
       "      <td>4.261283</td>\n",
       "    </tr>\n",
       "    <tr>\n",
       "      <th>6</th>\n",
       "      <td>Capital_gain</td>\n",
       "      <td>1.083587</td>\n",
       "    </tr>\n",
       "    <tr>\n",
       "      <th>7</th>\n",
       "      <td>Capital_loss</td>\n",
       "      <td>1.102481</td>\n",
       "    </tr>\n",
       "    <tr>\n",
       "      <th>8</th>\n",
       "      <td>Hours_per_week</td>\n",
       "      <td>12.399022</td>\n",
       "    </tr>\n",
       "    <tr>\n",
       "      <th>9</th>\n",
       "      <td>Income</td>\n",
       "      <td>2.608527</td>\n",
       "    </tr>\n",
       "  </tbody>\n",
       "</table>\n",
       "</div>"
      ],
      "text/plain": [
       "          feature        VIF\n",
       "0             Age   9.868443\n",
       "1       Workclass   7.097334\n",
       "2       Education   8.257282\n",
       "3  Marital_status   3.788913\n",
       "4      Occupation   3.941442\n",
       "5             Sex   4.261283\n",
       "6    Capital_gain   1.083587\n",
       "7    Capital_loss   1.102481\n",
       "8  Hours_per_week  12.399022\n",
       "9          Income   2.608527"
      ]
     },
     "execution_count": 60,
     "metadata": {},
     "output_type": "execute_result"
    }
   ],
   "source": [
    "vif_data = pd.DataFrame()\n",
    "vif_data[\"feature\"] = Data.columns\n",
    "vif_data[\"VIF\"] = [variance_inflation_factor(Data.values, i)\n",
    "                          for i in range(len(Data.columns))]\n",
    "\n",
    "vif_data"
   ]
  },
  {
   "cell_type": "code",
   "execution_count": 61,
   "id": "d8f8d9e9",
   "metadata": {},
   "outputs": [],
   "source": [
    "X=Data.drop('Income',axis=1) #Feature variable\n",
    "Y=Data['Income'] #Target variable"
   ]
  },
  {
   "cell_type": "code",
   "execution_count": 62,
   "id": "22bb3705",
   "metadata": {},
   "outputs": [
    {
     "data": {
      "text/plain": [
       "(46148, 9)"
      ]
     },
     "execution_count": 62,
     "metadata": {},
     "output_type": "execute_result"
    }
   ],
   "source": [
    "X.shape"
   ]
  },
  {
   "cell_type": "code",
   "execution_count": 63,
   "id": "712e5caa",
   "metadata": {},
   "outputs": [
    {
     "data": {
      "text/plain": [
       "(46148,)"
      ]
     },
     "execution_count": 63,
     "metadata": {},
     "output_type": "execute_result"
    }
   ],
   "source": [
    "Y.shape"
   ]
  },
  {
   "cell_type": "code",
   "execution_count": 64,
   "id": "86c2d9bd",
   "metadata": {},
   "outputs": [],
   "source": [
    "#Comparing feature and target variable"
   ]
  },
  {
   "cell_type": "code",
   "execution_count": 65,
   "id": "783cff02",
   "metadata": {},
   "outputs": [
    {
     "data": {
      "image/png": "[encoded data removed]",
      "text/plain": [
       "<Figure size 1440x1800 with 1 Axes>"
      ]
     },
     "metadata": {},
     "output_type": "display_data"
    },
    {
     "data": {
      "image/png": "[encoded data removed]",
      "text/plain": [
       "<Figure size 432x288 with 1 Axes>"
      ]
     },
     "metadata": {
      "needs_background": "light"
     },
     "output_type": "display_data"
    },
    {
     "data": {
      "image/png": "[encoded data removed]",
      "text/plain": [
       "<Figure size 432x288 with 1 Axes>"
      ]
     },
     "metadata": {
      "needs_background": "light"
     },
     "output_type": "display_data"
    },
    {
     "data": {
      "image/png": "[encoded data removed]",
      "text/plain": [
       "<Figure size 432x288 with 1 Axes>"
      ]
     },
     "metadata": {
      "needs_background": "light"
     },
     "output_type": "display_data"
    },
    {
     "data": {
      "image/png": "[encoded data removed]",
      "text/plain": [
       "<Figure size 432x288 with 1 Axes>"
      ]
     },
     "metadata": {
      "needs_background": "light"
     },
     "output_type": "display_data"
    },
    {
     "data": {
      "image/png": "[encoded data removed]",
      "text/plain": [
       "<Figure size 432x288 with 1 Axes>"
      ]
     },
     "metadata": {
      "needs_background": "light"
     },
     "output_type": "display_data"
    },
    {
     "data": {
      "image/png": "[encoded data removed]",
      "text/plain": [
       "<Figure size 432x288 with 1 Axes>"
      ]
     },
     "metadata": {
      "needs_background": "light"
     },
     "output_type": "display_data"
    },
    {
     "data": {
      "image/png": "[encoded data removed]",
      "text/plain": [
       "<Figure size 432x288 with 1 Axes>"
      ]
     },
     "metadata": {
      "needs_background": "light"
     },
     "output_type": "display_data"
    },
    {
     "data": {
      "image/png": "[encoded data removed]",
      "text/plain": [
       "<Figure size 432x288 with 1 Axes>"
      ]
     },
     "metadata": {
      "needs_background": "light"
     },
     "output_type": "display_data"
    }
   ],
   "source": [
    "plt.figure(figsize=(20,25),facecolor='blue')\n",
    "plotnumber=1\n",
    "for column in X.columns:\n",
    " if plotnumber<=9:\n",
    "    ax=plt.subplot(4,4,plotnumber)\n",
    "    sns.stripplot(Y,X[column])\n",
    "    plt.xlabel(column)\n",
    "    plt.ylabel('W')\n",
    " plotnumber=plotnumber+1\n",
    " plt.show()"
   ]
  },
  {
   "cell_type": "code",
   "execution_count": 66,
   "id": "48f62797",
   "metadata": {},
   "outputs": [
    {
     "data": {
      "image/png": "[encoded data removed]",
      "text/plain": [
       "<Figure size 720x576 with 9 Axes>"
      ]
     },
     "metadata": {
      "needs_background": "light"
     },
     "output_type": "display_data"
    }
   ],
   "source": [
    "X.plot(kind='kde',subplots=True,layout=(3,3),sharex=False,legend=True,fontsize=3,figsize=(10,8))\n",
    "plt.show() #Checking skewness"
   ]
  },
  {
   "cell_type": "code",
   "execution_count": 67,
   "id": "e1bf1f93",
   "metadata": {},
   "outputs": [
    {
     "data": {
      "text/plain": [
       "Capital_gain      8.545072\n",
       "Capital_loss      3.665486\n",
       "Hours_per_week    0.391770\n",
       "Age               0.357336\n",
       "Marital_status    0.315783\n",
       "Occupation        0.084348\n",
       "Workclass        -0.065020\n",
       "Education        -0.942162\n",
       "Sex              -1.081998\n",
       "dtype: float64"
      ]
     },
     "execution_count": 67,
     "metadata": {},
     "output_type": "execute_result"
    }
   ],
   "source": [
    "X.skew().sort_values(ascending=False)"
   ]
  },
  {
   "cell_type": "code",
   "execution_count": 68,
   "id": "86b729f0",
   "metadata": {},
   "outputs": [],
   "source": [
    "from sklearn.preprocessing import power_transform"
   ]
  },
  {
   "cell_type": "code",
   "execution_count": 69,
   "id": "d5f037cc",
   "metadata": {},
   "outputs": [],
   "source": [
    "New_X=power_transform(X)"
   ]
  },
  {
   "cell_type": "code",
   "execution_count": 70,
   "id": "86ccf963",
   "metadata": {},
   "outputs": [
    {
     "data": {
      "text/plain": [
       "Capital_loss      3.497389\n",
       "Capital_gain      2.256380\n",
       "Hours_per_week    0.251982\n",
       "Workclass         0.151796\n",
       "Marital_status   -0.001675\n",
       "Age              -0.026082\n",
       "Occupation       -0.153168\n",
       "Education        -0.206235\n",
       "Sex              -1.081998\n",
       "dtype: float64"
      ]
     },
     "execution_count": 70,
     "metadata": {},
     "output_type": "execute_result"
    }
   ],
   "source": [
    "pd.DataFrame(New_X,columns=X.columns).skew().sort_values(ascending=False) # transforming the data to reduce skewness"
   ]
  },
  {
   "cell_type": "code",
   "execution_count": 71,
   "id": "7dc72f0a",
   "metadata": {},
   "outputs": [],
   "source": [
    "X=pd.DataFrame(New_X,columns=X.columns)"
   ]
  },
  {
   "cell_type": "code",
   "execution_count": 72,
   "id": "fe324948",
   "metadata": {},
   "outputs": [
    {
     "data": {
      "image/png": "[encoded data removed]",
      "text/plain": [
       "<Figure size 720x576 with 9 Axes>"
      ]
     },
     "metadata": {
      "needs_background": "light"
     },
     "output_type": "display_data"
    }
   ],
   "source": [
    "X.plot(kind='kde',subplots=True,layout=(3,3),sharex=False,legend=True,fontsize=3,figsize=(10,8))\n",
    "plt.show() #Checking skewness after transformation"
   ]
  },
  {
   "cell_type": "code",
   "execution_count": 87,
   "id": "f2fcd9f4",
   "metadata": {},
   "outputs": [
    {
     "data": {
      "text/plain": [
       "(46148, 9)"
      ]
     },
     "execution_count": 87,
     "metadata": {},
     "output_type": "execute_result"
    }
   ],
   "source": [
    "X.shape"
   ]
  },
  {
   "cell_type": "code",
   "execution_count": 88,
   "id": "f4deb955",
   "metadata": {},
   "outputs": [
    {
     "data": {
      "text/plain": [
       "(46148,)"
      ]
     },
     "execution_count": 88,
     "metadata": {},
     "output_type": "execute_result"
    }
   ],
   "source": [
    "Y.shape"
   ]
  },
  {
   "cell_type": "code",
   "execution_count": 89,
   "id": "6975ec62",
   "metadata": {},
   "outputs": [],
   "source": [
    "Scalar=StandardScaler() #scaling the data"
   ]
  },
  {
   "cell_type": "code",
   "execution_count": 91,
   "id": "b11a1548",
   "metadata": {},
   "outputs": [
    {
     "data": {
      "text/plain": [
       "array([[ 0.80724803,  1.64955283, -0.55980808, ..., -0.3794045 ,\n",
       "        -0.26574404, -2.57297767],\n",
       "       [-0.10423402, -0.09446117,  0.05108134, ..., -0.3794045 ,\n",
       "        -0.26574404, -0.20501856],\n",
       "       [ 1.01645717, -0.09446117, -2.23030984, ..., -0.3794045 ,\n",
       "        -0.26574404, -0.20501856],\n",
       "       ...,\n",
       "       [ 0.36793719, -0.09446117, -0.55980808, ..., -0.3794045 ,\n",
       "        -0.26574404, -0.20501856],\n",
       "       [-0.18665127, -0.09446117, -0.55980808, ..., -0.3794045 ,\n",
       "         3.76301966, -0.20501856],\n",
       "       [ 1.60894508, -1.72899825,  0.38077867, ..., -0.3794045 ,\n",
       "        -0.26574404, -0.20501856]])"
      ]
     },
     "execution_count": 91,
     "metadata": {},
     "output_type": "execute_result"
    }
   ],
   "source": [
    "X_Scaled=Scalar.fit_transform(X)\n",
    "X_Scaled"
   ]
  },
  {
   "cell_type": "markdown",
   "id": "2bd4f409",
   "metadata": {},
   "source": [
    "# Logistic Regression"
   ]
  },
  {
   "cell_type": "code",
   "execution_count": 92,
   "id": "e06586cc",
   "metadata": {},
   "outputs": [],
   "source": [
    "LR=LogisticRegression()"
   ]
  },
  {
   "cell_type": "code",
   "execution_count": 94,
   "id": "f81233ca",
   "metadata": {},
   "outputs": [
    {
     "name": "stdout",
     "output_type": "stream",
     "text": [
      "At random state 0 the testing accurancy is:- 0.7206933911159263\n",
      "/n\n",
      "At random state 1 the testing accurancy is:- 0.7252437703141928\n",
      "/n\n",
      "At random state 2 the testing accurancy is:- 0.7180931744312026\n",
      "/n\n",
      "At random state 3 the testing accurancy is:- 0.7209100758396533\n",
      "/n\n",
      "At random state 4 the testing accurancy is:- 0.72795232936078\n",
      "/n\n",
      "At random state 5 the testing accurancy is:- 0.7263271939328277\n",
      "/n\n",
      "At random state 6 the testing accurancy is:- 0.7265438786565547\n",
      "/n\n",
      "At random state 7 the testing accurancy is:- 0.7229685807150595\n",
      "/n\n",
      "At random state 8 the testing accurancy is:- 0.7266522210184182\n",
      "/n\n",
      "At random state 9 the testing accurancy is:- 0.7143011917659805\n",
      "/n\n",
      "At random state 10 the testing accurancy is:- 0.7310942578548212\n",
      "/n\n",
      "At random state 11 the testing accurancy is:- 0.71397616468039\n",
      "/n\n",
      "At random state 12 the testing accurancy is:- 0.723943661971831\n",
      "/n\n",
      "At random state 13 the testing accurancy is:- 0.7254604550379198\n",
      "/n\n",
      "At random state 14 the testing accurancy is:- 0.7317443120260022\n",
      "/n\n",
      "At random state 15 the testing accurancy is:- 0.7254604550379198\n",
      "/n\n",
      "At random state 16 the testing accurancy is:- 0.7302275189599133\n",
      "/n\n",
      "At random state 17 the testing accurancy is:- 0.7291440953412784\n",
      "/n\n",
      "At random state 18 the testing accurancy is:- 0.7281690140845071\n",
      "/n\n",
      "At random state 19 the testing accurancy is:- 0.7273022751895991\n",
      "/n\n",
      "At random state 20 the testing accurancy is:- 0.7245937161430119\n",
      "/n\n",
      "At random state 21 the testing accurancy is:- 0.7251354279523293\n",
      "/n\n",
      "At random state 22 the testing accurancy is:- 0.7160346695557963\n",
      "/n\n",
      "At random state 23 the testing accurancy is:- 0.723726977248104\n",
      "/n\n",
      "At random state 24 the testing accurancy is:- 0.728819068255688\n",
      "/n\n",
      "At random state 25 the testing accurancy is:- 0.7228602383531961\n",
      "/n\n",
      "At random state 26 the testing accurancy is:- 0.7271939328277356\n",
      "/n\n",
      "At random state 27 the testing accurancy is:- 0.7205850487540628\n",
      "/n\n",
      "At random state 28 the testing accurancy is:- 0.7242686890574215\n",
      "/n\n",
      "At random state 29 the testing accurancy is:- 0.7218851570964248\n",
      "/n\n",
      "At random state 30 the testing accurancy is:- 0.7249187432286024\n",
      "/n\n",
      "At random state 31 the testing accurancy is:- 0.723510292524377\n",
      "/n\n",
      "At random state 32 the testing accurancy is:- 0.7250270855904659\n",
      "/n\n",
      "At random state 33 the testing accurancy is:- 0.7318526543878656\n",
      "/n\n",
      "At random state 34 the testing accurancy is:- 0.7357529794149512\n",
      "/n\n",
      "At random state 35 the testing accurancy is:- 0.7256771397616468\n",
      "/n\n",
      "At random state 36 the testing accurancy is:- 0.7171180931744312\n",
      "/n\n",
      "At random state 37 the testing accurancy is:- 0.7248104008667389\n",
      "/n\n",
      "At random state 38 the testing accurancy is:- 0.7302275189599133\n",
      "/n\n",
      "At random state 39 the testing accurancy is:- 0.7230769230769231\n",
      "/n\n",
      "At random state 40 the testing accurancy is:- 0.7262188515709642\n",
      "/n\n",
      "At random state 41 the testing accurancy is:- 0.7257854821235102\n",
      "/n\n",
      "At random state 42 the testing accurancy is:- 0.7249187432286024\n",
      "/n\n",
      "At random state 43 the testing accurancy is:- 0.7266522210184182\n",
      "/n\n",
      "At random state 44 the testing accurancy is:- 0.723943661971831\n",
      "/n\n",
      "At random state 45 the testing accurancy is:- 0.7206933911159263\n",
      "/n\n",
      "At random state 46 the testing accurancy is:- 0.7273022751895991\n",
      "/n\n",
      "At random state 47 the testing accurancy is:- 0.7264355362946913\n",
      "/n\n",
      "At random state 48 the testing accurancy is:- 0.7299024918743229\n",
      "/n\n",
      "At random state 49 the testing accurancy is:- 0.7275189599133262\n",
      "/n\n",
      "At random state 50 the testing accurancy is:- 0.7243770314192849\n",
      "/n\n",
      "At random state 51 the testing accurancy is:- 0.7342361863488625\n",
      "/n\n",
      "At random state 52 the testing accurancy is:- 0.7295774647887324\n",
      "/n\n",
      "At random state 53 the testing accurancy is:- 0.7260021668472373\n",
      "/n\n",
      "At random state 54 the testing accurancy is:- 0.7310942578548212\n",
      "/n\n",
      "At random state 55 the testing accurancy is:- 0.7244853737811484\n",
      "/n\n",
      "At random state 56 the testing accurancy is:- 0.7315276273022752\n",
      "/n\n",
      "At random state 57 the testing accurancy is:- 0.7278439869989166\n",
      "/n\n",
      "At random state 58 the testing accurancy is:- 0.7210184182015168\n",
      "/n\n",
      "At random state 59 the testing accurancy is:- 0.7173347778981581\n",
      "/n\n",
      "At random state 60 the testing accurancy is:- 0.7221018418201517\n",
      "/n\n",
      "At random state 61 the testing accurancy is:- 0.7225352112676057\n",
      "/n\n",
      "At random state 62 the testing accurancy is:- 0.7295774647887324\n",
      "/n\n",
      "At random state 63 the testing accurancy is:- 0.7305525460455038\n",
      "/n\n",
      "At random state 64 the testing accurancy is:- 0.723943661971831\n",
      "/n\n",
      "At random state 65 the testing accurancy is:- 0.7243770314192849\n",
      "/n\n",
      "At random state 66 the testing accurancy is:- 0.7297941495124594\n",
      "/n\n",
      "At random state 67 the testing accurancy is:- 0.7290357529794149\n",
      "/n\n",
      "At random state 68 the testing accurancy is:- 0.7264355362946913\n",
      "/n\n",
      "At random state 69 the testing accurancy is:- 0.72795232936078\n",
      "/n\n",
      "At random state 70 the testing accurancy is:- 0.7187432286023835\n",
      "/n\n",
      "At random state 71 the testing accurancy is:- 0.7202600216684724\n",
      "/n\n",
      "At random state 72 the testing accurancy is:- 0.7341278439869989\n",
      "/n\n",
      "At random state 73 the testing accurancy is:- 0.7217768147345612\n",
      "/n\n",
      "At random state 74 the testing accurancy is:- 0.7300108342361864\n",
      "/n\n",
      "At random state 75 the testing accurancy is:- 0.7284940411700975\n",
      "/n\n",
      "At random state 76 the testing accurancy is:- 0.7242686890574215\n",
      "/n\n",
      "At random state 77 the testing accurancy is:- 0.7229685807150595\n",
      "/n\n",
      "At random state 78 the testing accurancy is:- 0.7166847237269772\n",
      "/n\n",
      "At random state 79 the testing accurancy is:- 0.7258938244853738\n",
      "/n\n",
      "At random state 80 the testing accurancy is:- 0.7206933911159263\n",
      "/n\n",
      "At random state 81 the testing accurancy is:- 0.7221018418201517\n",
      "/n\n",
      "At random state 82 the testing accurancy is:- 0.7278439869989166\n",
      "/n\n",
      "At random state 83 the testing accurancy is:- 0.7234019501625135\n",
      "/n\n",
      "At random state 84 the testing accurancy is:- 0.7234019501625135\n",
      "/n\n",
      "At random state 85 the testing accurancy is:- 0.7282773564463705\n",
      "/n\n",
      "At random state 86 the testing accurancy is:- 0.7281690140845071\n",
      "/n\n",
      "At random state 87 the testing accurancy is:- 0.7287107258938245\n",
      "/n\n",
      "At random state 88 the testing accurancy is:- 0.7224268689057421\n",
      "/n\n",
      "At random state 89 the testing accurancy is:- 0.7265438786565547\n",
      "/n\n",
      "At random state 90 the testing accurancy is:- 0.7317443120260022\n",
      "/n\n",
      "At random state 91 the testing accurancy is:- 0.7314192849404118\n",
      "/n\n",
      "At random state 92 the testing accurancy is:- 0.7326110509209101\n",
      "/n\n",
      "At random state 93 the testing accurancy is:- 0.7251354279523293\n",
      "/n\n",
      "At random state 94 the testing accurancy is:- 0.724160346695558\n",
      "/n\n",
      "At random state 95 the testing accurancy is:- 0.7265438786565547\n",
      "/n\n",
      "At random state 96 the testing accurancy is:- 0.7209100758396533\n",
      "/n\n",
      "At random state 97 the testing accurancy is:- 0.723510292524377\n",
      "/n\n",
      "At random state 98 the testing accurancy is:- 0.7268689057421451\n",
      "/n\n",
      "At random state 99 the testing accurancy is:- 0.7199349945828819\n",
      "/n\n"
     ]
    }
   ],
   "source": [
    "for i in range (0,100):\n",
    "    X_train,X_test,y_train,y_test=train_test_split(X_Scaled,Y,test_size=0.20,random_state=i)\n",
    "    LR.fit(X_train,y_train)\n",
    "    pred_test=LR.predict(X_test)\n",
    "    print('At random state',i,'the testing accurancy is:-',accuracy_score(y_test,pred_test))\n",
    "    print(\"/n\")"
   ]
  },
  {
   "cell_type": "code",
   "execution_count": 145,
   "id": "cc39ac6a",
   "metadata": {},
   "outputs": [],
   "source": [
    "X_train,X_test,y_train,y_test=train_test_split(X_Scaled,Y,test_size=0.20,random_state=48)\n",
    "LR.fit(X_train,y_train)\n",
    "pred_test=LR.predict(X_test)"
   ]
  },
  {
   "cell_type": "code",
   "execution_count": 146,
   "id": "258dc7d0",
   "metadata": {},
   "outputs": [
    {
     "data": {
      "text/plain": [
       "72.99024918743228"
      ]
     },
     "execution_count": 146,
     "metadata": {},
     "output_type": "execute_result"
    }
   ],
   "source": [
    "LR_Accuracy=accuracy_score(y_test,pred_test)*100\n",
    "LR_Accuracy"
   ]
  },
  {
   "cell_type": "markdown",
   "id": "9df2d513",
   "metadata": {},
   "source": [
    "# KNearest Neighbour"
   ]
  },
  {
   "cell_type": "code",
   "execution_count": 95,
   "id": "4979e983",
   "metadata": {},
   "outputs": [],
   "source": [
    "knn=KNeighborsClassifier()"
   ]
  },
  {
   "cell_type": "code",
   "execution_count": 96,
   "id": "12a3eae6",
   "metadata": {},
   "outputs": [
    {
     "name": "stdout",
     "output_type": "stream",
     "text": [
      "At random state 0 the testing accurancy is:- 0.8264355362946912\n",
      "/n\n",
      "At random state 1 the testing accurancy is:- 0.8289274106175515\n",
      "/n\n",
      "At random state 2 the testing accurancy is:- 0.8265438786565548\n",
      "/n\n",
      "At random state 3 the testing accurancy is:- 0.828385698808234\n",
      "/n\n",
      "At random state 4 the testing accurancy is:- 0.8361863488624052\n",
      "/n\n",
      "At random state 5 the testing accurancy is:- 0.8253521126760563\n",
      "/n\n",
      "At random state 6 the testing accurancy is:- 0.8252437703141928\n",
      "/n\n",
      "At random state 7 the testing accurancy is:- 0.8296858071505959\n",
      "/n\n",
      "At random state 8 the testing accurancy is:- 0.8273022751895991\n",
      "/n\n",
      "At random state 9 the testing accurancy is:- 0.8340195016251354\n",
      "/n\n",
      "At random state 10 the testing accurancy is:- 0.8287107258938244\n",
      "/n\n",
      "At random state 11 the testing accurancy is:- 0.8167930660888407\n",
      "/n\n",
      "At random state 12 the testing accurancy is:- 0.828602383531961\n",
      "/n\n",
      "At random state 13 the testing accurancy is:- 0.828385698808234\n",
      "/n\n",
      "At random state 14 the testing accurancy is:- 0.8301191765980498\n",
      "/n\n",
      "At random state 15 the testing accurancy is:- 0.8250270855904659\n",
      "/n\n",
      "At random state 16 the testing accurancy is:- 0.8309859154929577\n",
      "/n\n",
      "At random state 17 the testing accurancy is:- 0.8245937161430119\n",
      "/n\n",
      "At random state 18 the testing accurancy is:- 0.8273022751895991\n",
      "/n\n",
      "At random state 19 the testing accurancy is:- 0.8295774647887324\n",
      "/n\n",
      "At random state 20 the testing accurancy is:- 0.8274106175514626\n",
      "/n\n",
      "At random state 21 the testing accurancy is:- 0.8273022751895991\n",
      "/n\n",
      "At random state 22 the testing accurancy is:- 0.8250270855904659\n",
      "/n\n",
      "At random state 23 the testing accurancy is:- 0.8308775731310942\n",
      "/n\n",
      "At random state 24 the testing accurancy is:- 0.8297941495124593\n",
      "/n\n",
      "At random state 25 the testing accurancy is:- 0.8216684723726977\n",
      "/n\n",
      "At random state 26 the testing accurancy is:- 0.8250270855904659\n",
      "/n\n",
      "At random state 27 the testing accurancy is:- 0.8293607800650055\n",
      "/n\n",
      "At random state 28 the testing accurancy is:- 0.8292524377031419\n",
      "/n\n",
      "At random state 29 the testing accurancy is:- 0.8258938244853737\n",
      "/n\n",
      "At random state 30 the testing accurancy is:- 0.8260021668472373\n",
      "/n\n",
      "At random state 31 the testing accurancy is:- 0.8306608884073673\n",
      "/n\n",
      "At random state 32 the testing accurancy is:- 0.8316359696641387\n",
      "/n\n",
      "At random state 33 the testing accurancy is:- 0.8306608884073673\n",
      "/n\n",
      "At random state 34 the testing accurancy is:- 0.833477789815818\n",
      "/n\n",
      "At random state 35 the testing accurancy is:- 0.8307692307692308\n",
      "/n\n",
      "At random state 36 the testing accurancy is:- 0.8322860238353196\n",
      "/n\n",
      "At random state 37 the testing accurancy is:- 0.8274106175514626\n",
      "/n\n",
      "At random state 38 the testing accurancy is:- 0.8301191765980498\n",
      "/n\n",
      "At random state 39 the testing accurancy is:- 0.819284940411701\n",
      "/n\n",
      "At random state 40 the testing accurancy is:- 0.8258938244853737\n",
      "/n\n",
      "At random state 41 the testing accurancy is:- 0.8269772481040086\n",
      "/n\n",
      "At random state 42 the testing accurancy is:- 0.8321776814734562\n",
      "/n\n",
      "At random state 43 the testing accurancy is:- 0.8365113759479956\n",
      "/n\n",
      "At random state 44 the testing accurancy is:- 0.8314192849404117\n",
      "/n\n",
      "At random state 45 the testing accurancy is:- 0.8327193932827736\n",
      "/n\n",
      "At random state 46 the testing accurancy is:- 0.8329360780065005\n",
      "/n\n",
      "At random state 47 the testing accurancy is:- 0.8369447453954496\n",
      "/n\n",
      "At random state 48 the testing accurancy is:- 0.83261105092091\n",
      "/n\n",
      "At random state 49 the testing accurancy is:- 0.8321776814734562\n",
      "/n\n",
      "At random state 50 the testing accurancy is:- 0.8290357529794149\n",
      "/n\n",
      "At random state 51 the testing accurancy is:- 0.8301191765980498\n",
      "/n\n",
      "At random state 52 the testing accurancy is:- 0.8316359696641387\n",
      "/n\n",
      "At random state 53 the testing accurancy is:- 0.828819068255688\n",
      "/n\n",
      "At random state 54 the testing accurancy is:- 0.8269772481040086\n",
      "/n\n",
      "At random state 55 the testing accurancy is:- 0.8268689057421452\n",
      "/n\n",
      "At random state 56 the testing accurancy is:- 0.8314192849404117\n",
      "/n\n",
      "At random state 57 the testing accurancy is:- 0.8275189599133261\n",
      "/n\n",
      "At random state 58 the testing accurancy is:- 0.8270855904658722\n",
      "/n\n",
      "At random state 59 the testing accurancy is:- 0.8292524377031419\n",
      "/n\n",
      "At random state 60 the testing accurancy is:- 0.8265438786565548\n",
      "/n\n",
      "At random state 61 the testing accurancy is:- 0.8302275189599133\n",
      "/n\n",
      "At random state 62 the testing accurancy is:- 0.8287107258938244\n",
      "/n\n",
      "At random state 63 the testing accurancy is:- 0.8333694474539545\n",
      "/n\n",
      "At random state 64 the testing accurancy is:- 0.833477789815818\n",
      "/n\n",
      "At random state 65 the testing accurancy is:- 0.8291440953412784\n",
      "/n\n",
      "At random state 66 the testing accurancy is:- 0.8349945828819069\n",
      "/n\n",
      "At random state 67 the testing accurancy is:- 0.8262188515709642\n",
      "/n\n",
      "At random state 68 the testing accurancy is:- 0.8232936078006501\n",
      "/n\n",
      "At random state 69 the testing accurancy is:- 0.8276273022751895\n",
      "/n\n",
      "At random state 70 the testing accurancy is:- 0.8291440953412784\n",
      "/n\n",
      "At random state 71 the testing accurancy is:- 0.8236186348862405\n",
      "/n\n",
      "At random state 72 the testing accurancy is:- 0.8274106175514626\n",
      "/n\n",
      "At random state 73 the testing accurancy is:- 0.8358613217768147\n",
      "/n\n",
      "At random state 74 the testing accurancy is:- 0.8416034669555796\n",
      "/n\n",
      "At random state 75 the testing accurancy is:- 0.8299024918743229\n",
      "/n\n",
      "At random state 76 the testing accurancy is:- 0.8316359696641387\n",
      "/n\n",
      "At random state 77 the testing accurancy is:- 0.8300108342361864\n",
      "/n\n",
      "At random state 78 the testing accurancy is:- 0.8274106175514626\n",
      "/n\n",
      "At random state 79 the testing accurancy is:- 0.8293607800650055\n",
      "/n\n",
      "At random state 80 the testing accurancy is:- 0.8238353196099675\n",
      "/n\n",
      "At random state 81 the testing accurancy is:- 0.8294691224268689\n",
      "/n\n",
      "At random state 82 the testing accurancy is:- 0.8265438786565548\n",
      "/n\n",
      "At random state 83 the testing accurancy is:- 0.8304442036836404\n",
      "/n\n",
      "At random state 84 the testing accurancy is:- 0.8296858071505959\n",
      "/n\n",
      "At random state 85 the testing accurancy is:- 0.8312026002166847\n",
      "/n\n",
      "At random state 86 the testing accurancy is:- 0.8332611050920911\n",
      "/n\n",
      "At random state 87 the testing accurancy is:- 0.8304442036836404\n",
      "/n\n",
      "At random state 88 the testing accurancy is:- 0.8262188515709642\n",
      "/n\n",
      "At random state 89 the testing accurancy is:- 0.843878656554713\n",
      "/n\n",
      "At random state 90 the testing accurancy is:- 0.8260021668472373\n",
      "/n\n",
      "At random state 91 the testing accurancy is:- 0.8270855904658722\n",
      "/n\n",
      "At random state 92 the testing accurancy is:- 0.8267605633802817\n",
      "/n\n",
      "At random state 93 the testing accurancy is:- 0.8254604550379199\n",
      "/n\n",
      "At random state 94 the testing accurancy is:- 0.8340195016251354\n",
      "/n\n",
      "At random state 95 the testing accurancy is:- 0.8224268689057421\n",
      "/n\n",
      "At random state 96 the testing accurancy is:- 0.8328277356446371\n",
      "/n\n",
      "At random state 97 the testing accurancy is:- 0.8318526543878657\n",
      "/n\n",
      "At random state 98 the testing accurancy is:- 0.8310942578548213\n",
      "/n\n",
      "At random state 99 the testing accurancy is:- 0.8254604550379199\n",
      "/n\n"
     ]
    }
   ],
   "source": [
    "for i in range (0,100):\n",
    "    X_train,X_test,y_train,y_test=train_test_split(X_Scaled,Y,test_size=0.20,random_state=i)\n",
    "    knn.fit(X_train,y_train)\n",
    "    pred_test=knn.predict(X_test)\n",
    "    print('At random state',i,'the testing accurancy is:-',accuracy_score(y_test,pred_test))\n",
    "    print(\"/n\")"
   ]
  },
  {
   "cell_type": "code",
   "execution_count": 147,
   "id": "41c749f1",
   "metadata": {},
   "outputs": [],
   "source": [
    "X_train,X_test,y_train,y_test=train_test_split(X_Scaled,Y,test_size=0.20,random_state=48)\n",
    "knn.fit(X_train,y_train)\n",
    "pred_test=knn.predict(X_test)"
   ]
  },
  {
   "cell_type": "code",
   "execution_count": 148,
   "id": "641500d1",
   "metadata": {},
   "outputs": [
    {
     "data": {
      "text/plain": [
       "83.261105092091"
      ]
     },
     "execution_count": 148,
     "metadata": {},
     "output_type": "execute_result"
    }
   ],
   "source": [
    "KNN_Accuracy=accuracy_score(y_test,pred_test)*100\n",
    "KNN_Accuracy"
   ]
  },
  {
   "cell_type": "markdown",
   "id": "3fcc2eca",
   "metadata": {},
   "source": [
    "# Random Forest Classifier"
   ]
  },
  {
   "cell_type": "code",
   "execution_count": 98,
   "id": "37294180",
   "metadata": {},
   "outputs": [],
   "source": [
    "rfc=RandomForestClassifier()"
   ]
  },
  {
   "cell_type": "code",
   "execution_count": 100,
   "id": "ab5d0dd6",
   "metadata": {},
   "outputs": [
    {
     "name": "stdout",
     "output_type": "stream",
     "text": [
      "At random state 0 the testing accurancy is:- 0.9114842903575298\n",
      "/n\n",
      "At random state 1 the testing accurancy is:- 0.9094257854821235\n",
      "/n\n",
      "At random state 2 the testing accurancy is:- 0.9102925243770315\n",
      "/n\n",
      "At random state 3 the testing accurancy is:- 0.9071505958829903\n",
      "/n\n",
      "At random state 4 the testing accurancy is:- 0.9100758396533044\n",
      "/n\n",
      "At random state 5 the testing accurancy is:- 0.905742145178765\n",
      "/n\n",
      "At random state 6 the testing accurancy is:- 0.9086673889490791\n",
      "/n\n",
      "At random state 7 the testing accurancy is:- 0.90465872156013\n",
      "/n\n",
      "At random state 8 the testing accurancy is:- 0.9047670639219935\n",
      "/n\n",
      "At random state 9 the testing accurancy is:- 0.9070422535211268\n",
      "/n\n",
      "At random state 10 the testing accurancy is:- 0.9066088840736728\n",
      "/n\n",
      "At random state 11 the testing accurancy is:- 0.9007583965330445\n",
      "/n\n",
      "At random state 12 the testing accurancy is:- 0.9106175514626219\n",
      "/n\n",
      "At random state 13 the testing accurancy is:- 0.9072589382448537\n",
      "/n\n",
      "At random state 14 the testing accurancy is:- 0.9100758396533044\n",
      "/n\n",
      "At random state 15 the testing accurancy is:- 0.9109425785482124\n",
      "/n\n",
      "At random state 16 the testing accurancy is:- 0.9104008667388949\n",
      "/n\n",
      "At random state 17 the testing accurancy is:- 0.9115926327193933\n",
      "/n\n",
      "At random state 18 the testing accurancy is:- 0.9089924160346695\n",
      "/n\n",
      "At random state 19 the testing accurancy is:- 0.9092091007583966\n",
      "/n\n",
      "At random state 20 the testing accurancy is:- 0.9118093174431202\n",
      "/n\n",
      "At random state 21 the testing accurancy is:- 0.9084507042253521\n",
      "/n\n",
      "At random state 22 the testing accurancy is:- 0.9035752979414952\n",
      "/n\n",
      "At random state 23 the testing accurancy is:- 0.9104008667388949\n",
      "/n\n",
      "At random state 24 the testing accurancy is:- 0.9100758396533044\n",
      "/n\n",
      "At random state 25 the testing accurancy is:- 0.9061755146262188\n",
      "/n\n",
      "At random state 26 the testing accurancy is:- 0.9108342361863488\n",
      "/n\n",
      "At random state 27 the testing accurancy is:- 0.9158179848320693\n",
      "/n\n",
      "At random state 28 the testing accurancy is:- 0.909967497291441\n",
      "/n\n",
      "At random state 29 the testing accurancy is:- 0.9086673889490791\n",
      "/n\n",
      "At random state 30 the testing accurancy is:- 0.9049837486457205\n",
      "/n\n",
      "At random state 31 the testing accurancy is:- 0.9110509209100759\n",
      "/n\n",
      "At random state 32 the testing accurancy is:- 0.9108342361863488\n",
      "/n\n",
      "At random state 33 the testing accurancy is:- 0.9115926327193933\n",
      "/n\n",
      "At random state 34 the testing accurancy is:- 0.9158179848320693\n",
      "/n\n",
      "At random state 35 the testing accurancy is:- 0.9072589382448537\n",
      "/n\n",
      "At random state 36 the testing accurancy is:- 0.9113759479956663\n",
      "/n\n",
      "At random state 37 the testing accurancy is:- 0.904008667388949\n",
      "/n\n",
      "At random state 38 the testing accurancy is:- 0.9138678223185266\n",
      "/n\n",
      "At random state 39 the testing accurancy is:- 0.9068255687973997\n",
      "/n\n",
      "At random state 40 the testing accurancy is:- 0.9059588299024919\n",
      "/n\n",
      "At random state 41 the testing accurancy is:- 0.9075839653304442\n",
      "/n\n",
      "At random state 42 the testing accurancy is:- 0.9074756229685808\n",
      "/n\n",
      "At random state 43 the testing accurancy is:- 0.9096424702058505\n",
      "/n\n",
      "At random state 44 the testing accurancy is:- 0.9104008667388949\n",
      "/n\n",
      "At random state 45 the testing accurancy is:- 0.9125677139761647\n",
      "/n\n",
      "At random state 46 the testing accurancy is:- 0.9086673889490791\n",
      "/n\n",
      "At random state 47 the testing accurancy is:- 0.9104008667388949\n",
      "/n\n",
      "At random state 48 the testing accurancy is:- 0.9121343445287107\n",
      "/n\n",
      "At random state 49 the testing accurancy is:- 0.9094257854821235\n",
      "/n\n"
     ]
    }
   ],
   "source": [
    "for i in range (0,50):\n",
    "    X_train,X_test,y_train,y_test=train_test_split(X_Scaled,Y,test_size=0.20,random_state=i)\n",
    "    rfc.fit(X_train,y_train)\n",
    "    pred_test=rfc.predict(X_test)\n",
    "    print('At random state',i,'the testing accurancy is:-',accuracy_score(y_test,pred_test))\n",
    "    print(\"/n\")"
   ]
  },
  {
   "cell_type": "code",
   "execution_count": 149,
   "id": "fd3c50b5",
   "metadata": {},
   "outputs": [],
   "source": [
    "X_train,X_test,y_train,y_test=train_test_split(X_Scaled,Y,test_size=0.20,random_state=48)\n",
    "rfc.fit(X_train,y_train)\n",
    "pred_test=rfc.predict(X_test)"
   ]
  },
  {
   "cell_type": "code",
   "execution_count": 150,
   "id": "955ae97b",
   "metadata": {},
   "outputs": [
    {
     "data": {
      "text/plain": [
       "91.0184182015168"
      ]
     },
     "execution_count": 150,
     "metadata": {},
     "output_type": "execute_result"
    }
   ],
   "source": [
    "rfc_accuracy=accuracy_score(y_test,pred_test)*100\n",
    "rfc_accuracy"
   ]
  },
  {
   "cell_type": "markdown",
   "id": "8d91ac5d",
   "metadata": {},
   "source": [
    "# GradientBoosting"
   ]
  },
  {
   "cell_type": "code",
   "execution_count": 102,
   "id": "f756a2ba",
   "metadata": {},
   "outputs": [],
   "source": [
    "GB=GradientBoostingClassifier()"
   ]
  },
  {
   "cell_type": "code",
   "execution_count": 103,
   "id": "ca79ce6e",
   "metadata": {},
   "outputs": [
    {
     "name": "stdout",
     "output_type": "stream",
     "text": [
      "At random state 0 the testing accurancy is:- 0.828385698808234\n",
      "/n\n",
      "At random state 1 the testing accurancy is:- 0.8318526543878657\n",
      "/n\n",
      "At random state 2 the testing accurancy is:- 0.8349945828819069\n",
      "/n\n",
      "At random state 3 the testing accurancy is:- 0.8255687973997833\n",
      "/n\n",
      "At random state 4 the testing accurancy is:- 0.8384615384615385\n",
      "/n\n",
      "At random state 5 the testing accurancy is:- 0.8358613217768147\n",
      "/n\n",
      "At random state 6 the testing accurancy is:- 0.8319609967497291\n",
      "/n\n",
      "At random state 7 the testing accurancy is:- 0.8279523293607801\n",
      "/n\n",
      "At random state 8 the testing accurancy is:- 0.8305525460455038\n",
      "/n\n",
      "At random state 9 the testing accurancy is:- 0.8310942578548213\n",
      "/n\n",
      "At random state 10 the testing accurancy is:- 0.8327193932827736\n",
      "/n\n",
      "At random state 11 the testing accurancy is:- 0.8228602383531961\n",
      "/n\n",
      "At random state 12 the testing accurancy is:- 0.8319609967497291\n",
      "/n\n",
      "At random state 13 the testing accurancy is:- 0.8367280606717227\n",
      "/n\n",
      "At random state 14 the testing accurancy is:- 0.8361863488624052\n",
      "/n\n",
      "At random state 15 the testing accurancy is:- 0.8359696641386782\n",
      "/n\n",
      "At random state 16 the testing accurancy is:- 0.8365113759479956\n",
      "/n\n",
      "At random state 17 the testing accurancy is:- 0.8375947995666305\n",
      "/n\n",
      "At random state 18 the testing accurancy is:- 0.8347778981581798\n",
      "/n\n",
      "At random state 19 the testing accurancy is:- 0.83261105092091\n",
      "/n\n",
      "At random state 20 the testing accurancy is:- 0.8359696641386782\n",
      "/n\n",
      "At random state 21 the testing accurancy is:- 0.8355362946912243\n",
      "/n\n",
      "At random state 22 the testing accurancy is:- 0.8265438786565548\n",
      "/n\n",
      "At random state 23 the testing accurancy is:- 0.8395449620801734\n",
      "/n\n",
      "At random state 24 the testing accurancy is:- 0.8365113759479956\n",
      "/n\n",
      "At random state 25 the testing accurancy is:- 0.828169014084507\n",
      "/n\n",
      "At random state 26 the testing accurancy is:- 0.8321776814734562\n",
      "/n\n",
      "At random state 27 the testing accurancy is:- 0.8351029252437703\n",
      "/n\n",
      "At random state 28 the testing accurancy is:- 0.8313109425785482\n",
      "/n\n",
      "At random state 29 the testing accurancy is:- 0.8333694474539545\n",
      "/n\n",
      "At random state 30 the testing accurancy is:- 0.8322860238353196\n",
      "/n\n",
      "At random state 31 the testing accurancy is:- 0.8325027085590466\n",
      "/n\n",
      "At random state 32 the testing accurancy is:- 0.838136511375948\n",
      "/n\n",
      "At random state 33 the testing accurancy is:- 0.83261105092091\n",
      "/n\n",
      "At random state 34 the testing accurancy is:- 0.8386782231852654\n",
      "/n\n",
      "At random state 35 the testing accurancy is:- 0.8366197183098592\n",
      "/n\n",
      "At random state 36 the testing accurancy is:- 0.8332611050920911\n",
      "/n\n",
      "At random state 37 the testing accurancy is:- 0.8313109425785482\n",
      "/n\n",
      "At random state 38 the testing accurancy is:- 0.8346695557963164\n",
      "/n\n",
      "At random state 39 the testing accurancy is:- 0.83261105092091\n",
      "/n\n",
      "At random state 40 the testing accurancy is:- 0.8336944745395449\n",
      "/n\n",
      "At random state 41 the testing accurancy is:- 0.8307692307692308\n",
      "/n\n",
      "At random state 42 the testing accurancy is:- 0.8318526543878657\n",
      "/n\n",
      "At random state 43 the testing accurancy is:- 0.8341278439869989\n",
      "/n\n",
      "At random state 44 the testing accurancy is:- 0.8318526543878657\n",
      "/n\n",
      "At random state 45 the testing accurancy is:- 0.8354279523293607\n",
      "/n\n",
      "At random state 46 the testing accurancy is:- 0.8317443120260022\n",
      "/n\n",
      "At random state 47 the testing accurancy is:- 0.8338028169014085\n",
      "/n\n",
      "At random state 48 the testing accurancy is:- 0.8404117009750812\n",
      "/n\n",
      "At random state 49 the testing accurancy is:- 0.8355362946912243\n",
      "/n\n"
     ]
    }
   ],
   "source": [
    "for i in range (0,50):\n",
    "    X_train,X_test,y_train,y_test=train_test_split(X_Scaled,Y,test_size=0.20,random_state=i)\n",
    "    GB.fit(X_train,y_train)\n",
    "    pred_test=GB.predict(X_test)\n",
    "    print('At random state',i,'the testing accurancy is:-',accuracy_score(y_test,pred_test))\n",
    "    print(\"/n\")"
   ]
  },
  {
   "cell_type": "markdown",
   "id": "a6b0bc3d",
   "metadata": {},
   "source": [
    "# Cross Validation for LR"
   ]
  },
  {
   "cell_type": "code",
   "execution_count": 104,
   "id": "eb805495",
   "metadata": {},
   "outputs": [
    {
     "name": "stdout",
     "output_type": "stream",
     "text": [
      "The cross validation score for 2 is 0.7254918956401144\n",
      "The cross validation score for 3 is 0.7256003466850389\n",
      "The cross validation score for 4 is 0.7253402097599029\n",
      "The cross validation score for 5 is 0.7256220212160382\n"
     ]
    }
   ],
   "source": [
    "for i in range(2,6):\n",
    "    LR_Val=cross_val_score(LR,X_Scaled,Y,cv=i)\n",
    "    print(\"The cross validation score for\",i,\"is\",LR_Val.mean())"
   ]
  },
  {
   "cell_type": "markdown",
   "id": "ca705121",
   "metadata": {},
   "source": [
    "# Cross Validation for KNN"
   ]
  },
  {
   "cell_type": "code",
   "execution_count": 105,
   "id": "3402112c",
   "metadata": {},
   "outputs": [
    {
     "name": "stdout",
     "output_type": "stream",
     "text": [
      "The cross validation score for 2 is 0.8097642368033284\n",
      "The cross validation score for 3 is 0.818583785237553\n",
      "The cross validation score for 4 is 0.8237193377827858\n",
      "The cross validation score for 5 is 0.826601525855836\n"
     ]
    }
   ],
   "source": [
    "for i in range(2,6):\n",
    "    KNN_Val=cross_val_score(knn,X_Scaled,Y,cv=i)\n",
    "    print(\"The cross validation score for\",i,\"is\",KNN_Val.mean())"
   ]
  },
  {
   "cell_type": "markdown",
   "id": "5fdc3be2",
   "metadata": {},
   "source": [
    "# Cross Validation for RFC"
   ]
  },
  {
   "cell_type": "code",
   "execution_count": 106,
   "id": "d2b5c68b",
   "metadata": {},
   "outputs": [
    {
     "name": "stdout",
     "output_type": "stream",
     "text": [
      "The cross validation score for 2 is 0.8848487475080177\n",
      "The cross validation score for 3 is 0.8999089400117953\n",
      "The cross validation score for 4 is 0.9043078789980064\n",
      "The cross validation score for 5 is 0.908750080854699\n"
     ]
    }
   ],
   "source": [
    "for i in range(2,6):\n",
    "    RFC_Val=cross_val_score(rfc,X_Scaled,Y,cv=i)\n",
    "    print(\"The cross validation score for\",i,\"is\",RFC_Val.mean())"
   ]
  },
  {
   "cell_type": "markdown",
   "id": "1a44cf7a",
   "metadata": {},
   "source": [
    "# Cross Validation for GB"
   ]
  },
  {
   "cell_type": "code",
   "execution_count": 107,
   "id": "5c6fa0c0",
   "metadata": {},
   "outputs": [
    {
     "name": "stdout",
     "output_type": "stream",
     "text": [
      "The cross validation score for 2 is 0.8338389529340383\n",
      "The cross validation score for 3 is 0.8343373863383207\n",
      "The cross validation score for 4 is 0.8337739446996619\n",
      "The cross validation score for 5 is 0.8341422951136057\n"
     ]
    }
   ],
   "source": [
    "for i in range(2,6):\n",
    "    GB_Val=cross_val_score(GB,X_Scaled,Y,cv=i)\n",
    "    print(\"The cross validation score for\",i,\"is\",GB_Val.mean())"
   ]
  },
  {
   "cell_type": "markdown",
   "id": "ce6c9937",
   "metadata": {},
   "source": [
    "### Looking at the data, the highest accuracy score with the minimum difference between cross validation percentage, goes for Random Forest Classifier. Therefore Random Forest Classifier is chosen for this data set"
   ]
  },
  {
   "cell_type": "markdown",
   "id": "2769c607",
   "metadata": {},
   "source": [
    "# Hypertuning Parameter"
   ]
  },
  {
   "cell_type": "code",
   "execution_count": 109,
   "id": "aa1150ac",
   "metadata": {},
   "outputs": [],
   "source": [
    "RFC=RandomForestClassifier()"
   ]
  },
  {
   "cell_type": "code",
   "execution_count": 110,
   "id": "e5dc6bd8",
   "metadata": {},
   "outputs": [
    {
     "data": {
      "text/plain": [
       "GridSearchCV(estimator=RandomForestClassifier(),\n",
       "             param_grid={'max_depth': [10, 11, 12, 13, 14],\n",
       "                         'min_samples_leaf': [2], 'min_samples_split': [4]})"
      ]
     },
     "execution_count": 110,
     "metadata": {},
     "output_type": "execute_result"
    }
   ],
   "source": [
    "parameters={'max_depth':(list(range(10,15))),'min_samples_split':(list(range(4,5))),'min_samples_leaf':(list(range(2,3)))}\n",
    "clf=GridSearchCV(RFC,parameters)\n",
    "clf.fit(X_train,y_train)"
   ]
  },
  {
   "cell_type": "code",
   "execution_count": 111,
   "id": "7b36396f",
   "metadata": {},
   "outputs": [
    {
     "data": {
      "text/plain": [
       "{'max_depth': 14, 'min_samples_leaf': 2, 'min_samples_split': 4}"
      ]
     },
     "execution_count": 111,
     "metadata": {},
     "output_type": "execute_result"
    }
   ],
   "source": [
    "clf.best_params_"
   ]
  },
  {
   "cell_type": "code",
   "execution_count": 113,
   "id": "d9839377",
   "metadata": {},
   "outputs": [],
   "source": [
    "RFC=RandomForestClassifier(max_depth=14, min_samples_leaf=2, min_samples_split=4)"
   ]
  },
  {
   "cell_type": "code",
   "execution_count": 114,
   "id": "96e33351",
   "metadata": {},
   "outputs": [],
   "source": [
    "X_train,X_test,y_train,y_test=train_test_split(X_Scaled,Y,test_size=0.20,random_state=48)\n",
    "RFC.fit(X_train,y_train)\n",
    "pred_test=RFC.predict(X_test)"
   ]
  },
  {
   "cell_type": "code",
   "execution_count": 115,
   "id": "b8de6629",
   "metadata": {},
   "outputs": [
    {
     "data": {
      "text/plain": [
       "86.43553629469123"
      ]
     },
     "execution_count": 115,
     "metadata": {},
     "output_type": "execute_result"
    }
   ],
   "source": [
    "RFC_Accuracy=accuracy_score(y_test,pred_test)*100\n",
    "RFC_Accuracy"
   ]
  },
  {
   "cell_type": "code",
   "execution_count": 116,
   "id": "f1c37fc5",
   "metadata": {},
   "outputs": [],
   "source": [
    "#Here we find accuracy decreased, therefore trying with few more changes"
   ]
  },
  {
   "cell_type": "code",
   "execution_count": 167,
   "id": "4b524258",
   "metadata": {},
   "outputs": [],
   "source": [
    "RFC=RandomForestClassifier(max_depth=30, min_samples_leaf=2, min_samples_split=4,max_features='auto')"
   ]
  },
  {
   "cell_type": "code",
   "execution_count": 168,
   "id": "ab92fd75",
   "metadata": {},
   "outputs": [],
   "source": [
    "X_train,X_test,y_train,y_test=train_test_split(X_Scaled,Y,test_size=0.20,random_state=48)\n",
    "RFC.fit(X_train,y_train)\n",
    "pred_test=RFC.predict(X_test)"
   ]
  },
  {
   "cell_type": "code",
   "execution_count": 169,
   "id": "ae664354",
   "metadata": {},
   "outputs": [
    {
     "data": {
      "text/plain": [
       "89.36078006500541"
      ]
     },
     "execution_count": 169,
     "metadata": {},
     "output_type": "execute_result"
    }
   ],
   "source": [
    "RFC_Accuracy=accuracy_score(y_test,pred_test)*100\n",
    "RFC_Accuracy"
   ]
  },
  {
   "cell_type": "code",
   "execution_count": 170,
   "id": "33518811",
   "metadata": {},
   "outputs": [],
   "source": [
    "#After trying with various parameters it seems that before doing hypertuning, the best accuracy was received, hence training the model with previous RandomForestClassifier score"
   ]
  },
  {
   "cell_type": "code",
   "execution_count": 171,
   "id": "68d09d80",
   "metadata": {},
   "outputs": [],
   "source": [
    "X_train,X_test,y_train,y_test=train_test_split(X_Scaled,Y,test_size=0.20,random_state=48)\n",
    "rfc.fit(X_train,y_train)\n",
    "pred_test=rfc.predict(X_test)"
   ]
  },
  {
   "cell_type": "code",
   "execution_count": 172,
   "id": "411661f4",
   "metadata": {},
   "outputs": [
    {
     "data": {
      "text/plain": [
       "90.97508125677139"
      ]
     },
     "execution_count": 172,
     "metadata": {},
     "output_type": "execute_result"
    }
   ],
   "source": [
    "rfc_accuracy=accuracy_score(y_test,pred_test)*100\n",
    "rfc_accuracy"
   ]
  },
  {
   "cell_type": "code",
   "execution_count": 173,
   "id": "812f0e63",
   "metadata": {},
   "outputs": [
    {
     "data": {
      "text/plain": [
       "array([[4006,  624],\n",
       "       [ 209, 4391]], dtype=int64)"
      ]
     },
     "execution_count": 173,
     "metadata": {},
     "output_type": "execute_result"
    }
   ],
   "source": [
    "Conf_Mat=confusion_matrix(y_test,pred_test)\n",
    "Conf_Mat"
   ]
  },
  {
   "cell_type": "markdown",
   "id": "d8a2ac11",
   "metadata": {},
   "source": [
    "# Saving the model"
   ]
  },
  {
   "cell_type": "code",
   "execution_count": 174,
   "id": "8ba33879",
   "metadata": {},
   "outputs": [],
   "source": [
    "import pickle\n",
    "filename='Census Income.pkl'\n",
    "pickle.dump(rfc,open(filename,'wb'))"
   ]
  },
  {
   "cell_type": "code",
   "execution_count": null,
   "id": "acbd6c66",
   "metadata": {},
   "outputs": [],
   "source": []
  }
 ],
 "metadata": {
  "kernelspec": {
   "display_name": "Python 3 (ipykernel)",
   "language": "python",
   "name": "python3"
  },
  "language_info": {
   "codemirror_mode": {
    "name": "ipython",
    "version": 3
   },
   "file_extension": ".py",
   "mimetype": "text/x-python",
   "name": "python",
   "nbconvert_exporter": "python",
   "pygments_lexer": "ipython3",
   "version": "3.9.7"
  }
 },
 "nbformat": 4,
 "nbformat_minor": 5
}
