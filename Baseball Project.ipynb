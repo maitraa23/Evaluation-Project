{
 "cells": [
  {
   "cell_type": "code",
   "execution_count": 1,
   "id": "64d4593e",
   "metadata": {},
   "outputs": [],
   "source": [
    "import pandas as pd\n",
    "import numpy as np\n",
    "from sklearn.preprocessing import StandardScaler\n",
    "from sklearn.linear_model import LinearRegression\n",
    "from sklearn.ensemble import RandomForestRegressor\n",
    "from sklearn.ensemble import VotingClassifier\n",
    "from sklearn.ensemble import AdaBoostRegressor\n",
    "from sklearn.ensemble import GradientBoostingRegressor\n",
    "from sklearn.tree import DecisionTreeRegressor\n",
    "from sklearn.svm import SVC\n",
    "from sklearn.model_selection import cross_val_score\n",
    "from sklearn.model_selection import GridSearchCV\n",
    "from sklearn.metrics import r2_score\n",
    "from sklearn.model_selection import train_test_split\n",
    "from statsmodels.stats.outliers_influence import variance_inflation_factor\n",
    "import matplotlib.pyplot as plt\n",
    "import seaborn as sns\n",
    "import warnings\n",
    "warnings.filterwarnings('ignore') # importing neccesary ,libraries"
   ]
  },
  {
   "cell_type": "code",
   "execution_count": 2,
   "id": "84cf5725",
   "metadata": {},
   "outputs": [],
   "source": [
    "Data=pd.read_csv(\"https://raw.githubusercontent.com/dsrscientist/Data-Science-ML-Capstone-Projects/master/baseball.csv\") #loading the dataset"
   ]
  },
  {
   "cell_type": "code",
   "execution_count": 3,
   "id": "c477c717",
   "metadata": {},
   "outputs": [
    {
     "data": {
      "text/html": [
       "<div>\n",
       "<style scoped>\n",
       "    .dataframe tbody tr th:only-of-type {\n",
       "        vertical-align: middle;\n",
       "    }\n",
       "\n",
       "    .dataframe tbody tr th {\n",
       "        vertical-align: top;\n",
       "    }\n",
       "\n",
       "    .dataframe thead th {\n",
       "        text-align: right;\n",
       "    }\n",
       "</style>\n",
       "<table border=\"1\" class=\"dataframe\">\n",
       "  <thead>\n",
       "    <tr style=\"text-align: right;\">\n",
       "      <th></th>\n",
       "      <th>W</th>\n",
       "      <th>R</th>\n",
       "      <th>AB</th>\n",
       "      <th>H</th>\n",
       "      <th>2B</th>\n",
       "      <th>3B</th>\n",
       "      <th>HR</th>\n",
       "      <th>BB</th>\n",
       "      <th>SO</th>\n",
       "      <th>SB</th>\n",
       "      <th>RA</th>\n",
       "      <th>ER</th>\n",
       "      <th>ERA</th>\n",
       "      <th>CG</th>\n",
       "      <th>SHO</th>\n",
       "      <th>SV</th>\n",
       "      <th>E</th>\n",
       "    </tr>\n",
       "  </thead>\n",
       "  <tbody>\n",
       "    <tr>\n",
       "      <th>0</th>\n",
       "      <td>95</td>\n",
       "      <td>724</td>\n",
       "      <td>5575</td>\n",
       "      <td>1497</td>\n",
       "      <td>300</td>\n",
       "      <td>42</td>\n",
       "      <td>139</td>\n",
       "      <td>383</td>\n",
       "      <td>973</td>\n",
       "      <td>104</td>\n",
       "      <td>641</td>\n",
       "      <td>601</td>\n",
       "      <td>3.73</td>\n",
       "      <td>2</td>\n",
       "      <td>8</td>\n",
       "      <td>56</td>\n",
       "      <td>88</td>\n",
       "    </tr>\n",
       "    <tr>\n",
       "      <th>1</th>\n",
       "      <td>83</td>\n",
       "      <td>696</td>\n",
       "      <td>5467</td>\n",
       "      <td>1349</td>\n",
       "      <td>277</td>\n",
       "      <td>44</td>\n",
       "      <td>156</td>\n",
       "      <td>439</td>\n",
       "      <td>1264</td>\n",
       "      <td>70</td>\n",
       "      <td>700</td>\n",
       "      <td>653</td>\n",
       "      <td>4.07</td>\n",
       "      <td>2</td>\n",
       "      <td>12</td>\n",
       "      <td>45</td>\n",
       "      <td>86</td>\n",
       "    </tr>\n",
       "    <tr>\n",
       "      <th>2</th>\n",
       "      <td>81</td>\n",
       "      <td>669</td>\n",
       "      <td>5439</td>\n",
       "      <td>1395</td>\n",
       "      <td>303</td>\n",
       "      <td>29</td>\n",
       "      <td>141</td>\n",
       "      <td>533</td>\n",
       "      <td>1157</td>\n",
       "      <td>86</td>\n",
       "      <td>640</td>\n",
       "      <td>584</td>\n",
       "      <td>3.67</td>\n",
       "      <td>11</td>\n",
       "      <td>10</td>\n",
       "      <td>38</td>\n",
       "      <td>79</td>\n",
       "    </tr>\n",
       "    <tr>\n",
       "      <th>3</th>\n",
       "      <td>76</td>\n",
       "      <td>622</td>\n",
       "      <td>5533</td>\n",
       "      <td>1381</td>\n",
       "      <td>260</td>\n",
       "      <td>27</td>\n",
       "      <td>136</td>\n",
       "      <td>404</td>\n",
       "      <td>1231</td>\n",
       "      <td>68</td>\n",
       "      <td>701</td>\n",
       "      <td>643</td>\n",
       "      <td>3.98</td>\n",
       "      <td>7</td>\n",
       "      <td>9</td>\n",
       "      <td>37</td>\n",
       "      <td>101</td>\n",
       "    </tr>\n",
       "    <tr>\n",
       "      <th>4</th>\n",
       "      <td>74</td>\n",
       "      <td>689</td>\n",
       "      <td>5605</td>\n",
       "      <td>1515</td>\n",
       "      <td>289</td>\n",
       "      <td>49</td>\n",
       "      <td>151</td>\n",
       "      <td>455</td>\n",
       "      <td>1259</td>\n",
       "      <td>83</td>\n",
       "      <td>803</td>\n",
       "      <td>746</td>\n",
       "      <td>4.64</td>\n",
       "      <td>7</td>\n",
       "      <td>12</td>\n",
       "      <td>35</td>\n",
       "      <td>86</td>\n",
       "    </tr>\n",
       "  </tbody>\n",
       "</table>\n",
       "</div>"
      ],
      "text/plain": [
       "    W    R    AB     H   2B  3B   HR   BB    SO   SB   RA   ER   ERA  CG  SHO  \\\n",
       "0  95  724  5575  1497  300  42  139  383   973  104  641  601  3.73   2    8   \n",
       "1  83  696  5467  1349  277  44  156  439  1264   70  700  653  4.07   2   12   \n",
       "2  81  669  5439  1395  303  29  141  533  1157   86  640  584  3.67  11   10   \n",
       "3  76  622  5533  1381  260  27  136  404  1231   68  701  643  3.98   7    9   \n",
       "4  74  689  5605  1515  289  49  151  455  1259   83  803  746  4.64   7   12   \n",
       "\n",
       "   SV    E  \n",
       "0  56   88  \n",
       "1  45   86  \n",
       "2  38   79  \n",
       "3  37  101  \n",
       "4  35   86  "
      ]
     },
     "execution_count": 3,
     "metadata": {},
     "output_type": "execute_result"
    }
   ],
   "source": [
    "Data.head() #checking the loaded data"
   ]
  },
  {
   "cell_type": "code",
   "execution_count": 4,
   "id": "eeacfadf",
   "metadata": {},
   "outputs": [
    {
     "data": {
      "text/plain": [
       "(30, 17)"
      ]
     },
     "execution_count": 4,
     "metadata": {},
     "output_type": "execute_result"
    }
   ],
   "source": [
    "Data.shape #checking the rows and columns"
   ]
  },
  {
   "cell_type": "code",
   "execution_count": 5,
   "id": "b5276f2d",
   "metadata": {},
   "outputs": [
    {
     "name": "stdout",
     "output_type": "stream",
     "text": [
      "<class 'pandas.core.frame.DataFrame'>\n",
      "RangeIndex: 30 entries, 0 to 29\n",
      "Data columns (total 17 columns):\n",
      " #   Column  Non-Null Count  Dtype  \n",
      "---  ------  --------------  -----  \n",
      " 0   W       30 non-null     int64  \n",
      " 1   R       30 non-null     int64  \n",
      " 2   AB      30 non-null     int64  \n",
      " 3   H       30 non-null     int64  \n",
      " 4   2B      30 non-null     int64  \n",
      " 5   3B      30 non-null     int64  \n",
      " 6   HR      30 non-null     int64  \n",
      " 7   BB      30 non-null     int64  \n",
      " 8   SO      30 non-null     int64  \n",
      " 9   SB      30 non-null     int64  \n",
      " 10  RA      30 non-null     int64  \n",
      " 11  ER      30 non-null     int64  \n",
      " 12  ERA     30 non-null     float64\n",
      " 13  CG      30 non-null     int64  \n",
      " 14  SHO     30 non-null     int64  \n",
      " 15  SV      30 non-null     int64  \n",
      " 16  E       30 non-null     int64  \n",
      "dtypes: float64(1), int64(16)\n",
      "memory usage: 4.1 KB\n"
     ]
    }
   ],
   "source": [
    "Data.info() #checking the data type"
   ]
  },
  {
   "cell_type": "code",
   "execution_count": 6,
   "id": "49b0a6fd",
   "metadata": {},
   "outputs": [],
   "source": [
    "# From the above data it can be concluded that there is no object data type. "
   ]
  },
  {
   "cell_type": "code",
   "execution_count": 7,
   "id": "1d931d9f",
   "metadata": {},
   "outputs": [
    {
     "data": {
      "text/plain": [
       "W      0\n",
       "R      0\n",
       "AB     0\n",
       "H      0\n",
       "2B     0\n",
       "3B     0\n",
       "HR     0\n",
       "BB     0\n",
       "SO     0\n",
       "SB     0\n",
       "RA     0\n",
       "ER     0\n",
       "ERA    0\n",
       "CG     0\n",
       "SHO    0\n",
       "SV     0\n",
       "E      0\n",
       "dtype: int64"
      ]
     },
     "execution_count": 7,
     "metadata": {},
     "output_type": "execute_result"
    }
   ],
   "source": [
    "Data.isnull().sum() #Checking if there is no null values"
   ]
  },
  {
   "cell_type": "code",
   "execution_count": 8,
   "id": "ede783f4",
   "metadata": {},
   "outputs": [],
   "source": [
    "#There is no null values in the above dataset"
   ]
  },
  {
   "cell_type": "code",
   "execution_count": 9,
   "id": "a79ce797",
   "metadata": {},
   "outputs": [
    {
     "data": {
      "text/plain": [
       "W      30\n",
       "R      30\n",
       "AB     30\n",
       "H      30\n",
       "2B     30\n",
       "3B     30\n",
       "HR     30\n",
       "BB     30\n",
       "SO     30\n",
       "SB     30\n",
       "RA     30\n",
       "ER     30\n",
       "ERA    30\n",
       "CG     30\n",
       "SHO    30\n",
       "SV     30\n",
       "E      30\n",
       "dtype: int64"
      ]
     },
     "execution_count": 9,
     "metadata": {},
     "output_type": "execute_result"
    }
   ],
   "source": [
    "Data.count()"
   ]
  },
  {
   "cell_type": "code",
   "execution_count": 10,
   "id": "552abd58",
   "metadata": {},
   "outputs": [],
   "source": [
    "#There are any non empty values"
   ]
  },
  {
   "cell_type": "code",
   "execution_count": 11,
   "id": "6c6dbde6",
   "metadata": {},
   "outputs": [
    {
     "data": {
      "text/html": [
       "<div>\n",
       "<style scoped>\n",
       "    .dataframe tbody tr th:only-of-type {\n",
       "        vertical-align: middle;\n",
       "    }\n",
       "\n",
       "    .dataframe tbody tr th {\n",
       "        vertical-align: top;\n",
       "    }\n",
       "\n",
       "    .dataframe thead th {\n",
       "        text-align: right;\n",
       "    }\n",
       "</style>\n",
       "<table border=\"1\" class=\"dataframe\">\n",
       "  <thead>\n",
       "    <tr style=\"text-align: right;\">\n",
       "      <th></th>\n",
       "      <th>W</th>\n",
       "      <th>R</th>\n",
       "      <th>AB</th>\n",
       "      <th>H</th>\n",
       "      <th>2B</th>\n",
       "      <th>3B</th>\n",
       "      <th>HR</th>\n",
       "      <th>BB</th>\n",
       "      <th>SO</th>\n",
       "      <th>SB</th>\n",
       "      <th>RA</th>\n",
       "      <th>ER</th>\n",
       "      <th>ERA</th>\n",
       "      <th>CG</th>\n",
       "      <th>SHO</th>\n",
       "      <th>SV</th>\n",
       "      <th>E</th>\n",
       "    </tr>\n",
       "  </thead>\n",
       "  <tbody>\n",
       "    <tr>\n",
       "      <th>count</th>\n",
       "      <td>30.000000</td>\n",
       "      <td>30.000000</td>\n",
       "      <td>30.000000</td>\n",
       "      <td>30.000000</td>\n",
       "      <td>30.000000</td>\n",
       "      <td>30.000000</td>\n",
       "      <td>30.000000</td>\n",
       "      <td>30.000000</td>\n",
       "      <td>30.00000</td>\n",
       "      <td>30.000000</td>\n",
       "      <td>30.000000</td>\n",
       "      <td>30.000000</td>\n",
       "      <td>30.000000</td>\n",
       "      <td>30.000000</td>\n",
       "      <td>30.000000</td>\n",
       "      <td>30.000000</td>\n",
       "      <td>30.000000</td>\n",
       "    </tr>\n",
       "    <tr>\n",
       "      <th>mean</th>\n",
       "      <td>80.966667</td>\n",
       "      <td>688.233333</td>\n",
       "      <td>5516.266667</td>\n",
       "      <td>1403.533333</td>\n",
       "      <td>274.733333</td>\n",
       "      <td>31.300000</td>\n",
       "      <td>163.633333</td>\n",
       "      <td>469.100000</td>\n",
       "      <td>1248.20000</td>\n",
       "      <td>83.500000</td>\n",
       "      <td>688.233333</td>\n",
       "      <td>635.833333</td>\n",
       "      <td>3.956333</td>\n",
       "      <td>3.466667</td>\n",
       "      <td>11.300000</td>\n",
       "      <td>43.066667</td>\n",
       "      <td>94.333333</td>\n",
       "    </tr>\n",
       "    <tr>\n",
       "      <th>std</th>\n",
       "      <td>10.453455</td>\n",
       "      <td>58.761754</td>\n",
       "      <td>70.467372</td>\n",
       "      <td>57.140923</td>\n",
       "      <td>18.095405</td>\n",
       "      <td>10.452355</td>\n",
       "      <td>31.823309</td>\n",
       "      <td>57.053725</td>\n",
       "      <td>103.75947</td>\n",
       "      <td>22.815225</td>\n",
       "      <td>72.108005</td>\n",
       "      <td>70.140786</td>\n",
       "      <td>0.454089</td>\n",
       "      <td>2.763473</td>\n",
       "      <td>4.120177</td>\n",
       "      <td>7.869335</td>\n",
       "      <td>13.958889</td>\n",
       "    </tr>\n",
       "    <tr>\n",
       "      <th>min</th>\n",
       "      <td>63.000000</td>\n",
       "      <td>573.000000</td>\n",
       "      <td>5385.000000</td>\n",
       "      <td>1324.000000</td>\n",
       "      <td>236.000000</td>\n",
       "      <td>13.000000</td>\n",
       "      <td>100.000000</td>\n",
       "      <td>375.000000</td>\n",
       "      <td>973.00000</td>\n",
       "      <td>44.000000</td>\n",
       "      <td>525.000000</td>\n",
       "      <td>478.000000</td>\n",
       "      <td>2.940000</td>\n",
       "      <td>0.000000</td>\n",
       "      <td>4.000000</td>\n",
       "      <td>28.000000</td>\n",
       "      <td>75.000000</td>\n",
       "    </tr>\n",
       "    <tr>\n",
       "      <th>25%</th>\n",
       "      <td>74.000000</td>\n",
       "      <td>651.250000</td>\n",
       "      <td>5464.000000</td>\n",
       "      <td>1363.000000</td>\n",
       "      <td>262.250000</td>\n",
       "      <td>23.000000</td>\n",
       "      <td>140.250000</td>\n",
       "      <td>428.250000</td>\n",
       "      <td>1157.50000</td>\n",
       "      <td>69.000000</td>\n",
       "      <td>636.250000</td>\n",
       "      <td>587.250000</td>\n",
       "      <td>3.682500</td>\n",
       "      <td>1.000000</td>\n",
       "      <td>9.000000</td>\n",
       "      <td>37.250000</td>\n",
       "      <td>86.000000</td>\n",
       "    </tr>\n",
       "    <tr>\n",
       "      <th>50%</th>\n",
       "      <td>81.000000</td>\n",
       "      <td>689.000000</td>\n",
       "      <td>5510.000000</td>\n",
       "      <td>1382.500000</td>\n",
       "      <td>275.500000</td>\n",
       "      <td>31.000000</td>\n",
       "      <td>158.500000</td>\n",
       "      <td>473.000000</td>\n",
       "      <td>1261.50000</td>\n",
       "      <td>83.500000</td>\n",
       "      <td>695.500000</td>\n",
       "      <td>644.500000</td>\n",
       "      <td>4.025000</td>\n",
       "      <td>3.000000</td>\n",
       "      <td>12.000000</td>\n",
       "      <td>42.000000</td>\n",
       "      <td>91.000000</td>\n",
       "    </tr>\n",
       "    <tr>\n",
       "      <th>75%</th>\n",
       "      <td>87.750000</td>\n",
       "      <td>718.250000</td>\n",
       "      <td>5570.000000</td>\n",
       "      <td>1451.500000</td>\n",
       "      <td>288.750000</td>\n",
       "      <td>39.000000</td>\n",
       "      <td>177.000000</td>\n",
       "      <td>501.250000</td>\n",
       "      <td>1311.50000</td>\n",
       "      <td>96.500000</td>\n",
       "      <td>732.500000</td>\n",
       "      <td>679.250000</td>\n",
       "      <td>4.220000</td>\n",
       "      <td>5.750000</td>\n",
       "      <td>13.000000</td>\n",
       "      <td>46.750000</td>\n",
       "      <td>96.750000</td>\n",
       "    </tr>\n",
       "    <tr>\n",
       "      <th>max</th>\n",
       "      <td>100.000000</td>\n",
       "      <td>891.000000</td>\n",
       "      <td>5649.000000</td>\n",
       "      <td>1515.000000</td>\n",
       "      <td>308.000000</td>\n",
       "      <td>49.000000</td>\n",
       "      <td>232.000000</td>\n",
       "      <td>570.000000</td>\n",
       "      <td>1518.00000</td>\n",
       "      <td>134.000000</td>\n",
       "      <td>844.000000</td>\n",
       "      <td>799.000000</td>\n",
       "      <td>5.040000</td>\n",
       "      <td>11.000000</td>\n",
       "      <td>21.000000</td>\n",
       "      <td>62.000000</td>\n",
       "      <td>126.000000</td>\n",
       "    </tr>\n",
       "  </tbody>\n",
       "</table>\n",
       "</div>"
      ],
      "text/plain": [
       "                W           R           AB            H          2B  \\\n",
       "count   30.000000   30.000000    30.000000    30.000000   30.000000   \n",
       "mean    80.966667  688.233333  5516.266667  1403.533333  274.733333   \n",
       "std     10.453455   58.761754    70.467372    57.140923   18.095405   \n",
       "min     63.000000  573.000000  5385.000000  1324.000000  236.000000   \n",
       "25%     74.000000  651.250000  5464.000000  1363.000000  262.250000   \n",
       "50%     81.000000  689.000000  5510.000000  1382.500000  275.500000   \n",
       "75%     87.750000  718.250000  5570.000000  1451.500000  288.750000   \n",
       "max    100.000000  891.000000  5649.000000  1515.000000  308.000000   \n",
       "\n",
       "              3B          HR          BB          SO          SB          RA  \\\n",
       "count  30.000000   30.000000   30.000000    30.00000   30.000000   30.000000   \n",
       "mean   31.300000  163.633333  469.100000  1248.20000   83.500000  688.233333   \n",
       "std    10.452355   31.823309   57.053725   103.75947   22.815225   72.108005   \n",
       "min    13.000000  100.000000  375.000000   973.00000   44.000000  525.000000   \n",
       "25%    23.000000  140.250000  428.250000  1157.50000   69.000000  636.250000   \n",
       "50%    31.000000  158.500000  473.000000  1261.50000   83.500000  695.500000   \n",
       "75%    39.000000  177.000000  501.250000  1311.50000   96.500000  732.500000   \n",
       "max    49.000000  232.000000  570.000000  1518.00000  134.000000  844.000000   \n",
       "\n",
       "               ER        ERA         CG        SHO         SV           E  \n",
       "count   30.000000  30.000000  30.000000  30.000000  30.000000   30.000000  \n",
       "mean   635.833333   3.956333   3.466667  11.300000  43.066667   94.333333  \n",
       "std     70.140786   0.454089   2.763473   4.120177   7.869335   13.958889  \n",
       "min    478.000000   2.940000   0.000000   4.000000  28.000000   75.000000  \n",
       "25%    587.250000   3.682500   1.000000   9.000000  37.250000   86.000000  \n",
       "50%    644.500000   4.025000   3.000000  12.000000  42.000000   91.000000  \n",
       "75%    679.250000   4.220000   5.750000  13.000000  46.750000   96.750000  \n",
       "max    799.000000   5.040000  11.000000  21.000000  62.000000  126.000000  "
      ]
     },
     "execution_count": 11,
     "metadata": {},
     "output_type": "execute_result"
    }
   ],
   "source": [
    "Data.describe() #Checking the statistics"
   ]
  },
  {
   "cell_type": "code",
   "execution_count": 12,
   "id": "0e92e4f9",
   "metadata": {},
   "outputs": [],
   "source": [
    "#There is a huge difference between mean and standard deviation figures, thereby implying skewness\n",
    "#There is also a huge difference between minimum and maximum figures.\n",
    "#Data also shows the possibility of Outliers"
   ]
  },
  {
   "cell_type": "code",
   "execution_count": 13,
   "id": "f65f2b99",
   "metadata": {},
   "outputs": [],
   "source": [
    "X=Data.drop('W',axis=1)\n",
    "Y=Data['W'] #Seperating the target and classes"
   ]
  },
  {
   "cell_type": "code",
   "execution_count": 14,
   "id": "9fac35f9",
   "metadata": {},
   "outputs": [],
   "source": [
    "##Observing the Target Variable"
   ]
  },
  {
   "cell_type": "code",
   "execution_count": 15,
   "id": "b7dfc9e7",
   "metadata": {},
   "outputs": [
    {
     "data": {
      "text/plain": [
       "<AxesSubplot:>"
      ]
     },
     "execution_count": 15,
     "metadata": {},
     "output_type": "execute_result"
    },
    {
     "data": {
      "image/png": "[encoded data removed]",
      "text/plain": [
       "<Figure size 432x288 with 1 Axes>"
      ]
     },
     "metadata": {
      "needs_background": "light"
     },
     "output_type": "display_data"
    }
   ],
   "source": [
    "Y.plot(kind='bar') #Checking the target variable"
   ]
  },
  {
   "cell_type": "code",
   "execution_count": 16,
   "id": "79af418f",
   "metadata": {
    "scrolled": true
   },
   "outputs": [
    {
     "data": {
      "text/plain": [
       "68     3\n",
       "81     2\n",
       "76     2\n",
       "74     2\n",
       "83     2\n",
       "98     1\n",
       "84     1\n",
       "92     1\n",
       "63     1\n",
       "67     1\n",
       "71     1\n",
       "90     1\n",
       "64     1\n",
       "97     1\n",
       "95     1\n",
       "100    1\n",
       "85     1\n",
       "86     1\n",
       "88     1\n",
       "78     1\n",
       "80     1\n",
       "87     1\n",
       "93     1\n",
       "79     1\n",
       "Name: W, dtype: int64"
      ]
     },
     "execution_count": 16,
     "metadata": {},
     "output_type": "execute_result"
    }
   ],
   "source": [
    "Y.value_counts()"
   ]
  },
  {
   "cell_type": "code",
   "execution_count": 17,
   "id": "c020abfe",
   "metadata": {},
   "outputs": [],
   "source": [
    "#Looking at the data, following things can be concluded:\n",
    "# 1. Majority of the prediction has been made to 68%,81%,76%,74% and 83%\n",
    "# 2. There might be a possibility that the model can get biased towards these outcomes\n"
   ]
  },
  {
   "cell_type": "code",
   "execution_count": 18,
   "id": "9a42a2ae",
   "metadata": {},
   "outputs": [
    {
     "data": {
      "image/png": "[encoded data removed]",
      "text/plain": [
       "<Figure size 720x576 with 16 Axes>"
      ]
     },
     "metadata": {
      "needs_background": "light"
     },
     "output_type": "display_data"
    }
   ],
   "source": [
    "X.plot(kind='kde',subplots=True,layout=(4,4),sharex=False,legend=True,fontsize=3,figsize=(10,8))\n",
    "plt.show() #Visualizing the feature"
   ]
  },
  {
   "cell_type": "code",
   "execution_count": 19,
   "id": "66a04d7f",
   "metadata": {},
   "outputs": [],
   "source": [
    "#Data is highly skewed: Specially 'R','SO','CG','SV','SHO' and 'E'"
   ]
  },
  {
   "cell_type": "code",
   "execution_count": 20,
   "id": "d21a359f",
   "metadata": {},
   "outputs": [
    {
     "data": {
      "text/plain": [
       "R      1.200786\n",
       "E      0.890132\n",
       "CG     0.736845\n",
       "H      0.670254\n",
       "SV     0.657524\n",
       "SHO    0.565790\n",
       "HR     0.516441\n",
       "SB     0.479893\n",
       "AB     0.183437\n",
       "BB     0.158498\n",
       "3B     0.129502\n",
       "ER     0.058710\n",
       "ERA    0.053331\n",
       "RA     0.045734\n",
       "SO    -0.156065\n",
       "2B    -0.230650\n",
       "dtype: float64"
      ]
     },
     "execution_count": 20,
     "metadata": {},
     "output_type": "execute_result"
    }
   ],
   "source": [
    "X.skew().sort_values(ascending=False)"
   ]
  },
  {
   "cell_type": "code",
   "execution_count": 21,
   "id": "6efdd2dc",
   "metadata": {},
   "outputs": [],
   "source": [
    "from sklearn.preprocessing import power_transform"
   ]
  },
  {
   "cell_type": "code",
   "execution_count": 22,
   "id": "052a58f2",
   "metadata": {},
   "outputs": [],
   "source": [
    "New_X=np.sqrt(X)"
   ]
  },
  {
   "cell_type": "code",
   "execution_count": 23,
   "id": "f11d72b0",
   "metadata": {},
   "outputs": [
    {
     "data": {
      "text/plain": [
       "R      0.968676\n",
       "E      0.763487\n",
       "H      0.649567\n",
       "SV     0.410288\n",
       "HR     0.264948\n",
       "AB     0.172254\n",
       "SB     0.158381\n",
       "BB     0.053448\n",
       "SHO   -0.061761\n",
       "RA    -0.096160\n",
       "ER    -0.109548\n",
       "ERA   -0.133224\n",
       "3B    -0.142922\n",
       "2B    -0.302835\n",
       "CG    -0.311476\n",
       "SO    -0.348513\n",
       "dtype: float64"
      ]
     },
     "execution_count": 23,
     "metadata": {},
     "output_type": "execute_result"
    }
   ],
   "source": [
    "pd.DataFrame(New_X,columns=X.columns).skew().sort_values(ascending=False) # checking the skewness of the data after applying power transformation technique"
   ]
  },
  {
   "cell_type": "code",
   "execution_count": 24,
   "id": "4a2bcc75",
   "metadata": {},
   "outputs": [],
   "source": [
    "X= pd.DataFrame(New_X, columns=X.columns) #Reassigning the columns"
   ]
  },
  {
   "cell_type": "code",
   "execution_count": 25,
   "id": "cb61fef8",
   "metadata": {},
   "outputs": [
    {
     "data": {
      "image/png": "[encoded data removed]",
      "text/plain": [
       "<Figure size 720x576 with 16 Axes>"
      ]
     },
     "metadata": {
      "needs_background": "light"
     },
     "output_type": "display_data"
    }
   ],
   "source": [
    "X.plot(kind='kde',subplots=True,layout=(4,4),sharex=False,legend=True,fontsize=3,figsize=(10,8))\n",
    "plt.show() #Visualizing the feature"
   ]
  },
  {
   "cell_type": "code",
   "execution_count": 26,
   "id": "b22d1651",
   "metadata": {},
   "outputs": [],
   "source": [
    "#Data is still skewed, hence data needs to be further transformed"
   ]
  },
  {
   "cell_type": "code",
   "execution_count": 27,
   "id": "204eff90",
   "metadata": {},
   "outputs": [],
   "source": [
    "Skewed_value=power_transform(X[['R','E','SO','CG']])"
   ]
  },
  {
   "cell_type": "code",
   "execution_count": 28,
   "id": "ba8606ab",
   "metadata": {},
   "outputs": [
    {
     "data": {
      "text/plain": [
       "0   -0.055379\n",
       "1    0.065358\n",
       "2    0.040843\n",
       "3   -0.133250\n",
       "dtype: float64"
      ]
     },
     "execution_count": 28,
     "metadata": {},
     "output_type": "execute_result"
    }
   ],
   "source": [
    "pd.DataFrame(Skewed_value).skew()"
   ]
  },
  {
   "cell_type": "code",
   "execution_count": 29,
   "id": "8eb67be3",
   "metadata": {},
   "outputs": [],
   "source": [
    "X[['R','E','SO','CG']]=pd.DataFrame(Skewed_value) #Assigning back the values"
   ]
  },
  {
   "cell_type": "code",
   "execution_count": 30,
   "id": "0df7a6bb",
   "metadata": {},
   "outputs": [
    {
     "data": {
      "text/plain": [
       "H      0.649567\n",
       "SV     0.410288\n",
       "HR     0.264948\n",
       "AB     0.172254\n",
       "SB     0.158381\n",
       "E      0.065358\n",
       "BB     0.053448\n",
       "SO     0.040843\n",
       "R     -0.055379\n",
       "SHO   -0.061761\n",
       "RA    -0.096160\n",
       "ER    -0.109548\n",
       "ERA   -0.133224\n",
       "CG    -0.133250\n",
       "3B    -0.142922\n",
       "2B    -0.302835\n",
       "dtype: float64"
      ]
     },
     "execution_count": 30,
     "metadata": {},
     "output_type": "execute_result"
    }
   ],
   "source": [
    "X.skew().sort_values(ascending=False)"
   ]
  },
  {
   "cell_type": "code",
   "execution_count": 34,
   "id": "cfb72ef6",
   "metadata": {},
   "outputs": [
    {
     "data": {
      "image/png": "[encoded data removed]",
      "text/plain": [
       "<Figure size 720x576 with 16 Axes>"
      ]
     },
     "metadata": {
      "needs_background": "light"
     },
     "output_type": "display_data"
    }
   ],
   "source": [
    "X.plot(kind='kde',subplots=True,layout=(4,4),sharex=False,legend=True,fontsize=3,figsize=(10,8))\n",
    "plt.show() #Visualizing the feature after transforming the value"
   ]
  },
  {
   "cell_type": "markdown",
   "id": "17e3bb98",
   "metadata": {},
   "source": [
    "### Comparing the feature and target Data"
   ]
  },
  {
   "cell_type": "code",
   "execution_count": 31,
   "id": "06066d9f",
   "metadata": {},
   "outputs": [
    {
     "data": {
      "image/png": "[encoded data removed]",
      "text/plain": [
       "<Figure size 1440x1800 with 1 Axes>"
      ]
     },
     "metadata": {},
     "output_type": "display_data"
    },
    {
     "data": {
      "image/png": "[encoded data removed]",
      "text/plain": [
       "<Figure size 432x288 with 1 Axes>"
      ]
     },
     "metadata": {
      "needs_background": "light"
     },
     "output_type": "display_data"
    },
    {
     "data": {
      "image/png": "[encoded data removed]",
      "text/plain": [
       "<Figure size 432x288 with 1 Axes>"
      ]
     },
     "metadata": {
      "needs_background": "light"
     },
     "output_type": "display_data"
    },
    {
     "data": {
      "image/png": "[encoded data removed]",
      "text/plain": [
       "<Figure size 432x288 with 1 Axes>"
      ]
     },
     "metadata": {
      "needs_background": "light"
     },
     "output_type": "display_data"
    },
    {
     "data": {
      "image/png": "[encoded data removed]",
      "text/plain": [
       "<Figure size 432x288 with 1 Axes>"
      ]
     },
     "metadata": {
      "needs_background": "light"
     },
     "output_type": "display_data"
    },
    {
     "data": {
      "image/png": "[encoded data removed]",
      "text/plain": [
       "<Figure size 432x288 with 1 Axes>"
      ]
     },
     "metadata": {
      "needs_background": "light"
     },
     "output_type": "display_data"
    },
    {
     "data": {
      "image/png": "[encoded data removed]",
      "text/plain": [
       "<Figure size 432x288 with 1 Axes>"
      ]
     },
     "metadata": {
      "needs_background": "light"
     },
     "output_type": "display_data"
    },
    {
     "data": {
      "image/png": "[encoded data removed]",
      "text/plain": [
       "<Figure size 432x288 with 1 Axes>"
      ]
     },
     "metadata": {
      "needs_background": "light"
     },
     "output_type": "display_data"
    },
    {
     "data": {
      "image/png": "[encoded data removed]",
      "text/plain": [
       "<Figure size 432x288 with 1 Axes>"
      ]
     },
     "metadata": {
      "needs_background": "light"
     },
     "output_type": "display_data"
    },
    {
     "data": {
      "image/png": "[encoded data removed]",
      "text/plain": [
       "<Figure size 432x288 with 1 Axes>"
      ]
     },
     "metadata": {
      "needs_background": "light"
     },
     "output_type": "display_data"
    },
    {
     "data": {
      "image/png": "[encoded data removed]",
      "text/plain": [
       "<Figure size 432x288 with 1 Axes>"
      ]
     },
     "metadata": {
      "needs_background": "light"
     },
     "output_type": "display_data"
    },
    {
     "data": {
      "image/png": "[encoded data removed]",
      "text/plain": [
       "<Figure size 432x288 with 1 Axes>"
      ]
     },
     "metadata": {
      "needs_background": "light"
     },
     "output_type": "display_data"
    },
    {
     "data": {
      "image/png": "[encoded data removed]",
      "text/plain": [
       "<Figure size 432x288 with 1 Axes>"
      ]
     },
     "metadata": {
      "needs_background": "light"
     },
     "output_type": "display_data"
    },
    {
     "data": {
      "image/png": "[encoded data removed]",
      "text/plain": [
       "<Figure size 432x288 with 1 Axes>"
      ]
     },
     "metadata": {
      "needs_background": "light"
     },
     "output_type": "display_data"
    },
    {
     "data": {
      "image/png": "[encoded data removed]",
      "text/plain": [
       "<Figure size 432x288 with 1 Axes>"
      ]
     },
     "metadata": {
      "needs_background": "light"
     },
     "output_type": "display_data"
    },
    {
     "data": {
      "image/png": "[encoded data removed]",
      "text/plain": [
       "<Figure size 432x288 with 1 Axes>"
      ]
     },
     "metadata": {
      "needs_background": "light"
     },
     "output_type": "display_data"
    }
   ],
   "source": [
    "plt.figure(figsize=(20,25),facecolor='blue')\n",
    "plotnumber=1\n",
    "for column in X.columns:\n",
    " if plotnumber<=16:\n",
    "    ax=plt.subplot(4,4,plotnumber)\n",
    "    sns.stripplot(X[column],Y)\n",
    "    plt.xlabel(column)\n",
    "    plt.ylabel('W')\n",
    " plotnumber=plotnumber+1\n",
    " plt.show()"
   ]
  },
  {
   "cell_type": "code",
   "execution_count": 32,
   "id": "907f3eb2",
   "metadata": {},
   "outputs": [],
   "source": [
    "#From the above observation between the features and labels- Following things can be concluded:\n",
    "#1. There is a positive relation between R,SV,AB,H,BB with W\n",
    "#2. There is no relationship between 2B,3B,HR,SO,SB,CG,E,SHO with W\n",
    "#3. There is a negative relation between RA,ER,ERA with W\n",
    " "
   ]
  },
  {
   "cell_type": "markdown",
   "id": "20724f34",
   "metadata": {},
   "source": [
    "### Comparing the feature data with each other "
   ]
  },
  {
   "cell_type": "code",
   "execution_count": 36,
   "id": "1305e651",
   "metadata": {},
   "outputs": [
    {
     "data": {
      "image/png": "[encoded data removed]",
      "text/plain": [
       "<Figure size 1080x1440 with 2 Axes>"
      ]
     },
     "metadata": {
      "needs_background": "light"
     },
     "output_type": "display_data"
    }
   ],
   "source": [
    "corr_mat=X.corr()\n",
    "plt.figure(figsize=[15,20])\n",
    "sns.heatmap(corr_mat,annot=True)\n",
    "plt.title(\"Correlation Matrix\")\n",
    "plt.show() #Checking correlation"
   ]
  },
  {
   "cell_type": "code",
   "execution_count": 37,
   "id": "70609769",
   "metadata": {},
   "outputs": [],
   "source": [
    "# By looking at the heat map it can be concluded that there is an issue of collinearity between 'RA','ER'and 'ERA'"
   ]
  },
  {
   "cell_type": "code",
   "execution_count": 38,
   "id": "8905caaa",
   "metadata": {},
   "outputs": [],
   "source": [
    "#Checing the issue of multicollinearity via VIF"
   ]
  },
  {
   "cell_type": "code",
   "execution_count": 39,
   "id": "96dc794f",
   "metadata": {},
   "outputs": [
    {
     "data": {
      "text/html": [
       "<div>\n",
       "<style scoped>\n",
       "    .dataframe tbody tr th:only-of-type {\n",
       "        vertical-align: middle;\n",
       "    }\n",
       "\n",
       "    .dataframe tbody tr th {\n",
       "        vertical-align: top;\n",
       "    }\n",
       "\n",
       "    .dataframe thead th {\n",
       "        text-align: right;\n",
       "    }\n",
       "</style>\n",
       "<table border=\"1\" class=\"dataframe\">\n",
       "  <thead>\n",
       "    <tr style=\"text-align: right;\">\n",
       "      <th></th>\n",
       "      <th>feature</th>\n",
       "      <th>VIF</th>\n",
       "    </tr>\n",
       "  </thead>\n",
       "  <tbody>\n",
       "    <tr>\n",
       "      <th>0</th>\n",
       "      <td>R</td>\n",
       "      <td>9.065747</td>\n",
       "    </tr>\n",
       "    <tr>\n",
       "      <th>1</th>\n",
       "      <td>AB</td>\n",
       "      <td>27315.355691</td>\n",
       "    </tr>\n",
       "    <tr>\n",
       "      <th>2</th>\n",
       "      <td>H</td>\n",
       "      <td>17253.302915</td>\n",
       "    </tr>\n",
       "    <tr>\n",
       "      <th>3</th>\n",
       "      <td>2B</td>\n",
       "      <td>3636.292045</td>\n",
       "    </tr>\n",
       "    <tr>\n",
       "      <th>4</th>\n",
       "      <td>3B</td>\n",
       "      <td>120.844729</td>\n",
       "    </tr>\n",
       "    <tr>\n",
       "      <th>5</th>\n",
       "      <td>HR</td>\n",
       "      <td>970.875684</td>\n",
       "    </tr>\n",
       "    <tr>\n",
       "      <th>6</th>\n",
       "      <td>BB</td>\n",
       "      <td>1037.380242</td>\n",
       "    </tr>\n",
       "    <tr>\n",
       "      <th>7</th>\n",
       "      <td>SO</td>\n",
       "      <td>2.549728</td>\n",
       "    </tr>\n",
       "    <tr>\n",
       "      <th>8</th>\n",
       "      <td>SB</td>\n",
       "      <td>115.717693</td>\n",
       "    </tr>\n",
       "    <tr>\n",
       "      <th>9</th>\n",
       "      <td>RA</td>\n",
       "      <td>65163.391254</td>\n",
       "    </tr>\n",
       "    <tr>\n",
       "      <th>10</th>\n",
       "      <td>ER</td>\n",
       "      <td>167388.578470</td>\n",
       "    </tr>\n",
       "    <tr>\n",
       "      <th>11</th>\n",
       "      <td>ERA</td>\n",
       "      <td>90496.084360</td>\n",
       "    </tr>\n",
       "    <tr>\n",
       "      <th>12</th>\n",
       "      <td>CG</td>\n",
       "      <td>2.612632</td>\n",
       "    </tr>\n",
       "    <tr>\n",
       "      <th>13</th>\n",
       "      <td>SHO</td>\n",
       "      <td>93.948326</td>\n",
       "    </tr>\n",
       "    <tr>\n",
       "      <th>14</th>\n",
       "      <td>SV</td>\n",
       "      <td>449.220172</td>\n",
       "    </tr>\n",
       "    <tr>\n",
       "      <th>15</th>\n",
       "      <td>E</td>\n",
       "      <td>2.195811</td>\n",
       "    </tr>\n",
       "  </tbody>\n",
       "</table>\n",
       "</div>"
      ],
      "text/plain": [
       "   feature            VIF\n",
       "0        R       9.065747\n",
       "1       AB   27315.355691\n",
       "2        H   17253.302915\n",
       "3       2B    3636.292045\n",
       "4       3B     120.844729\n",
       "5       HR     970.875684\n",
       "6       BB    1037.380242\n",
       "7       SO       2.549728\n",
       "8       SB     115.717693\n",
       "9       RA   65163.391254\n",
       "10      ER  167388.578470\n",
       "11     ERA   90496.084360\n",
       "12      CG       2.612632\n",
       "13     SHO      93.948326\n",
       "14      SV     449.220172\n",
       "15       E       2.195811"
      ]
     },
     "execution_count": 39,
     "metadata": {},
     "output_type": "execute_result"
    }
   ],
   "source": [
    "vif_data = pd.DataFrame()\n",
    "vif_data[\"feature\"] = X.columns\n",
    "vif_data[\"VIF\"] = [variance_inflation_factor(X.values, i)\n",
    "                          for i in range(len(X.columns))]\n",
    "\n",
    "vif_data"
   ]
  },
  {
   "cell_type": "code",
   "execution_count": 40,
   "id": "c92cf0dd",
   "metadata": {},
   "outputs": [],
   "source": [
    "#There is a high range of multicollinearity existing in the features"
   ]
  },
  {
   "cell_type": "code",
   "execution_count": 47,
   "id": "1783741e",
   "metadata": {},
   "outputs": [],
   "source": [
    "#Looking at the heatmap and VIF, 'ER'and 'ERA can be dropped as it has a high range of multicollinearity as compared as 'RA'\n",
    "#There is also no relationship of ER and ERA with the target variable (W)\n",
    "#Therefore ER and ERA can be dropped"
   ]
  },
  {
   "cell_type": "code",
   "execution_count": 44,
   "id": "0c6f2d78",
   "metadata": {},
   "outputs": [],
   "source": [
    "X.drop('ER',axis=1,inplace=True) #dropping ER column"
   ]
  },
  {
   "cell_type": "code",
   "execution_count": 48,
   "id": "c6e1a560",
   "metadata": {},
   "outputs": [],
   "source": [
    "X.drop('ERA',axis=1,inplace=True) #dropping ERA column"
   ]
  },
  {
   "cell_type": "code",
   "execution_count": 49,
   "id": "4d906cf6",
   "metadata": {},
   "outputs": [
    {
     "data": {
      "text/html": [
       "<div>\n",
       "<style scoped>\n",
       "    .dataframe tbody tr th:only-of-type {\n",
       "        vertical-align: middle;\n",
       "    }\n",
       "\n",
       "    .dataframe tbody tr th {\n",
       "        vertical-align: top;\n",
       "    }\n",
       "\n",
       "    .dataframe thead th {\n",
       "        text-align: right;\n",
       "    }\n",
       "</style>\n",
       "<table border=\"1\" class=\"dataframe\">\n",
       "  <thead>\n",
       "    <tr style=\"text-align: right;\">\n",
       "      <th></th>\n",
       "      <th>R</th>\n",
       "      <th>AB</th>\n",
       "      <th>H</th>\n",
       "      <th>2B</th>\n",
       "      <th>3B</th>\n",
       "      <th>HR</th>\n",
       "      <th>BB</th>\n",
       "      <th>SO</th>\n",
       "      <th>SB</th>\n",
       "      <th>RA</th>\n",
       "      <th>CG</th>\n",
       "      <th>SHO</th>\n",
       "      <th>SV</th>\n",
       "      <th>E</th>\n",
       "    </tr>\n",
       "  </thead>\n",
       "  <tbody>\n",
       "    <tr>\n",
       "      <th>0</th>\n",
       "      <td>0.728348</td>\n",
       "      <td>74.665923</td>\n",
       "      <td>38.691084</td>\n",
       "      <td>17.320508</td>\n",
       "      <td>6.480741</td>\n",
       "      <td>11.789826</td>\n",
       "      <td>19.570386</td>\n",
       "      <td>-2.570258</td>\n",
       "      <td>10.198039</td>\n",
       "      <td>25.317978</td>\n",
       "      <td>-0.335037</td>\n",
       "      <td>2.828427</td>\n",
       "      <td>7.483315</td>\n",
       "      <td>-0.335379</td>\n",
       "    </tr>\n",
       "    <tr>\n",
       "      <th>1</th>\n",
       "      <td>0.261277</td>\n",
       "      <td>73.939164</td>\n",
       "      <td>36.728735</td>\n",
       "      <td>16.643317</td>\n",
       "      <td>6.633250</td>\n",
       "      <td>12.489996</td>\n",
       "      <td>20.952327</td>\n",
       "      <td>0.134940</td>\n",
       "      <td>8.366600</td>\n",
       "      <td>26.457513</td>\n",
       "      <td>-0.335037</td>\n",
       "      <td>3.464102</td>\n",
       "      <td>6.708204</td>\n",
       "      <td>-0.532646</td>\n",
       "    </tr>\n",
       "    <tr>\n",
       "      <th>2</th>\n",
       "      <td>-0.244845</td>\n",
       "      <td>73.749576</td>\n",
       "      <td>37.349699</td>\n",
       "      <td>17.406895</td>\n",
       "      <td>5.385165</td>\n",
       "      <td>11.874342</td>\n",
       "      <td>23.086793</td>\n",
       "      <td>-0.901197</td>\n",
       "      <td>9.273618</td>\n",
       "      <td>25.298221</td>\n",
       "      <td>2.092697</td>\n",
       "      <td>3.162278</td>\n",
       "      <td>6.164414</td>\n",
       "      <td>-1.342180</td>\n",
       "    </tr>\n",
       "    <tr>\n",
       "      <th>3</th>\n",
       "      <td>-1.285265</td>\n",
       "      <td>74.384138</td>\n",
       "      <td>37.161808</td>\n",
       "      <td>16.124515</td>\n",
       "      <td>5.196152</td>\n",
       "      <td>11.661904</td>\n",
       "      <td>20.099751</td>\n",
       "      <td>-0.189581</td>\n",
       "      <td>8.246211</td>\n",
       "      <td>26.476405</td>\n",
       "      <td>1.199633</td>\n",
       "      <td>3.000000</td>\n",
       "      <td>6.082763</td>\n",
       "      <td>0.678684</td>\n",
       "    </tr>\n",
       "    <tr>\n",
       "      <th>4</th>\n",
       "      <td>0.135665</td>\n",
       "      <td>74.866548</td>\n",
       "      <td>38.923001</td>\n",
       "      <td>17.000000</td>\n",
       "      <td>7.000000</td>\n",
       "      <td>12.288206</td>\n",
       "      <td>21.330729</td>\n",
       "      <td>0.085489</td>\n",
       "      <td>9.110434</td>\n",
       "      <td>28.337255</td>\n",
       "      <td>1.199633</td>\n",
       "      <td>3.464102</td>\n",
       "      <td>5.916080</td>\n",
       "      <td>-0.532646</td>\n",
       "    </tr>\n",
       "    <tr>\n",
       "      <th>5</th>\n",
       "      <td>2.671271</td>\n",
       "      <td>74.222638</td>\n",
       "      <td>38.470768</td>\n",
       "      <td>17.549929</td>\n",
       "      <td>4.123106</td>\n",
       "      <td>15.231546</td>\n",
       "      <td>23.874673</td>\n",
       "      <td>-0.957905</td>\n",
       "      <td>9.380832</td>\n",
       "      <td>25.884358</td>\n",
       "      <td>1.199633</td>\n",
       "      <td>3.162278</td>\n",
       "      <td>5.830952</td>\n",
       "      <td>-0.335379</td>\n",
       "    </tr>\n",
       "    <tr>\n",
       "      <th>6</th>\n",
       "      <td>1.309828</td>\n",
       "      <td>74.612331</td>\n",
       "      <td>37.376463</td>\n",
       "      <td>16.492423</td>\n",
       "      <td>4.358899</td>\n",
       "      <td>14.560220</td>\n",
       "      <td>23.537205</td>\n",
       "      <td>-0.228618</td>\n",
       "      <td>7.937254</td>\n",
       "      <td>26.419690</td>\n",
       "      <td>0.046360</td>\n",
       "      <td>2.000000</td>\n",
       "      <td>6.928203</td>\n",
       "      <td>0.104285</td>\n",
       "    </tr>\n",
       "    <tr>\n",
       "      <th>7</th>\n",
       "      <td>0.551309</td>\n",
       "      <td>74.060786</td>\n",
       "      <td>37.013511</td>\n",
       "      <td>15.684387</td>\n",
       "      <td>4.472136</td>\n",
       "      <td>14.730920</td>\n",
       "      <td>20.445048</td>\n",
       "      <td>0.807146</td>\n",
       "      <td>6.633250</td>\n",
       "      <td>26.324893</td>\n",
       "      <td>-1.866003</td>\n",
       "      <td>3.162278</td>\n",
       "      <td>6.557439</td>\n",
       "      <td>-1.613941</td>\n",
       "    </tr>\n",
       "    <tr>\n",
       "      <th>8</th>\n",
       "      <td>-0.770368</td>\n",
       "      <td>74.060786</td>\n",
       "      <td>37.188708</td>\n",
       "      <td>16.673332</td>\n",
       "      <td>5.656854</td>\n",
       "      <td>12.922848</td>\n",
       "      <td>20.880613</td>\n",
       "      <td>0.594551</td>\n",
       "      <td>9.327379</td>\n",
       "      <td>25.337719</td>\n",
       "      <td>-0.814186</td>\n",
       "      <td>3.464102</td>\n",
       "      <td>7.745967</td>\n",
       "      <td>0.261351</td>\n",
       "    </tr>\n",
       "    <tr>\n",
       "      <th>9</th>\n",
       "      <td>1.088246</td>\n",
       "      <td>75.099933</td>\n",
       "      <td>38.665230</td>\n",
       "      <td>17.146428</td>\n",
       "      <td>5.744563</td>\n",
       "      <td>12.688578</td>\n",
       "      <td>21.863211</td>\n",
       "      <td>-0.986203</td>\n",
       "      <td>8.426150</td>\n",
       "      <td>27.440845</td>\n",
       "      <td>0.046360</td>\n",
       "      <td>3.162278</td>\n",
       "      <td>6.324555</td>\n",
       "      <td>0.408957</td>\n",
       "    </tr>\n",
       "    <tr>\n",
       "      <th>10</th>\n",
       "      <td>1.130858</td>\n",
       "      <td>74.236110</td>\n",
       "      <td>37.669616</td>\n",
       "      <td>16.703293</td>\n",
       "      <td>5.656854</td>\n",
       "      <td>13.114877</td>\n",
       "      <td>22.427661</td>\n",
       "      <td>-0.170038</td>\n",
       "      <td>10.049876</td>\n",
       "      <td>27.073973</td>\n",
       "      <td>0.672813</td>\n",
       "      <td>3.000000</td>\n",
       "      <td>6.708204</td>\n",
       "      <td>1.578169</td>\n",
       "    </tr>\n",
       "    <tr>\n",
       "      <th>11</th>\n",
       "      <td>0.806223</td>\n",
       "      <td>73.885046</td>\n",
       "      <td>36.918830</td>\n",
       "      <td>16.673332</td>\n",
       "      <td>5.099020</td>\n",
       "      <td>15.165751</td>\n",
       "      <td>22.045408</td>\n",
       "      <td>1.434397</td>\n",
       "      <td>11.000000</td>\n",
       "      <td>24.859606</td>\n",
       "      <td>0.672813</td>\n",
       "      <td>3.605551</td>\n",
       "      <td>6.244998</td>\n",
       "      <td>-0.636432</td>\n",
       "    </tr>\n",
       "    <tr>\n",
       "      <th>12</th>\n",
       "      <td>-0.406646</td>\n",
       "      <td>73.600272</td>\n",
       "      <td>36.482873</td>\n",
       "      <td>15.588457</td>\n",
       "      <td>4.582576</td>\n",
       "      <td>13.266499</td>\n",
       "      <td>20.856654</td>\n",
       "      <td>-0.967342</td>\n",
       "      <td>7.211103</td>\n",
       "      <td>25.980762</td>\n",
       "      <td>-0.335037</td>\n",
       "      <td>3.464102</td>\n",
       "      <td>6.782330</td>\n",
       "      <td>0.104285</td>\n",
       "    </tr>\n",
       "    <tr>\n",
       "      <th>13</th>\n",
       "      <td>-0.510741</td>\n",
       "      <td>74.458042</td>\n",
       "      <td>37.134889</td>\n",
       "      <td>16.186414</td>\n",
       "      <td>4.690416</td>\n",
       "      <td>14.071247</td>\n",
       "      <td>21.863211</td>\n",
       "      <td>0.858018</td>\n",
       "      <td>8.306624</td>\n",
       "      <td>26.944387</td>\n",
       "      <td>0.945394</td>\n",
       "      <td>3.464102</td>\n",
       "      <td>6.708204</td>\n",
       "      <td>0.184050</td>\n",
       "    </tr>\n",
       "    <tr>\n",
       "      <th>14</th>\n",
       "      <td>0.225769</td>\n",
       "      <td>74.833148</td>\n",
       "      <td>37.483330</td>\n",
       "      <td>16.643317</td>\n",
       "      <td>6.782330</td>\n",
       "      <td>12.083046</td>\n",
       "      <td>21.794495</td>\n",
       "      <td>-1.257805</td>\n",
       "      <td>8.831761</td>\n",
       "      <td>27.000000</td>\n",
       "      <td>0.672813</td>\n",
       "      <td>3.872983</td>\n",
       "      <td>5.291503</td>\n",
       "      <td>1.829316</td>\n",
       "    </tr>\n",
       "    <tr>\n",
       "      <th>15</th>\n",
       "      <td>-0.704128</td>\n",
       "      <td>74.054034</td>\n",
       "      <td>37.229021</td>\n",
       "      <td>16.970563</td>\n",
       "      <td>6.244998</td>\n",
       "      <td>11.704700</td>\n",
       "      <td>22.494444</td>\n",
       "      <td>0.164659</td>\n",
       "      <td>8.306624</td>\n",
       "      <td>22.912878</td>\n",
       "      <td>-0.814186</td>\n",
       "      <td>3.872983</td>\n",
       "      <td>7.874008</td>\n",
       "      <td>0.336289</td>\n",
       "    </tr>\n",
       "    <tr>\n",
       "      <th>16</th>\n",
       "      <td>0.278918</td>\n",
       "      <td>75.039989</td>\n",
       "      <td>38.236109</td>\n",
       "      <td>17.088007</td>\n",
       "      <td>5.196152</td>\n",
       "      <td>11.832160</td>\n",
       "      <td>21.470911</td>\n",
       "      <td>0.715823</td>\n",
       "      <td>9.899495</td>\n",
       "      <td>24.413111</td>\n",
       "      <td>-1.866003</td>\n",
       "      <td>3.605551</td>\n",
       "      <td>7.348469</td>\n",
       "      <td>1.691063</td>\n",
       "    </tr>\n",
       "    <tr>\n",
       "      <th>17</th>\n",
       "      <td>0.135665</td>\n",
       "      <td>74.101282</td>\n",
       "      <td>36.619667</td>\n",
       "      <td>16.492423</td>\n",
       "      <td>5.477226</td>\n",
       "      <td>13.076697</td>\n",
       "      <td>23.811762</td>\n",
       "      <td>2.774735</td>\n",
       "      <td>9.746794</td>\n",
       "      <td>24.657656</td>\n",
       "      <td>0.945394</td>\n",
       "      <td>4.582576</td>\n",
       "      <td>6.928203</td>\n",
       "      <td>1.231544</td>\n",
       "    </tr>\n",
       "    <tr>\n",
       "      <th>18</th>\n",
       "      <td>-0.531842</td>\n",
       "      <td>74.027022</td>\n",
       "      <td>37.121422</td>\n",
       "      <td>16.552945</td>\n",
       "      <td>5.830952</td>\n",
       "      <td>12.041595</td>\n",
       "      <td>20.297783</td>\n",
       "      <td>0.483882</td>\n",
       "      <td>9.165151</td>\n",
       "      <td>27.147744</td>\n",
       "      <td>-0.814186</td>\n",
       "      <td>2.645751</td>\n",
       "      <td>6.324555</td>\n",
       "      <td>1.456482</td>\n",
       "    </tr>\n",
       "    <tr>\n",
       "      <th>19</th>\n",
       "      <td>-0.860117</td>\n",
       "      <td>74.639132</td>\n",
       "      <td>37.175261</td>\n",
       "      <td>16.031220</td>\n",
       "      <td>5.196152</td>\n",
       "      <td>12.922848</td>\n",
       "      <td>22.271057</td>\n",
       "      <td>0.046001</td>\n",
       "      <td>11.575837</td>\n",
       "      <td>27.459060</td>\n",
       "      <td>-0.335037</td>\n",
       "      <td>2.828427</td>\n",
       "      <td>5.916080</td>\n",
       "      <td>-0.150871</td>\n",
       "    </tr>\n",
       "    <tr>\n",
       "      <th>20</th>\n",
       "      <td>0.024959</td>\n",
       "      <td>74.343796</td>\n",
       "      <td>36.755952</td>\n",
       "      <td>17.175564</td>\n",
       "      <td>4.123106</td>\n",
       "      <td>13.304135</td>\n",
       "      <td>22.090722</td>\n",
       "      <td>0.393690</td>\n",
       "      <td>7.141428</td>\n",
       "      <td>24.758837</td>\n",
       "      <td>-0.814186</td>\n",
       "      <td>3.741657</td>\n",
       "      <td>7.071068</td>\n",
       "      <td>-0.335379</td>\n",
       "    </tr>\n",
       "    <tr>\n",
       "      <th>21</th>\n",
       "      <td>0.383212</td>\n",
       "      <td>73.674962</td>\n",
       "      <td>36.918830</td>\n",
       "      <td>16.278821</td>\n",
       "      <td>3.605551</td>\n",
       "      <td>13.304135</td>\n",
       "      <td>23.216374</td>\n",
       "      <td>0.939616</td>\n",
       "      <td>7.549834</td>\n",
       "      <td>25.199206</td>\n",
       "      <td>0.376265</td>\n",
       "      <td>3.605551</td>\n",
       "      <td>6.403124</td>\n",
       "      <td>-0.150871</td>\n",
       "    </tr>\n",
       "    <tr>\n",
       "      <th>22</th>\n",
       "      <td>-1.511768</td>\n",
       "      <td>73.912110</td>\n",
       "      <td>37.682887</td>\n",
       "      <td>15.362291</td>\n",
       "      <td>6.324555</td>\n",
       "      <td>10.954451</td>\n",
       "      <td>19.364917</td>\n",
       "      <td>-0.967342</td>\n",
       "      <td>10.583005</td>\n",
       "      <td>26.038433</td>\n",
       "      <td>-1.866003</td>\n",
       "      <td>3.464102</td>\n",
       "      <td>5.916080</td>\n",
       "      <td>-1.613941</td>\n",
       "    </tr>\n",
       "    <tr>\n",
       "      <th>23</th>\n",
       "      <td>-2.648378</td>\n",
       "      <td>73.620649</td>\n",
       "      <td>36.891733</td>\n",
       "      <td>15.842980</td>\n",
       "      <td>4.242641</td>\n",
       "      <td>10.000000</td>\n",
       "      <td>21.702534</td>\n",
       "      <td>-1.369154</td>\n",
       "      <td>8.306624</td>\n",
       "      <td>27.568098</td>\n",
       "      <td>0.046360</td>\n",
       "      <td>3.162278</td>\n",
       "      <td>6.633250</td>\n",
       "      <td>-0.150871</td>\n",
       "    </tr>\n",
       "    <tr>\n",
       "      <th>24</th>\n",
       "      <td>-1.187665</td>\n",
       "      <td>74.357246</td>\n",
       "      <td>37.067506</td>\n",
       "      <td>16.492423</td>\n",
       "      <td>6.082763</td>\n",
       "      <td>11.401754</td>\n",
       "      <td>19.672316</td>\n",
       "      <td>0.234141</td>\n",
       "      <td>9.380832</td>\n",
       "      <td>28.442925</td>\n",
       "      <td>-0.814186</td>\n",
       "      <td>2.645751</td>\n",
       "      <td>5.916080</td>\n",
       "      <td>1.498076</td>\n",
       "    </tr>\n",
       "    <tr>\n",
       "      <th>25</th>\n",
       "      <td>-0.284759</td>\n",
       "      <td>73.382559</td>\n",
       "      <td>36.687873</td>\n",
       "      <td>16.217275</td>\n",
       "      <td>5.099020</td>\n",
       "      <td>13.674794</td>\n",
       "      <td>23.727621</td>\n",
       "      <td>0.075611</td>\n",
       "      <td>7.681146</td>\n",
       "      <td>24.392622</td>\n",
       "      <td>0.945394</td>\n",
       "      <td>4.582576</td>\n",
       "      <td>6.855655</td>\n",
       "      <td>-1.907160</td>\n",
       "    </tr>\n",
       "    <tr>\n",
       "      <th>26</th>\n",
       "      <td>0.261277</td>\n",
       "      <td>74.598928</td>\n",
       "      <td>38.548671</td>\n",
       "      <td>16.970563</td>\n",
       "      <td>6.244998</td>\n",
       "      <td>11.661904</td>\n",
       "      <td>21.377558</td>\n",
       "      <td>-0.882261</td>\n",
       "      <td>9.643651</td>\n",
       "      <td>25.039968</td>\n",
       "      <td>1.199633</td>\n",
       "      <td>4.242641</td>\n",
       "      <td>6.403124</td>\n",
       "      <td>-1.475511</td>\n",
       "    </tr>\n",
       "    <tr>\n",
       "      <th>27</th>\n",
       "      <td>0.664894</td>\n",
       "      <td>75.159830</td>\n",
       "      <td>38.652296</td>\n",
       "      <td>17.000000</td>\n",
       "      <td>6.928203</td>\n",
       "      <td>12.409674</td>\n",
       "      <td>22.135944</td>\n",
       "      <td>0.614724</td>\n",
       "      <td>11.489125</td>\n",
       "      <td>26.702060</td>\n",
       "      <td>-0.814186</td>\n",
       "      <td>3.464102</td>\n",
       "      <td>6.633250</td>\n",
       "      <td>-0.532646</td>\n",
       "    </tr>\n",
       "    <tr>\n",
       "      <th>28</th>\n",
       "      <td>-0.638787</td>\n",
       "      <td>73.871510</td>\n",
       "      <td>36.386811</td>\n",
       "      <td>16.124515</td>\n",
       "      <td>6.000000</td>\n",
       "      <td>12.165525</td>\n",
       "      <td>20.639767</td>\n",
       "      <td>0.766519</td>\n",
       "      <td>9.055385</td>\n",
       "      <td>27.037012</td>\n",
       "      <td>-0.814186</td>\n",
       "      <td>2.449490</td>\n",
       "      <td>6.403124</td>\n",
       "      <td>0.021952</td>\n",
       "    </tr>\n",
       "    <tr>\n",
       "      <th>29</th>\n",
       "      <td>0.927590</td>\n",
       "      <td>74.645830</td>\n",
       "      <td>38.457769</td>\n",
       "      <td>16.552945</td>\n",
       "      <td>7.000000</td>\n",
       "      <td>13.638182</td>\n",
       "      <td>19.697716</td>\n",
       "      <td>0.323763</td>\n",
       "      <td>9.848858</td>\n",
       "      <td>29.051678</td>\n",
       "      <td>0.376265</td>\n",
       "      <td>2.000000</td>\n",
       "      <td>6.000000</td>\n",
       "      <td>0.261351</td>\n",
       "    </tr>\n",
       "  </tbody>\n",
       "</table>\n",
       "</div>"
      ],
      "text/plain": [
       "           R         AB          H         2B        3B         HR         BB  \\\n",
       "0   0.728348  74.665923  38.691084  17.320508  6.480741  11.789826  19.570386   \n",
       "1   0.261277  73.939164  36.728735  16.643317  6.633250  12.489996  20.952327   \n",
       "2  -0.244845  73.749576  37.349699  17.406895  5.385165  11.874342  23.086793   \n",
       "3  -1.285265  74.384138  37.161808  16.124515  5.196152  11.661904  20.099751   \n",
       "4   0.135665  74.866548  38.923001  17.000000  7.000000  12.288206  21.330729   \n",
       "5   2.671271  74.222638  38.470768  17.549929  4.123106  15.231546  23.874673   \n",
       "6   1.309828  74.612331  37.376463  16.492423  4.358899  14.560220  23.537205   \n",
       "7   0.551309  74.060786  37.013511  15.684387  4.472136  14.730920  20.445048   \n",
       "8  -0.770368  74.060786  37.188708  16.673332  5.656854  12.922848  20.880613   \n",
       "9   1.088246  75.099933  38.665230  17.146428  5.744563  12.688578  21.863211   \n",
       "10  1.130858  74.236110  37.669616  16.703293  5.656854  13.114877  22.427661   \n",
       "11  0.806223  73.885046  36.918830  16.673332  5.099020  15.165751  22.045408   \n",
       "12 -0.406646  73.600272  36.482873  15.588457  4.582576  13.266499  20.856654   \n",
       "13 -0.510741  74.458042  37.134889  16.186414  4.690416  14.071247  21.863211   \n",
       "14  0.225769  74.833148  37.483330  16.643317  6.782330  12.083046  21.794495   \n",
       "15 -0.704128  74.054034  37.229021  16.970563  6.244998  11.704700  22.494444   \n",
       "16  0.278918  75.039989  38.236109  17.088007  5.196152  11.832160  21.470911   \n",
       "17  0.135665  74.101282  36.619667  16.492423  5.477226  13.076697  23.811762   \n",
       "18 -0.531842  74.027022  37.121422  16.552945  5.830952  12.041595  20.297783   \n",
       "19 -0.860117  74.639132  37.175261  16.031220  5.196152  12.922848  22.271057   \n",
       "20  0.024959  74.343796  36.755952  17.175564  4.123106  13.304135  22.090722   \n",
       "21  0.383212  73.674962  36.918830  16.278821  3.605551  13.304135  23.216374   \n",
       "22 -1.511768  73.912110  37.682887  15.362291  6.324555  10.954451  19.364917   \n",
       "23 -2.648378  73.620649  36.891733  15.842980  4.242641  10.000000  21.702534   \n",
       "24 -1.187665  74.357246  37.067506  16.492423  6.082763  11.401754  19.672316   \n",
       "25 -0.284759  73.382559  36.687873  16.217275  5.099020  13.674794  23.727621   \n",
       "26  0.261277  74.598928  38.548671  16.970563  6.244998  11.661904  21.377558   \n",
       "27  0.664894  75.159830  38.652296  17.000000  6.928203  12.409674  22.135944   \n",
       "28 -0.638787  73.871510  36.386811  16.124515  6.000000  12.165525  20.639767   \n",
       "29  0.927590  74.645830  38.457769  16.552945  7.000000  13.638182  19.697716   \n",
       "\n",
       "          SO         SB         RA        CG       SHO        SV         E  \n",
       "0  -2.570258  10.198039  25.317978 -0.335037  2.828427  7.483315 -0.335379  \n",
       "1   0.134940   8.366600  26.457513 -0.335037  3.464102  6.708204 -0.532646  \n",
       "2  -0.901197   9.273618  25.298221  2.092697  3.162278  6.164414 -1.342180  \n",
       "3  -0.189581   8.246211  26.476405  1.199633  3.000000  6.082763  0.678684  \n",
       "4   0.085489   9.110434  28.337255  1.199633  3.464102  5.916080 -0.532646  \n",
       "5  -0.957905   9.380832  25.884358  1.199633  3.162278  5.830952 -0.335379  \n",
       "6  -0.228618   7.937254  26.419690  0.046360  2.000000  6.928203  0.104285  \n",
       "7   0.807146   6.633250  26.324893 -1.866003  3.162278  6.557439 -1.613941  \n",
       "8   0.594551   9.327379  25.337719 -0.814186  3.464102  7.745967  0.261351  \n",
       "9  -0.986203   8.426150  27.440845  0.046360  3.162278  6.324555  0.408957  \n",
       "10 -0.170038  10.049876  27.073973  0.672813  3.000000  6.708204  1.578169  \n",
       "11  1.434397  11.000000  24.859606  0.672813  3.605551  6.244998 -0.636432  \n",
       "12 -0.967342   7.211103  25.980762 -0.335037  3.464102  6.782330  0.104285  \n",
       "13  0.858018   8.306624  26.944387  0.945394  3.464102  6.708204  0.184050  \n",
       "14 -1.257805   8.831761  27.000000  0.672813  3.872983  5.291503  1.829316  \n",
       "15  0.164659   8.306624  22.912878 -0.814186  3.872983  7.874008  0.336289  \n",
       "16  0.715823   9.899495  24.413111 -1.866003  3.605551  7.348469  1.691063  \n",
       "17  2.774735   9.746794  24.657656  0.945394  4.582576  6.928203  1.231544  \n",
       "18  0.483882   9.165151  27.147744 -0.814186  2.645751  6.324555  1.456482  \n",
       "19  0.046001  11.575837  27.459060 -0.335037  2.828427  5.916080 -0.150871  \n",
       "20  0.393690   7.141428  24.758837 -0.814186  3.741657  7.071068 -0.335379  \n",
       "21  0.939616   7.549834  25.199206  0.376265  3.605551  6.403124 -0.150871  \n",
       "22 -0.967342  10.583005  26.038433 -1.866003  3.464102  5.916080 -1.613941  \n",
       "23 -1.369154   8.306624  27.568098  0.046360  3.162278  6.633250 -0.150871  \n",
       "24  0.234141   9.380832  28.442925 -0.814186  2.645751  5.916080  1.498076  \n",
       "25  0.075611   7.681146  24.392622  0.945394  4.582576  6.855655 -1.907160  \n",
       "26 -0.882261   9.643651  25.039968  1.199633  4.242641  6.403124 -1.475511  \n",
       "27  0.614724  11.489125  26.702060 -0.814186  3.464102  6.633250 -0.532646  \n",
       "28  0.766519   9.055385  27.037012 -0.814186  2.449490  6.403124  0.021952  \n",
       "29  0.323763   9.848858  29.051678  0.376265  2.000000  6.000000  0.261351  "
      ]
     },
     "execution_count": 49,
     "metadata": {},
     "output_type": "execute_result"
    }
   ],
   "source": [
    "X"
   ]
  },
  {
   "cell_type": "code",
   "execution_count": 50,
   "id": "11541da5",
   "metadata": {},
   "outputs": [
    {
     "data": {
      "text/html": [
       "<div>\n",
       "<style scoped>\n",
       "    .dataframe tbody tr th:only-of-type {\n",
       "        vertical-align: middle;\n",
       "    }\n",
       "\n",
       "    .dataframe tbody tr th {\n",
       "        vertical-align: top;\n",
       "    }\n",
       "\n",
       "    .dataframe thead th {\n",
       "        text-align: right;\n",
       "    }\n",
       "</style>\n",
       "<table border=\"1\" class=\"dataframe\">\n",
       "  <thead>\n",
       "    <tr style=\"text-align: right;\">\n",
       "      <th></th>\n",
       "      <th>feature</th>\n",
       "      <th>VIF</th>\n",
       "    </tr>\n",
       "  </thead>\n",
       "  <tbody>\n",
       "    <tr>\n",
       "      <th>0</th>\n",
       "      <td>R</td>\n",
       "      <td>8.917128</td>\n",
       "    </tr>\n",
       "    <tr>\n",
       "      <th>1</th>\n",
       "      <td>AB</td>\n",
       "      <td>25320.495033</td>\n",
       "    </tr>\n",
       "    <tr>\n",
       "      <th>2</th>\n",
       "      <td>H</td>\n",
       "      <td>16034.399818</td>\n",
       "    </tr>\n",
       "    <tr>\n",
       "      <th>3</th>\n",
       "      <td>2B</td>\n",
       "      <td>3266.589511</td>\n",
       "    </tr>\n",
       "    <tr>\n",
       "      <th>4</th>\n",
       "      <td>3B</td>\n",
       "      <td>111.625384</td>\n",
       "    </tr>\n",
       "    <tr>\n",
       "      <th>5</th>\n",
       "      <td>HR</td>\n",
       "      <td>814.456172</td>\n",
       "    </tr>\n",
       "    <tr>\n",
       "      <th>6</th>\n",
       "      <td>BB</td>\n",
       "      <td>917.649056</td>\n",
       "    </tr>\n",
       "    <tr>\n",
       "      <th>7</th>\n",
       "      <td>SO</td>\n",
       "      <td>2.140857</td>\n",
       "    </tr>\n",
       "    <tr>\n",
       "      <th>8</th>\n",
       "      <td>SB</td>\n",
       "      <td>110.547799</td>\n",
       "    </tr>\n",
       "    <tr>\n",
       "      <th>9</th>\n",
       "      <td>RA</td>\n",
       "      <td>1882.979152</td>\n",
       "    </tr>\n",
       "    <tr>\n",
       "      <th>10</th>\n",
       "      <td>CG</td>\n",
       "      <td>2.390273</td>\n",
       "    </tr>\n",
       "    <tr>\n",
       "      <th>11</th>\n",
       "      <td>SHO</td>\n",
       "      <td>91.413561</td>\n",
       "    </tr>\n",
       "    <tr>\n",
       "      <th>12</th>\n",
       "      <td>SV</td>\n",
       "      <td>327.577056</td>\n",
       "    </tr>\n",
       "    <tr>\n",
       "      <th>13</th>\n",
       "      <td>E</td>\n",
       "      <td>1.836470</td>\n",
       "    </tr>\n",
       "  </tbody>\n",
       "</table>\n",
       "</div>"
      ],
      "text/plain": [
       "   feature           VIF\n",
       "0        R      8.917128\n",
       "1       AB  25320.495033\n",
       "2        H  16034.399818\n",
       "3       2B   3266.589511\n",
       "4       3B    111.625384\n",
       "5       HR    814.456172\n",
       "6       BB    917.649056\n",
       "7       SO      2.140857\n",
       "8       SB    110.547799\n",
       "9       RA   1882.979152\n",
       "10      CG      2.390273\n",
       "11     SHO     91.413561\n",
       "12      SV    327.577056\n",
       "13       E      1.836470"
      ]
     },
     "execution_count": 50,
     "metadata": {},
     "output_type": "execute_result"
    }
   ],
   "source": [
    "vif_data = pd.DataFrame()\n",
    "vif_data[\"feature\"] = X.columns\n",
    "vif_data[\"VIF\"] = [variance_inflation_factor(X.values, i)\n",
    "                          for i in range(len(X.columns))]\n",
    "\n",
    "vif_data"
   ]
  },
  {
   "cell_type": "code",
   "execution_count": 51,
   "id": "29306b63",
   "metadata": {},
   "outputs": [],
   "source": [
    "#Even though AB and H has a high range of multicollearity, but these two cannot be dropped as they have a positive relation with W"
   ]
  },
  {
   "cell_type": "code",
   "execution_count": 52,
   "id": "69687359",
   "metadata": {},
   "outputs": [
    {
     "data": {
      "image/png": "[encoded data removed]",
      "text/plain": [
       "<Figure size 720x576 with 1 Axes>"
      ]
     },
     "metadata": {
      "needs_background": "light"
     },
     "output_type": "display_data"
    }
   ],
   "source": [
    "X.plot(kind='box',figsize=(10,8),layout=(6,6))\n",
    "plt.show() #checking for oultiers"
   ]
  },
  {
   "cell_type": "code",
   "execution_count": 53,
   "id": "2ebbcc1d",
   "metadata": {},
   "outputs": [],
   "source": [
    "#In the above observation- 'R','SHO' and 'E' has outliers"
   ]
  },
  {
   "cell_type": "code",
   "execution_count": 54,
   "id": "347bb9e3",
   "metadata": {},
   "outputs": [],
   "source": [
    "from scipy.stats import zscore"
   ]
  },
  {
   "cell_type": "code",
   "execution_count": 59,
   "id": "7922369b",
   "metadata": {},
   "outputs": [
    {
     "data": {
      "text/plain": [
       "R      False\n",
       "AB     False\n",
       "H      False\n",
       "2B     False\n",
       "3B     False\n",
       "HR     False\n",
       "BB     False\n",
       "SO     False\n",
       "SB     False\n",
       "RA     False\n",
       "CG     False\n",
       "SHO    False\n",
       "SV     False\n",
       "E      False\n",
       "dtype: bool"
      ]
     },
     "execution_count": 59,
     "metadata": {},
     "output_type": "execute_result"
    }
   ],
   "source": [
    "(np.abs(zscore(X)>3)).all()"
   ]
  },
  {
   "cell_type": "code",
   "execution_count": 58,
   "id": "ac66ff82",
   "metadata": {},
   "outputs": [
    {
     "data": {
      "text/plain": [
       "(array([], dtype=int64), array([], dtype=int64))"
      ]
     },
     "execution_count": 58,
     "metadata": {},
     "output_type": "execute_result"
    }
   ],
   "source": [
    "index = np.where(np.abs(zscore(X))>3)\n",
    "index"
   ]
  },
  {
   "cell_type": "code",
   "execution_count": 60,
   "id": "6d3a8262",
   "metadata": {},
   "outputs": [],
   "source": [
    "#As per zscore there is no value which is higher than 3, hence outliers does not need to be removed"
   ]
  },
  {
   "cell_type": "code",
   "execution_count": 61,
   "id": "53bdda7e",
   "metadata": {},
   "outputs": [],
   "source": [
    "Scalar=StandardScaler() #scaling the data"
   ]
  },
  {
   "cell_type": "code",
   "execution_count": 62,
   "id": "51d95d57",
   "metadata": {},
   "outputs": [],
   "source": [
    "X_Scaled=Scalar.fit_transform(X)\n",
    "#scaling the features"
   ]
  },
  {
   "cell_type": "markdown",
   "id": "86f5f2fa",
   "metadata": {},
   "source": [
    "# Linear Regression"
   ]
  },
  {
   "cell_type": "code",
   "execution_count": 81,
   "id": "764a7787",
   "metadata": {},
   "outputs": [],
   "source": [
    "LR=LinearRegression()"
   ]
  },
  {
   "cell_type": "code",
   "execution_count": 82,
   "id": "3ece28ca",
   "metadata": {},
   "outputs": [
    {
     "name": "stdout",
     "output_type": "stream",
     "text": [
      "At random state 0 the testing accurancy is:- 44.99488315263051\n",
      "/n\n",
      "At random state 1 the testing accurancy is:- 76.97240618567768\n",
      "/n\n",
      "At random state 2 the testing accurancy is:- 14.952831502259734\n",
      "/n\n",
      "At random state 3 the testing accurancy is:- 61.778255830474095\n",
      "/n\n",
      "At random state 4 the testing accurancy is:- 42.60580522770423\n",
      "/n\n",
      "At random state 5 the testing accurancy is:- 67.38898755139545\n",
      "/n\n",
      "At random state 6 the testing accurancy is:- 85.61947792430084\n",
      "/n\n",
      "At random state 7 the testing accurancy is:- -0.7018846629127662\n",
      "/n\n",
      "At random state 8 the testing accurancy is:- 56.93967938983802\n",
      "/n\n",
      "At random state 9 the testing accurancy is:- 48.083001756349674\n",
      "/n\n",
      "At random state 10 the testing accurancy is:- 37.617852839851174\n",
      "/n\n",
      "At random state 11 the testing accurancy is:- 2.8217973001988916\n",
      "/n\n",
      "At random state 12 the testing accurancy is:- 0.7067354228794565\n",
      "/n\n",
      "At random state 13 the testing accurancy is:- 70.35544251418008\n",
      "/n\n",
      "At random state 14 the testing accurancy is:- 80.3518485672771\n",
      "/n\n",
      "At random state 15 the testing accurancy is:- 48.41864146337019\n",
      "/n\n",
      "At random state 16 the testing accurancy is:- 68.22830380165028\n",
      "/n\n",
      "At random state 17 the testing accurancy is:- -4.141352143066612\n",
      "/n\n",
      "At random state 18 the testing accurancy is:- 79.42160345344963\n",
      "/n\n",
      "At random state 19 the testing accurancy is:- 77.34315589861211\n",
      "/n\n",
      "At random state 20 the testing accurancy is:- 48.354582942753865\n",
      "/n\n",
      "At random state 21 the testing accurancy is:- 71.72377811022785\n",
      "/n\n",
      "At random state 22 the testing accurancy is:- 56.05369479468097\n",
      "/n\n",
      "At random state 23 the testing accurancy is:- 23.573008313681363\n",
      "/n\n",
      "At random state 24 the testing accurancy is:- -312.5106975370237\n",
      "/n\n",
      "At random state 25 the testing accurancy is:- 88.55971949215309\n",
      "/n\n",
      "At random state 26 the testing accurancy is:- -50.77176736848013\n",
      "/n\n",
      "At random state 27 the testing accurancy is:- 59.75636189616312\n",
      "/n\n",
      "At random state 28 the testing accurancy is:- 13.581710452197438\n",
      "/n\n",
      "At random state 29 the testing accurancy is:- 74.53472423279646\n",
      "/n\n",
      "At random state 30 the testing accurancy is:- 70.96879768701166\n",
      "/n\n",
      "At random state 31 the testing accurancy is:- -23.60615349449573\n",
      "/n\n",
      "At random state 32 the testing accurancy is:- 5.201957109626254\n",
      "/n\n",
      "At random state 33 the testing accurancy is:- 60.20866072416477\n",
      "/n\n",
      "At random state 34 the testing accurancy is:- 74.5571603505511\n",
      "/n\n",
      "At random state 35 the testing accurancy is:- 49.61865600291798\n",
      "/n\n",
      "At random state 36 the testing accurancy is:- 74.41123820641475\n",
      "/n\n",
      "At random state 37 the testing accurancy is:- 75.0564194534123\n",
      "/n\n",
      "At random state 38 the testing accurancy is:- 17.03433406562783\n",
      "/n\n",
      "At random state 39 the testing accurancy is:- 79.74061252137227\n",
      "/n\n",
      "At random state 40 the testing accurancy is:- 56.97980872575299\n",
      "/n\n",
      "At random state 41 the testing accurancy is:- 1.8653216013328144\n",
      "/n\n",
      "At random state 42 the testing accurancy is:- 76.15902842913742\n",
      "/n\n",
      "At random state 43 the testing accurancy is:- -1.4589007392363795\n",
      "/n\n",
      "At random state 44 the testing accurancy is:- 71.80992553160365\n",
      "/n\n",
      "At random state 45 the testing accurancy is:- 64.58219202228874\n",
      "/n\n",
      "At random state 46 the testing accurancy is:- 63.278323863761464\n",
      "/n\n",
      "At random state 47 the testing accurancy is:- 86.34654990270083\n",
      "/n\n",
      "At random state 48 the testing accurancy is:- 87.07860597501373\n",
      "/n\n",
      "At random state 49 the testing accurancy is:- 63.95175880568669\n",
      "/n\n",
      "At random state 50 the testing accurancy is:- 61.063737197115486\n",
      "/n\n",
      "At random state 51 the testing accurancy is:- 59.28184443958222\n",
      "/n\n",
      "At random state 52 the testing accurancy is:- 40.29817117804219\n",
      "/n\n",
      "At random state 53 the testing accurancy is:- 22.507858010264982\n",
      "/n\n",
      "At random state 54 the testing accurancy is:- 87.37371539853774\n",
      "/n\n",
      "At random state 55 the testing accurancy is:- 65.97718628659453\n",
      "/n\n",
      "At random state 56 the testing accurancy is:- 56.011253337630215\n",
      "/n\n",
      "At random state 57 the testing accurancy is:- -16.948503036987496\n",
      "/n\n",
      "At random state 58 the testing accurancy is:- -9.979903901616716\n",
      "/n\n",
      "At random state 59 the testing accurancy is:- 2.8015555539010806\n",
      "/n\n",
      "At random state 60 the testing accurancy is:- 29.356360129093385\n",
      "/n\n",
      "At random state 61 the testing accurancy is:- 18.24518511184975\n",
      "/n\n",
      "At random state 62 the testing accurancy is:- 79.68863598451502\n",
      "/n\n",
      "At random state 63 the testing accurancy is:- 74.30479399378834\n",
      "/n\n",
      "At random state 64 the testing accurancy is:- 76.70780740675137\n",
      "/n\n",
      "At random state 65 the testing accurancy is:- 61.2805931079605\n",
      "/n\n",
      "At random state 66 the testing accurancy is:- -3.5311444863480146\n",
      "/n\n",
      "At random state 67 the testing accurancy is:- 70.29507356786765\n",
      "/n\n",
      "At random state 68 the testing accurancy is:- 73.82566137575395\n",
      "/n\n",
      "At random state 69 the testing accurancy is:- 84.95882090274858\n",
      "/n\n",
      "At random state 70 the testing accurancy is:- 46.732486859260135\n",
      "/n\n",
      "At random state 71 the testing accurancy is:- 30.737984643578244\n",
      "/n\n",
      "At random state 72 the testing accurancy is:- 58.16070454982925\n",
      "/n\n",
      "At random state 73 the testing accurancy is:- 88.4129448464275\n",
      "/n\n",
      "At random state 74 the testing accurancy is:- -38.60053144699669\n",
      "/n\n",
      "At random state 75 the testing accurancy is:- 68.56833266512328\n",
      "/n\n",
      "At random state 76 the testing accurancy is:- 35.558458661785394\n",
      "/n\n",
      "At random state 77 the testing accurancy is:- -46.37049643504927\n",
      "/n\n",
      "At random state 78 the testing accurancy is:- 65.55122987021934\n",
      "/n\n",
      "At random state 79 the testing accurancy is:- 44.82098647164976\n",
      "/n\n",
      "At random state 80 the testing accurancy is:- 33.31204393711291\n",
      "/n\n",
      "At random state 81 the testing accurancy is:- -1067.672381899185\n",
      "/n\n",
      "At random state 82 the testing accurancy is:- 64.30605731780035\n",
      "/n\n",
      "At random state 83 the testing accurancy is:- 87.89440966599545\n",
      "/n\n",
      "At random state 84 the testing accurancy is:- 48.855452967107794\n",
      "/n\n",
      "At random state 85 the testing accurancy is:- 40.14296846307383\n",
      "/n\n",
      "At random state 86 the testing accurancy is:- 66.85226035486166\n",
      "/n\n",
      "At random state 87 the testing accurancy is:- 25.494486504306437\n",
      "/n\n",
      "At random state 88 the testing accurancy is:- -119.29722918753436\n",
      "/n\n",
      "At random state 89 the testing accurancy is:- 44.36319799997727\n",
      "/n\n",
      "At random state 90 the testing accurancy is:- 65.33816252118143\n",
      "/n\n",
      "At random state 91 the testing accurancy is:- 86.04433827724732\n",
      "/n\n",
      "At random state 92 the testing accurancy is:- 74.8665397714418\n",
      "/n\n",
      "At random state 93 the testing accurancy is:- 69.9386863255486\n",
      "/n\n",
      "At random state 94 the testing accurancy is:- -69.96767991197459\n",
      "/n\n",
      "At random state 95 the testing accurancy is:- -5.927950928339953\n",
      "/n\n",
      "At random state 96 the testing accurancy is:- 36.104499978347015\n",
      "/n\n",
      "At random state 97 the testing accurancy is:- 39.90925346447683\n",
      "/n\n",
      "At random state 98 the testing accurancy is:- 44.918156967544085\n",
      "/n\n",
      "At random state 99 the testing accurancy is:- 83.42003890073816\n",
      "/n\n"
     ]
    }
   ],
   "source": [
    "for i in range (0,100):\n",
    "    X_train,X_test,y_train,y_test=train_test_split(X_Scaled,Y,test_size=0.20,random_state=i)\n",
    "    LR.fit(X_train,y_train)\n",
    "    pred_test=LR.predict(X_test)\n",
    "    print('At random state',i,'the testing accurancy is:-',r2_score(y_test,pred_test)*100)\n",
    "    print(\"/n\")"
   ]
  },
  {
   "cell_type": "code",
   "execution_count": 83,
   "id": "aefdc884",
   "metadata": {},
   "outputs": [],
   "source": [
    "X_train,X_test,y_train,y_test=train_test_split(X_Scaled,Y,test_size=0.20,random_state=25)\n",
    "LR.fit(X_train,y_train) # At random state 25, score is the highest\n",
    "pred_test=LR.predict(X_test)"
   ]
  },
  {
   "cell_type": "code",
   "execution_count": 84,
   "id": "d7539dd5",
   "metadata": {},
   "outputs": [
    {
     "data": {
      "text/plain": [
       "88.55971949215309"
      ]
     },
     "execution_count": 84,
     "metadata": {},
     "output_type": "execute_result"
    }
   ],
   "source": [
    "LR_Score= r2_score(y_test,pred_test)*100\n",
    "LR_Score"
   ]
  },
  {
   "cell_type": "markdown",
   "id": "40a0522e",
   "metadata": {},
   "source": [
    "# Random Forest Regressor"
   ]
  },
  {
   "cell_type": "code",
   "execution_count": 70,
   "id": "e7e30008",
   "metadata": {},
   "outputs": [],
   "source": [
    "RF=RandomForestRegressor()"
   ]
  },
  {
   "cell_type": "code",
   "execution_count": 92,
   "id": "3dd74d5a",
   "metadata": {},
   "outputs": [
    {
     "name": "stdout",
     "output_type": "stream",
     "text": [
      "At random state 0 the testing accurancy is:- 7.3076284246576195\n",
      "/n\n",
      "At random state 1 the testing accurancy is:- 61.16955441640377\n",
      "/n\n",
      "At random state 2 the testing accurancy is:- 37.49275453827936\n",
      "/n\n",
      "At random state 3 the testing accurancy is:- 57.65630343377713\n",
      "/n\n",
      "At random state 4 the testing accurancy is:- 38.54051612903222\n",
      "/n\n",
      "At random state 5 the testing accurancy is:- 63.4148053855569\n",
      "/n\n",
      "At random state 6 the testing accurancy is:- 62.415372950819645\n",
      "/n\n",
      "At random state 7 the testing accurancy is:- 17.711645885286753\n",
      "/n\n",
      "At random state 8 the testing accurancy is:- 52.278762499999964\n",
      "/n\n",
      "At random state 9 the testing accurancy is:- 18.597687861271638\n",
      "/n\n",
      "At random state 10 the testing accurancy is:- 29.115999999999932\n",
      "/n\n",
      "At random state 11 the testing accurancy is:- 38.19552906110284\n",
      "/n\n",
      "At random state 12 the testing accurancy is:- -13.903171912833013\n",
      "/n\n",
      "At random state 13 the testing accurancy is:- 26.966820000000023\n",
      "/n\n",
      "At random state 14 the testing accurancy is:- 53.05403192584968\n",
      "/n\n",
      "At random state 15 the testing accurancy is:- 41.220042771599616\n",
      "/n\n",
      "At random state 16 the testing accurancy is:- 28.62544737879381\n",
      "/n\n",
      "At random state 17 the testing accurancy is:- 0.812335164835154\n",
      "/n\n",
      "At random state 18 the testing accurancy is:- 33.733419188667156\n",
      "/n\n",
      "At random state 19 the testing accurancy is:- 70.6398350923483\n",
      "/n\n",
      "At random state 20 the testing accurancy is:- 7.2945833333332715\n",
      "/n\n",
      "At random state 21 the testing accurancy is:- 36.45347116430906\n",
      "/n\n",
      "At random state 22 the testing accurancy is:- 9.979422535211258\n",
      "/n\n",
      "At random state 23 the testing accurancy is:- -18.932047328791658\n",
      "/n\n",
      "At random state 24 the testing accurancy is:- -609.7913216957605\n",
      "/n\n",
      "At random state 25 the testing accurancy is:- 53.759806042521454\n",
      "/n\n",
      "At random state 26 the testing accurancy is:- 77.7114513556619\n",
      "/n\n",
      "At random state 27 the testing accurancy is:- 44.39447958243786\n",
      "/n\n",
      "At random state 28 the testing accurancy is:- 2.253027638190974\n",
      "/n\n",
      "At random state 29 the testing accurancy is:- 72.26142920353982\n",
      "/n\n",
      "At random state 30 the testing accurancy is:- 51.247730192719466\n",
      "/n\n",
      "At random state 31 the testing accurancy is:- 35.21144060657121\n",
      "/n\n",
      "At random state 32 the testing accurancy is:- 7.605816876122029\n",
      "/n\n",
      "At random state 33 the testing accurancy is:- 50.03082512315268\n",
      "/n\n",
      "At random state 34 the testing accurancy is:- 39.43756154747946\n",
      "/n\n",
      "At random state 35 the testing accurancy is:- 38.65097402597405\n",
      "/n\n",
      "At random state 36 the testing accurancy is:- -0.18990308370046005\n",
      "/n\n",
      "At random state 37 the testing accurancy is:- 11.259801886792475\n",
      "/n\n",
      "At random state 38 the testing accurancy is:- 10.597467532467563\n",
      "/n\n",
      "At random state 39 the testing accurancy is:- 40.97294561933532\n",
      "/n\n",
      "At random state 40 the testing accurancy is:- 44.32679711637489\n",
      "/n\n",
      "At random state 41 the testing accurancy is:- 1.3581483069009748\n",
      "/n\n",
      "At random state 42 the testing accurancy is:- 53.011120962634564\n",
      "/n\n",
      "At random state 43 the testing accurancy is:- -17.719318885448885\n",
      "/n\n",
      "At random state 44 the testing accurancy is:- 66.58818291700241\n",
      "/n\n",
      "At random state 45 the testing accurancy is:- 41.60699095022624\n",
      "/n\n",
      "At random state 46 the testing accurancy is:- 31.838280939116558\n",
      "/n\n",
      "At random state 47 the testing accurancy is:- 46.10497572815532\n",
      "/n\n",
      "At random state 48 the testing accurancy is:- 70.12165898617509\n",
      "/n\n",
      "At random state 49 the testing accurancy is:- 57.8489430441443\n",
      "/n\n",
      "At random state 50 the testing accurancy is:- 59.59178669324696\n",
      "/n\n",
      "At random state 51 the testing accurancy is:- -3.040135064935212\n",
      "/n\n",
      "At random state 52 the testing accurancy is:- 33.80072847682113\n",
      "/n\n",
      "At random state 53 the testing accurancy is:- 8.219159369527073\n",
      "/n\n",
      "At random state 54 the testing accurancy is:- 61.904168165467624\n",
      "/n\n",
      "At random state 55 the testing accurancy is:- 48.24631946871724\n",
      "/n\n",
      "At random state 56 the testing accurancy is:- 34.31519804400983\n",
      "/n\n",
      "At random state 57 the testing accurancy is:- 32.54052779337459\n",
      "/n\n",
      "At random state 58 the testing accurancy is:- -6.395079155672789\n",
      "/n\n",
      "At random state 59 the testing accurancy is:- -9.026921815199596\n",
      "/n\n",
      "At random state 60 the testing accurancy is:- 69.13417604912996\n",
      "/n\n",
      "At random state 61 the testing accurancy is:- 40.02986768597472\n",
      "/n\n",
      "At random state 62 the testing accurancy is:- 42.975212355212356\n",
      "/n\n",
      "At random state 63 the testing accurancy is:- 34.10401767778222\n",
      "/n\n",
      "At random state 64 the testing accurancy is:- 48.55168609168607\n",
      "/n\n",
      "At random state 65 the testing accurancy is:- 53.36290808240884\n",
      "/n\n",
      "At random state 66 the testing accurancy is:- -7.547884972170715\n",
      "/n\n",
      "At random state 67 the testing accurancy is:- 36.587877511961764\n",
      "/n\n",
      "At random state 68 the testing accurancy is:- 28.124354338843006\n",
      "/n\n",
      "At random state 69 the testing accurancy is:- 57.30423830250272\n",
      "/n\n",
      "At random state 70 the testing accurancy is:- -14.30285966460727\n",
      "/n\n",
      "At random state 71 the testing accurancy is:- 90.19276315789473\n",
      "/n\n",
      "At random state 72 the testing accurancy is:- 61.9776382380506\n",
      "/n\n",
      "At random state 73 the testing accurancy is:- 67.48669448715133\n",
      "/n\n",
      "At random state 74 the testing accurancy is:- 51.52802109181136\n",
      "/n\n",
      "At random state 75 the testing accurancy is:- 40.61580627099669\n",
      "/n\n",
      "At random state 76 the testing accurancy is:- 68.53372864716279\n",
      "/n\n",
      "At random state 77 the testing accurancy is:- -87.62642857142848\n",
      "/n\n",
      "At random state 78 the testing accurancy is:- 47.714248466257715\n",
      "/n\n",
      "At random state 79 the testing accurancy is:- 50.42983362521893\n",
      "/n\n",
      "At random state 80 the testing accurancy is:- 56.57499103407051\n",
      "/n\n",
      "At random state 81 the testing accurancy is:- -258.7617959183674\n",
      "/n\n",
      "At random state 82 the testing accurancy is:- 61.14870709382152\n",
      "/n\n",
      "At random state 83 the testing accurancy is:- 57.49960854092525\n",
      "/n\n",
      "At random state 84 the testing accurancy is:- 34.22131859756101\n",
      "/n\n",
      "At random state 85 the testing accurancy is:- 63.801006358860946\n",
      "/n\n",
      "At random state 86 the testing accurancy is:- 49.09145833333337\n",
      "/n\n",
      "At random state 87 the testing accurancy is:- 76.10188023180939\n",
      "/n\n",
      "At random state 88 the testing accurancy is:- -210.7720970042797\n",
      "/n\n",
      "At random state 89 the testing accurancy is:- 59.07837974683542\n",
      "/n\n",
      "At random state 90 the testing accurancy is:- 53.699423023578355\n",
      "/n\n",
      "At random state 91 the testing accurancy is:- 24.654266333452323\n",
      "/n\n",
      "At random state 92 the testing accurancy is:- 56.514043252121525\n",
      "/n\n",
      "At random state 93 the testing accurancy is:- 86.25994395142456\n",
      "/n\n",
      "At random state 94 the testing accurancy is:- 54.31487012987013\n",
      "/n\n",
      "At random state 95 the testing accurancy is:- 26.77139447236174\n",
      "/n\n",
      "At random state 96 the testing accurancy is:- 38.1170238095238\n",
      "/n\n",
      "At random state 97 the testing accurancy is:- 65.77821705426359\n",
      "/n\n",
      "At random state 98 the testing accurancy is:- 26.322298273155496\n",
      "/n\n",
      "At random state 99 the testing accurancy is:- 70.50888661062129\n",
      "/n\n"
     ]
    }
   ],
   "source": [
    "for i in range (0,100):\n",
    "    X_train,X_test,y_train,y_test=train_test_split(X_Scaled,Y,test_size=0.20,random_state=i)\n",
    "    RF.fit(X_train,y_train)\n",
    "    pred_test=RF.predict(X_test)\n",
    "    print('At random state',i,'the testing accurancy is:-',r2_score(y_test,pred_test)*100)\n",
    "    print(\"/n\")"
   ]
  },
  {
   "cell_type": "code",
   "execution_count": 93,
   "id": "47a886d9",
   "metadata": {},
   "outputs": [],
   "source": [
    "X_train,X_test,y_train,y_test=train_test_split(X_Scaled,Y,test_size=0.20,random_state=71)\n",
    "RF.fit(X_train,y_train) # At random state 71, score is the highest\n",
    "pred_test=RF.predict(X_test)"
   ]
  },
  {
   "cell_type": "code",
   "execution_count": 95,
   "id": "cab8c8e2",
   "metadata": {},
   "outputs": [
    {
     "data": {
      "text/plain": [
       "75.33312030075187"
      ]
     },
     "execution_count": 95,
     "metadata": {},
     "output_type": "execute_result"
    }
   ],
   "source": [
    "RF_Score= r2_score(y_test,pred_test)*100\n",
    "RF_Score"
   ]
  },
  {
   "cell_type": "markdown",
   "id": "2f5fa144",
   "metadata": {},
   "source": [
    "# Gradient Boosting"
   ]
  },
  {
   "cell_type": "code",
   "execution_count": 75,
   "id": "566ce34e",
   "metadata": {},
   "outputs": [],
   "source": [
    "GB=GradientBoostingRegressor()"
   ]
  },
  {
   "cell_type": "code",
   "execution_count": 76,
   "id": "beeb46ca",
   "metadata": {},
   "outputs": [
    {
     "name": "stdout",
     "output_type": "stream",
     "text": [
      "At random state 0 the testing accurancy is:- -31.826093293714397\n",
      "/n\n",
      "At random state 1 the testing accurancy is:- 60.99387039306839\n",
      "/n\n",
      "At random state 2 the testing accurancy is:- 39.35154356735653\n",
      "/n\n",
      "At random state 3 the testing accurancy is:- 45.560433243463116\n",
      "/n\n",
      "At random state 4 the testing accurancy is:- 16.757569756639867\n",
      "/n\n",
      "At random state 5 the testing accurancy is:- 60.02329040898018\n",
      "/n\n",
      "At random state 6 the testing accurancy is:- 55.468504679697105\n",
      "/n\n",
      "At random state 7 the testing accurancy is:- 15.863453241837144\n",
      "/n\n",
      "At random state 8 the testing accurancy is:- 50.16119926090023\n",
      "/n\n",
      "At random state 9 the testing accurancy is:- -50.107712348664826\n",
      "/n\n",
      "At random state 10 the testing accurancy is:- -101.13925312865742\n",
      "/n\n",
      "At random state 11 the testing accurancy is:- -41.68264544766265\n",
      "/n\n",
      "At random state 12 the testing accurancy is:- -66.18692957997567\n",
      "/n\n",
      "At random state 13 the testing accurancy is:- -25.054540036586758\n",
      "/n\n",
      "At random state 14 the testing accurancy is:- 33.899863046404775\n",
      "/n\n",
      "At random state 15 the testing accurancy is:- 26.32482458245635\n",
      "/n\n",
      "At random state 16 the testing accurancy is:- -21.901122066891165\n",
      "/n\n",
      "At random state 17 the testing accurancy is:- -3.4931048913764196\n",
      "/n\n",
      "At random state 18 the testing accurancy is:- 28.45476858966106\n",
      "/n\n",
      "At random state 19 the testing accurancy is:- 45.56847370707015\n",
      "/n\n",
      "At random state 20 the testing accurancy is:- -27.628758780140327\n",
      "/n\n",
      "At random state 21 the testing accurancy is:- 29.618092023445886\n",
      "/n\n",
      "At random state 22 the testing accurancy is:- -13.852707390581065\n",
      "/n\n",
      "At random state 23 the testing accurancy is:- -63.44800651270219\n",
      "/n\n",
      "At random state 24 the testing accurancy is:- -1124.6499663886889\n",
      "/n\n",
      "At random state 25 the testing accurancy is:- 46.12057551539236\n",
      "/n\n",
      "At random state 26 the testing accurancy is:- 27.30581256902188\n",
      "/n\n",
      "At random state 27 the testing accurancy is:- -4.9047004021742335\n",
      "/n\n",
      "At random state 28 the testing accurancy is:- -9.00437989645695\n",
      "/n\n",
      "At random state 29 the testing accurancy is:- 73.54676343870314\n",
      "/n\n",
      "At random state 30 the testing accurancy is:- 41.006079771818484\n",
      "/n\n",
      "At random state 31 the testing accurancy is:- 11.87245631544549\n",
      "/n\n",
      "At random state 32 the testing accurancy is:- 5.259100092554004\n",
      "/n\n",
      "At random state 33 the testing accurancy is:- 24.39244617789249\n",
      "/n\n",
      "At random state 34 the testing accurancy is:- 11.189649454880591\n",
      "/n\n",
      "At random state 35 the testing accurancy is:- 57.09297428297915\n",
      "/n\n",
      "At random state 36 the testing accurancy is:- -22.42573478975196\n",
      "/n\n",
      "At random state 37 the testing accurancy is:- -43.2331938161405\n",
      "/n\n",
      "At random state 38 the testing accurancy is:- -60.75791543097786\n",
      "/n\n",
      "At random state 39 the testing accurancy is:- 32.38545561481217\n",
      "/n\n",
      "At random state 40 the testing accurancy is:- 43.006440392234424\n",
      "/n\n",
      "At random state 41 the testing accurancy is:- -34.41885521151262\n",
      "/n\n",
      "At random state 42 the testing accurancy is:- 57.4853857160782\n",
      "/n\n",
      "At random state 43 the testing accurancy is:- -142.78389920451312\n",
      "/n\n",
      "At random state 44 the testing accurancy is:- 34.08055964330352\n",
      "/n\n",
      "At random state 45 the testing accurancy is:- 7.423980978158006\n",
      "/n\n",
      "At random state 46 the testing accurancy is:- -18.29957453118036\n",
      "/n\n",
      "At random state 47 the testing accurancy is:- 54.61752893052913\n",
      "/n\n",
      "At random state 48 the testing accurancy is:- 50.34272668507983\n",
      "/n\n",
      "At random state 49 the testing accurancy is:- 51.33472375353585\n",
      "/n\n",
      "At random state 50 the testing accurancy is:- 43.23875179229759\n",
      "/n\n",
      "At random state 51 the testing accurancy is:- -38.347607459727115\n",
      "/n\n",
      "At random state 52 the testing accurancy is:- -17.458226028403878\n",
      "/n\n",
      "At random state 53 the testing accurancy is:- -73.87388412542978\n",
      "/n\n",
      "At random state 54 the testing accurancy is:- 49.30292047172807\n",
      "/n\n",
      "At random state 55 the testing accurancy is:- 43.561941324090235\n",
      "/n\n",
      "At random state 56 the testing accurancy is:- 9.779673433698544\n",
      "/n\n",
      "At random state 57 the testing accurancy is:- 27.22802724673813\n",
      "/n\n",
      "At random state 58 the testing accurancy is:- -4.471296191795204\n",
      "/n\n",
      "At random state 59 the testing accurancy is:- -101.94414545758059\n",
      "/n\n",
      "At random state 60 the testing accurancy is:- 65.27571688908287\n",
      "/n\n",
      "At random state 61 the testing accurancy is:- 22.545605198432927\n",
      "/n\n",
      "At random state 62 the testing accurancy is:- 21.085432167914764\n",
      "/n\n",
      "At random state 63 the testing accurancy is:- -1.3814706379702058\n",
      "/n\n",
      "At random state 64 the testing accurancy is:- 38.82052358533608\n",
      "/n\n",
      "At random state 65 the testing accurancy is:- 49.56818942858538\n",
      "/n\n",
      "At random state 66 the testing accurancy is:- -108.625277992041\n",
      "/n\n",
      "At random state 67 the testing accurancy is:- 40.64630294942616\n",
      "/n\n",
      "At random state 68 the testing accurancy is:- 33.17002433415458\n",
      "/n\n",
      "At random state 69 the testing accurancy is:- 56.59898086163836\n",
      "/n\n",
      "At random state 70 the testing accurancy is:- -106.37206317916296\n",
      "/n\n",
      "At random state 71 the testing accurancy is:- -20.685519620521564\n",
      "/n\n",
      "At random state 72 the testing accurancy is:- 4.322349808333403\n",
      "/n\n",
      "At random state 73 the testing accurancy is:- 51.44514771087767\n",
      "/n\n",
      "At random state 74 the testing accurancy is:- 40.34503554160156\n",
      "/n\n",
      "At random state 75 the testing accurancy is:- 38.116226754174086\n",
      "/n\n",
      "At random state 76 the testing accurancy is:- 63.02743029604727\n",
      "/n\n",
      "At random state 77 the testing accurancy is:- -246.37808084756338\n",
      "/n\n",
      "At random state 78 the testing accurancy is:- 18.84973015868835\n",
      "/n\n",
      "At random state 79 the testing accurancy is:- 45.86917218383751\n",
      "/n\n",
      "At random state 80 the testing accurancy is:- 51.66559174423251\n",
      "/n\n",
      "At random state 81 the testing accurancy is:- -1036.6308522652166\n",
      "/n\n",
      "At random state 82 the testing accurancy is:- 61.20750627657361\n",
      "/n\n",
      "At random state 83 the testing accurancy is:- 37.43058417281719\n",
      "/n\n",
      "At random state 84 the testing accurancy is:- 49.63368157061022\n",
      "/n\n",
      "At random state 85 the testing accurancy is:- 7.039951212945528\n",
      "/n\n",
      "At random state 86 the testing accurancy is:- 2.4649068915433725\n",
      "/n\n",
      "At random state 87 the testing accurancy is:- 5.452409566015826\n",
      "/n\n",
      "At random state 88 the testing accurancy is:- -264.3508998895665\n",
      "/n\n",
      "At random state 89 the testing accurancy is:- -9.355162484811231\n",
      "/n\n",
      "At random state 90 the testing accurancy is:- 6.004774890708431\n",
      "/n\n",
      "At random state 91 the testing accurancy is:- 39.56839162831813\n",
      "/n\n",
      "At random state 92 the testing accurancy is:- 46.17799437306539\n",
      "/n\n",
      "At random state 93 the testing accurancy is:- 37.70651620475189\n",
      "/n\n",
      "At random state 94 the testing accurancy is:- -37.70224887138802\n",
      "/n\n",
      "At random state 95 the testing accurancy is:- -2.008096918276525\n",
      "/n\n",
      "At random state 96 the testing accurancy is:- 58.19003441257726\n",
      "/n\n",
      "At random state 97 the testing accurancy is:- 65.20287365598134\n",
      "/n\n",
      "At random state 98 the testing accurancy is:- 1.8325862307434826\n",
      "/n\n",
      "At random state 99 the testing accurancy is:- 77.88989552398591\n",
      "/n\n"
     ]
    }
   ],
   "source": [
    "for i in range (0,100):\n",
    "    X_train,X_test,y_train,y_test=train_test_split(X_Scaled,Y,test_size=0.20,random_state=i)\n",
    "    GB.fit(X_train,y_train)\n",
    "    pred_test=GB.predict(X_test)\n",
    "    print('At random state',i,'the testing accurancy is:-',r2_score(y_test,pred_test)*100)\n",
    "    print(\"/n\")"
   ]
  },
  {
   "cell_type": "code",
   "execution_count": 85,
   "id": "b76f8ae5",
   "metadata": {},
   "outputs": [],
   "source": [
    "X_train,X_test,y_train,y_test=train_test_split(X_Scaled,Y,test_size=0.20,random_state=99)\n",
    "GB.fit(X_train,y_train) # At random state 99, score is the highest\n",
    "pred_test=GB.predict(X_test)"
   ]
  },
  {
   "cell_type": "code",
   "execution_count": 86,
   "id": "cdd351d5",
   "metadata": {},
   "outputs": [
    {
     "data": {
      "text/plain": [
       "78.7383984429862"
      ]
     },
     "execution_count": 86,
     "metadata": {},
     "output_type": "execute_result"
    }
   ],
   "source": [
    "RF_Score= r2_score(y_test,pred_test)*100\n",
    "RF_Score"
   ]
  },
  {
   "cell_type": "markdown",
   "id": "f9586d36",
   "metadata": {},
   "source": [
    "# Decision Tree Regressor"
   ]
  },
  {
   "cell_type": "code",
   "execution_count": 89,
   "id": "68570916",
   "metadata": {},
   "outputs": [],
   "source": [
    "DT=DecisionTreeRegressor()"
   ]
  },
  {
   "cell_type": "code",
   "execution_count": 90,
   "id": "7a33d72e",
   "metadata": {},
   "outputs": [
    {
     "name": "stdout",
     "output_type": "stream",
     "text": [
      "At random state 0 the testing accurancy is:- -82.36301369863013\n",
      "/n\n",
      "At random state 1 the testing accurancy is:- 70.89905362776025\n",
      "/n\n",
      "At random state 2 the testing accurancy is:- 23.283346487766376\n",
      "/n\n",
      "At random state 3 the testing accurancy is:- 35.98458304134549\n",
      "/n\n",
      "At random state 4 the testing accurancy is:- -30.58064516129033\n",
      "/n\n",
      "At random state 5 the testing accurancy is:- 30.379436964504293\n",
      "/n\n",
      "At random state 6 the testing accurancy is:- 31.270491803278677\n",
      "/n\n",
      "At random state 7 the testing accurancy is:- -24.563591022443877\n",
      "/n\n",
      "At random state 8 the testing accurancy is:- 27.249999999999996\n",
      "/n\n",
      "At random state 9 the testing accurancy is:- -217.4744330813695\n",
      "/n\n",
      "At random state 10 the testing accurancy is:- -234.0\n",
      "/n\n",
      "At random state 11 the testing accurancy is:- -126.2295081967213\n",
      "/n\n",
      "At random state 12 the testing accurancy is:- -57.6271186440678\n",
      "/n\n",
      "At random state 13 the testing accurancy is:- -26.6\n",
      "/n\n",
      "At random state 14 the testing accurancy is:- 8.856848609680746\n",
      "/n\n",
      "At random state 15 the testing accurancy is:- 6.201881950384925\n",
      "/n\n",
      "At random state 16 the testing accurancy is:- -4.059913283405581\n",
      "/n\n",
      "At random state 17 the testing accurancy is:- -20.05494505494505\n",
      "/n\n",
      "At random state 18 the testing accurancy is:- -61.880231809401145\n",
      "/n\n",
      "At random state 19 the testing accurancy is:- 15.897097625329826\n",
      "/n\n",
      "At random state 20 the testing accurancy is:- -75.69444444444444\n",
      "/n\n",
      "At random state 21 the testing accurancy is:- 51.03373231773667\n",
      "/n\n",
      "At random state 22 the testing accurancy is:- -49.36619718309858\n",
      "/n\n",
      "At random state 23 the testing accurancy is:- -353.9261384008605\n",
      "/n\n",
      "At random state 24 the testing accurancy is:- -2050.124688279302\n",
      "/n\n",
      "At random state 25 the testing accurancy is:- 6.676613204028358\n",
      "/n\n",
      "At random state 26 the testing accurancy is:- -32.69537480063796\n",
      "/n\n",
      "At random state 27 the testing accurancy is:- -11.452256677924444\n",
      "/n\n",
      "At random state 28 the testing accurancy is:- -178.1407035175879\n",
      "/n\n",
      "At random state 29 the testing accurancy is:- 48.8938053097345\n",
      "/n\n",
      "At random state 30 the testing accurancy is:- 22.1627408993576\n",
      "/n\n",
      "At random state 31 the testing accurancy is:- -2.2746419545071506\n",
      "/n\n",
      "At random state 32 the testing accurancy is:- -119.74865350089763\n",
      "/n\n",
      "At random state 33 the testing accurancy is:- 50.369458128078826\n",
      "/n\n",
      "At random state 34 the testing accurancy is:- -18.452520515826485\n",
      "/n\n",
      "At random state 35 the testing accurancy is:- 35.97402597402597\n",
      "/n\n",
      "At random state 36 the testing accurancy is:- -91.36563876651982\n",
      "/n\n",
      "At random state 37 the testing accurancy is:- -105.47169811320751\n",
      "/n\n",
      "At random state 38 the testing accurancy is:- -145.17625231910944\n",
      "/n\n",
      "At random state 39 the testing accurancy is:- 33.38368580060423\n",
      "/n\n",
      "At random state 40 the testing accurancy is:- -9.636604384287173\n",
      "/n\n",
      "At random state 41 the testing accurancy is:- -124.26060865837974\n",
      "/n\n",
      "At random state 42 the testing accurancy is:- 40.848638378720715\n",
      "/n\n",
      "At random state 43 the testing accurancy is:- -207.12074303405572\n",
      "/n\n",
      "At random state 44 the testing accurancy is:- 12.489927477840457\n",
      "/n\n",
      "At random state 45 the testing accurancy is:- 5.65610859728507\n",
      "/n\n",
      "At random state 46 the testing accurancy is:- -73.57739753282931\n",
      "/n\n",
      "At random state 47 the testing accurancy is:- 4.247572815533984\n",
      "/n\n",
      "At random state 48 the testing accurancy is:- -9.10138248847927\n",
      "/n\n",
      "At random state 49 the testing accurancy is:- 34.99512602701573\n",
      "/n\n",
      "At random state 50 the testing accurancy is:- 24.196361824071765\n",
      "/n\n",
      "At random state 51 the testing accurancy is:- -185.50649350649354\n",
      "/n\n",
      "At random state 52 the testing accurancy is:- -97.35099337748345\n",
      "/n\n",
      "At random state 53 the testing accurancy is:- -131.17338003502627\n",
      "/n\n",
      "At random state 54 the testing accurancy is:- -15.872302158273378\n",
      "/n\n",
      "At random state 55 the testing accurancy is:- 30.79342887102412\n",
      "/n\n",
      "At random state 56 the testing accurancy is:- -141.46699266503666\n",
      "/n\n",
      "At random state 57 the testing accurancy is:- 6.344750140370592\n",
      "/n\n",
      "At random state 58 the testing accurancy is:- 11.543535620052781\n",
      "/n\n",
      "At random state 59 the testing accurancy is:- -175.23236741388737\n",
      "/n\n",
      "At random state 60 the testing accurancy is:- -10.08188331627431\n",
      "/n\n",
      "At random state 61 the testing accurancy is:- -54.895618935607175\n",
      "/n\n",
      "At random state 62 the testing accurancy is:- -13.513513513513509\n",
      "/n\n",
      "At random state 63 the testing accurancy is:- -92.12535154680592\n",
      "/n\n",
      "At random state 64 the testing accurancy is:- -40.32634032634033\n",
      "/n\n",
      "At random state 65 the testing accurancy is:- -5.903328050713141\n",
      "/n\n",
      "At random state 66 the testing accurancy is:- -185.52875695732843\n",
      "/n\n",
      "At random state 67 the testing accurancy is:- 17.43540669856459\n",
      "/n\n",
      "At random state 68 the testing accurancy is:- -6.921487603305776\n",
      "/n\n",
      "At random state 69 the testing accurancy is:- 59.19477693144724\n",
      "/n\n",
      "At random state 70 the testing accurancy is:- -207.67872903795234\n",
      "/n\n",
      "At random state 71 the testing accurancy is:- -152.63157894736835\n",
      "/n\n",
      "At random state 72 the testing accurancy is:- 9.653233364573566\n",
      "/n\n",
      "At random state 73 the testing accurancy is:- -49.04458598726116\n",
      "/n\n",
      "At random state 74 the testing accurancy is:- -51.67493796526057\n",
      "/n\n",
      "At random state 75 the testing accurancy is:- 55.151175811870104\n",
      "/n\n",
      "At random state 76 the testing accurancy is:- 50.28470449636756\n",
      "/n\n",
      "At random state 77 the testing accurancy is:- -536.1607142857142\n",
      "/n\n",
      "At random state 78 the testing accurancy is:- 32.05521472392638\n",
      "/n\n",
      "At random state 79 the testing accurancy is:- -1.532399299474596\n",
      "/n\n",
      "At random state 80 the testing accurancy is:- -27.31619844590554\n",
      "/n\n",
      "At random state 81 the testing accurancy is:- -1168.5714285714287\n",
      "/n\n",
      "At random state 82 the testing accurancy is:- 35.69794050343249\n",
      "/n\n",
      "At random state 83 the testing accurancy is:- -32.38434163701067\n",
      "/n\n",
      "At random state 84 the testing accurancy is:- -6.554878048780499\n",
      "/n\n",
      "At random state 85 the testing accurancy is:- -63.560962123306595\n",
      "/n\n",
      "At random state 86 the testing accurancy is:- -107.14285714285717\n",
      "/n\n",
      "At random state 87 the testing accurancy is:- -10.495814552479077\n",
      "/n\n",
      "At random state 88 the testing accurancy is:- -578.7446504992868\n",
      "/n\n",
      "At random state 89 the testing accurancy is:- -71.64556962025317\n",
      "/n\n",
      "At random state 90 the testing accurancy is:- -15.006934812760075\n",
      "/n\n",
      "At random state 91 the testing accurancy is:- -1.3209568011424588\n",
      "/n\n",
      "At random state 92 the testing accurancy is:- -10.046537092800435\n",
      "/n\n",
      "At random state 93 the testing accurancy is:- -37.0387669313405\n",
      "/n\n",
      "At random state 94 the testing accurancy is:- -5.1948051948051965\n",
      "/n\n",
      "At random state 95 the testing accurancy is:- -106.53266331658288\n",
      "/n\n",
      "At random state 96 the testing accurancy is:- 19.557823129251705\n",
      "/n\n",
      "At random state 97 the testing accurancy is:- 53.100775193798455\n",
      "/n\n",
      "At random state 98 the testing accurancy is:- 14.474097331240198\n",
      "/n\n",
      "At random state 99 the testing accurancy is:- 44.88415009226985\n",
      "/n\n"
     ]
    }
   ],
   "source": [
    "for i in range (0,100):\n",
    "    X_train,X_test,y_train,y_test=train_test_split(X_Scaled,Y,test_size=0.20,random_state=i)\n",
    "    DT.fit(X_train,y_train)\n",
    "    pred_test=DT.predict(X_test)\n",
    "    print('At random state',i,'the testing accurancy is:-',r2_score(y_test,pred_test)*100)\n",
    "    print(\"/n\")"
   ]
  },
  {
   "cell_type": "markdown",
   "id": "4ff4bcdc",
   "metadata": {},
   "source": [
    "# Lasso Regression"
   ]
  },
  {
   "cell_type": "code",
   "execution_count": 113,
   "id": "09eedd9b",
   "metadata": {},
   "outputs": [],
   "source": [
    "from sklearn.linear_model import Lasso,LassoCV"
   ]
  },
  {
   "cell_type": "code",
   "execution_count": 114,
   "id": "84b49a1f",
   "metadata": {},
   "outputs": [
    {
     "data": {
      "text/plain": [
       "LassoCV(max_iter=100, normalize=True)"
      ]
     },
     "execution_count": 114,
     "metadata": {},
     "output_type": "execute_result"
    }
   ],
   "source": [
    "LassCV=LassoCV(alphas=None,max_iter=100,normalize=True)\n",
    "LassCV.fit(X_train,y_train)"
   ]
  },
  {
   "cell_type": "code",
   "execution_count": 138,
   "id": "44849f06",
   "metadata": {},
   "outputs": [
    {
     "data": {
      "text/plain": [
       "0.21696383475405773"
      ]
     },
     "execution_count": 138,
     "metadata": {},
     "output_type": "execute_result"
    }
   ],
   "source": [
    "alpha=LassCV.alpha_\n",
    "alpha #getting the correct alpha value"
   ]
  },
  {
   "cell_type": "code",
   "execution_count": 116,
   "id": "c33f6561",
   "metadata": {},
   "outputs": [
    {
     "data": {
      "text/plain": [
       "Lasso(alpha=0.21696383475405773)"
      ]
     },
     "execution_count": 116,
     "metadata": {},
     "output_type": "execute_result"
    }
   ],
   "source": [
    "LassReg=Lasso(alpha)\n",
    "LassReg.fit(X_train,y_train) #Training the model with correct alpha value"
   ]
  },
  {
   "cell_type": "code",
   "execution_count": 117,
   "id": "630c9208",
   "metadata": {},
   "outputs": [],
   "source": [
    "Lass_predict=LassReg.predict(X_test)"
   ]
  },
  {
   "cell_type": "code",
   "execution_count": 118,
   "id": "eef33bdf",
   "metadata": {},
   "outputs": [
    {
     "data": {
      "text/plain": [
       "83.84281816767047"
      ]
     },
     "execution_count": 118,
     "metadata": {},
     "output_type": "execute_result"
    }
   ],
   "source": [
    "LassReg_Score=r2_score(y_test,Lass_predict)*100\n",
    "LassReg_Score"
   ]
  },
  {
   "cell_type": "markdown",
   "id": "295e5a71",
   "metadata": {},
   "source": [
    "# Linear Regression and Lasso has the highest score as compared to Random Forest, Gradient Boosting and Decision Tree"
   ]
  },
  {
   "cell_type": "markdown",
   "id": "aea6d401",
   "metadata": {},
   "source": [
    "# Cross Validation for LR"
   ]
  },
  {
   "cell_type": "code",
   "execution_count": 96,
   "id": "866863c3",
   "metadata": {},
   "outputs": [
    {
     "name": "stdout",
     "output_type": "stream",
     "text": [
      "The cross validation score for 2 is -15.057545906224307\n",
      "The cross validation score for 3 is 0.07603845047619\n",
      "The cross validation score for 4 is 0.5531091090323065\n",
      "The cross validation score for 5 is 0.20047825638190955\n",
      "The cross validation score for 6 is 0.30365532769104936\n",
      "The cross validation score for 7 is 0.3052726405603376\n",
      "The cross validation score for 8 is 0.4012485375170763\n",
      "The cross validation score for 9 is -10.678822152497478\n"
     ]
    }
   ],
   "source": [
    "for i in range(2,10):\n",
    "    LR_Val=cross_val_score(LR,X,Y,cv=i)\n",
    "    print(\"The cross validation score for\",i,\"is\",LR_Val.mean())"
   ]
  },
  {
   "cell_type": "markdown",
   "id": "c1a90c43",
   "metadata": {},
   "source": [
    "# Cross Validation for RF"
   ]
  },
  {
   "cell_type": "code",
   "execution_count": 97,
   "id": "950567ce",
   "metadata": {},
   "outputs": [
    {
     "name": "stdout",
     "output_type": "stream",
     "text": [
      "The cross validation score for 2 is -45.215149412339144\n",
      "The cross validation score for 3 is 33.3291812385778\n",
      "The cross validation score for 4 is 40.201079647541974\n",
      "The cross validation score for 5 is -62.17635277983244\n",
      "The cross validation score for 6 is 21.951950110172444\n",
      "The cross validation score for 7 is -2.5552711129034282\n",
      "The cross validation score for 8 is -33.800499524324835\n",
      "The cross validation score for 9 is -1487.2857633893643\n"
     ]
    }
   ],
   "source": [
    "for i in range(2,10):\n",
    "    RF_Val=cross_val_score(RF,X,Y,cv=i)\n",
    "    print(\"The cross validation score for\",i,\"is\",RF_Val.mean()*100)"
   ]
  },
  {
   "cell_type": "markdown",
   "id": "275c10ef",
   "metadata": {},
   "source": [
    "# Cross Validation for GB"
   ]
  },
  {
   "cell_type": "code",
   "execution_count": 98,
   "id": "518de3f3",
   "metadata": {},
   "outputs": [
    {
     "name": "stdout",
     "output_type": "stream",
     "text": [
      "The cross validation score for 2 is -85.72361061583005\n",
      "The cross validation score for 3 is 34.89186151164701\n",
      "The cross validation score for 4 is 23.729930548549273\n",
      "The cross validation score for 5 is -150.43458873364827\n",
      "The cross validation score for 6 is -7.992709086811378\n",
      "The cross validation score for 7 is -34.92789867356911\n",
      "The cross validation score for 8 is -98.91375115829715\n",
      "The cross validation score for 9 is -1001.7834460378152\n"
     ]
    }
   ],
   "source": [
    "for i in range(2,10):\n",
    "    GB_Val=cross_val_score(GB,X,Y,cv=i)\n",
    "    print(\"The cross validation score for\",i,\"is\",GB_Val.mean()*100)"
   ]
  },
  {
   "cell_type": "markdown",
   "id": "011f39cc",
   "metadata": {},
   "source": [
    "# Cross Validation for DT"
   ]
  },
  {
   "cell_type": "code",
   "execution_count": 99,
   "id": "3b3d37c6",
   "metadata": {},
   "outputs": [
    {
     "name": "stdout",
     "output_type": "stream",
     "text": [
      "The cross validation score for 2 is -20.793483538065736\n",
      "The cross validation score for 3 is -40.657197790992576\n",
      "The cross validation score for 4 is -15.550464786051208\n",
      "The cross validation score for 5 is -202.80590701452158\n",
      "The cross validation score for 6 is -72.02653112718957\n",
      "The cross validation score for 7 is -148.63789240796675\n",
      "The cross validation score for 8 is -212.86297104031559\n",
      "The cross validation score for 9 is -1160.2746460995884\n"
     ]
    }
   ],
   "source": [
    "for i in range(2,10):\n",
    "    DT_Val=cross_val_score(DT,X,Y,cv=i)\n",
    "    print(\"The cross validation score for\",i,\"is\",DT_Val.mean()*100)"
   ]
  },
  {
   "cell_type": "markdown",
   "id": "2d971474",
   "metadata": {},
   "source": [
    "# Cross Validation for Lasso"
   ]
  },
  {
   "cell_type": "code",
   "execution_count": 112,
   "id": "3a87438c",
   "metadata": {},
   "outputs": [
    {
     "name": "stdout",
     "output_type": "stream",
     "text": [
      "The cross validation score for 2 is 7.691939014539395\n",
      "The cross validation score for 3 is 65.33284492948367\n",
      "The cross validation score for 4 is 79.6136679735643\n",
      "The cross validation score for 5 is 52.58142357014022\n",
      "The cross validation score for 6 is 59.219318966479705\n",
      "The cross validation score for 7 is 51.99244100545004\n",
      "The cross validation score for 8 is 60.99049681191664\n",
      "The cross validation score for 9 is -573.4201519173326\n"
     ]
    }
   ],
   "source": [
    "for i in range(2,10):\n",
    "    Lasso_Val=cross_val_score(LassReg,X,Y,cv=i)\n",
    "    print(\"The cross validation score for\",i,\"is\",Lasso_Val.mean()*100)"
   ]
  },
  {
   "cell_type": "markdown",
   "id": "1d2a5b90",
   "metadata": {},
   "source": [
    "# By observing the cross validation and r2 score it can be said that Lasso is the correct model for this dataset as this has given the closest cross validation and r2 score value"
   ]
  },
  {
   "cell_type": "markdown",
   "id": "dfcdec15",
   "metadata": {},
   "source": [
    "# Hypertuning Parameter"
   ]
  },
  {
   "cell_type": "code",
   "execution_count": 119,
   "id": "e7817b0c",
   "metadata": {},
   "outputs": [],
   "source": [
    "Lasso_Reg=Lasso()"
   ]
  },
  {
   "cell_type": "code",
   "execution_count": 122,
   "id": "cbdc7697",
   "metadata": {},
   "outputs": [
    {
     "data": {
      "text/plain": [
       "GridSearchCV(estimator=Lasso(),\n",
       "             param_grid={'alpha': [0.21, 0.5, 1], 'max_iter': [100, 500, 1000]})"
      ]
     },
     "execution_count": 122,
     "metadata": {},
     "output_type": "execute_result"
    }
   ],
   "source": [
    "Parameters={'alpha':[0.21,0.50,1],'max_iter':[100,500,1000]}\n",
    "clf=GridSearchCV(Lasso_Reg,Parameters)\n",
    "clf.fit(X_train,y_train)"
   ]
  },
  {
   "cell_type": "code",
   "execution_count": 128,
   "id": "43405f02",
   "metadata": {},
   "outputs": [
    {
     "name": "stdout",
     "output_type": "stream",
     "text": [
      "{'alpha': 1, 'max_iter': 100}\n"
     ]
    }
   ],
   "source": [
    "print(clf.best_params_) #getting the best parameter after doing hypertuning parameters"
   ]
  },
  {
   "cell_type": "code",
   "execution_count": 133,
   "id": "9f25c4b9",
   "metadata": {},
   "outputs": [
    {
     "data": {
      "text/plain": [
       "Lasso(alpha=1, max_iter=100)"
      ]
     },
     "execution_count": 133,
     "metadata": {},
     "output_type": "execute_result"
    }
   ],
   "source": [
    "LassReg=Lasso(alpha=1,max_iter=100)\n",
    "LassReg.fit(X_train,y_train) #Training the model with the best parameter"
   ]
  },
  {
   "cell_type": "code",
   "execution_count": 134,
   "id": "5d7c6e99",
   "metadata": {},
   "outputs": [],
   "source": [
    "LassPredict=LassReg.predict(X_test) #Testing the model with the best parameter"
   ]
  },
  {
   "cell_type": "code",
   "execution_count": 135,
   "id": "10703de6",
   "metadata": {},
   "outputs": [],
   "source": [
    "Lass_score=r2_score(y_test,LassPredict)*100"
   ]
  },
  {
   "cell_type": "code",
   "execution_count": 136,
   "id": "4bc34919",
   "metadata": {},
   "outputs": [
    {
     "data": {
      "text/plain": [
       "87.23334887428985"
      ]
     },
     "execution_count": 136,
     "metadata": {},
     "output_type": "execute_result"
    }
   ],
   "source": [
    "Lass_score"
   ]
  },
  {
   "cell_type": "markdown",
   "id": "4374e26d",
   "metadata": {},
   "source": [
    "# Saving the model"
   ]
  },
  {
   "cell_type": "code",
   "execution_count": 137,
   "id": "55a6b6ef",
   "metadata": {},
   "outputs": [],
   "source": [
    "import pickle\n",
    "filename='Baseball Project.pkl'\n",
    "pickle.dump(LassReg,open(filename,'wb'))"
   ]
  },
  {
   "cell_type": "code",
   "execution_count": null,
   "id": "f036d681",
   "metadata": {},
   "outputs": [],
   "source": []
  }
 ],
 "metadata": {
  "kernelspec": {
   "display_name": "Python 3 (ipykernel)",
   "language": "python",
   "name": "python3"
  },
  "language_info": {
   "codemirror_mode": {
    "name": "ipython",
    "version": 3
   },
   "file_extension": ".py",
   "mimetype": "text/x-python",
   "name": "python",
   "nbconvert_exporter": "python",
   "pygments_lexer": "ipython3",
   "version": "3.9.7"
  }
 },
 "nbformat": 4,
 "nbformat_minor": 5
}
