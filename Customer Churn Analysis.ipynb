{
 "cells": [
  {
   "cell_type": "code",
   "execution_count": 1,
   "id": "27ea6a89",
   "metadata": {},
   "outputs": [],
   "source": [
    "import numpy as np\n",
    "import pandas as pd\n",
    "import seaborn as sns\n",
    "import matplotlib.pyplot as plt\n",
    "from sklearn.preprocessing import StandardScaler\n",
    "from statsmodels.stats.outliers_influence import variance_inflation_factor\n",
    "from sklearn.model_selection import cross_val_score\n",
    "from sklearn.model_selection import train_test_split\n",
    "from sklearn.linear_model import LogisticRegression\n",
    "from sklearn.ensemble import RandomForestClassifier\n",
    "from sklearn.neighbors import KNeighborsClassifier\n",
    "from sklearn.ensemble import VotingClassifier\n",
    "from sklearn.ensemble import GradientBoostingClassifier\n",
    "from sklearn.tree import DecisionTreeClassifier\n",
    "from sklearn.svm import SVC\n",
    "from sklearn.metrics import confusion_matrix, classification_report\n",
    "from sklearn.metrics import accuracy_score,confusion_matrix,roc_curve, roc_auc_score\n",
    "from sklearn.preprocessing import LabelEncoder\n",
    "from sklearn.model_selection import GridSearchCV\n",
    "from prettytable import PrettyTable \n",
    "import warnings\n",
    "warnings.filterwarnings('ignore') #Importing the necessary libraries"
   ]
  },
  {
   "cell_type": "code",
   "execution_count": 2,
   "id": "e15c7333",
   "metadata": {},
   "outputs": [],
   "source": [
    "Data=pd.read_csv(\"https://raw.githubusercontent.com/dsrscientist/DSData/master/Telecom_customer_churn.csv\") # Loading the dataset"
   ]
  },
  {
   "cell_type": "code",
   "execution_count": 3,
   "id": "778fd7f6",
   "metadata": {},
   "outputs": [
    {
     "data": {
      "text/html": [
       "<div>\n",
       "<style scoped>\n",
       "    .dataframe tbody tr th:only-of-type {\n",
       "        vertical-align: middle;\n",
       "    }\n",
       "\n",
       "    .dataframe tbody tr th {\n",
       "        vertical-align: top;\n",
       "    }\n",
       "\n",
       "    .dataframe thead th {\n",
       "        text-align: right;\n",
       "    }\n",
       "</style>\n",
       "<table border=\"1\" class=\"dataframe\">\n",
       "  <thead>\n",
       "    <tr style=\"text-align: right;\">\n",
       "      <th></th>\n",
       "      <th>customerID</th>\n",
       "      <th>gender</th>\n",
       "      <th>SeniorCitizen</th>\n",
       "      <th>Partner</th>\n",
       "      <th>Dependents</th>\n",
       "      <th>tenure</th>\n",
       "      <th>PhoneService</th>\n",
       "      <th>MultipleLines</th>\n",
       "      <th>InternetService</th>\n",
       "      <th>OnlineSecurity</th>\n",
       "      <th>...</th>\n",
       "      <th>DeviceProtection</th>\n",
       "      <th>TechSupport</th>\n",
       "      <th>StreamingTV</th>\n",
       "      <th>StreamingMovies</th>\n",
       "      <th>Contract</th>\n",
       "      <th>PaperlessBilling</th>\n",
       "      <th>PaymentMethod</th>\n",
       "      <th>MonthlyCharges</th>\n",
       "      <th>TotalCharges</th>\n",
       "      <th>Churn</th>\n",
       "    </tr>\n",
       "  </thead>\n",
       "  <tbody>\n",
       "    <tr>\n",
       "      <th>0</th>\n",
       "      <td>7590-VHVEG</td>\n",
       "      <td>Female</td>\n",
       "      <td>0</td>\n",
       "      <td>Yes</td>\n",
       "      <td>No</td>\n",
       "      <td>1</td>\n",
       "      <td>No</td>\n",
       "      <td>No phone service</td>\n",
       "      <td>DSL</td>\n",
       "      <td>No</td>\n",
       "      <td>...</td>\n",
       "      <td>No</td>\n",
       "      <td>No</td>\n",
       "      <td>No</td>\n",
       "      <td>No</td>\n",
       "      <td>Month-to-month</td>\n",
       "      <td>Yes</td>\n",
       "      <td>Electronic check</td>\n",
       "      <td>29.85</td>\n",
       "      <td>29.85</td>\n",
       "      <td>No</td>\n",
       "    </tr>\n",
       "    <tr>\n",
       "      <th>1</th>\n",
       "      <td>5575-GNVDE</td>\n",
       "      <td>Male</td>\n",
       "      <td>0</td>\n",
       "      <td>No</td>\n",
       "      <td>No</td>\n",
       "      <td>34</td>\n",
       "      <td>Yes</td>\n",
       "      <td>No</td>\n",
       "      <td>DSL</td>\n",
       "      <td>Yes</td>\n",
       "      <td>...</td>\n",
       "      <td>Yes</td>\n",
       "      <td>No</td>\n",
       "      <td>No</td>\n",
       "      <td>No</td>\n",
       "      <td>One year</td>\n",
       "      <td>No</td>\n",
       "      <td>Mailed check</td>\n",
       "      <td>56.95</td>\n",
       "      <td>1889.5</td>\n",
       "      <td>No</td>\n",
       "    </tr>\n",
       "    <tr>\n",
       "      <th>2</th>\n",
       "      <td>3668-QPYBK</td>\n",
       "      <td>Male</td>\n",
       "      <td>0</td>\n",
       "      <td>No</td>\n",
       "      <td>No</td>\n",
       "      <td>2</td>\n",
       "      <td>Yes</td>\n",
       "      <td>No</td>\n",
       "      <td>DSL</td>\n",
       "      <td>Yes</td>\n",
       "      <td>...</td>\n",
       "      <td>No</td>\n",
       "      <td>No</td>\n",
       "      <td>No</td>\n",
       "      <td>No</td>\n",
       "      <td>Month-to-month</td>\n",
       "      <td>Yes</td>\n",
       "      <td>Mailed check</td>\n",
       "      <td>53.85</td>\n",
       "      <td>108.15</td>\n",
       "      <td>Yes</td>\n",
       "    </tr>\n",
       "    <tr>\n",
       "      <th>3</th>\n",
       "      <td>7795-CFOCW</td>\n",
       "      <td>Male</td>\n",
       "      <td>0</td>\n",
       "      <td>No</td>\n",
       "      <td>No</td>\n",
       "      <td>45</td>\n",
       "      <td>No</td>\n",
       "      <td>No phone service</td>\n",
       "      <td>DSL</td>\n",
       "      <td>Yes</td>\n",
       "      <td>...</td>\n",
       "      <td>Yes</td>\n",
       "      <td>Yes</td>\n",
       "      <td>No</td>\n",
       "      <td>No</td>\n",
       "      <td>One year</td>\n",
       "      <td>No</td>\n",
       "      <td>Bank transfer (automatic)</td>\n",
       "      <td>42.30</td>\n",
       "      <td>1840.75</td>\n",
       "      <td>No</td>\n",
       "    </tr>\n",
       "    <tr>\n",
       "      <th>4</th>\n",
       "      <td>9237-HQITU</td>\n",
       "      <td>Female</td>\n",
       "      <td>0</td>\n",
       "      <td>No</td>\n",
       "      <td>No</td>\n",
       "      <td>2</td>\n",
       "      <td>Yes</td>\n",
       "      <td>No</td>\n",
       "      <td>Fiber optic</td>\n",
       "      <td>No</td>\n",
       "      <td>...</td>\n",
       "      <td>No</td>\n",
       "      <td>No</td>\n",
       "      <td>No</td>\n",
       "      <td>No</td>\n",
       "      <td>Month-to-month</td>\n",
       "      <td>Yes</td>\n",
       "      <td>Electronic check</td>\n",
       "      <td>70.70</td>\n",
       "      <td>151.65</td>\n",
       "      <td>Yes</td>\n",
       "    </tr>\n",
       "    <tr>\n",
       "      <th>...</th>\n",
       "      <td>...</td>\n",
       "      <td>...</td>\n",
       "      <td>...</td>\n",
       "      <td>...</td>\n",
       "      <td>...</td>\n",
       "      <td>...</td>\n",
       "      <td>...</td>\n",
       "      <td>...</td>\n",
       "      <td>...</td>\n",
       "      <td>...</td>\n",
       "      <td>...</td>\n",
       "      <td>...</td>\n",
       "      <td>...</td>\n",
       "      <td>...</td>\n",
       "      <td>...</td>\n",
       "      <td>...</td>\n",
       "      <td>...</td>\n",
       "      <td>...</td>\n",
       "      <td>...</td>\n",
       "      <td>...</td>\n",
       "      <td>...</td>\n",
       "    </tr>\n",
       "    <tr>\n",
       "      <th>7038</th>\n",
       "      <td>6840-RESVB</td>\n",
       "      <td>Male</td>\n",
       "      <td>0</td>\n",
       "      <td>Yes</td>\n",
       "      <td>Yes</td>\n",
       "      <td>24</td>\n",
       "      <td>Yes</td>\n",
       "      <td>Yes</td>\n",
       "      <td>DSL</td>\n",
       "      <td>Yes</td>\n",
       "      <td>...</td>\n",
       "      <td>Yes</td>\n",
       "      <td>Yes</td>\n",
       "      <td>Yes</td>\n",
       "      <td>Yes</td>\n",
       "      <td>One year</td>\n",
       "      <td>Yes</td>\n",
       "      <td>Mailed check</td>\n",
       "      <td>84.80</td>\n",
       "      <td>1990.5</td>\n",
       "      <td>No</td>\n",
       "    </tr>\n",
       "    <tr>\n",
       "      <th>7039</th>\n",
       "      <td>2234-XADUH</td>\n",
       "      <td>Female</td>\n",
       "      <td>0</td>\n",
       "      <td>Yes</td>\n",
       "      <td>Yes</td>\n",
       "      <td>72</td>\n",
       "      <td>Yes</td>\n",
       "      <td>Yes</td>\n",
       "      <td>Fiber optic</td>\n",
       "      <td>No</td>\n",
       "      <td>...</td>\n",
       "      <td>Yes</td>\n",
       "      <td>No</td>\n",
       "      <td>Yes</td>\n",
       "      <td>Yes</td>\n",
       "      <td>One year</td>\n",
       "      <td>Yes</td>\n",
       "      <td>Credit card (automatic)</td>\n",
       "      <td>103.20</td>\n",
       "      <td>7362.9</td>\n",
       "      <td>No</td>\n",
       "    </tr>\n",
       "    <tr>\n",
       "      <th>7040</th>\n",
       "      <td>4801-JZAZL</td>\n",
       "      <td>Female</td>\n",
       "      <td>0</td>\n",
       "      <td>Yes</td>\n",
       "      <td>Yes</td>\n",
       "      <td>11</td>\n",
       "      <td>No</td>\n",
       "      <td>No phone service</td>\n",
       "      <td>DSL</td>\n",
       "      <td>Yes</td>\n",
       "      <td>...</td>\n",
       "      <td>No</td>\n",
       "      <td>No</td>\n",
       "      <td>No</td>\n",
       "      <td>No</td>\n",
       "      <td>Month-to-month</td>\n",
       "      <td>Yes</td>\n",
       "      <td>Electronic check</td>\n",
       "      <td>29.60</td>\n",
       "      <td>346.45</td>\n",
       "      <td>No</td>\n",
       "    </tr>\n",
       "    <tr>\n",
       "      <th>7041</th>\n",
       "      <td>8361-LTMKD</td>\n",
       "      <td>Male</td>\n",
       "      <td>1</td>\n",
       "      <td>Yes</td>\n",
       "      <td>No</td>\n",
       "      <td>4</td>\n",
       "      <td>Yes</td>\n",
       "      <td>Yes</td>\n",
       "      <td>Fiber optic</td>\n",
       "      <td>No</td>\n",
       "      <td>...</td>\n",
       "      <td>No</td>\n",
       "      <td>No</td>\n",
       "      <td>No</td>\n",
       "      <td>No</td>\n",
       "      <td>Month-to-month</td>\n",
       "      <td>Yes</td>\n",
       "      <td>Mailed check</td>\n",
       "      <td>74.40</td>\n",
       "      <td>306.6</td>\n",
       "      <td>Yes</td>\n",
       "    </tr>\n",
       "    <tr>\n",
       "      <th>7042</th>\n",
       "      <td>3186-AJIEK</td>\n",
       "      <td>Male</td>\n",
       "      <td>0</td>\n",
       "      <td>No</td>\n",
       "      <td>No</td>\n",
       "      <td>66</td>\n",
       "      <td>Yes</td>\n",
       "      <td>No</td>\n",
       "      <td>Fiber optic</td>\n",
       "      <td>Yes</td>\n",
       "      <td>...</td>\n",
       "      <td>Yes</td>\n",
       "      <td>Yes</td>\n",
       "      <td>Yes</td>\n",
       "      <td>Yes</td>\n",
       "      <td>Two year</td>\n",
       "      <td>Yes</td>\n",
       "      <td>Bank transfer (automatic)</td>\n",
       "      <td>105.65</td>\n",
       "      <td>6844.5</td>\n",
       "      <td>No</td>\n",
       "    </tr>\n",
       "  </tbody>\n",
       "</table>\n",
       "<p>7043 rows × 21 columns</p>\n",
       "</div>"
      ],
      "text/plain": [
       "      customerID  gender  SeniorCitizen Partner Dependents  tenure  \\\n",
       "0     7590-VHVEG  Female              0     Yes         No       1   \n",
       "1     5575-GNVDE    Male              0      No         No      34   \n",
       "2     3668-QPYBK    Male              0      No         No       2   \n",
       "3     7795-CFOCW    Male              0      No         No      45   \n",
       "4     9237-HQITU  Female              0      No         No       2   \n",
       "...          ...     ...            ...     ...        ...     ...   \n",
       "7038  6840-RESVB    Male              0     Yes        Yes      24   \n",
       "7039  2234-XADUH  Female              0     Yes        Yes      72   \n",
       "7040  4801-JZAZL  Female              0     Yes        Yes      11   \n",
       "7041  8361-LTMKD    Male              1     Yes         No       4   \n",
       "7042  3186-AJIEK    Male              0      No         No      66   \n",
       "\n",
       "     PhoneService     MultipleLines InternetService OnlineSecurity  ...  \\\n",
       "0              No  No phone service             DSL             No  ...   \n",
       "1             Yes                No             DSL            Yes  ...   \n",
       "2             Yes                No             DSL            Yes  ...   \n",
       "3              No  No phone service             DSL            Yes  ...   \n",
       "4             Yes                No     Fiber optic             No  ...   \n",
       "...           ...               ...             ...            ...  ...   \n",
       "7038          Yes               Yes             DSL            Yes  ...   \n",
       "7039          Yes               Yes     Fiber optic             No  ...   \n",
       "7040           No  No phone service             DSL            Yes  ...   \n",
       "7041          Yes               Yes     Fiber optic             No  ...   \n",
       "7042          Yes                No     Fiber optic            Yes  ...   \n",
       "\n",
       "     DeviceProtection TechSupport StreamingTV StreamingMovies        Contract  \\\n",
       "0                  No          No          No              No  Month-to-month   \n",
       "1                 Yes          No          No              No        One year   \n",
       "2                  No          No          No              No  Month-to-month   \n",
       "3                 Yes         Yes          No              No        One year   \n",
       "4                  No          No          No              No  Month-to-month   \n",
       "...               ...         ...         ...             ...             ...   \n",
       "7038              Yes         Yes         Yes             Yes        One year   \n",
       "7039              Yes          No         Yes             Yes        One year   \n",
       "7040               No          No          No              No  Month-to-month   \n",
       "7041               No          No          No              No  Month-to-month   \n",
       "7042              Yes         Yes         Yes             Yes        Two year   \n",
       "\n",
       "     PaperlessBilling              PaymentMethod MonthlyCharges  TotalCharges  \\\n",
       "0                 Yes           Electronic check          29.85         29.85   \n",
       "1                  No               Mailed check          56.95        1889.5   \n",
       "2                 Yes               Mailed check          53.85        108.15   \n",
       "3                  No  Bank transfer (automatic)          42.30       1840.75   \n",
       "4                 Yes           Electronic check          70.70        151.65   \n",
       "...               ...                        ...            ...           ...   \n",
       "7038              Yes               Mailed check          84.80        1990.5   \n",
       "7039              Yes    Credit card (automatic)         103.20        7362.9   \n",
       "7040              Yes           Electronic check          29.60        346.45   \n",
       "7041              Yes               Mailed check          74.40         306.6   \n",
       "7042              Yes  Bank transfer (automatic)         105.65        6844.5   \n",
       "\n",
       "     Churn  \n",
       "0       No  \n",
       "1       No  \n",
       "2      Yes  \n",
       "3       No  \n",
       "4      Yes  \n",
       "...    ...  \n",
       "7038    No  \n",
       "7039    No  \n",
       "7040    No  \n",
       "7041   Yes  \n",
       "7042    No  \n",
       "\n",
       "[7043 rows x 21 columns]"
      ]
     },
     "execution_count": 3,
     "metadata": {},
     "output_type": "execute_result"
    }
   ],
   "source": [
    "Data"
   ]
  },
  {
   "cell_type": "code",
   "execution_count": 4,
   "id": "08f5d917",
   "metadata": {},
   "outputs": [
    {
     "data": {
      "text/plain": [
       "(7043, 21)"
      ]
     },
     "execution_count": 4,
     "metadata": {},
     "output_type": "execute_result"
    }
   ],
   "source": [
    "Data.shape # checking the total number of rows and columns"
   ]
  },
  {
   "cell_type": "code",
   "execution_count": 5,
   "id": "aff47b74",
   "metadata": {},
   "outputs": [
    {
     "data": {
      "text/plain": [
       "Index(['customerID', 'gender', 'SeniorCitizen', 'Partner', 'Dependents',\n",
       "       'tenure', 'PhoneService', 'MultipleLines', 'InternetService',\n",
       "       'OnlineSecurity', 'OnlineBackup', 'DeviceProtection', 'TechSupport',\n",
       "       'StreamingTV', 'StreamingMovies', 'Contract', 'PaperlessBilling',\n",
       "       'PaymentMethod', 'MonthlyCharges', 'TotalCharges', 'Churn'],\n",
       "      dtype='object')"
      ]
     },
     "execution_count": 5,
     "metadata": {},
     "output_type": "execute_result"
    }
   ],
   "source": [
    "Data.columns #checking the total number of columns"
   ]
  },
  {
   "cell_type": "code",
   "execution_count": 6,
   "id": "7300d3df",
   "metadata": {},
   "outputs": [
    {
     "name": "stdout",
     "output_type": "stream",
     "text": [
      "<class 'pandas.core.frame.DataFrame'>\n",
      "RangeIndex: 7043 entries, 0 to 7042\n",
      "Data columns (total 21 columns):\n",
      " #   Column            Non-Null Count  Dtype  \n",
      "---  ------            --------------  -----  \n",
      " 0   customerID        7043 non-null   object \n",
      " 1   gender            7043 non-null   object \n",
      " 2   SeniorCitizen     7043 non-null   int64  \n",
      " 3   Partner           7043 non-null   object \n",
      " 4   Dependents        7043 non-null   object \n",
      " 5   tenure            7043 non-null   int64  \n",
      " 6   PhoneService      7043 non-null   object \n",
      " 7   MultipleLines     7043 non-null   object \n",
      " 8   InternetService   7043 non-null   object \n",
      " 9   OnlineSecurity    7043 non-null   object \n",
      " 10  OnlineBackup      7043 non-null   object \n",
      " 11  DeviceProtection  7043 non-null   object \n",
      " 12  TechSupport       7043 non-null   object \n",
      " 13  StreamingTV       7043 non-null   object \n",
      " 14  StreamingMovies   7043 non-null   object \n",
      " 15  Contract          7043 non-null   object \n",
      " 16  PaperlessBilling  7043 non-null   object \n",
      " 17  PaymentMethod     7043 non-null   object \n",
      " 18  MonthlyCharges    7043 non-null   float64\n",
      " 19  TotalCharges      7043 non-null   object \n",
      " 20  Churn             7043 non-null   object \n",
      "dtypes: float64(1), int64(2), object(18)\n",
      "memory usage: 1.1+ MB\n"
     ]
    }
   ],
   "source": [
    "Data.info() #checking the data type"
   ]
  },
  {
   "cell_type": "code",
   "execution_count": 7,
   "id": "3799e4ef",
   "metadata": {},
   "outputs": [],
   "source": [
    "# Except monthly charges,Senior citizen and tenure all are object data type and needs to be encoded"
   ]
  },
  {
   "cell_type": "code",
   "execution_count": 8,
   "id": "0a46602f",
   "metadata": {},
   "outputs": [
    {
     "data": {
      "text/plain": [
       "customerID          0\n",
       "gender              0\n",
       "SeniorCitizen       0\n",
       "Partner             0\n",
       "Dependents          0\n",
       "tenure              0\n",
       "PhoneService        0\n",
       "MultipleLines       0\n",
       "InternetService     0\n",
       "OnlineSecurity      0\n",
       "OnlineBackup        0\n",
       "DeviceProtection    0\n",
       "TechSupport         0\n",
       "StreamingTV         0\n",
       "StreamingMovies     0\n",
       "Contract            0\n",
       "PaperlessBilling    0\n",
       "PaymentMethod       0\n",
       "MonthlyCharges      0\n",
       "TotalCharges        0\n",
       "Churn               0\n",
       "dtype: int64"
      ]
     },
     "execution_count": 8,
     "metadata": {},
     "output_type": "execute_result"
    }
   ],
   "source": [
    "Data.isnull().sum() #Checking for null values"
   ]
  },
  {
   "cell_type": "code",
   "execution_count": 9,
   "id": "8218fd3e",
   "metadata": {},
   "outputs": [],
   "source": [
    "# No null values"
   ]
  },
  {
   "cell_type": "code",
   "execution_count": 10,
   "id": "ffcf4e22",
   "metadata": {},
   "outputs": [],
   "source": [
    "Data.drop('customerID',axis=1,inplace=True ) #dropping customer ID as it will have no contribution on churn prediction"
   ]
  },
  {
   "cell_type": "markdown",
   "id": "c05c00ef",
   "metadata": {},
   "source": [
    "### Checking the values and unique count of all the columns"
   ]
  },
  {
   "cell_type": "code",
   "execution_count": 11,
   "id": "4e2d824d",
   "metadata": {},
   "outputs": [],
   "source": [
    "# First,Checking with the non object data type"
   ]
  },
  {
   "cell_type": "code",
   "execution_count": 12,
   "id": "52f50ff2",
   "metadata": {},
   "outputs": [
    {
     "data": {
      "text/plain": [
       "array([0, 1], dtype=int64)"
      ]
     },
     "execution_count": 12,
     "metadata": {},
     "output_type": "execute_result"
    }
   ],
   "source": [
    "Data['SeniorCitizen'].unique()"
   ]
  },
  {
   "cell_type": "code",
   "execution_count": 13,
   "id": "cbae8be7",
   "metadata": {},
   "outputs": [
    {
     "data": {
      "text/plain": [
       "0    5901\n",
       "1    1142\n",
       "Name: SeniorCitizen, dtype: int64"
      ]
     },
     "execution_count": 13,
     "metadata": {},
     "output_type": "execute_result"
    }
   ],
   "source": [
    "Data['SeniorCitizen'].value_counts()"
   ]
  },
  {
   "cell_type": "code",
   "execution_count": 14,
   "id": "368b6f31",
   "metadata": {},
   "outputs": [
    {
     "data": {
      "text/plain": [
       "<AxesSubplot:xlabel='Churn', ylabel='SeniorCitizen'>"
      ]
     },
     "execution_count": 14,
     "metadata": {},
     "output_type": "execute_result"
    },
    {
     "data": {
      "image/png": "[encoded data removed]",
      "text/plain": [
       "<Figure size 432x288 with 1 Axes>"
      ]
     },
     "metadata": {
      "needs_background": "light"
     },
     "output_type": "display_data"
    }
   ],
   "source": [
    "sns.barplot(y='SeniorCitizen',x='Churn',data=Data)"
   ]
  },
  {
   "cell_type": "code",
   "execution_count": 15,
   "id": "8522d222",
   "metadata": {},
   "outputs": [],
   "source": [
    "# Observation: Churn rate is higher for senior citizen and majority of the customers are young"
   ]
  },
  {
   "cell_type": "code",
   "execution_count": 16,
   "id": "89838330",
   "metadata": {},
   "outputs": [
    {
     "data": {
      "text/plain": [
       "array([ 1, 34,  2, 45,  8, 22, 10, 28, 62, 13, 16, 58, 49, 25, 69, 52, 71,\n",
       "       21, 12, 30, 47, 72, 17, 27,  5, 46, 11, 70, 63, 43, 15, 60, 18, 66,\n",
       "        9,  3, 31, 50, 64, 56,  7, 42, 35, 48, 29, 65, 38, 68, 32, 55, 37,\n",
       "       36, 41,  6,  4, 33, 67, 23, 57, 61, 14, 20, 53, 40, 59, 24, 44, 19,\n",
       "       54, 51, 26,  0, 39], dtype=int64)"
      ]
     },
     "execution_count": 16,
     "metadata": {},
     "output_type": "execute_result"
    }
   ],
   "source": [
    "Data['tenure'].unique()"
   ]
  },
  {
   "cell_type": "code",
   "execution_count": 17,
   "id": "79411cf4",
   "metadata": {},
   "outputs": [
    {
     "data": {
      "text/plain": [
       "1     613\n",
       "72    362\n",
       "2     238\n",
       "3     200\n",
       "4     176\n",
       "     ... \n",
       "28     57\n",
       "39     56\n",
       "44     51\n",
       "36     50\n",
       "0      11\n",
       "Name: tenure, Length: 73, dtype: int64"
      ]
     },
     "execution_count": 17,
     "metadata": {},
     "output_type": "execute_result"
    }
   ],
   "source": [
    "Data['tenure'].value_counts()"
   ]
  },
  {
   "cell_type": "code",
   "execution_count": 18,
   "id": "79bf5dfc",
   "metadata": {},
   "outputs": [
    {
     "data": {
      "text/plain": [
       "<AxesSubplot:xlabel='Churn', ylabel='tenure'>"
      ]
     },
     "execution_count": 18,
     "metadata": {},
     "output_type": "execute_result"
    },
    {
     "data": {
      "image/png": "[encoded data removed]",
      "text/plain": [
       "<Figure size 432x288 with 1 Axes>"
      ]
     },
     "metadata": {
      "needs_background": "light"
     },
     "output_type": "display_data"
    }
   ],
   "source": [
    "sns.barplot(y='tenure',x='Churn',data=Data)"
   ]
  },
  {
   "cell_type": "code",
   "execution_count": 19,
   "id": "763c3eb1",
   "metadata": {},
   "outputs": [],
   "source": [
    "#Higher churn rate is observed for customers who have a subscription of less than 20 months (1.5 years)"
   ]
  },
  {
   "cell_type": "code",
   "execution_count": 20,
   "id": "81bacd38",
   "metadata": {},
   "outputs": [
    {
     "data": {
      "text/plain": [
       "array([29.85, 56.95, 53.85, ..., 63.1 , 44.2 , 78.7 ])"
      ]
     },
     "execution_count": 20,
     "metadata": {},
     "output_type": "execute_result"
    }
   ],
   "source": [
    "Data['MonthlyCharges'].unique()"
   ]
  },
  {
   "cell_type": "code",
   "execution_count": 21,
   "id": "27ad3d4d",
   "metadata": {},
   "outputs": [
    {
     "data": {
      "text/plain": [
       "20.05     61\n",
       "19.85     45\n",
       "19.95     44\n",
       "19.90     44\n",
       "20.00     43\n",
       "          ..\n",
       "23.65      1\n",
       "114.70     1\n",
       "43.65      1\n",
       "87.80      1\n",
       "78.70      1\n",
       "Name: MonthlyCharges, Length: 1585, dtype: int64"
      ]
     },
     "execution_count": 21,
     "metadata": {},
     "output_type": "execute_result"
    }
   ],
   "source": [
    "Data['MonthlyCharges'].value_counts()"
   ]
  },
  {
   "cell_type": "code",
   "execution_count": 22,
   "id": "ce812bf1",
   "metadata": {},
   "outputs": [
    {
     "data": {
      "text/plain": [
       "Text(0.5, 1.0, 'Distribution of monthly charges by churn')"
      ]
     },
     "execution_count": 22,
     "metadata": {},
     "output_type": "execute_result"
    },
    {
     "data": {
      "image/png": "[encoded data removed]",
      "text/plain": [
       "<Figure size 432x288 with 1 Axes>"
      ]
     },
     "metadata": {
      "needs_background": "light"
     },
     "output_type": "display_data"
    }
   ],
   "source": [
    "ax = sns.kdeplot(Data.MonthlyCharges[(Data[\"Churn\"] == 'No') ],\n",
    "                color=\"Red\", shade = True)\n",
    "ax = sns.kdeplot(Data.MonthlyCharges[(Data[\"Churn\"] == 'Yes') ],\n",
    "                ax =ax, color=\"Blue\", shade= True)\n",
    "ax.legend([\"Not Churn\",\"Churn\"],loc='upper right')\n",
    "ax.set_ylabel('Density')\n",
    "ax.set_xlabel('Monthly Charges')\n",
    "ax.set_title('Distribution of monthly charges by churn')"
   ]
  },
  {
   "cell_type": "code",
   "execution_count": 23,
   "id": "8793635c",
   "metadata": {},
   "outputs": [],
   "source": [
    "# Observation: Churn rate is more for higher rates between 60-100"
   ]
  },
  {
   "cell_type": "code",
   "execution_count": 24,
   "id": "2382dfd6",
   "metadata": {},
   "outputs": [],
   "source": [
    "# Now with Object Data types"
   ]
  },
  {
   "cell_type": "code",
   "execution_count": 25,
   "id": "489940a2",
   "metadata": {},
   "outputs": [
    {
     "data": {
      "text/plain": [
       "array(['Female', 'Male'], dtype=object)"
      ]
     },
     "execution_count": 25,
     "metadata": {},
     "output_type": "execute_result"
    }
   ],
   "source": [
    "Data['gender'].unique()"
   ]
  },
  {
   "cell_type": "code",
   "execution_count": 26,
   "id": "6a3dac83",
   "metadata": {},
   "outputs": [
    {
     "data": {
      "text/plain": [
       "Male      3555\n",
       "Female    3488\n",
       "Name: gender, dtype: int64"
      ]
     },
     "execution_count": 26,
     "metadata": {},
     "output_type": "execute_result"
    }
   ],
   "source": [
    "Data['gender'].value_counts()"
   ]
  },
  {
   "cell_type": "code",
   "execution_count": 27,
   "id": "23088e11",
   "metadata": {},
   "outputs": [],
   "source": [
    "Data['gender']=Data['gender'].replace({'Male':1,'Female':0})"
   ]
  },
  {
   "cell_type": "code",
   "execution_count": 28,
   "id": "b54cec39",
   "metadata": {},
   "outputs": [
    {
     "data": {
      "text/plain": [
       "<seaborn.axisgrid.FacetGrid at 0x1aaa81e54c0>"
      ]
     },
     "execution_count": 28,
     "metadata": {},
     "output_type": "execute_result"
    },
    {
     "data": {
      "image/png": "[encoded data removed]",
      "text/plain": [
       "<Figure size 1152x576 with 1 Axes>"
      ]
     },
     "metadata": {
      "needs_background": "light"
     },
     "output_type": "display_data"
    }
   ],
   "source": [
    "sns.catplot(x='Churn',y='gender',data=Data,kind='box',height=8,aspect=2)"
   ]
  },
  {
   "cell_type": "code",
   "execution_count": 29,
   "id": "311af4aa",
   "metadata": {},
   "outputs": [],
   "source": [
    "# Gender has not much influence for identifying the churn rate"
   ]
  },
  {
   "cell_type": "code",
   "execution_count": 30,
   "id": "f5949f73",
   "metadata": {},
   "outputs": [
    {
     "data": {
      "text/plain": [
       "Index(['gender', 'SeniorCitizen', 'Partner', 'Dependents', 'tenure',\n",
       "       'PhoneService', 'MultipleLines', 'InternetService', 'OnlineSecurity',\n",
       "       'OnlineBackup', 'DeviceProtection', 'TechSupport', 'StreamingTV',\n",
       "       'StreamingMovies', 'Contract', 'PaperlessBilling', 'PaymentMethod',\n",
       "       'MonthlyCharges', 'TotalCharges', 'Churn'],\n",
       "      dtype='object')"
      ]
     },
     "execution_count": 30,
     "metadata": {},
     "output_type": "execute_result"
    }
   ],
   "source": [
    "Data.columns"
   ]
  },
  {
   "cell_type": "code",
   "execution_count": 31,
   "id": "9a36c591",
   "metadata": {},
   "outputs": [
    {
     "data": {
      "text/plain": [
       "array(['Yes', 'No'], dtype=object)"
      ]
     },
     "execution_count": 31,
     "metadata": {},
     "output_type": "execute_result"
    }
   ],
   "source": [
    "Data['Partner'].unique()"
   ]
  },
  {
   "cell_type": "code",
   "execution_count": 32,
   "id": "9f7f7c29",
   "metadata": {},
   "outputs": [
    {
     "data": {
      "text/plain": [
       "No     3641\n",
       "Yes    3402\n",
       "Name: Partner, dtype: int64"
      ]
     },
     "execution_count": 32,
     "metadata": {},
     "output_type": "execute_result"
    }
   ],
   "source": [
    "Data['Partner'].value_counts()"
   ]
  },
  {
   "cell_type": "code",
   "execution_count": 33,
   "id": "cb578385",
   "metadata": {},
   "outputs": [],
   "source": [
    "Data['Partner']=Data['Partner'].replace({'Yes':1,'No':0})"
   ]
  },
  {
   "cell_type": "code",
   "execution_count": 34,
   "id": "2f696df0",
   "metadata": {},
   "outputs": [
    {
     "data": {
      "text/plain": [
       "<seaborn.axisgrid.FacetGrid at 0x1aaa899df40>"
      ]
     },
     "execution_count": 34,
     "metadata": {},
     "output_type": "execute_result"
    },
    {
     "data": {
      "image/png": "[encoded data removed]",
      "text/plain": [
       "<Figure size 360x360 with 1 Axes>"
      ]
     },
     "metadata": {
      "needs_background": "light"
     },
     "output_type": "display_data"
    }
   ],
   "source": [
    "sns.catplot(x='Churn',y='Partner',data=Data,kind='violin')"
   ]
  },
  {
   "cell_type": "code",
   "execution_count": 35,
   "id": "96a9b4a2",
   "metadata": {},
   "outputs": [],
   "source": [
    "# No fixed pattern can be observed for partners while churning"
   ]
  },
  {
   "cell_type": "code",
   "execution_count": 36,
   "id": "7d49a598",
   "metadata": {},
   "outputs": [
    {
     "data": {
      "text/plain": [
       "array(['No', 'Yes'], dtype=object)"
      ]
     },
     "execution_count": 36,
     "metadata": {},
     "output_type": "execute_result"
    }
   ],
   "source": [
    "Data['Dependents'].unique()"
   ]
  },
  {
   "cell_type": "code",
   "execution_count": 37,
   "id": "66f9802d",
   "metadata": {},
   "outputs": [
    {
     "data": {
      "text/plain": [
       "No     4933\n",
       "Yes    2110\n",
       "Name: Dependents, dtype: int64"
      ]
     },
     "execution_count": 37,
     "metadata": {},
     "output_type": "execute_result"
    }
   ],
   "source": [
    "Data['Dependents'].value_counts()"
   ]
  },
  {
   "cell_type": "code",
   "execution_count": 38,
   "id": "405db5e1",
   "metadata": {},
   "outputs": [],
   "source": [
    "# Majority of the customers are non dependent"
   ]
  },
  {
   "cell_type": "code",
   "execution_count": 39,
   "id": "dcb9a58b",
   "metadata": {},
   "outputs": [],
   "source": [
    "Data['Dependents']=Data['Dependents'].replace({'No':0,'Yes':1})"
   ]
  },
  {
   "cell_type": "code",
   "execution_count": 40,
   "id": "2937966f",
   "metadata": {},
   "outputs": [
    {
     "data": {
      "text/plain": [
       "<AxesSubplot:xlabel='Churn', ylabel='Dependents'>"
      ]
     },
     "execution_count": 40,
     "metadata": {},
     "output_type": "execute_result"
    },
    {
     "data": {
      "image/png": "[encoded data removed]",
      "text/plain": [
       "<Figure size 432x288 with 1 Axes>"
      ]
     },
     "metadata": {
      "needs_background": "light"
     },
     "output_type": "display_data"
    }
   ],
   "source": [
    "sns.barplot(x='Churn',y='Dependents',data=Data)"
   ]
  },
  {
   "cell_type": "code",
   "execution_count": 41,
   "id": "5b0c0cce",
   "metadata": {},
   "outputs": [],
   "source": [
    "# Churn rate is affected by people who are non depended. However the count for such is less as compared not churned"
   ]
  },
  {
   "cell_type": "code",
   "execution_count": 42,
   "id": "c4bc2e36",
   "metadata": {},
   "outputs": [
    {
     "data": {
      "text/plain": [
       "<AxesSubplot:xlabel='PhoneService', ylabel='count'>"
      ]
     },
     "execution_count": 42,
     "metadata": {},
     "output_type": "execute_result"
    },
    {
     "data": {
      "image/png": "[encoded data removed]",
      "text/plain": [
       "<Figure size 432x288 with 1 Axes>"
      ]
     },
     "metadata": {
      "needs_background": "light"
     },
     "output_type": "display_data"
    }
   ],
   "source": [
    "sns.countplot(Data['PhoneService'])"
   ]
  },
  {
   "cell_type": "code",
   "execution_count": 43,
   "id": "fa1e885d",
   "metadata": {},
   "outputs": [],
   "source": [
    "# Majority people have phone service"
   ]
  },
  {
   "cell_type": "code",
   "execution_count": 44,
   "id": "cbe7cf67",
   "metadata": {},
   "outputs": [
    {
     "data": {
      "text/plain": [
       "<AxesSubplot:xlabel='MultipleLines', ylabel='count'>"
      ]
     },
     "execution_count": 44,
     "metadata": {},
     "output_type": "execute_result"
    },
    {
     "data": {
      "image/png": "[encoded data removed]",
      "text/plain": [
       "<Figure size 432x288 with 1 Axes>"
      ]
     },
     "metadata": {
      "needs_background": "light"
     },
     "output_type": "display_data"
    }
   ],
   "source": [
    "sns.countplot(Data['MultipleLines'])"
   ]
  },
  {
   "cell_type": "code",
   "execution_count": 45,
   "id": "cef608d4",
   "metadata": {},
   "outputs": [],
   "source": [
    "#Maximum people do not have a multiple line"
   ]
  },
  {
   "cell_type": "code",
   "execution_count": 46,
   "id": "14a96963",
   "metadata": {},
   "outputs": [
    {
     "data": {
      "text/plain": [
       "<AxesSubplot:xlabel='InternetService', ylabel='count'>"
      ]
     },
     "execution_count": 46,
     "metadata": {},
     "output_type": "execute_result"
    },
    {
     "data": {
      "image/png": "[encoded data removed]",
      "text/plain": [
       "<Figure size 432x288 with 1 Axes>"
      ]
     },
     "metadata": {
      "needs_background": "light"
     },
     "output_type": "display_data"
    }
   ],
   "source": [
    "sns.countplot(Data['InternetService'])"
   ]
  },
  {
   "cell_type": "code",
   "execution_count": 47,
   "id": "92959575",
   "metadata": {},
   "outputs": [],
   "source": [
    "#Majority have opted for fibre optic Internet Service which gives faster connection"
   ]
  },
  {
   "cell_type": "code",
   "execution_count": 48,
   "id": "99642320",
   "metadata": {},
   "outputs": [
    {
     "data": {
      "text/plain": [
       "<AxesSubplot:xlabel='OnlineSecurity', ylabel='count'>"
      ]
     },
     "execution_count": 48,
     "metadata": {},
     "output_type": "execute_result"
    },
    {
     "data": {
      "image/png": "[encoded data removed]",
      "text/plain": [
       "<Figure size 432x288 with 1 Axes>"
      ]
     },
     "metadata": {
      "needs_background": "light"
     },
     "output_type": "display_data"
    }
   ],
   "source": [
    "sns.countplot(Data['OnlineSecurity'])"
   ]
  },
  {
   "cell_type": "code",
   "execution_count": 49,
   "id": "087a504a",
   "metadata": {},
   "outputs": [],
   "source": [
    "# Maximum people does not have online security which can be a reason for churning"
   ]
  },
  {
   "cell_type": "code",
   "execution_count": 50,
   "id": "b685e1ad",
   "metadata": {},
   "outputs": [
    {
     "data": {
      "text/plain": [
       "<AxesSubplot:xlabel='OnlineBackup', ylabel='count'>"
      ]
     },
     "execution_count": 50,
     "metadata": {},
     "output_type": "execute_result"
    },
    {
     "data": {
      "image/png": "[encoded data removed]",
      "text/plain": [
       "<Figure size 432x288 with 1 Axes>"
      ]
     },
     "metadata": {
      "needs_background": "light"
     },
     "output_type": "display_data"
    }
   ],
   "source": [
    "sns.countplot(Data['OnlineBackup'])"
   ]
  },
  {
   "cell_type": "code",
   "execution_count": 51,
   "id": "1870dbfb",
   "metadata": {},
   "outputs": [],
   "source": [
    "# Maximum people does not have online backup which can be a reason for churning"
   ]
  },
  {
   "cell_type": "code",
   "execution_count": 52,
   "id": "7c463e4f",
   "metadata": {},
   "outputs": [
    {
     "data": {
      "text/plain": [
       "<AxesSubplot:xlabel='DeviceProtection', ylabel='count'>"
      ]
     },
     "execution_count": 52,
     "metadata": {},
     "output_type": "execute_result"
    },
    {
     "data": {
      "image/png": "[encoded data removed]",
      "text/plain": [
       "<Figure size 432x288 with 1 Axes>"
      ]
     },
     "metadata": {
      "needs_background": "light"
     },
     "output_type": "display_data"
    }
   ],
   "source": [
    "sns.countplot(Data['DeviceProtection'])"
   ]
  },
  {
   "cell_type": "code",
   "execution_count": 53,
   "id": "43efe474",
   "metadata": {},
   "outputs": [
    {
     "data": {
      "text/plain": [
       "<AxesSubplot:xlabel='TechSupport', ylabel='count'>"
      ]
     },
     "execution_count": 53,
     "metadata": {},
     "output_type": "execute_result"
    },
    {
     "data": {
      "image/png": "[encoded data removed]",
      "text/plain": [
       "<Figure size 432x288 with 1 Axes>"
      ]
     },
     "metadata": {
      "needs_background": "light"
     },
     "output_type": "display_data"
    }
   ],
   "source": [
    "sns.countplot(Data['TechSupport'])"
   ]
  },
  {
   "cell_type": "code",
   "execution_count": 54,
   "id": "9425eaf6",
   "metadata": {},
   "outputs": [],
   "source": [
    "# Maximum people does not have technical support which can be a reason for churning"
   ]
  },
  {
   "cell_type": "code",
   "execution_count": 55,
   "id": "6013b5ea",
   "metadata": {},
   "outputs": [
    {
     "data": {
      "text/plain": [
       "<AxesSubplot:xlabel='StreamingTV', ylabel='count'>"
      ]
     },
     "execution_count": 55,
     "metadata": {},
     "output_type": "execute_result"
    },
    {
     "data": {
      "image/png": "[encoded data removed]",
      "text/plain": [
       "<Figure size 432x288 with 1 Axes>"
      ]
     },
     "metadata": {
      "needs_background": "light"
     },
     "output_type": "display_data"
    }
   ],
   "source": [
    "sns.countplot(Data['StreamingTV'])"
   ]
  },
  {
   "cell_type": "code",
   "execution_count": 56,
   "id": "9b2189ea",
   "metadata": {},
   "outputs": [],
   "source": [
    "# There is a slight difference in people have streaming TV and not having steaming TV. However majority population does not have it"
   ]
  },
  {
   "cell_type": "code",
   "execution_count": 57,
   "id": "e35b8bfe",
   "metadata": {},
   "outputs": [
    {
     "data": {
      "text/plain": [
       "<AxesSubplot:xlabel='StreamingMovies', ylabel='count'>"
      ]
     },
     "execution_count": 57,
     "metadata": {},
     "output_type": "execute_result"
    },
    {
     "data": {
      "image/png": "[encoded data removed]",
      "text/plain": [
       "<Figure size 432x288 with 1 Axes>"
      ]
     },
     "metadata": {
      "needs_background": "light"
     },
     "output_type": "display_data"
    }
   ],
   "source": [
    "sns.countplot(Data['StreamingMovies'])"
   ]
  },
  {
   "cell_type": "code",
   "execution_count": 58,
   "id": "2baef153",
   "metadata": {},
   "outputs": [],
   "source": [
    "# There is a slight difference in people have streaming movies and not having steaming movies. However majority population does not have it"
   ]
  },
  {
   "cell_type": "code",
   "execution_count": 59,
   "id": "dc104b40",
   "metadata": {},
   "outputs": [
    {
     "data": {
      "text/plain": [
       "<AxesSubplot:xlabel='Contract', ylabel='count'>"
      ]
     },
     "execution_count": 59,
     "metadata": {},
     "output_type": "execute_result"
    },
    {
     "data": {
      "image/png": "[encoded data removed]",
      "text/plain": [
       "<Figure size 432x288 with 1 Axes>"
      ]
     },
     "metadata": {
      "needs_background": "light"
     },
     "output_type": "display_data"
    }
   ],
   "source": [
    "sns.countplot(Data['Contract'])"
   ]
  },
  {
   "cell_type": "code",
   "execution_count": 60,
   "id": "c26ab7f3",
   "metadata": {},
   "outputs": [],
   "source": [
    "# Majority of people have opted for Month to Month contract"
   ]
  },
  {
   "cell_type": "code",
   "execution_count": 61,
   "id": "c4212d3e",
   "metadata": {},
   "outputs": [
    {
     "data": {
      "text/plain": [
       "<AxesSubplot:xlabel='PaperlessBilling', ylabel='count'>"
      ]
     },
     "execution_count": 61,
     "metadata": {},
     "output_type": "execute_result"
    },
    {
     "data": {
      "image/png": "[encoded data removed]",
      "text/plain": [
       "<Figure size 432x288 with 1 Axes>"
      ]
     },
     "metadata": {
      "needs_background": "light"
     },
     "output_type": "display_data"
    }
   ],
   "source": [
    "sns.countplot(Data['PaperlessBilling'])"
   ]
  },
  {
   "cell_type": "code",
   "execution_count": 62,
   "id": "f461b9ec",
   "metadata": {},
   "outputs": [],
   "source": [
    "# People usually prefer Paperless Billing"
   ]
  },
  {
   "cell_type": "code",
   "execution_count": 63,
   "id": "53f77504",
   "metadata": {},
   "outputs": [
    {
     "data": {
      "text/plain": [
       "<AxesSubplot:xlabel='PaymentMethod', ylabel='count'>"
      ]
     },
     "execution_count": 63,
     "metadata": {},
     "output_type": "execute_result"
    },
    {
     "data": {
      "image/png": "[encoded data removed]",
      "text/plain": [
       "<Figure size 432x288 with 1 Axes>"
      ]
     },
     "metadata": {
      "needs_background": "light"
     },
     "output_type": "display_data"
    }
   ],
   "source": [
    "sns.countplot(Data['PaymentMethod'])"
   ]
  },
  {
   "cell_type": "code",
   "execution_count": 64,
   "id": "061d8e98",
   "metadata": {},
   "outputs": [],
   "source": [
    "# Electronic check is more in demand as a payment method"
   ]
  },
  {
   "cell_type": "code",
   "execution_count": 65,
   "id": "2989324f",
   "metadata": {},
   "outputs": [],
   "source": [
    "# Converting total charges into numerical data type\n",
    "Data['TotalCharges']=pd.to_numeric(Data['TotalCharges'],errors='coerce')"
   ]
  },
  {
   "cell_type": "code",
   "execution_count": 66,
   "id": "497aa17b",
   "metadata": {},
   "outputs": [
    {
     "name": "stdout",
     "output_type": "stream",
     "text": [
      "<class 'pandas.core.frame.DataFrame'>\n",
      "RangeIndex: 7043 entries, 0 to 7042\n",
      "Data columns (total 20 columns):\n",
      " #   Column            Non-Null Count  Dtype  \n",
      "---  ------            --------------  -----  \n",
      " 0   gender            7043 non-null   int64  \n",
      " 1   SeniorCitizen     7043 non-null   int64  \n",
      " 2   Partner           7043 non-null   int64  \n",
      " 3   Dependents        7043 non-null   int64  \n",
      " 4   tenure            7043 non-null   int64  \n",
      " 5   PhoneService      7043 non-null   object \n",
      " 6   MultipleLines     7043 non-null   object \n",
      " 7   InternetService   7043 non-null   object \n",
      " 8   OnlineSecurity    7043 non-null   object \n",
      " 9   OnlineBackup      7043 non-null   object \n",
      " 10  DeviceProtection  7043 non-null   object \n",
      " 11  TechSupport       7043 non-null   object \n",
      " 12  StreamingTV       7043 non-null   object \n",
      " 13  StreamingMovies   7043 non-null   object \n",
      " 14  Contract          7043 non-null   object \n",
      " 15  PaperlessBilling  7043 non-null   object \n",
      " 16  PaymentMethod     7043 non-null   object \n",
      " 17  MonthlyCharges    7043 non-null   float64\n",
      " 18  TotalCharges      7032 non-null   float64\n",
      " 19  Churn             7043 non-null   object \n",
      "dtypes: float64(2), int64(5), object(13)\n",
      "memory usage: 1.1+ MB\n"
     ]
    }
   ],
   "source": [
    "Data.info()"
   ]
  },
  {
   "cell_type": "code",
   "execution_count": 67,
   "id": "c27d26cb",
   "metadata": {},
   "outputs": [
    {
     "data": {
      "text/plain": [
       "gender               0\n",
       "SeniorCitizen        0\n",
       "Partner              0\n",
       "Dependents           0\n",
       "tenure               0\n",
       "PhoneService         0\n",
       "MultipleLines        0\n",
       "InternetService      0\n",
       "OnlineSecurity       0\n",
       "OnlineBackup         0\n",
       "DeviceProtection     0\n",
       "TechSupport          0\n",
       "StreamingTV          0\n",
       "StreamingMovies      0\n",
       "Contract             0\n",
       "PaperlessBilling     0\n",
       "PaymentMethod        0\n",
       "MonthlyCharges       0\n",
       "TotalCharges        11\n",
       "Churn                0\n",
       "dtype: int64"
      ]
     },
     "execution_count": 67,
     "metadata": {},
     "output_type": "execute_result"
    }
   ],
   "source": [
    "Data.isnull().sum()"
   ]
  },
  {
   "cell_type": "code",
   "execution_count": 68,
   "id": "6c05306c",
   "metadata": {},
   "outputs": [],
   "source": [
    "Data.dropna(axis=0,inplace=True) #dropping the null values"
   ]
  },
  {
   "cell_type": "code",
   "execution_count": 69,
   "id": "7c399975",
   "metadata": {},
   "outputs": [
    {
     "data": {
      "text/html": [
       "<div>\n",
       "<style scoped>\n",
       "    .dataframe tbody tr th:only-of-type {\n",
       "        vertical-align: middle;\n",
       "    }\n",
       "\n",
       "    .dataframe tbody tr th {\n",
       "        vertical-align: top;\n",
       "    }\n",
       "\n",
       "    .dataframe thead th {\n",
       "        text-align: right;\n",
       "    }\n",
       "</style>\n",
       "<table border=\"1\" class=\"dataframe\">\n",
       "  <thead>\n",
       "    <tr style=\"text-align: right;\">\n",
       "      <th></th>\n",
       "      <th>index</th>\n",
       "      <th>gender</th>\n",
       "      <th>SeniorCitizen</th>\n",
       "      <th>Partner</th>\n",
       "      <th>Dependents</th>\n",
       "      <th>tenure</th>\n",
       "      <th>PhoneService</th>\n",
       "      <th>MultipleLines</th>\n",
       "      <th>InternetService</th>\n",
       "      <th>OnlineSecurity</th>\n",
       "      <th>...</th>\n",
       "      <th>DeviceProtection</th>\n",
       "      <th>TechSupport</th>\n",
       "      <th>StreamingTV</th>\n",
       "      <th>StreamingMovies</th>\n",
       "      <th>Contract</th>\n",
       "      <th>PaperlessBilling</th>\n",
       "      <th>PaymentMethod</th>\n",
       "      <th>MonthlyCharges</th>\n",
       "      <th>TotalCharges</th>\n",
       "      <th>Churn</th>\n",
       "    </tr>\n",
       "  </thead>\n",
       "  <tbody>\n",
       "    <tr>\n",
       "      <th>0</th>\n",
       "      <td>0</td>\n",
       "      <td>0</td>\n",
       "      <td>0</td>\n",
       "      <td>1</td>\n",
       "      <td>0</td>\n",
       "      <td>1</td>\n",
       "      <td>No</td>\n",
       "      <td>No phone service</td>\n",
       "      <td>DSL</td>\n",
       "      <td>No</td>\n",
       "      <td>...</td>\n",
       "      <td>No</td>\n",
       "      <td>No</td>\n",
       "      <td>No</td>\n",
       "      <td>No</td>\n",
       "      <td>Month-to-month</td>\n",
       "      <td>Yes</td>\n",
       "      <td>Electronic check</td>\n",
       "      <td>29.85</td>\n",
       "      <td>29.85</td>\n",
       "      <td>No</td>\n",
       "    </tr>\n",
       "    <tr>\n",
       "      <th>1</th>\n",
       "      <td>1</td>\n",
       "      <td>1</td>\n",
       "      <td>0</td>\n",
       "      <td>0</td>\n",
       "      <td>0</td>\n",
       "      <td>34</td>\n",
       "      <td>Yes</td>\n",
       "      <td>No</td>\n",
       "      <td>DSL</td>\n",
       "      <td>Yes</td>\n",
       "      <td>...</td>\n",
       "      <td>Yes</td>\n",
       "      <td>No</td>\n",
       "      <td>No</td>\n",
       "      <td>No</td>\n",
       "      <td>One year</td>\n",
       "      <td>No</td>\n",
       "      <td>Mailed check</td>\n",
       "      <td>56.95</td>\n",
       "      <td>1889.50</td>\n",
       "      <td>No</td>\n",
       "    </tr>\n",
       "    <tr>\n",
       "      <th>2</th>\n",
       "      <td>2</td>\n",
       "      <td>1</td>\n",
       "      <td>0</td>\n",
       "      <td>0</td>\n",
       "      <td>0</td>\n",
       "      <td>2</td>\n",
       "      <td>Yes</td>\n",
       "      <td>No</td>\n",
       "      <td>DSL</td>\n",
       "      <td>Yes</td>\n",
       "      <td>...</td>\n",
       "      <td>No</td>\n",
       "      <td>No</td>\n",
       "      <td>No</td>\n",
       "      <td>No</td>\n",
       "      <td>Month-to-month</td>\n",
       "      <td>Yes</td>\n",
       "      <td>Mailed check</td>\n",
       "      <td>53.85</td>\n",
       "      <td>108.15</td>\n",
       "      <td>Yes</td>\n",
       "    </tr>\n",
       "    <tr>\n",
       "      <th>3</th>\n",
       "      <td>3</td>\n",
       "      <td>1</td>\n",
       "      <td>0</td>\n",
       "      <td>0</td>\n",
       "      <td>0</td>\n",
       "      <td>45</td>\n",
       "      <td>No</td>\n",
       "      <td>No phone service</td>\n",
       "      <td>DSL</td>\n",
       "      <td>Yes</td>\n",
       "      <td>...</td>\n",
       "      <td>Yes</td>\n",
       "      <td>Yes</td>\n",
       "      <td>No</td>\n",
       "      <td>No</td>\n",
       "      <td>One year</td>\n",
       "      <td>No</td>\n",
       "      <td>Bank transfer (automatic)</td>\n",
       "      <td>42.30</td>\n",
       "      <td>1840.75</td>\n",
       "      <td>No</td>\n",
       "    </tr>\n",
       "    <tr>\n",
       "      <th>4</th>\n",
       "      <td>4</td>\n",
       "      <td>0</td>\n",
       "      <td>0</td>\n",
       "      <td>0</td>\n",
       "      <td>0</td>\n",
       "      <td>2</td>\n",
       "      <td>Yes</td>\n",
       "      <td>No</td>\n",
       "      <td>Fiber optic</td>\n",
       "      <td>No</td>\n",
       "      <td>...</td>\n",
       "      <td>No</td>\n",
       "      <td>No</td>\n",
       "      <td>No</td>\n",
       "      <td>No</td>\n",
       "      <td>Month-to-month</td>\n",
       "      <td>Yes</td>\n",
       "      <td>Electronic check</td>\n",
       "      <td>70.70</td>\n",
       "      <td>151.65</td>\n",
       "      <td>Yes</td>\n",
       "    </tr>\n",
       "    <tr>\n",
       "      <th>...</th>\n",
       "      <td>...</td>\n",
       "      <td>...</td>\n",
       "      <td>...</td>\n",
       "      <td>...</td>\n",
       "      <td>...</td>\n",
       "      <td>...</td>\n",
       "      <td>...</td>\n",
       "      <td>...</td>\n",
       "      <td>...</td>\n",
       "      <td>...</td>\n",
       "      <td>...</td>\n",
       "      <td>...</td>\n",
       "      <td>...</td>\n",
       "      <td>...</td>\n",
       "      <td>...</td>\n",
       "      <td>...</td>\n",
       "      <td>...</td>\n",
       "      <td>...</td>\n",
       "      <td>...</td>\n",
       "      <td>...</td>\n",
       "      <td>...</td>\n",
       "    </tr>\n",
       "    <tr>\n",
       "      <th>7027</th>\n",
       "      <td>7038</td>\n",
       "      <td>1</td>\n",
       "      <td>0</td>\n",
       "      <td>1</td>\n",
       "      <td>1</td>\n",
       "      <td>24</td>\n",
       "      <td>Yes</td>\n",
       "      <td>Yes</td>\n",
       "      <td>DSL</td>\n",
       "      <td>Yes</td>\n",
       "      <td>...</td>\n",
       "      <td>Yes</td>\n",
       "      <td>Yes</td>\n",
       "      <td>Yes</td>\n",
       "      <td>Yes</td>\n",
       "      <td>One year</td>\n",
       "      <td>Yes</td>\n",
       "      <td>Mailed check</td>\n",
       "      <td>84.80</td>\n",
       "      <td>1990.50</td>\n",
       "      <td>No</td>\n",
       "    </tr>\n",
       "    <tr>\n",
       "      <th>7028</th>\n",
       "      <td>7039</td>\n",
       "      <td>0</td>\n",
       "      <td>0</td>\n",
       "      <td>1</td>\n",
       "      <td>1</td>\n",
       "      <td>72</td>\n",
       "      <td>Yes</td>\n",
       "      <td>Yes</td>\n",
       "      <td>Fiber optic</td>\n",
       "      <td>No</td>\n",
       "      <td>...</td>\n",
       "      <td>Yes</td>\n",
       "      <td>No</td>\n",
       "      <td>Yes</td>\n",
       "      <td>Yes</td>\n",
       "      <td>One year</td>\n",
       "      <td>Yes</td>\n",
       "      <td>Credit card (automatic)</td>\n",
       "      <td>103.20</td>\n",
       "      <td>7362.90</td>\n",
       "      <td>No</td>\n",
       "    </tr>\n",
       "    <tr>\n",
       "      <th>7029</th>\n",
       "      <td>7040</td>\n",
       "      <td>0</td>\n",
       "      <td>0</td>\n",
       "      <td>1</td>\n",
       "      <td>1</td>\n",
       "      <td>11</td>\n",
       "      <td>No</td>\n",
       "      <td>No phone service</td>\n",
       "      <td>DSL</td>\n",
       "      <td>Yes</td>\n",
       "      <td>...</td>\n",
       "      <td>No</td>\n",
       "      <td>No</td>\n",
       "      <td>No</td>\n",
       "      <td>No</td>\n",
       "      <td>Month-to-month</td>\n",
       "      <td>Yes</td>\n",
       "      <td>Electronic check</td>\n",
       "      <td>29.60</td>\n",
       "      <td>346.45</td>\n",
       "      <td>No</td>\n",
       "    </tr>\n",
       "    <tr>\n",
       "      <th>7030</th>\n",
       "      <td>7041</td>\n",
       "      <td>1</td>\n",
       "      <td>1</td>\n",
       "      <td>1</td>\n",
       "      <td>0</td>\n",
       "      <td>4</td>\n",
       "      <td>Yes</td>\n",
       "      <td>Yes</td>\n",
       "      <td>Fiber optic</td>\n",
       "      <td>No</td>\n",
       "      <td>...</td>\n",
       "      <td>No</td>\n",
       "      <td>No</td>\n",
       "      <td>No</td>\n",
       "      <td>No</td>\n",
       "      <td>Month-to-month</td>\n",
       "      <td>Yes</td>\n",
       "      <td>Mailed check</td>\n",
       "      <td>74.40</td>\n",
       "      <td>306.60</td>\n",
       "      <td>Yes</td>\n",
       "    </tr>\n",
       "    <tr>\n",
       "      <th>7031</th>\n",
       "      <td>7042</td>\n",
       "      <td>1</td>\n",
       "      <td>0</td>\n",
       "      <td>0</td>\n",
       "      <td>0</td>\n",
       "      <td>66</td>\n",
       "      <td>Yes</td>\n",
       "      <td>No</td>\n",
       "      <td>Fiber optic</td>\n",
       "      <td>Yes</td>\n",
       "      <td>...</td>\n",
       "      <td>Yes</td>\n",
       "      <td>Yes</td>\n",
       "      <td>Yes</td>\n",
       "      <td>Yes</td>\n",
       "      <td>Two year</td>\n",
       "      <td>Yes</td>\n",
       "      <td>Bank transfer (automatic)</td>\n",
       "      <td>105.65</td>\n",
       "      <td>6844.50</td>\n",
       "      <td>No</td>\n",
       "    </tr>\n",
       "  </tbody>\n",
       "</table>\n",
       "<p>7032 rows × 21 columns</p>\n",
       "</div>"
      ],
      "text/plain": [
       "      index  gender  SeniorCitizen  Partner  Dependents  tenure PhoneService  \\\n",
       "0         0       0              0        1           0       1           No   \n",
       "1         1       1              0        0           0      34          Yes   \n",
       "2         2       1              0        0           0       2          Yes   \n",
       "3         3       1              0        0           0      45           No   \n",
       "4         4       0              0        0           0       2          Yes   \n",
       "...     ...     ...            ...      ...         ...     ...          ...   \n",
       "7027   7038       1              0        1           1      24          Yes   \n",
       "7028   7039       0              0        1           1      72          Yes   \n",
       "7029   7040       0              0        1           1      11           No   \n",
       "7030   7041       1              1        1           0       4          Yes   \n",
       "7031   7042       1              0        0           0      66          Yes   \n",
       "\n",
       "         MultipleLines InternetService OnlineSecurity  ... DeviceProtection  \\\n",
       "0     No phone service             DSL             No  ...               No   \n",
       "1                   No             DSL            Yes  ...              Yes   \n",
       "2                   No             DSL            Yes  ...               No   \n",
       "3     No phone service             DSL            Yes  ...              Yes   \n",
       "4                   No     Fiber optic             No  ...               No   \n",
       "...                ...             ...            ...  ...              ...   \n",
       "7027               Yes             DSL            Yes  ...              Yes   \n",
       "7028               Yes     Fiber optic             No  ...              Yes   \n",
       "7029  No phone service             DSL            Yes  ...               No   \n",
       "7030               Yes     Fiber optic             No  ...               No   \n",
       "7031                No     Fiber optic            Yes  ...              Yes   \n",
       "\n",
       "     TechSupport StreamingTV StreamingMovies        Contract PaperlessBilling  \\\n",
       "0             No          No              No  Month-to-month              Yes   \n",
       "1             No          No              No        One year               No   \n",
       "2             No          No              No  Month-to-month              Yes   \n",
       "3            Yes          No              No        One year               No   \n",
       "4             No          No              No  Month-to-month              Yes   \n",
       "...          ...         ...             ...             ...              ...   \n",
       "7027         Yes         Yes             Yes        One year              Yes   \n",
       "7028          No         Yes             Yes        One year              Yes   \n",
       "7029          No          No              No  Month-to-month              Yes   \n",
       "7030          No          No              No  Month-to-month              Yes   \n",
       "7031         Yes         Yes             Yes        Two year              Yes   \n",
       "\n",
       "                  PaymentMethod MonthlyCharges  TotalCharges  Churn  \n",
       "0              Electronic check          29.85         29.85     No  \n",
       "1                  Mailed check          56.95       1889.50     No  \n",
       "2                  Mailed check          53.85        108.15    Yes  \n",
       "3     Bank transfer (automatic)          42.30       1840.75     No  \n",
       "4              Electronic check          70.70        151.65    Yes  \n",
       "...                         ...            ...           ...    ...  \n",
       "7027               Mailed check          84.80       1990.50     No  \n",
       "7028    Credit card (automatic)         103.20       7362.90     No  \n",
       "7029           Electronic check          29.60        346.45     No  \n",
       "7030               Mailed check          74.40        306.60    Yes  \n",
       "7031  Bank transfer (automatic)         105.65       6844.50     No  \n",
       "\n",
       "[7032 rows x 21 columns]"
      ]
     },
     "execution_count": 69,
     "metadata": {},
     "output_type": "execute_result"
    }
   ],
   "source": [
    "Data.reset_index()"
   ]
  },
  {
   "cell_type": "code",
   "execution_count": 70,
   "id": "2c2b89b1",
   "metadata": {},
   "outputs": [
    {
     "data": {
      "text/plain": [
       "No     5163\n",
       "Yes    1869\n",
       "Name: Churn, dtype: int64"
      ]
     },
     "execution_count": 70,
     "metadata": {},
     "output_type": "execute_result"
    }
   ],
   "source": [
    "Data['Churn'].value_counts()"
   ]
  },
  {
   "cell_type": "code",
   "execution_count": 71,
   "id": "29c344ee",
   "metadata": {},
   "outputs": [],
   "source": [
    "Data['Churn']=Data['Churn'].replace({'No':0,'Yes':1})"
   ]
  },
  {
   "cell_type": "code",
   "execution_count": 72,
   "id": "1ad51571",
   "metadata": {},
   "outputs": [
    {
     "data": {
      "text/html": [
       "<div>\n",
       "<style scoped>\n",
       "    .dataframe tbody tr th:only-of-type {\n",
       "        vertical-align: middle;\n",
       "    }\n",
       "\n",
       "    .dataframe tbody tr th {\n",
       "        vertical-align: top;\n",
       "    }\n",
       "\n",
       "    .dataframe thead th {\n",
       "        text-align: right;\n",
       "    }\n",
       "</style>\n",
       "<table border=\"1\" class=\"dataframe\">\n",
       "  <thead>\n",
       "    <tr style=\"text-align: right;\">\n",
       "      <th></th>\n",
       "      <th>gender</th>\n",
       "      <th>SeniorCitizen</th>\n",
       "      <th>Partner</th>\n",
       "      <th>Dependents</th>\n",
       "      <th>tenure</th>\n",
       "      <th>MonthlyCharges</th>\n",
       "      <th>TotalCharges</th>\n",
       "      <th>Churn</th>\n",
       "      <th>PhoneService_No</th>\n",
       "      <th>PhoneService_Yes</th>\n",
       "      <th>...</th>\n",
       "      <th>StreamingMovies_Yes</th>\n",
       "      <th>Contract_Month-to-month</th>\n",
       "      <th>Contract_One year</th>\n",
       "      <th>Contract_Two year</th>\n",
       "      <th>PaperlessBilling_No</th>\n",
       "      <th>PaperlessBilling_Yes</th>\n",
       "      <th>PaymentMethod_Bank transfer (automatic)</th>\n",
       "      <th>PaymentMethod_Credit card (automatic)</th>\n",
       "      <th>PaymentMethod_Electronic check</th>\n",
       "      <th>PaymentMethod_Mailed check</th>\n",
       "    </tr>\n",
       "  </thead>\n",
       "  <tbody>\n",
       "    <tr>\n",
       "      <th>0</th>\n",
       "      <td>0</td>\n",
       "      <td>0</td>\n",
       "      <td>1</td>\n",
       "      <td>0</td>\n",
       "      <td>1</td>\n",
       "      <td>29.85</td>\n",
       "      <td>29.85</td>\n",
       "      <td>0</td>\n",
       "      <td>1</td>\n",
       "      <td>0</td>\n",
       "      <td>...</td>\n",
       "      <td>0</td>\n",
       "      <td>1</td>\n",
       "      <td>0</td>\n",
       "      <td>0</td>\n",
       "      <td>0</td>\n",
       "      <td>1</td>\n",
       "      <td>0</td>\n",
       "      <td>0</td>\n",
       "      <td>1</td>\n",
       "      <td>0</td>\n",
       "    </tr>\n",
       "    <tr>\n",
       "      <th>1</th>\n",
       "      <td>1</td>\n",
       "      <td>0</td>\n",
       "      <td>0</td>\n",
       "      <td>0</td>\n",
       "      <td>34</td>\n",
       "      <td>56.95</td>\n",
       "      <td>1889.50</td>\n",
       "      <td>0</td>\n",
       "      <td>0</td>\n",
       "      <td>1</td>\n",
       "      <td>...</td>\n",
       "      <td>0</td>\n",
       "      <td>0</td>\n",
       "      <td>1</td>\n",
       "      <td>0</td>\n",
       "      <td>1</td>\n",
       "      <td>0</td>\n",
       "      <td>0</td>\n",
       "      <td>0</td>\n",
       "      <td>0</td>\n",
       "      <td>1</td>\n",
       "    </tr>\n",
       "    <tr>\n",
       "      <th>2</th>\n",
       "      <td>1</td>\n",
       "      <td>0</td>\n",
       "      <td>0</td>\n",
       "      <td>0</td>\n",
       "      <td>2</td>\n",
       "      <td>53.85</td>\n",
       "      <td>108.15</td>\n",
       "      <td>1</td>\n",
       "      <td>0</td>\n",
       "      <td>1</td>\n",
       "      <td>...</td>\n",
       "      <td>0</td>\n",
       "      <td>1</td>\n",
       "      <td>0</td>\n",
       "      <td>0</td>\n",
       "      <td>0</td>\n",
       "      <td>1</td>\n",
       "      <td>0</td>\n",
       "      <td>0</td>\n",
       "      <td>0</td>\n",
       "      <td>1</td>\n",
       "    </tr>\n",
       "    <tr>\n",
       "      <th>3</th>\n",
       "      <td>1</td>\n",
       "      <td>0</td>\n",
       "      <td>0</td>\n",
       "      <td>0</td>\n",
       "      <td>45</td>\n",
       "      <td>42.30</td>\n",
       "      <td>1840.75</td>\n",
       "      <td>0</td>\n",
       "      <td>1</td>\n",
       "      <td>0</td>\n",
       "      <td>...</td>\n",
       "      <td>0</td>\n",
       "      <td>0</td>\n",
       "      <td>1</td>\n",
       "      <td>0</td>\n",
       "      <td>1</td>\n",
       "      <td>0</td>\n",
       "      <td>1</td>\n",
       "      <td>0</td>\n",
       "      <td>0</td>\n",
       "      <td>0</td>\n",
       "    </tr>\n",
       "    <tr>\n",
       "      <th>4</th>\n",
       "      <td>0</td>\n",
       "      <td>0</td>\n",
       "      <td>0</td>\n",
       "      <td>0</td>\n",
       "      <td>2</td>\n",
       "      <td>70.70</td>\n",
       "      <td>151.65</td>\n",
       "      <td>1</td>\n",
       "      <td>0</td>\n",
       "      <td>1</td>\n",
       "      <td>...</td>\n",
       "      <td>0</td>\n",
       "      <td>1</td>\n",
       "      <td>0</td>\n",
       "      <td>0</td>\n",
       "      <td>0</td>\n",
       "      <td>1</td>\n",
       "      <td>0</td>\n",
       "      <td>0</td>\n",
       "      <td>1</td>\n",
       "      <td>0</td>\n",
       "    </tr>\n",
       "  </tbody>\n",
       "</table>\n",
       "<p>5 rows × 43 columns</p>\n",
       "</div>"
      ],
      "text/plain": [
       "   gender  SeniorCitizen  Partner  Dependents  tenure  MonthlyCharges  \\\n",
       "0       0              0        1           0       1           29.85   \n",
       "1       1              0        0           0      34           56.95   \n",
       "2       1              0        0           0       2           53.85   \n",
       "3       1              0        0           0      45           42.30   \n",
       "4       0              0        0           0       2           70.70   \n",
       "\n",
       "   TotalCharges  Churn  PhoneService_No  PhoneService_Yes  ...  \\\n",
       "0         29.85      0                1                 0  ...   \n",
       "1       1889.50      0                0                 1  ...   \n",
       "2        108.15      1                0                 1  ...   \n",
       "3       1840.75      0                1                 0  ...   \n",
       "4        151.65      1                0                 1  ...   \n",
       "\n",
       "   StreamingMovies_Yes  Contract_Month-to-month  Contract_One year  \\\n",
       "0                    0                        1                  0   \n",
       "1                    0                        0                  1   \n",
       "2                    0                        1                  0   \n",
       "3                    0                        0                  1   \n",
       "4                    0                        1                  0   \n",
       "\n",
       "   Contract_Two year  PaperlessBilling_No  PaperlessBilling_Yes  \\\n",
       "0                  0                    0                     1   \n",
       "1                  0                    1                     0   \n",
       "2                  0                    0                     1   \n",
       "3                  0                    1                     0   \n",
       "4                  0                    0                     1   \n",
       "\n",
       "   PaymentMethod_Bank transfer (automatic)  \\\n",
       "0                                        0   \n",
       "1                                        0   \n",
       "2                                        0   \n",
       "3                                        1   \n",
       "4                                        0   \n",
       "\n",
       "   PaymentMethod_Credit card (automatic)  PaymentMethod_Electronic check  \\\n",
       "0                                      0                               1   \n",
       "1                                      0                               0   \n",
       "2                                      0                               0   \n",
       "3                                      0                               0   \n",
       "4                                      0                               1   \n",
       "\n",
       "   PaymentMethod_Mailed check  \n",
       "0                           0  \n",
       "1                           1  \n",
       "2                           1  \n",
       "3                           0  \n",
       "4                           0  \n",
       "\n",
       "[5 rows x 43 columns]"
      ]
     },
     "execution_count": 72,
     "metadata": {},
     "output_type": "execute_result"
    }
   ],
   "source": [
    "Data_dummies = pd.get_dummies(Data)\n",
    "Data_dummies.head() # Getting the dummies of all categorical data type"
   ]
  },
  {
   "cell_type": "code",
   "execution_count": 73,
   "id": "6ec8d27c",
   "metadata": {},
   "outputs": [
    {
     "data": {
      "text/plain": [
       "<AxesSubplot:>"
      ]
     },
     "execution_count": 73,
     "metadata": {},
     "output_type": "execute_result"
    },
    {
     "data": {
      "image/png": "[encoded data removed]",
      "text/plain": [
       "<Figure size 1080x576 with 1 Axes>"
      ]
     },
     "metadata": {
      "needs_background": "light"
     },
     "output_type": "display_data"
    }
   ],
   "source": [
    "# getting corelation of all the above categorical data with Churning\n",
    "plt.figure(figsize=(15,8))\n",
    "Data_dummies.corr()['Churn'].sort_values(ascending = False).plot(kind='bar')"
   ]
  },
  {
   "cell_type": "markdown",
   "id": "09d1e229",
   "metadata": {},
   "source": [
    "### From the above data it can be said that: Month to month contract, no online security, no technical support, no online backup, no device protection,paperless biling, fiber optic connection,are the main result in customer churning.\n",
    "\n",
    "### A two year contract results in negative churning"
   ]
  },
  {
   "cell_type": "code",
   "execution_count": 74,
   "id": "2dfc36b9",
   "metadata": {},
   "outputs": [],
   "source": [
    "enc= LabelEncoder() #Encoding the object data type"
   ]
  },
  {
   "cell_type": "code",
   "execution_count": 75,
   "id": "2324906d",
   "metadata": {},
   "outputs": [],
   "source": [
    "columns=['PhoneService','MultipleLines','InternetService','OnlineSecurity','OnlineBackup','DeviceProtection','TechSupport','StreamingTV','StreamingMovies','Contract','PaperlessBilling','PaymentMethod']\n",
    "Data[columns] = Data[columns].apply(enc.fit_transform) #Encoding the object data type into int data type"
   ]
  },
  {
   "cell_type": "code",
   "execution_count": 76,
   "id": "1610b1d2",
   "metadata": {},
   "outputs": [
    {
     "name": "stdout",
     "output_type": "stream",
     "text": [
      "<class 'pandas.core.frame.DataFrame'>\n",
      "Int64Index: 7032 entries, 0 to 7042\n",
      "Data columns (total 20 columns):\n",
      " #   Column            Non-Null Count  Dtype  \n",
      "---  ------            --------------  -----  \n",
      " 0   gender            7032 non-null   int64  \n",
      " 1   SeniorCitizen     7032 non-null   int64  \n",
      " 2   Partner           7032 non-null   int64  \n",
      " 3   Dependents        7032 non-null   int64  \n",
      " 4   tenure            7032 non-null   int64  \n",
      " 5   PhoneService      7032 non-null   int32  \n",
      " 6   MultipleLines     7032 non-null   int32  \n",
      " 7   InternetService   7032 non-null   int32  \n",
      " 8   OnlineSecurity    7032 non-null   int32  \n",
      " 9   OnlineBackup      7032 non-null   int32  \n",
      " 10  DeviceProtection  7032 non-null   int32  \n",
      " 11  TechSupport       7032 non-null   int32  \n",
      " 12  StreamingTV       7032 non-null   int32  \n",
      " 13  StreamingMovies   7032 non-null   int32  \n",
      " 14  Contract          7032 non-null   int32  \n",
      " 15  PaperlessBilling  7032 non-null   int32  \n",
      " 16  PaymentMethod     7032 non-null   int32  \n",
      " 17  MonthlyCharges    7032 non-null   float64\n",
      " 18  TotalCharges      7032 non-null   float64\n",
      " 19  Churn             7032 non-null   int64  \n",
      "dtypes: float64(2), int32(12), int64(6)\n",
      "memory usage: 824.1 KB\n"
     ]
    }
   ],
   "source": [
    "Data.info()"
   ]
  },
  {
   "cell_type": "code",
   "execution_count": 77,
   "id": "aa8109b1",
   "metadata": {},
   "outputs": [
    {
     "data": {
      "text/plain": [
       "0    5163\n",
       "1    1869\n",
       "Name: Churn, dtype: int64"
      ]
     },
     "execution_count": 77,
     "metadata": {},
     "output_type": "execute_result"
    }
   ],
   "source": [
    "Data['Churn'].value_counts()"
   ]
  },
  {
   "cell_type": "code",
   "execution_count": 78,
   "id": "1d087447",
   "metadata": {},
   "outputs": [],
   "source": [
    "# The above data shows an imbalanced class which might make the model biased"
   ]
  },
  {
   "cell_type": "code",
   "execution_count": 79,
   "id": "f163f25d",
   "metadata": {},
   "outputs": [],
   "source": [
    "from sklearn.utils import resample"
   ]
  },
  {
   "cell_type": "code",
   "execution_count": 80,
   "id": "14aec211",
   "metadata": {},
   "outputs": [],
   "source": [
    "not_churn=Data[Data.Churn==0]\n",
    "churn=Data[Data.Churn==1]"
   ]
  },
  {
   "cell_type": "code",
   "execution_count": 81,
   "id": "754091eb",
   "metadata": {},
   "outputs": [],
   "source": [
    "churn_upsamples=resample(churn,replace=True,n_samples=len(not_churn),random_state=27)"
   ]
  },
  {
   "cell_type": "code",
   "execution_count": 82,
   "id": "8839f1e7",
   "metadata": {},
   "outputs": [],
   "source": [
    "upsampled=pd.concat([not_churn,churn_upsamples])"
   ]
  },
  {
   "cell_type": "code",
   "execution_count": 83,
   "id": "0a2e43bc",
   "metadata": {},
   "outputs": [],
   "source": [
    "Data=upsampled"
   ]
  },
  {
   "cell_type": "code",
   "execution_count": 84,
   "id": "1d80f835",
   "metadata": {},
   "outputs": [
    {
     "data": {
      "text/plain": [
       "0    5163\n",
       "1    5163\n",
       "Name: Churn, dtype: int64"
      ]
     },
     "execution_count": 84,
     "metadata": {},
     "output_type": "execute_result"
    }
   ],
   "source": [
    "Data['Churn'].value_counts()"
   ]
  },
  {
   "cell_type": "code",
   "execution_count": 85,
   "id": "4c265f08",
   "metadata": {},
   "outputs": [],
   "source": [
    "# Class has now been balanced"
   ]
  },
  {
   "cell_type": "code",
   "execution_count": 86,
   "id": "852caff9",
   "metadata": {},
   "outputs": [
    {
     "data": {
      "text/plain": [
       "(10326, 20)"
      ]
     },
     "execution_count": 86,
     "metadata": {},
     "output_type": "execute_result"
    }
   ],
   "source": [
    "Data.shape #checking the shape"
   ]
  },
  {
   "cell_type": "code",
   "execution_count": 87,
   "id": "4ba443da",
   "metadata": {},
   "outputs": [
    {
     "data": {
      "text/html": [
       "<div>\n",
       "<style scoped>\n",
       "    .dataframe tbody tr th:only-of-type {\n",
       "        vertical-align: middle;\n",
       "    }\n",
       "\n",
       "    .dataframe tbody tr th {\n",
       "        vertical-align: top;\n",
       "    }\n",
       "\n",
       "    .dataframe thead th {\n",
       "        text-align: right;\n",
       "    }\n",
       "</style>\n",
       "<table border=\"1\" class=\"dataframe\">\n",
       "  <thead>\n",
       "    <tr style=\"text-align: right;\">\n",
       "      <th></th>\n",
       "      <th>gender</th>\n",
       "      <th>SeniorCitizen</th>\n",
       "      <th>Partner</th>\n",
       "      <th>Dependents</th>\n",
       "      <th>tenure</th>\n",
       "      <th>PhoneService</th>\n",
       "      <th>MultipleLines</th>\n",
       "      <th>InternetService</th>\n",
       "      <th>OnlineSecurity</th>\n",
       "      <th>OnlineBackup</th>\n",
       "      <th>DeviceProtection</th>\n",
       "      <th>TechSupport</th>\n",
       "      <th>StreamingTV</th>\n",
       "      <th>StreamingMovies</th>\n",
       "      <th>Contract</th>\n",
       "      <th>PaperlessBilling</th>\n",
       "      <th>PaymentMethod</th>\n",
       "      <th>MonthlyCharges</th>\n",
       "      <th>TotalCharges</th>\n",
       "      <th>Churn</th>\n",
       "    </tr>\n",
       "  </thead>\n",
       "  <tbody>\n",
       "    <tr>\n",
       "      <th>count</th>\n",
       "      <td>10326.000000</td>\n",
       "      <td>10326.000000</td>\n",
       "      <td>10326.000000</td>\n",
       "      <td>10326.000000</td>\n",
       "      <td>10326.000000</td>\n",
       "      <td>10326.000000</td>\n",
       "      <td>10326.000000</td>\n",
       "      <td>10326.000000</td>\n",
       "      <td>10326.000000</td>\n",
       "      <td>10326.000000</td>\n",
       "      <td>10326.000000</td>\n",
       "      <td>10326.000000</td>\n",
       "      <td>10326.000000</td>\n",
       "      <td>10326.000000</td>\n",
       "      <td>10326.000000</td>\n",
       "      <td>10326.000000</td>\n",
       "      <td>10326.000000</td>\n",
       "      <td>10326.000000</td>\n",
       "      <td>10326.000000</td>\n",
       "      <td>10326.000000</td>\n",
       "    </tr>\n",
       "    <tr>\n",
       "      <th>mean</th>\n",
       "      <td>0.498451</td>\n",
       "      <td>0.190587</td>\n",
       "      <td>0.444703</td>\n",
       "      <td>0.262929</td>\n",
       "      <td>27.726128</td>\n",
       "      <td>0.900445</td>\n",
       "      <td>0.948673</td>\n",
       "      <td>0.847569</td>\n",
       "      <td>0.655142</td>\n",
       "      <td>0.815902</td>\n",
       "      <td>0.816870</td>\n",
       "      <td>0.671412</td>\n",
       "      <td>0.967558</td>\n",
       "      <td>0.968332</td>\n",
       "      <td>0.510362</td>\n",
       "      <td>0.642069</td>\n",
       "      <td>1.629576</td>\n",
       "      <td>67.607868</td>\n",
       "      <td>2029.104668</td>\n",
       "      <td>0.500000</td>\n",
       "    </tr>\n",
       "    <tr>\n",
       "      <th>std</th>\n",
       "      <td>0.500022</td>\n",
       "      <td>0.392783</td>\n",
       "      <td>0.496957</td>\n",
       "      <td>0.440245</td>\n",
       "      <td>23.949522</td>\n",
       "      <td>0.299420</td>\n",
       "      <td>0.947575</td>\n",
       "      <td>0.678702</td>\n",
       "      <td>0.845839</td>\n",
       "      <td>0.894699</td>\n",
       "      <td>0.894898</td>\n",
       "      <td>0.852292</td>\n",
       "      <td>0.912869</td>\n",
       "      <td>0.912896</td>\n",
       "      <td>0.769918</td>\n",
       "      <td>0.479415</td>\n",
       "      <td>1.020190</td>\n",
       "      <td>28.728383</td>\n",
       "      <td>2167.519584</td>\n",
       "      <td>0.500024</td>\n",
       "    </tr>\n",
       "    <tr>\n",
       "      <th>min</th>\n",
       "      <td>0.000000</td>\n",
       "      <td>0.000000</td>\n",
       "      <td>0.000000</td>\n",
       "      <td>0.000000</td>\n",
       "      <td>1.000000</td>\n",
       "      <td>0.000000</td>\n",
       "      <td>0.000000</td>\n",
       "      <td>0.000000</td>\n",
       "      <td>0.000000</td>\n",
       "      <td>0.000000</td>\n",
       "      <td>0.000000</td>\n",
       "      <td>0.000000</td>\n",
       "      <td>0.000000</td>\n",
       "      <td>0.000000</td>\n",
       "      <td>0.000000</td>\n",
       "      <td>0.000000</td>\n",
       "      <td>0.000000</td>\n",
       "      <td>18.250000</td>\n",
       "      <td>18.800000</td>\n",
       "      <td>0.000000</td>\n",
       "    </tr>\n",
       "    <tr>\n",
       "      <th>25%</th>\n",
       "      <td>0.000000</td>\n",
       "      <td>0.000000</td>\n",
       "      <td>0.000000</td>\n",
       "      <td>0.000000</td>\n",
       "      <td>5.000000</td>\n",
       "      <td>1.000000</td>\n",
       "      <td>0.000000</td>\n",
       "      <td>0.000000</td>\n",
       "      <td>0.000000</td>\n",
       "      <td>0.000000</td>\n",
       "      <td>0.000000</td>\n",
       "      <td>0.000000</td>\n",
       "      <td>0.000000</td>\n",
       "      <td>0.000000</td>\n",
       "      <td>0.000000</td>\n",
       "      <td>0.000000</td>\n",
       "      <td>1.000000</td>\n",
       "      <td>45.300000</td>\n",
       "      <td>276.975000</td>\n",
       "      <td>0.000000</td>\n",
       "    </tr>\n",
       "    <tr>\n",
       "      <th>50%</th>\n",
       "      <td>0.000000</td>\n",
       "      <td>0.000000</td>\n",
       "      <td>0.000000</td>\n",
       "      <td>0.000000</td>\n",
       "      <td>21.000000</td>\n",
       "      <td>1.000000</td>\n",
       "      <td>1.000000</td>\n",
       "      <td>1.000000</td>\n",
       "      <td>0.000000</td>\n",
       "      <td>0.000000</td>\n",
       "      <td>0.000000</td>\n",
       "      <td>0.000000</td>\n",
       "      <td>1.000000</td>\n",
       "      <td>1.000000</td>\n",
       "      <td>0.000000</td>\n",
       "      <td>1.000000</td>\n",
       "      <td>2.000000</td>\n",
       "      <td>74.400000</td>\n",
       "      <td>1164.925000</td>\n",
       "      <td>0.500000</td>\n",
       "    </tr>\n",
       "    <tr>\n",
       "      <th>75%</th>\n",
       "      <td>1.000000</td>\n",
       "      <td>0.000000</td>\n",
       "      <td>1.000000</td>\n",
       "      <td>1.000000</td>\n",
       "      <td>49.000000</td>\n",
       "      <td>1.000000</td>\n",
       "      <td>2.000000</td>\n",
       "      <td>1.000000</td>\n",
       "      <td>1.000000</td>\n",
       "      <td>2.000000</td>\n",
       "      <td>2.000000</td>\n",
       "      <td>2.000000</td>\n",
       "      <td>2.000000</td>\n",
       "      <td>2.000000</td>\n",
       "      <td>1.000000</td>\n",
       "      <td>1.000000</td>\n",
       "      <td>2.000000</td>\n",
       "      <td>90.500000</td>\n",
       "      <td>3207.062500</td>\n",
       "      <td>1.000000</td>\n",
       "    </tr>\n",
       "    <tr>\n",
       "      <th>max</th>\n",
       "      <td>1.000000</td>\n",
       "      <td>1.000000</td>\n",
       "      <td>1.000000</td>\n",
       "      <td>1.000000</td>\n",
       "      <td>72.000000</td>\n",
       "      <td>1.000000</td>\n",
       "      <td>2.000000</td>\n",
       "      <td>2.000000</td>\n",
       "      <td>2.000000</td>\n",
       "      <td>2.000000</td>\n",
       "      <td>2.000000</td>\n",
       "      <td>2.000000</td>\n",
       "      <td>2.000000</td>\n",
       "      <td>2.000000</td>\n",
       "      <td>2.000000</td>\n",
       "      <td>1.000000</td>\n",
       "      <td>3.000000</td>\n",
       "      <td>118.750000</td>\n",
       "      <td>8684.800000</td>\n",
       "      <td>1.000000</td>\n",
       "    </tr>\n",
       "  </tbody>\n",
       "</table>\n",
       "</div>"
      ],
      "text/plain": [
       "             gender  SeniorCitizen       Partner    Dependents        tenure  \\\n",
       "count  10326.000000   10326.000000  10326.000000  10326.000000  10326.000000   \n",
       "mean       0.498451       0.190587      0.444703      0.262929     27.726128   \n",
       "std        0.500022       0.392783      0.496957      0.440245     23.949522   \n",
       "min        0.000000       0.000000      0.000000      0.000000      1.000000   \n",
       "25%        0.000000       0.000000      0.000000      0.000000      5.000000   \n",
       "50%        0.000000       0.000000      0.000000      0.000000     21.000000   \n",
       "75%        1.000000       0.000000      1.000000      1.000000     49.000000   \n",
       "max        1.000000       1.000000      1.000000      1.000000     72.000000   \n",
       "\n",
       "       PhoneService  MultipleLines  InternetService  OnlineSecurity  \\\n",
       "count  10326.000000   10326.000000     10326.000000    10326.000000   \n",
       "mean       0.900445       0.948673         0.847569        0.655142   \n",
       "std        0.299420       0.947575         0.678702        0.845839   \n",
       "min        0.000000       0.000000         0.000000        0.000000   \n",
       "25%        1.000000       0.000000         0.000000        0.000000   \n",
       "50%        1.000000       1.000000         1.000000        0.000000   \n",
       "75%        1.000000       2.000000         1.000000        1.000000   \n",
       "max        1.000000       2.000000         2.000000        2.000000   \n",
       "\n",
       "       OnlineBackup  DeviceProtection   TechSupport   StreamingTV  \\\n",
       "count  10326.000000      10326.000000  10326.000000  10326.000000   \n",
       "mean       0.815902          0.816870      0.671412      0.967558   \n",
       "std        0.894699          0.894898      0.852292      0.912869   \n",
       "min        0.000000          0.000000      0.000000      0.000000   \n",
       "25%        0.000000          0.000000      0.000000      0.000000   \n",
       "50%        0.000000          0.000000      0.000000      1.000000   \n",
       "75%        2.000000          2.000000      2.000000      2.000000   \n",
       "max        2.000000          2.000000      2.000000      2.000000   \n",
       "\n",
       "       StreamingMovies      Contract  PaperlessBilling  PaymentMethod  \\\n",
       "count     10326.000000  10326.000000      10326.000000   10326.000000   \n",
       "mean          0.968332      0.510362          0.642069       1.629576   \n",
       "std           0.912896      0.769918          0.479415       1.020190   \n",
       "min           0.000000      0.000000          0.000000       0.000000   \n",
       "25%           0.000000      0.000000          0.000000       1.000000   \n",
       "50%           1.000000      0.000000          1.000000       2.000000   \n",
       "75%           2.000000      1.000000          1.000000       2.000000   \n",
       "max           2.000000      2.000000          1.000000       3.000000   \n",
       "\n",
       "       MonthlyCharges  TotalCharges         Churn  \n",
       "count    10326.000000  10326.000000  10326.000000  \n",
       "mean        67.607868   2029.104668      0.500000  \n",
       "std         28.728383   2167.519584      0.500024  \n",
       "min         18.250000     18.800000      0.000000  \n",
       "25%         45.300000    276.975000      0.000000  \n",
       "50%         74.400000   1164.925000      0.500000  \n",
       "75%         90.500000   3207.062500      1.000000  \n",
       "max        118.750000   8684.800000      1.000000  "
      ]
     },
     "execution_count": 87,
     "metadata": {},
     "output_type": "execute_result"
    }
   ],
   "source": [
    "Data.describe()"
   ]
  },
  {
   "cell_type": "code",
   "execution_count": 88,
   "id": "d60d56a2",
   "metadata": {},
   "outputs": [],
   "source": [
    "X=Data.drop('Churn',axis=1)\n",
    "Y=Data['Churn'] #Seperating the target and classes"
   ]
  },
  {
   "cell_type": "code",
   "execution_count": 89,
   "id": "d37773fe",
   "metadata": {},
   "outputs": [
    {
     "data": {
      "image/png": "[encoded data removed]",
      "text/plain": [
       "<Figure size 720x576 with 20 Axes>"
      ]
     },
     "metadata": {
      "needs_background": "light"
     },
     "output_type": "display_data"
    }
   ],
   "source": [
    "X.plot(kind='kde',subplots=True,layout=(4,5),sharex=False,legend=True,fontsize=3,figsize=(10,8))\n",
    "plt.show() # ploting the data and observing high skewness"
   ]
  },
  {
   "cell_type": "code",
   "execution_count": 90,
   "id": "0346043c",
   "metadata": {},
   "outputs": [],
   "source": [
    "# Apart from Total Charges, monthly charges and tenure, data does not look much skewed,"
   ]
  },
  {
   "cell_type": "code",
   "execution_count": 91,
   "id": "d444d41d",
   "metadata": {},
   "outputs": [
    {
     "data": {
      "text/plain": [
       "SeniorCitizen       1.575797\n",
       "TotalCharges        1.130010\n",
       "Contract            1.092372\n",
       "Dependents          1.077206\n",
       "OnlineSecurity      0.721125\n",
       "TechSupport         0.683249\n",
       "tenure              0.509072\n",
       "OnlineBackup        0.369006\n",
       "DeviceProtection    0.367002\n",
       "Partner             0.222587\n",
       "InternetService     0.197528\n",
       "MultipleLines       0.102346\n",
       "StreamingTV         0.064023\n",
       "StreamingMovies     0.062493\n",
       "gender              0.006199\n",
       "PaymentMethod      -0.315691\n",
       "MonthlyCharges     -0.380260\n",
       "PaperlessBilling   -0.592789\n",
       "PhoneService       -2.675329\n",
       "dtype: float64"
      ]
     },
     "execution_count": 91,
     "metadata": {},
     "output_type": "execute_result"
    }
   ],
   "source": [
    "X.skew().sort_values(ascending=False) #Checking the skewness"
   ]
  },
  {
   "cell_type": "code",
   "execution_count": 92,
   "id": "a7bff281",
   "metadata": {},
   "outputs": [],
   "source": [
    "from sklearn.preprocessing import power_transform"
   ]
  },
  {
   "cell_type": "code",
   "execution_count": 93,
   "id": "a97e9cfb",
   "metadata": {},
   "outputs": [],
   "source": [
    "New_X=power_transform(X)"
   ]
  },
  {
   "cell_type": "code",
   "execution_count": 94,
   "id": "f5900b58",
   "metadata": {},
   "outputs": [
    {
     "data": {
      "text/plain": [
       "SeniorCitizen       1.575797\n",
       "Dependents          1.077206\n",
       "Contract            0.703997\n",
       "OnlineSecurity      0.426718\n",
       "TechSupport         0.398343\n",
       "Partner             0.222587\n",
       "OnlineBackup        0.166098\n",
       "DeviceProtection    0.164639\n",
       "MultipleLines       0.018221\n",
       "gender              0.006199\n",
       "StreamingTV        -0.051974\n",
       "StreamingMovies    -0.053046\n",
       "InternetService    -0.077439\n",
       "TotalCharges       -0.123841\n",
       "tenure             -0.161667\n",
       "PaymentMethod      -0.231691\n",
       "MonthlyCharges     -0.291407\n",
       "PaperlessBilling   -0.592789\n",
       "PhoneService       -2.675329\n",
       "dtype: float64"
      ]
     },
     "execution_count": 94,
     "metadata": {},
     "output_type": "execute_result"
    }
   ],
   "source": [
    "pd.DataFrame(New_X,columns=X.columns).skew().sort_values(ascending=False) # transforming the data to reduce skewness"
   ]
  },
  {
   "cell_type": "code",
   "execution_count": 95,
   "id": "97a79a38",
   "metadata": {},
   "outputs": [],
   "source": [
    "X=pd.DataFrame(New_X,columns=X.columns)"
   ]
  },
  {
   "cell_type": "code",
   "execution_count": 96,
   "id": "b0ead86e",
   "metadata": {},
   "outputs": [
    {
     "data": {
      "image/png": "[encoded data removed]",
      "text/plain": [
       "<Figure size 720x576 with 20 Axes>"
      ]
     },
     "metadata": {
      "needs_background": "light"
     },
     "output_type": "display_data"
    }
   ],
   "source": [
    "X.plot(kind='kde',subplots=True,layout=(4,5),sharex=False,legend=True,fontsize=3,figsize=(10,8))\n",
    "plt.show() # checking data after transformation"
   ]
  },
  {
   "cell_type": "code",
   "execution_count": 97,
   "id": "cefaae5b",
   "metadata": {},
   "outputs": [
    {
     "data": {
      "image/png": "[encoded data removed]",
      "text/plain": [
       "<Figure size 1800x1440 with 2 Axes>"
      ]
     },
     "metadata": {
      "needs_background": "light"
     },
     "output_type": "display_data"
    }
   ],
   "source": [
    "corr_mat=X.corr()\n",
    "plt.figure(figsize=[25,20])\n",
    "sns.heatmap(corr_mat,annot=True)\n",
    "plt.title(\"Correlation Matrix\")\n",
    "plt.show() #Checking correlation of the feature variables"
   ]
  },
  {
   "cell_type": "code",
   "execution_count": 98,
   "id": "c579507c",
   "metadata": {},
   "outputs": [],
   "source": [
    "# From the heat map it can be said- Tenurity is corelated with Total Charges, therefore checking with VIF features"
   ]
  },
  {
   "cell_type": "code",
   "execution_count": 99,
   "id": "9fc6ad1e",
   "metadata": {},
   "outputs": [
    {
     "data": {
      "text/html": [
       "<div>\n",
       "<style scoped>\n",
       "    .dataframe tbody tr th:only-of-type {\n",
       "        vertical-align: middle;\n",
       "    }\n",
       "\n",
       "    .dataframe tbody tr th {\n",
       "        vertical-align: top;\n",
       "    }\n",
       "\n",
       "    .dataframe thead th {\n",
       "        text-align: right;\n",
       "    }\n",
       "</style>\n",
       "<table border=\"1\" class=\"dataframe\">\n",
       "  <thead>\n",
       "    <tr style=\"text-align: right;\">\n",
       "      <th></th>\n",
       "      <th>feature</th>\n",
       "      <th>VIF</th>\n",
       "    </tr>\n",
       "  </thead>\n",
       "  <tbody>\n",
       "    <tr>\n",
       "      <th>0</th>\n",
       "      <td>gender</td>\n",
       "      <td>1.003860</td>\n",
       "    </tr>\n",
       "    <tr>\n",
       "      <th>1</th>\n",
       "      <td>SeniorCitizen</td>\n",
       "      <td>1.156114</td>\n",
       "    </tr>\n",
       "    <tr>\n",
       "      <th>2</th>\n",
       "      <td>Partner</td>\n",
       "      <td>1.449479</td>\n",
       "    </tr>\n",
       "    <tr>\n",
       "      <th>3</th>\n",
       "      <td>Dependents</td>\n",
       "      <td>1.366956</td>\n",
       "    </tr>\n",
       "    <tr>\n",
       "      <th>4</th>\n",
       "      <td>tenure</td>\n",
       "      <td>77.647600</td>\n",
       "    </tr>\n",
       "    <tr>\n",
       "      <th>5</th>\n",
       "      <td>PhoneService</td>\n",
       "      <td>1.753336</td>\n",
       "    </tr>\n",
       "    <tr>\n",
       "      <th>6</th>\n",
       "      <td>MultipleLines</td>\n",
       "      <td>1.395533</td>\n",
       "    </tr>\n",
       "    <tr>\n",
       "      <th>7</th>\n",
       "      <td>InternetService</td>\n",
       "      <td>1.994884</td>\n",
       "    </tr>\n",
       "    <tr>\n",
       "      <th>8</th>\n",
       "      <td>OnlineSecurity</td>\n",
       "      <td>1.445802</td>\n",
       "    </tr>\n",
       "    <tr>\n",
       "      <th>9</th>\n",
       "      <td>OnlineBackup</td>\n",
       "      <td>1.228936</td>\n",
       "    </tr>\n",
       "    <tr>\n",
       "      <th>10</th>\n",
       "      <td>DeviceProtection</td>\n",
       "      <td>1.323233</td>\n",
       "    </tr>\n",
       "    <tr>\n",
       "      <th>11</th>\n",
       "      <td>TechSupport</td>\n",
       "      <td>1.481109</td>\n",
       "    </tr>\n",
       "    <tr>\n",
       "      <th>12</th>\n",
       "      <td>StreamingTV</td>\n",
       "      <td>1.461342</td>\n",
       "    </tr>\n",
       "    <tr>\n",
       "      <th>13</th>\n",
       "      <td>StreamingMovies</td>\n",
       "      <td>1.440965</td>\n",
       "    </tr>\n",
       "    <tr>\n",
       "      <th>14</th>\n",
       "      <td>Contract</td>\n",
       "      <td>2.370450</td>\n",
       "    </tr>\n",
       "    <tr>\n",
       "      <th>15</th>\n",
       "      <td>PaperlessBilling</td>\n",
       "      <td>1.212175</td>\n",
       "    </tr>\n",
       "    <tr>\n",
       "      <th>16</th>\n",
       "      <td>PaymentMethod</td>\n",
       "      <td>1.179123</td>\n",
       "    </tr>\n",
       "    <tr>\n",
       "      <th>17</th>\n",
       "      <td>MonthlyCharges</td>\n",
       "      <td>15.357590</td>\n",
       "    </tr>\n",
       "    <tr>\n",
       "      <th>18</th>\n",
       "      <td>TotalCharges</td>\n",
       "      <td>100.598887</td>\n",
       "    </tr>\n",
       "  </tbody>\n",
       "</table>\n",
       "</div>"
      ],
      "text/plain": [
       "             feature         VIF\n",
       "0             gender    1.003860\n",
       "1      SeniorCitizen    1.156114\n",
       "2            Partner    1.449479\n",
       "3         Dependents    1.366956\n",
       "4             tenure   77.647600\n",
       "5       PhoneService    1.753336\n",
       "6      MultipleLines    1.395533\n",
       "7    InternetService    1.994884\n",
       "8     OnlineSecurity    1.445802\n",
       "9       OnlineBackup    1.228936\n",
       "10  DeviceProtection    1.323233\n",
       "11       TechSupport    1.481109\n",
       "12       StreamingTV    1.461342\n",
       "13   StreamingMovies    1.440965\n",
       "14          Contract    2.370450\n",
       "15  PaperlessBilling    1.212175\n",
       "16     PaymentMethod    1.179123\n",
       "17    MonthlyCharges   15.357590\n",
       "18      TotalCharges  100.598887"
      ]
     },
     "execution_count": 99,
     "metadata": {},
     "output_type": "execute_result"
    }
   ],
   "source": [
    "vif_data = pd.DataFrame()\n",
    "vif_data[\"feature\"] = X.columns\n",
    "vif_data[\"VIF\"] = [variance_inflation_factor(X.values, i)\n",
    "                          for i in range(len(X.columns))]\n",
    "\n",
    "vif_data"
   ]
  },
  {
   "cell_type": "code",
   "execution_count": 100,
   "id": "4ad658b8",
   "metadata": {},
   "outputs": [],
   "source": [
    "# As per the conclusions drawn above, increase in monthly charge results in an increase in total charge\n",
    "# Churn is more impacted with an increase in monthly charge than an increase in total charge.\n",
    "# The VIF for total charges is the highest.\n",
    "# Therefore based on the above conclusions, Total Charges column is dropped off."
   ]
  },
  {
   "cell_type": "code",
   "execution_count": 101,
   "id": "f229ddc2",
   "metadata": {},
   "outputs": [],
   "source": [
    "X.drop('TotalCharges',axis=1,inplace=True)"
   ]
  },
  {
   "cell_type": "code",
   "execution_count": 102,
   "id": "3380aee3",
   "metadata": {},
   "outputs": [
    {
     "data": {
      "text/html": [
       "<div>\n",
       "<style scoped>\n",
       "    .dataframe tbody tr th:only-of-type {\n",
       "        vertical-align: middle;\n",
       "    }\n",
       "\n",
       "    .dataframe tbody tr th {\n",
       "        vertical-align: top;\n",
       "    }\n",
       "\n",
       "    .dataframe thead th {\n",
       "        text-align: right;\n",
       "    }\n",
       "</style>\n",
       "<table border=\"1\" class=\"dataframe\">\n",
       "  <thead>\n",
       "    <tr style=\"text-align: right;\">\n",
       "      <th></th>\n",
       "      <th>feature</th>\n",
       "      <th>VIF</th>\n",
       "    </tr>\n",
       "  </thead>\n",
       "  <tbody>\n",
       "    <tr>\n",
       "      <th>0</th>\n",
       "      <td>gender</td>\n",
       "      <td>1.003860</td>\n",
       "    </tr>\n",
       "    <tr>\n",
       "      <th>1</th>\n",
       "      <td>SeniorCitizen</td>\n",
       "      <td>1.156051</td>\n",
       "    </tr>\n",
       "    <tr>\n",
       "      <th>2</th>\n",
       "      <td>Partner</td>\n",
       "      <td>1.449248</td>\n",
       "    </tr>\n",
       "    <tr>\n",
       "      <th>3</th>\n",
       "      <td>Dependents</td>\n",
       "      <td>1.366651</td>\n",
       "    </tr>\n",
       "    <tr>\n",
       "      <th>4</th>\n",
       "      <td>tenure</td>\n",
       "      <td>2.508756</td>\n",
       "    </tr>\n",
       "    <tr>\n",
       "      <th>5</th>\n",
       "      <td>PhoneService</td>\n",
       "      <td>1.750121</td>\n",
       "    </tr>\n",
       "    <tr>\n",
       "      <th>6</th>\n",
       "      <td>MultipleLines</td>\n",
       "      <td>1.395416</td>\n",
       "    </tr>\n",
       "    <tr>\n",
       "      <th>7</th>\n",
       "      <td>InternetService</td>\n",
       "      <td>1.624516</td>\n",
       "    </tr>\n",
       "    <tr>\n",
       "      <th>8</th>\n",
       "      <td>OnlineSecurity</td>\n",
       "      <td>1.443273</td>\n",
       "    </tr>\n",
       "    <tr>\n",
       "      <th>9</th>\n",
       "      <td>OnlineBackup</td>\n",
       "      <td>1.228559</td>\n",
       "    </tr>\n",
       "    <tr>\n",
       "      <th>10</th>\n",
       "      <td>DeviceProtection</td>\n",
       "      <td>1.322726</td>\n",
       "    </tr>\n",
       "    <tr>\n",
       "      <th>11</th>\n",
       "      <td>TechSupport</td>\n",
       "      <td>1.478067</td>\n",
       "    </tr>\n",
       "    <tr>\n",
       "      <th>12</th>\n",
       "      <td>StreamingTV</td>\n",
       "      <td>1.457252</td>\n",
       "    </tr>\n",
       "    <tr>\n",
       "      <th>13</th>\n",
       "      <td>StreamingMovies</td>\n",
       "      <td>1.438452</td>\n",
       "    </tr>\n",
       "    <tr>\n",
       "      <th>14</th>\n",
       "      <td>Contract</td>\n",
       "      <td>2.197686</td>\n",
       "    </tr>\n",
       "    <tr>\n",
       "      <th>15</th>\n",
       "      <td>PaperlessBilling</td>\n",
       "      <td>1.211983</td>\n",
       "    </tr>\n",
       "    <tr>\n",
       "      <th>16</th>\n",
       "      <td>PaymentMethod</td>\n",
       "      <td>1.175427</td>\n",
       "    </tr>\n",
       "    <tr>\n",
       "      <th>17</th>\n",
       "      <td>MonthlyCharges</td>\n",
       "      <td>2.394336</td>\n",
       "    </tr>\n",
       "  </tbody>\n",
       "</table>\n",
       "</div>"
      ],
      "text/plain": [
       "             feature       VIF\n",
       "0             gender  1.003860\n",
       "1      SeniorCitizen  1.156051\n",
       "2            Partner  1.449248\n",
       "3         Dependents  1.366651\n",
       "4             tenure  2.508756\n",
       "5       PhoneService  1.750121\n",
       "6      MultipleLines  1.395416\n",
       "7    InternetService  1.624516\n",
       "8     OnlineSecurity  1.443273\n",
       "9       OnlineBackup  1.228559\n",
       "10  DeviceProtection  1.322726\n",
       "11       TechSupport  1.478067\n",
       "12       StreamingTV  1.457252\n",
       "13   StreamingMovies  1.438452\n",
       "14          Contract  2.197686\n",
       "15  PaperlessBilling  1.211983\n",
       "16     PaymentMethod  1.175427\n",
       "17    MonthlyCharges  2.394336"
      ]
     },
     "execution_count": 102,
     "metadata": {},
     "output_type": "execute_result"
    }
   ],
   "source": [
    "vif_data = pd.DataFrame()\n",
    "vif_data[\"feature\"] = X.columns\n",
    "vif_data[\"VIF\"] = [variance_inflation_factor(X.values, i)\n",
    "                          for i in range(len(X.columns))]\n",
    "\n",
    "vif_data"
   ]
  },
  {
   "cell_type": "code",
   "execution_count": 103,
   "id": "3eb82fa3",
   "metadata": {},
   "outputs": [],
   "source": [
    "# VIF is now controlled"
   ]
  },
  {
   "cell_type": "code",
   "execution_count": 104,
   "id": "1b5ff5c2",
   "metadata": {},
   "outputs": [
    {
     "data": {
      "image/png": "[encoded data removed]",
      "text/plain": [
       "<Figure size 576x720 with 1 Axes>"
      ]
     },
     "metadata": {
      "needs_background": "light"
     },
     "output_type": "display_data"
    }
   ],
   "source": [
    "X.plot(kind='box',figsize=(8,10),layout=(4,3))\n",
    "plt.show() #checking for oultiers"
   ]
  },
  {
   "cell_type": "code",
   "execution_count": 105,
   "id": "73399e9b",
   "metadata": {},
   "outputs": [],
   "source": [
    "from scipy.stats import zscore"
   ]
  },
  {
   "cell_type": "code",
   "execution_count": 106,
   "id": "8e6b9081",
   "metadata": {},
   "outputs": [
    {
     "data": {
      "text/plain": [
       "gender              True\n",
       "SeniorCitizen       True\n",
       "Partner             True\n",
       "Dependents          True\n",
       "tenure              True\n",
       "PhoneService        True\n",
       "MultipleLines       True\n",
       "InternetService     True\n",
       "OnlineSecurity      True\n",
       "OnlineBackup        True\n",
       "DeviceProtection    True\n",
       "TechSupport         True\n",
       "StreamingTV         True\n",
       "StreamingMovies     True\n",
       "Contract            True\n",
       "PaperlessBilling    True\n",
       "PaymentMethod       True\n",
       "MonthlyCharges      True\n",
       "dtype: bool"
      ]
     },
     "execution_count": 106,
     "metadata": {},
     "output_type": "execute_result"
    }
   ],
   "source": [
    "(np.abs(zscore(X)<3)).all() #checking the presence of any Outlier with zscore"
   ]
  },
  {
   "cell_type": "code",
   "execution_count": 107,
   "id": "24e6ed1d",
   "metadata": {},
   "outputs": [],
   "source": [
    "# No Outliers present"
   ]
  },
  {
   "cell_type": "code",
   "execution_count": 108,
   "id": "b6329d68",
   "metadata": {},
   "outputs": [],
   "source": [
    "Scalar=StandardScaler() #scaling the data"
   ]
  },
  {
   "cell_type": "code",
   "execution_count": 109,
   "id": "07c81ffc",
   "metadata": {},
   "outputs": [],
   "source": [
    "X_Scaled=Scalar.fit_transform(X)\n",
    "#scaling the features"
   ]
  },
  {
   "cell_type": "markdown",
   "id": "970157ab",
   "metadata": {},
   "source": [
    "# Logistic Regression"
   ]
  },
  {
   "cell_type": "code",
   "execution_count": 110,
   "id": "1088b05c",
   "metadata": {},
   "outputs": [],
   "source": [
    "LR=LogisticRegression()"
   ]
  },
  {
   "cell_type": "code",
   "execution_count": 111,
   "id": "338b9b2c",
   "metadata": {},
   "outputs": [],
   "source": [
    "X_train,X_test,y_train,y_test=train_test_split(X_Scaled,Y,test_size=0.20,random_state=58)\n",
    "LR.fit(X_train,y_train)\n",
    "pred_test=LR.predict(X_test) # Testing the prediction of test data"
   ]
  },
  {
   "cell_type": "code",
   "execution_count": 112,
   "id": "86c27e8f",
   "metadata": {},
   "outputs": [
    {
     "data": {
      "text/plain": [
       "76.42787996127784"
      ]
     },
     "execution_count": 112,
     "metadata": {},
     "output_type": "execute_result"
    }
   ],
   "source": [
    "LR_accuracy=accuracy_score(y_test,pred_test)*100\n",
    "LR_accuracy"
   ]
  },
  {
   "cell_type": "code",
   "execution_count": 113,
   "id": "42df7340",
   "metadata": {},
   "outputs": [
    {
     "data": {
      "text/plain": [
       "array([[786, 285],\n",
       "       [202, 793]], dtype=int64)"
      ]
     },
     "execution_count": 113,
     "metadata": {},
     "output_type": "execute_result"
    }
   ],
   "source": [
    "Conf_Mat=confusion_matrix(y_test,pred_test)\n",
    "Conf_Mat"
   ]
  },
  {
   "cell_type": "code",
   "execution_count": 114,
   "id": "48a2010b",
   "metadata": {},
   "outputs": [
    {
     "name": "stdout",
     "output_type": "stream",
     "text": [
      "              precision    recall  f1-score   support\n",
      "\n",
      "           0       0.80      0.73      0.76      1071\n",
      "           1       0.74      0.80      0.77       995\n",
      "\n",
      "    accuracy                           0.76      2066\n",
      "   macro avg       0.77      0.77      0.76      2066\n",
      "weighted avg       0.77      0.76      0.76      2066\n",
      "\n"
     ]
    }
   ],
   "source": [
    "print (classification_report(y_test,pred_test))"
   ]
  },
  {
   "cell_type": "markdown",
   "id": "9e7d02fb",
   "metadata": {},
   "source": [
    "# Decision Tree"
   ]
  },
  {
   "cell_type": "code",
   "execution_count": 115,
   "id": "b3af4635",
   "metadata": {},
   "outputs": [],
   "source": [
    "DT=DecisionTreeClassifier()"
   ]
  },
  {
   "cell_type": "code",
   "execution_count": 116,
   "id": "a019b0b7",
   "metadata": {},
   "outputs": [],
   "source": [
    "X_train,X_test,y_train,y_test=train_test_split(X_Scaled,Y,test_size=0.20,random_state=58)\n",
    "DT.fit(X_train,y_train)\n",
    "pred_test=DT.predict(X_test) # Testing the prediction of test data"
   ]
  },
  {
   "cell_type": "code",
   "execution_count": 117,
   "id": "7dd62c38",
   "metadata": {},
   "outputs": [
    {
     "data": {
      "text/plain": [
       "87.1732817037754"
      ]
     },
     "execution_count": 117,
     "metadata": {},
     "output_type": "execute_result"
    }
   ],
   "source": [
    "DT_accuracy=accuracy_score(y_test,pred_test)*100\n",
    "DT_accuracy"
   ]
  },
  {
   "cell_type": "code",
   "execution_count": 118,
   "id": "23196da8",
   "metadata": {},
   "outputs": [
    {
     "data": {
      "text/plain": [
       "array([[860, 211],\n",
       "       [ 54, 941]], dtype=int64)"
      ]
     },
     "execution_count": 118,
     "metadata": {},
     "output_type": "execute_result"
    }
   ],
   "source": [
    "Conf_Mat=confusion_matrix(y_test,pred_test)\n",
    "Conf_Mat"
   ]
  },
  {
   "cell_type": "code",
   "execution_count": 119,
   "id": "43c60a58",
   "metadata": {},
   "outputs": [
    {
     "name": "stdout",
     "output_type": "stream",
     "text": [
      "              precision    recall  f1-score   support\n",
      "\n",
      "           0       0.94      0.80      0.87      1071\n",
      "           1       0.82      0.95      0.88       995\n",
      "\n",
      "    accuracy                           0.87      2066\n",
      "   macro avg       0.88      0.87      0.87      2066\n",
      "weighted avg       0.88      0.87      0.87      2066\n",
      "\n"
     ]
    }
   ],
   "source": [
    "print (classification_report(y_test,pred_test))"
   ]
  },
  {
   "cell_type": "markdown",
   "id": "7a8075da",
   "metadata": {},
   "source": [
    "# Random Forest Classifier"
   ]
  },
  {
   "cell_type": "code",
   "execution_count": 120,
   "id": "ceca012a",
   "metadata": {},
   "outputs": [],
   "source": [
    "RF=RandomForestClassifier()"
   ]
  },
  {
   "cell_type": "code",
   "execution_count": 121,
   "id": "c1c8bc21",
   "metadata": {},
   "outputs": [],
   "source": [
    "X_train,X_test,y_train,y_test=train_test_split(X_Scaled,Y,test_size=0.20,random_state=58)\n",
    "RF.fit(X_train,y_train)\n",
    "pred_test=RF.predict(X_test) # Testing the prediction of test data"
   ]
  },
  {
   "cell_type": "code",
   "execution_count": 122,
   "id": "dd3447a2",
   "metadata": {},
   "outputs": [
    {
     "data": {
      "text/plain": [
       "89.69022265246855"
      ]
     },
     "execution_count": 122,
     "metadata": {},
     "output_type": "execute_result"
    }
   ],
   "source": [
    "RF_accuracy=accuracy_score(y_test,pred_test)*100\n",
    "RF_accuracy"
   ]
  },
  {
   "cell_type": "code",
   "execution_count": 123,
   "id": "89f33ef6",
   "metadata": {},
   "outputs": [
    {
     "data": {
      "text/plain": [
       "array([[901, 170],\n",
       "       [ 43, 952]], dtype=int64)"
      ]
     },
     "execution_count": 123,
     "metadata": {},
     "output_type": "execute_result"
    }
   ],
   "source": [
    "Conf_Mat=confusion_matrix(y_test,pred_test)\n",
    "Conf_Mat"
   ]
  },
  {
   "cell_type": "code",
   "execution_count": 124,
   "id": "6ec24aab",
   "metadata": {},
   "outputs": [
    {
     "name": "stdout",
     "output_type": "stream",
     "text": [
      "              precision    recall  f1-score   support\n",
      "\n",
      "           0       0.95      0.84      0.89      1071\n",
      "           1       0.85      0.96      0.90       995\n",
      "\n",
      "    accuracy                           0.90      2066\n",
      "   macro avg       0.90      0.90      0.90      2066\n",
      "weighted avg       0.90      0.90      0.90      2066\n",
      "\n"
     ]
    }
   ],
   "source": [
    "print (classification_report(y_test,pred_test))"
   ]
  },
  {
   "cell_type": "markdown",
   "id": "b0aae6c6",
   "metadata": {},
   "source": [
    "# Gradient Boosting"
   ]
  },
  {
   "cell_type": "code",
   "execution_count": 125,
   "id": "3decb0a6",
   "metadata": {},
   "outputs": [],
   "source": [
    "GB=GradientBoostingClassifier()"
   ]
  },
  {
   "cell_type": "code",
   "execution_count": 126,
   "id": "7a8abc4c",
   "metadata": {},
   "outputs": [],
   "source": [
    "X_train,X_test,y_train,y_test=train_test_split(X_Scaled,Y,test_size=0.20,random_state=58)\n",
    "GB.fit(X_train,y_train)\n",
    "pred_test=GB.predict(X_test) # Testing the prediction of test data"
   ]
  },
  {
   "cell_type": "code",
   "execution_count": 127,
   "id": "f85167e9",
   "metadata": {},
   "outputs": [
    {
     "data": {
      "text/plain": [
       "77.29912875121006"
      ]
     },
     "execution_count": 127,
     "metadata": {},
     "output_type": "execute_result"
    }
   ],
   "source": [
    "GB_accuracy=accuracy_score(y_test,pred_test)*100\n",
    "GB_accuracy"
   ]
  },
  {
   "cell_type": "code",
   "execution_count": 128,
   "id": "a504abc5",
   "metadata": {},
   "outputs": [
    {
     "data": {
      "text/plain": [
       "array([[768, 303],\n",
       "       [166, 829]], dtype=int64)"
      ]
     },
     "execution_count": 128,
     "metadata": {},
     "output_type": "execute_result"
    }
   ],
   "source": [
    "Conf_Mat=confusion_matrix(y_test,pred_test)\n",
    "Conf_Mat"
   ]
  },
  {
   "cell_type": "code",
   "execution_count": 129,
   "id": "77c0c15e",
   "metadata": {},
   "outputs": [
    {
     "name": "stdout",
     "output_type": "stream",
     "text": [
      "              precision    recall  f1-score   support\n",
      "\n",
      "           0       0.82      0.72      0.77      1071\n",
      "           1       0.73      0.83      0.78       995\n",
      "\n",
      "    accuracy                           0.77      2066\n",
      "   macro avg       0.78      0.78      0.77      2066\n",
      "weighted avg       0.78      0.77      0.77      2066\n",
      "\n"
     ]
    }
   ],
   "source": [
    "print (classification_report(y_test,pred_test))"
   ]
  },
  {
   "cell_type": "markdown",
   "id": "f5852f79",
   "metadata": {},
   "source": [
    "# Cross Validation for LR"
   ]
  },
  {
   "cell_type": "code",
   "execution_count": 130,
   "id": "7daa860c",
   "metadata": {},
   "outputs": [
    {
     "name": "stdout",
     "output_type": "stream",
     "text": [
      "The cross validation score for 2 is 0.7678675188843695\n",
      "The cross validation score for 3 is 0.7692233197753243\n",
      "The cross validation score for 4 is 0.7691263931650916\n",
      "The cross validation score for 5 is 0.7681586108773665\n"
     ]
    }
   ],
   "source": [
    "for i in range(2,6):\n",
    "    LR_Val=cross_val_score(LR,X_Scaled,Y,cv=i)\n",
    "    print(\"The cross validation score for\",i,\"is\",LR_Val.mean())"
   ]
  },
  {
   "cell_type": "markdown",
   "id": "7a660216",
   "metadata": {},
   "source": [
    "# Cross Validation for DT"
   ]
  },
  {
   "cell_type": "code",
   "execution_count": 131,
   "id": "2805185c",
   "metadata": {},
   "outputs": [
    {
     "name": "stdout",
     "output_type": "stream",
     "text": [
      "The cross validation score for 2 is 0.8252953709083866\n",
      "The cross validation score for 3 is 0.8526050745690491\n",
      "The cross validation score for 4 is 0.8619975009536112\n",
      "The cross validation score for 5 is 0.8657764943311401\n"
     ]
    }
   ],
   "source": [
    "for i in range(2,6):\n",
    "    DT_Val=cross_val_score(DT,X_Scaled,Y,cv=i)\n",
    "    print(\"The cross validation score for\",i,\"is\",DT_Val.mean())"
   ]
  },
  {
   "cell_type": "markdown",
   "id": "7951fbf9",
   "metadata": {},
   "source": [
    "# Cross Validation for RF"
   ]
  },
  {
   "cell_type": "code",
   "execution_count": 132,
   "id": "c10186a2",
   "metadata": {},
   "outputs": [
    {
     "name": "stdout",
     "output_type": "stream",
     "text": [
      "The cross validation score for 2 is 0.8577377493705209\n",
      "The cross validation score for 3 is 0.8816579508037963\n",
      "The cross validation score for 4 is 0.8910508659629401\n",
      "The cross validation score for 5 is 0.8959905210381853\n"
     ]
    }
   ],
   "source": [
    "for i in range(2,6):\n",
    "    RF_Val=cross_val_score(RF,X_Scaled,Y,cv=i)\n",
    "    print(\"The cross validation score for\",i,\"is\",RF_Val.mean())"
   ]
  },
  {
   "cell_type": "markdown",
   "id": "90dbcabe",
   "metadata": {},
   "source": [
    "# Cross Validation for GB"
   ]
  },
  {
   "cell_type": "code",
   "execution_count": 133,
   "id": "975ddea6",
   "metadata": {},
   "outputs": [
    {
     "name": "stdout",
     "output_type": "stream",
     "text": [
      "The cross validation score for 2 is 0.7810381561107883\n",
      "The cross validation score for 3 is 0.7833623862095681\n",
      "The cross validation score for 4 is 0.7815223625186859\n",
      "The cross validation score for 5 is 0.7825888535472272\n"
     ]
    }
   ],
   "source": [
    "for i in range(2,6):\n",
    "    GB_Val=cross_val_score(GB,X_Scaled,Y,cv=i)\n",
    "    print(\"The cross validation score for\",i,\"is\",GB_Val.mean())"
   ]
  },
  {
   "cell_type": "code",
   "execution_count": 134,
   "id": "cc2a14e9",
   "metadata": {},
   "outputs": [],
   "source": [
    "# From the accuracy score as well as cross validation scores it can be said Random Forest Classifier is the best model for the dataset"
   ]
  },
  {
   "cell_type": "code",
   "execution_count": 135,
   "id": "20a523aa",
   "metadata": {},
   "outputs": [
    {
     "name": "stdout",
     "output_type": "stream",
     "text": [
      "+--------------------------+----------------+------------------------+\n",
      "|        Model Name        | Accuracy Score | Cross Validation Score |\n",
      "+--------------------------+----------------+------------------------+\n",
      "|   Logistic Regression    |      76%       |          76%           |\n",
      "| Decision Tree Classifier |      87%       |          86%           |\n",
      "|  Random Tree Regressor   |      89%       |          89%           |\n",
      "|    Gradient Boosting     |      77%       |          78%           |\n",
      "+--------------------------+----------------+------------------------+\n"
     ]
    }
   ],
   "source": [
    "x=PrettyTable()\n",
    "x.field_names=['Model Name','Accuracy Score','Cross Validation Score']\n",
    "x.add_row(['Logistic Regression','76%','76%'])\n",
    "x.add_row(['Decision Tree Classifier','87%','86%'])\n",
    "x.add_row(['Random Tree Regressor','89%','89%'])\n",
    "x.add_row(['Gradient Boosting','77%','78%'])\n",
    "\n",
    "print(x)"
   ]
  },
  {
   "cell_type": "markdown",
   "id": "e169c3ca",
   "metadata": {},
   "source": [
    "# Hypertuning Parameters"
   ]
  },
  {
   "cell_type": "code",
   "execution_count": 136,
   "id": "2357926f",
   "metadata": {},
   "outputs": [],
   "source": [
    "rcf=RandomForestClassifier()"
   ]
  },
  {
   "cell_type": "code",
   "execution_count": 137,
   "id": "df9c0e9c",
   "metadata": {},
   "outputs": [
    {
     "data": {
      "text/plain": [
       "GridSearchCV(estimator=RandomForestClassifier(),\n",
       "             param_grid={'criterion': ['entropy', 'ginny'],\n",
       "                         'max_depth': [5, 6, 7, 8, 9, 10, 11, 12, 13, 14],\n",
       "                         'min_samples_leaf': [2], 'min_samples_split': [2, 3]})"
      ]
     },
     "execution_count": 137,
     "metadata": {},
     "output_type": "execute_result"
    }
   ],
   "source": [
    "parameters={'criterion':[\"entropy\",\"ginny\"],'max_depth':(list(range(5,15))),'min_samples_split':(list(range(2,4))),'min_samples_leaf':(list(range(2,3)))}\n",
    "clf=GridSearchCV(rcf,parameters)\n",
    "clf.fit(X_train,y_train)"
   ]
  },
  {
   "cell_type": "code",
   "execution_count": 138,
   "id": "29e000e3",
   "metadata": {},
   "outputs": [
    {
     "data": {
      "text/plain": [
       "{'criterion': 'entropy',\n",
       " 'max_depth': 14,\n",
       " 'min_samples_leaf': 2,\n",
       " 'min_samples_split': 3}"
      ]
     },
     "execution_count": 138,
     "metadata": {},
     "output_type": "execute_result"
    }
   ],
   "source": [
    "clf.best_params_ #taking the best parameters"
   ]
  },
  {
   "cell_type": "code",
   "execution_count": 139,
   "id": "055f6838",
   "metadata": {},
   "outputs": [],
   "source": [
    "rcf=RandomForestClassifier(criterion='entropy',max_depth=14,min_samples_leaf=2,min_samples_split=3,random_state=58)\n",
    "rcf.fit(X_train,y_train) # Training the model with the best parameters\n",
    "pred_test=rcf.predict(X_test) # Testing the prediction "
   ]
  },
  {
   "cell_type": "code",
   "execution_count": 140,
   "id": "75da3036",
   "metadata": {},
   "outputs": [
    {
     "data": {
      "text/plain": [
       "85.6243949661181"
      ]
     },
     "execution_count": 140,
     "metadata": {},
     "output_type": "execute_result"
    }
   ],
   "source": [
    "RF_accuracy=accuracy_score(y_test,pred_test)*100\n",
    "RF_accuracy"
   ]
  },
  {
   "cell_type": "code",
   "execution_count": 141,
   "id": "a56a02f3",
   "metadata": {},
   "outputs": [],
   "source": [
    "# Accuracy got reduced, therefore trying with few more parameters"
   ]
  },
  {
   "cell_type": "code",
   "execution_count": 142,
   "id": "e1042709",
   "metadata": {},
   "outputs": [
    {
     "name": "stdout",
     "output_type": "stream",
     "text": [
      "At random state 0 the testing accurancy is:- 0.8523717328170377\n",
      "/n\n",
      "At random state 1 the testing accurancy is:- 0.861568247821878\n",
      "/n\n",
      "At random state 2 the testing accurancy is:- 0.8606001936108422\n",
      "/n\n",
      "At random state 3 the testing accurancy is:- 0.8586640851887706\n",
      "/n\n",
      "At random state 4 the testing accurancy is:- 0.8572120038722169\n",
      "/n\n",
      "At random state 5 the testing accurancy is:- 0.8620522749273959\n",
      "/n\n",
      "At random state 6 the testing accurancy is:- 0.8576960309777347\n",
      "/n\n",
      "At random state 7 the testing accurancy is:- 0.8572120038722169\n",
      "/n\n",
      "At random state 8 the testing accurancy is:- 0.8601161665053243\n",
      "/n\n",
      "At random state 9 the testing accurancy is:- 0.866892545982575\n",
      "/n\n",
      "At random state 10 the testing accurancy is:- 0.8591481122942884\n",
      "/n\n",
      "At random state 11 the testing accurancy is:- 0.8625363020329139\n",
      "/n\n",
      "At random state 12 the testing accurancy is:- 0.8606001936108422\n",
      "/n\n",
      "At random state 13 the testing accurancy is:- 0.8576960309777347\n",
      "/n\n",
      "At random state 14 the testing accurancy is:- 0.8547918683446273\n",
      "/n\n",
      "At random state 15 the testing accurancy is:- 0.8547918683446273\n",
      "/n\n",
      "At random state 16 the testing accurancy is:- 0.856727976766699\n",
      "/n\n",
      "At random state 17 the testing accurancy is:- 0.8557599225556631\n",
      "/n\n",
      "At random state 18 the testing accurancy is:- 0.8581800580832527\n",
      "/n\n",
      "At random state 19 the testing accurancy is:- 0.8610842207163601\n",
      "/n\n",
      "At random state 20 the testing accurancy is:- 0.8639883833494676\n",
      "/n\n",
      "At random state 21 the testing accurancy is:- 0.8586640851887706\n",
      "/n\n",
      "At random state 22 the testing accurancy is:- 0.856243949661181\n",
      "/n\n",
      "At random state 23 the testing accurancy is:- 0.8625363020329139\n",
      "/n\n",
      "At random state 24 the testing accurancy is:- 0.8606001936108422\n",
      "/n\n",
      "At random state 25 the testing accurancy is:- 0.8601161665053243\n",
      "/n\n",
      "At random state 26 the testing accurancy is:- 0.8606001936108422\n",
      "/n\n",
      "At random state 27 the testing accurancy is:- 0.8576960309777347\n",
      "/n\n",
      "At random state 28 the testing accurancy is:- 0.8630203291384317\n",
      "/n\n",
      "At random state 29 the testing accurancy is:- 0.8557599225556631\n",
      "/n\n",
      "At random state 30 the testing accurancy is:- 0.8557599225556631\n",
      "/n\n",
      "At random state 31 the testing accurancy is:- 0.8596321393998064\n",
      "/n\n",
      "At random state 32 the testing accurancy is:- 0.8606001936108422\n",
      "/n\n",
      "At random state 33 the testing accurancy is:- 0.8591481122942884\n",
      "/n\n",
      "At random state 34 the testing accurancy is:- 0.8625363020329139\n",
      "/n\n",
      "At random state 35 the testing accurancy is:- 0.8610842207163601\n",
      "/n\n",
      "At random state 36 the testing accurancy is:- 0.8601161665053243\n",
      "/n\n",
      "At random state 37 the testing accurancy is:- 0.8630203291384317\n",
      "/n\n",
      "At random state 38 the testing accurancy is:- 0.8610842207163601\n",
      "/n\n",
      "At random state 39 the testing accurancy is:- 0.861568247821878\n",
      "/n\n",
      "At random state 40 the testing accurancy is:- 0.8576960309777347\n",
      "/n\n",
      "At random state 41 the testing accurancy is:- 0.8581800580832527\n",
      "/n\n",
      "At random state 42 the testing accurancy is:- 0.8538238141335914\n",
      "/n\n",
      "At random state 43 the testing accurancy is:- 0.8601161665053243\n",
      "/n\n",
      "At random state 44 the testing accurancy is:- 0.8552758954501453\n",
      "/n\n",
      "At random state 45 the testing accurancy is:- 0.8606001936108422\n",
      "/n\n",
      "At random state 46 the testing accurancy is:- 0.856243949661181\n",
      "/n\n",
      "At random state 47 the testing accurancy is:- 0.8610842207163601\n",
      "/n\n",
      "At random state 48 the testing accurancy is:- 0.8591481122942884\n",
      "/n\n",
      "At random state 49 the testing accurancy is:- 0.861568247821878\n",
      "/n\n",
      "At random state 50 the testing accurancy is:- 0.8552758954501453\n",
      "/n\n",
      "At random state 51 the testing accurancy is:- 0.8552758954501453\n",
      "/n\n",
      "At random state 52 the testing accurancy is:- 0.8601161665053243\n",
      "/n\n",
      "At random state 53 the testing accurancy is:- 0.856727976766699\n",
      "/n\n",
      "At random state 54 the testing accurancy is:- 0.8606001936108422\n",
      "/n\n",
      "At random state 55 the testing accurancy is:- 0.8576960309777347\n",
      "/n\n",
      "At random state 56 the testing accurancy is:- 0.8591481122942884\n",
      "/n\n",
      "At random state 57 the testing accurancy is:- 0.8601161665053243\n",
      "/n\n",
      "At random state 58 the testing accurancy is:- 0.8586640851887706\n",
      "/n\n",
      "At random state 59 the testing accurancy is:- 0.8543078412391094\n",
      "/n\n",
      "At random state 60 the testing accurancy is:- 0.8572120038722169\n",
      "/n\n",
      "At random state 61 the testing accurancy is:- 0.8635043562439496\n",
      "/n\n",
      "At random state 62 the testing accurancy is:- 0.8576960309777347\n",
      "/n\n",
      "At random state 63 the testing accurancy is:- 0.8591481122942884\n",
      "/n\n",
      "At random state 64 the testing accurancy is:- 0.856727976766699\n",
      "/n\n",
      "At random state 65 the testing accurancy is:- 0.8586640851887706\n",
      "/n\n",
      "At random state 66 the testing accurancy is:- 0.8610842207163601\n",
      "/n\n",
      "At random state 67 the testing accurancy is:- 0.8591481122942884\n",
      "/n\n",
      "At random state 68 the testing accurancy is:- 0.8518877057115198\n",
      "/n\n",
      "At random state 69 the testing accurancy is:- 0.8547918683446273\n",
      "/n\n",
      "At random state 70 the testing accurancy is:- 0.8581800580832527\n",
      "/n\n",
      "At random state 71 the testing accurancy is:- 0.8572120038722169\n",
      "/n\n",
      "At random state 72 the testing accurancy is:- 0.8610842207163601\n",
      "/n\n",
      "At random state 73 the testing accurancy is:- 0.8620522749273959\n",
      "/n\n",
      "At random state 74 the testing accurancy is:- 0.8596321393998064\n",
      "/n\n",
      "At random state 75 the testing accurancy is:- 0.8606001936108422\n",
      "/n\n",
      "At random state 76 the testing accurancy is:- 0.8596321393998064\n",
      "/n\n",
      "At random state 77 the testing accurancy is:- 0.861568247821878\n",
      "/n\n",
      "At random state 78 the testing accurancy is:- 0.8591481122942884\n",
      "/n\n",
      "At random state 79 the testing accurancy is:- 0.8606001936108422\n",
      "/n\n",
      "At random state 80 the testing accurancy is:- 0.8581800580832527\n",
      "/n\n",
      "At random state 81 the testing accurancy is:- 0.8543078412391094\n",
      "/n\n",
      "At random state 82 the testing accurancy is:- 0.8620522749273959\n",
      "/n\n",
      "At random state 83 the testing accurancy is:- 0.8552758954501453\n",
      "/n\n",
      "At random state 84 the testing accurancy is:- 0.8601161665053243\n",
      "/n\n",
      "At random state 85 the testing accurancy is:- 0.8572120038722169\n",
      "/n\n",
      "At random state 86 the testing accurancy is:- 0.8591481122942884\n",
      "/n\n",
      "At random state 87 the testing accurancy is:- 0.8572120038722169\n",
      "/n\n",
      "At random state 88 the testing accurancy is:- 0.8572120038722169\n",
      "/n\n",
      "At random state 89 the testing accurancy is:- 0.8596321393998064\n",
      "/n\n",
      "At random state 90 the testing accurancy is:- 0.8610842207163601\n",
      "/n\n",
      "At random state 91 the testing accurancy is:- 0.8543078412391094\n",
      "/n\n",
      "At random state 92 the testing accurancy is:- 0.8586640851887706\n",
      "/n\n",
      "At random state 93 the testing accurancy is:- 0.8610842207163601\n",
      "/n\n",
      "At random state 94 the testing accurancy is:- 0.8591481122942884\n",
      "/n\n",
      "At random state 95 the testing accurancy is:- 0.8644724104549855\n",
      "/n\n",
      "At random state 96 the testing accurancy is:- 0.8586640851887706\n",
      "/n\n",
      "At random state 97 the testing accurancy is:- 0.8620522749273959\n",
      "/n\n",
      "At random state 98 the testing accurancy is:- 0.8581800580832527\n",
      "/n\n",
      "At random state 99 the testing accurancy is:- 0.8552758954501453\n",
      "/n\n"
     ]
    }
   ],
   "source": [
    "for i in range(0,100):\n",
    "    rcf=RandomForestClassifier(max_depth=15,min_samples_leaf=2,min_samples_split=3,random_state=i)\n",
    "    rcf.fit(X_train,y_train)\n",
    "    rcf_pred=rcf.predict(X_test)\n",
    "    print('At random state',i,'the testing accurancy is:-',accuracy_score(y_test,rcf_pred))\n",
    "    print(\"/n\")"
   ]
  },
  {
   "cell_type": "code",
   "execution_count": 143,
   "id": "4ea91f6e",
   "metadata": {},
   "outputs": [],
   "source": [
    "# Therefore it can be said that the original accuracy was more than hypertuning, therefore keeping the original accuracy in place"
   ]
  },
  {
   "cell_type": "markdown",
   "id": "7f90e5d2",
   "metadata": {},
   "source": [
    "# Saving the model"
   ]
  },
  {
   "cell_type": "code",
   "execution_count": 144,
   "id": "caddf245",
   "metadata": {},
   "outputs": [],
   "source": [
    "import pickle\n",
    "filename='Customer Churn Analysis.pkl'\n",
    "pickle.dump(RF,open(filename,'wb')) ##saving the model"
   ]
  },
  {
   "cell_type": "code",
   "execution_count": null,
   "id": "38a4fbb3",
   "metadata": {},
   "outputs": [],
   "source": []
  }
 ],
 "metadata": {
  "kernelspec": {
   "display_name": "Python 3 (ipykernel)",
   "language": "python",
   "name": "python3"
  },
  "language_info": {
   "codemirror_mode": {
    "name": "ipython",
    "version": 3
   },
   "file_extension": ".py",
   "mimetype": "text/x-python",
   "name": "python",
   "nbconvert_exporter": "python",
   "pygments_lexer": "ipython3",
   "version": "3.9.7"
  }
 },
 "nbformat": 4,
 "nbformat_minor": 5
}
